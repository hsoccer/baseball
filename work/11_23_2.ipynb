{
 "cells": [
  {
   "cell_type": "code",
   "execution_count": 1,
   "metadata": {},
   "outputs": [],
   "source": [
    "import pandas as pd\n",
    "import numpy as np\n",
    "import re\n",
    "import os, sys\n",
    "import matplotlib.pyplot as plt\n",
    "import seaborn as sns\n",
    "from collections import Counter, defaultdict\n",
    "from itertools import product\n",
    "from scipy import stats\n",
    "\n",
    "%matplotlib inline\n",
    "plt.style.use('ggplot')\n",
    "#plt.style.use('seaborn-pastel')\n",
    "%config InlineBackend.figure_format = 'retina'\n",
    "import warnings\n",
    "warnings.filterwarnings('ignore')\n",
    "\n",
    "sys.path.append(\"..\")\n",
    "from utils.util_functions import *"
   ]
  },
  {
   "cell_type": "code",
   "execution_count": 2,
   "metadata": {},
   "outputs": [],
   "source": [
    "event_df = make_df(\"20180101\", \"20181231\")"
   ]
  },
  {
   "cell_type": "code",
   "execution_count": 3,
   "metadata": {},
   "outputs": [],
   "source": [
    "team = \"ロッテ\"\n",
    "lst = make_flattened_list(make_inning_triple(make_inning_list(event_df[event_df.攻撃チーム==team])))"
   ]
  },
  {
   "cell_type": "code",
   "execution_count": 4,
   "metadata": {},
   "outputs": [
    {
     "data": {
      "text/plain": [
       "2.4173431236188314"
      ]
     },
     "execution_count": 4,
     "metadata": {},
     "output_type": "execute_result"
    }
   ],
   "source": [
    "entropy(np.array(lst)[:, 2])"
   ]
  },
  {
   "cell_type": "code",
   "execution_count": 5,
   "metadata": {},
   "outputs": [
    {
     "data": {
      "text/plain": [
       "2.4173431236188323"
      ]
     },
     "execution_count": 5,
     "metadata": {},
     "output_type": "execute_result"
    }
   ],
   "source": [
    "from scipy import stats\n",
    "stats.entropy(pd.Series(np.array(lst)[:, 2]).value_counts().values)"
   ]
  },
  {
   "cell_type": "code",
   "execution_count": 6,
   "metadata": {
    "scrolled": true
   },
   "outputs": [],
   "source": [
    "#pd.Series(np.array(lst)[:, 2]).value_counts().values"
   ]
  },
  {
   "cell_type": "code",
   "execution_count": 18,
   "metadata": {},
   "outputs": [],
   "source": [
    "def entropy1(X):\n",
    "    probs = [np.mean(X == c) for c in set(X)]\n",
    "    return np.sum(-p * np.log(p) for p in probs)"
   ]
  },
  {
   "cell_type": "code",
   "execution_count": 64,
   "metadata": {},
   "outputs": [
    {
     "data": {
      "text/plain": [
       "1.2855973628525774"
      ]
     },
     "execution_count": 64,
     "metadata": {},
     "output_type": "execute_result"
    }
   ],
   "source": [
    "cond_entropy(pd.DataFrame(lst).values[:, 2], pd.DataFrame(lst).values[:, [1]])"
   ]
  },
  {
   "cell_type": "code",
   "execution_count": 71,
   "metadata": {
    "scrolled": true
   },
   "outputs": [
    {
     "data": {
      "text/plain": [
       "array([['0010', '0011'],\n",
       "       ['0011', '1011'],\n",
       "       ['1011', '2011'],\n",
       "       ..., \n",
       "       ['2010', '3000'],\n",
       "       ['1000', '2000'],\n",
       "       ['2000', '3000']],\n",
       "      dtype='<U4')"
      ]
     },
     "execution_count": 71,
     "metadata": {},
     "output_type": "execute_result"
    }
   ],
   "source": [
    "np.array(lst)[:, [1, 2]]"
   ]
  },
  {
   "cell_type": "code",
   "execution_count": 81,
   "metadata": {},
   "outputs": [
    {
     "data": {
      "text/plain": [
       "1.285597362852597"
      ]
     },
     "execution_count": 81,
     "metadata": {},
     "output_type": "execute_result"
    }
   ],
   "source": [
    "drv.entropy_joint(np.array(lst)[:, [1, 2]].T, base=np.e) - drv.entropy(np.array(lst)[:, 1], base=np.e)"
   ]
  },
  {
   "cell_type": "code",
   "execution_count": 82,
   "metadata": {},
   "outputs": [
    {
     "data": {
      "text/plain": [
       "1.1515042229999524"
      ]
     },
     "execution_count": 82,
     "metadata": {},
     "output_type": "execute_result"
    }
   ],
   "source": [
    "drv.entropy_joint(np.array(lst)[:, [0, 1, 2]].T, base=np.e) - drv.entropy_joint(np.array(lst)[:, [0, 1]].T, base=np.e)"
   ]
  },
  {
   "cell_type": "code",
   "execution_count": 70,
   "metadata": {},
   "outputs": [
    {
     "data": {
      "text/plain": [
       "3.882518525390535"
      ]
     },
     "execution_count": 70,
     "metadata": {},
     "output_type": "execute_result"
    }
   ],
   "source": [
    "entropy(np.array(lst)[:, [1, 2]])"
   ]
  },
  {
   "cell_type": "code",
   "execution_count": 55,
   "metadata": {},
   "outputs": [
    {
     "data": {
      "text/plain": [
       "1.2855973628525774"
      ]
     },
     "execution_count": 55,
     "metadata": {},
     "output_type": "execute_result"
    }
   ],
   "source": [
    "cond_entropy(pd.DataFrame(lst)[2].values, pd.DataFrame(lst)[[1]].values)"
   ]
  },
  {
   "cell_type": "code",
   "execution_count": 83,
   "metadata": {},
   "outputs": [
    {
     "data": {
      "text/plain": [
       "1.1515042230000212"
      ]
     },
     "execution_count": 83,
     "metadata": {},
     "output_type": "execute_result"
    }
   ],
   "source": [
    "cond_entropy(pd.DataFrame(lst)[2].values, pd.DataFrame(lst)[[0, 1]].values)"
   ]
  },
  {
   "cell_type": "code",
   "execution_count": 51,
   "metadata": {},
   "outputs": [
    {
     "data": {
      "text/plain": [
       "0.0"
      ]
     },
     "execution_count": 51,
     "metadata": {},
     "output_type": "execute_result"
    }
   ],
   "source": [
    "drv.entropy_joint(X=np.array(lst)[:, [2]], base=np.e)"
   ]
  },
  {
   "cell_type": "code",
   "execution_count": null,
   "metadata": {},
   "outputs": [],
   "source": [
    "def make_score_df(team):\n",
    "    res = []\n",
    "    columns = [\"相手\", \"得点\", \"安打\", \"失点\", \"被安打\"]\n",
    "    files = os.listdir(SCORE_DATA_DIR)\n",
    "    for file in files:\n",
    "        score_df = pd.read_csv(os.path.join(SCORE_DATA_DIR, file), encoding=\"cp932\", index_col=0)\n",
    "        if not name_dict[team] in score_df.index:\n",
    "            continue\n",
    "        opponent = score_df.index[0] if score_df.index[1] == name_dict[team] else score_df.index[1]\n",
    "        team_score = score_df.loc[name_dict[team], \"計\"]\n",
    "        team_hits = score_df.loc[name_dict[team], \"安\"]\n",
    "        opponent_score = score_df.loc[opponent, \"計\"]\n",
    "        opponent_hits = score_df.loc[opponent, \"安\"]\n",
    "        res.append([opponent, team_score, team_hits, opponent_score, opponent_hits])\n",
    "    df = pd.DataFrame(res, columns=columns)\n",
    "    df[\"得点率\"] = df[\"得点\"] / df[\"安打\"]\n",
    "    df[\"失点率\"] = df[\"失点\"] / df[\"被安打\"]\n",
    "    return df"
   ]
  },
  {
   "cell_type": "code",
   "execution_count": null,
   "metadata": {
    "scrolled": true
   },
   "outputs": [],
   "source": [
    "make_score_df(\"日本ハム\").head()"
   ]
  },
  {
   "cell_type": "code",
   "execution_count": null,
   "metadata": {
    "scrolled": true
   },
   "outputs": [],
   "source": [
    "column = \"得点\""
   ]
  },
  {
   "cell_type": "code",
   "execution_count": null,
   "metadata": {
    "scrolled": true
   },
   "outputs": [],
   "source": [
    "diffs = []\n",
    "stds = []\n",
    "for team in pacific:\n",
    "    lst = make_flattened_list(make_inning_triple(make_inning_list(event_df[event_df.攻撃チーム==team])))\n",
    "    # H(St+1 | St, St-1)\n",
    "    second_cond_entropy = cond_entropy(pd.DataFrame(lst)[2].values, pd.DataFrame(lst)[[0, 1]].values)\n",
    "    # H(St+1 | St)\n",
    "    first_cond_entropy = cond_entropy(pd.DataFrame(lst)[2].values, pd.DataFrame(lst)[[1]].values)\n",
    "    std = make_score_df(team).describe()[column][\"std\"] #/ make_score_df(team).describe()[column][\"mean\"]\n",
    "    diffs.append(second_cond_entropy - first_cond_entropy)\n",
    "    stds.append(std)\n",
    "    print(team, second_cond_entropy - first_cond_entropy, std)"
   ]
  },
  {
   "cell_type": "code",
   "execution_count": null,
   "metadata": {},
   "outputs": [],
   "source": [
    "plt.scatter(diffs, stds)"
   ]
  },
  {
   "cell_type": "code",
   "execution_count": null,
   "metadata": {},
   "outputs": [],
   "source": [
    "diffs = []\n",
    "stds = []\n",
    "for team in central:\n",
    "    lst = make_flattened_list(make_inning_triple(make_inning_list(event_df[event_df.攻撃チーム==team])))\n",
    "    # H(St+1 | St, St-1)\n",
    "    second_cond_entropy = cond_entropy(pd.DataFrame(lst)[2].values, pd.DataFrame(lst)[[0, 1]].values)\n",
    "    # H(St+1 | St)\n",
    "    first_cond_entropy = cond_entropy(pd.DataFrame(lst)[2].values, pd.DataFrame(lst)[[1]].values)\n",
    "    std = make_score_df(team).describe()[column][\"std\"] #/ make_score_df(team).describe()[column][\"mean\"]\n",
    "    diffs.append(second_cond_entropy - first_cond_entropy)\n",
    "    stds.append(std)\n",
    "    print(team, second_cond_entropy - first_cond_entropy, std)"
   ]
  },
  {
   "cell_type": "code",
   "execution_count": null,
   "metadata": {},
   "outputs": [],
   "source": [
    "plt.scatter(diffs, stds)"
   ]
  },
  {
   "cell_type": "markdown",
   "metadata": {},
   "source": [
    "# 得点で見るか失点で見るか / 安打数を入れてもいいかも\n",
    "# 標準偏差をそのまま使うか / 変動係数を使うか"
   ]
  },
  {
   "cell_type": "code",
   "execution_count": null,
   "metadata": {},
   "outputs": [],
   "source": [
    "diffs = []\n",
    "stds = []\n",
    "for team in pacific+central:\n",
    "    lst = make_flattened_list(make_inning_triple(make_inning_list(event_df[event_df.攻撃チーム==team])))\n",
    "    # H(St+1 | St, St-1)\n",
    "    second_cond_entropy = cond_entropy(pd.DataFrame(lst)[2].values, pd.DataFrame(lst)[[0, 1]].values)\n",
    "    # H(St+1 | St)\n",
    "    first_cond_entropy = cond_entropy(pd.DataFrame(lst)[2].values, pd.DataFrame(lst)[[1]].values)\n",
    "    std = make_score_df(team).describe()[column][\"std\"] / make_score_df(team).describe()[column][\"mean\"]\n",
    "    diffs.append(second_cond_entropy - first_cond_entropy)\n",
    "    stds.append(std)\n",
    "    print(team, second_cond_entropy - first_cond_entropy, std)"
   ]
  },
  {
   "cell_type": "code",
   "execution_count": null,
   "metadata": {},
   "outputs": [],
   "source": [
    "plt.scatter(diffs[:6], stds[:6], color=\"red\")\n",
    "plt.scatter(diffs[6:], stds[6:], color=\"blue\")"
   ]
  },
  {
   "cell_type": "code",
   "execution_count": null,
   "metadata": {},
   "outputs": [],
   "source": [
    "import statsmodels.api as sm\n",
    "\n",
    "nsample = len(diffs)\n",
    "X = np.column_stack((np.repeat(1, nsample), diffs))\n",
    "\n",
    "model = sm.OLS(stds, X)\n",
    "results = model.fit()\n",
    "\n",
    "a, b = results.params\n",
    "\n",
    "plt.scatter(diffs, stds)\n",
    "plt.plot(diffs, a+b*np.array(diffs))\n",
    "plt.show()"
   ]
  },
  {
   "cell_type": "code",
   "execution_count": null,
   "metadata": {},
   "outputs": [],
   "source": [
    "results.pvalues"
   ]
  },
  {
   "cell_type": "markdown",
   "metadata": {
    "scrolled": true
   },
   "source": [
    "# MLBでの使い方"
   ]
  },
  {
   "cell_type": "code",
   "execution_count": null,
   "metadata": {},
   "outputs": [],
   "source": [
    "files = os.listdir(\"/Users/konoharuki/Desktop/GitHub/baseball/game_detail_data_mlb\")[1:]"
   ]
  },
  {
   "cell_type": "code",
   "execution_count": null,
   "metadata": {},
   "outputs": [],
   "source": [
    "res = []\n",
    "for file in files:\n",
    "    res.append(pd.read_csv(\"/Users/konoharuki/Desktop/GitHub/baseball/game_detail_data_mlb/\"+file, encoding=\"cp932\", dtype=str).values.tolist())"
   ]
  },
  {
   "cell_type": "code",
   "execution_count": null,
   "metadata": {},
   "outputs": [],
   "source": [
    "inning_list = []\n",
    "for elem in res:\n",
    "    inning_list.append(np.array(elem)[:, 1].tolist() + [\"GAMESET\"])"
   ]
  },
  {
   "cell_type": "code",
   "execution_count": null,
   "metadata": {
    "scrolled": true
   },
   "outputs": [],
   "source": [
    "#make_flattened_list(make_inning_triple(inning_list))"
   ]
  },
  {
   "cell_type": "code",
   "execution_count": null,
   "metadata": {},
   "outputs": [],
   "source": [
    "event_df = make_df(data_dir=DETAIL_DATA_DIR_MLB)"
   ]
  },
  {
   "cell_type": "code",
   "execution_count": null,
   "metadata": {},
   "outputs": [],
   "source": [
    "event_df"
   ]
  },
  {
   "cell_type": "code",
   "execution_count": null,
   "metadata": {},
   "outputs": [],
   "source": []
  }
 ],
 "metadata": {
  "kernelspec": {
   "display_name": "Python 3",
   "language": "python",
   "name": "python3"
  },
  "language_info": {
   "codemirror_mode": {
    "name": "ipython",
    "version": 3
   },
   "file_extension": ".py",
   "mimetype": "text/x-python",
   "name": "python",
   "nbconvert_exporter": "python",
   "pygments_lexer": "ipython3",
   "version": "3.5.4"
  }
 },
 "nbformat": 4,
 "nbformat_minor": 2
}
