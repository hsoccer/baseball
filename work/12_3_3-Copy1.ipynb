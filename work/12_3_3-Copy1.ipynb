{
 "cells": [
  {
   "cell_type": "markdown",
   "metadata": {},
   "source": [
    "# 2018"
   ]
  },
  {
   "cell_type": "code",
   "execution_count": 1,
   "metadata": {},
   "outputs": [],
   "source": [
    "import pandas as pd\n",
    "import numpy as np\n",
    "import re\n",
    "import os, sys\n",
    "import matplotlib.pyplot as plt\n",
    "import seaborn as sns\n",
    "from collections import Counter, defaultdict\n",
    "from itertools import product\n",
    "from scipy import stats\n",
    "\n",
    "%matplotlib inline\n",
    "plt.style.use('ggplot')\n",
    "#plt.style.use('seaborn-pastel')\n",
    "%config InlineBackend.figure_format = 'retina'\n",
    "import warnings\n",
    "warnings.filterwarnings('ignore')\n",
    "from tqdm import tqdm_notebook as tq\n",
    "\n",
    "sys.path.append(\"..\")\n",
    "from utils.util_functions import *\n",
    "\n",
    "pd.set_option('display.max_rows', 500)"
   ]
  },
  {
   "cell_type": "code",
   "execution_count": 2,
   "metadata": {},
   "outputs": [],
   "source": [
    "#event_df = make_df(data_dir=DETAIL_DATA_DIR_MLB)\n",
    "#event_df = pd.read_csv(os.path.join(ROOT_DIR, \"event_df.csv\"), index_col=0, encoding=\"cp932\", dtype=object)\n",
    "#df_2017 = make_df(end=1944417, data_dir=DETAIL_DATA_DIR_MLB)\n",
    "#df_2017 = pd.read_csv(os.path.join(ROOT_DIR, \"df_2017.csv\"), index_col=0, encoding=\"cp932\", dtype=object)\n",
    "#df_2018 = make_df(start=1944417, data_dir=DETAIL_DATA_DIR_MLB)\n",
    "#df_2018 = pd.read_csv(os.path.join(ROOT_DIR, \"df_2018.csv\"), index_col=0, encoding=\"cp932\", dtype=object)\n",
    "files = os.listdir(DETAIL_DATA_DIR_MLB)[1:]\n",
    "names = pd.Series(files).apply(lambda x: int(x.split(\".\")[0]))\n",
    "files_2017 = names[names<=1944417].apply(lambda x: str(x)+\".csv\")\n",
    "files_2018 = names[names>1944417].apply(lambda x: str(x)+\".csv\")\n",
    "column = \"得点\"\n",
    "teams_mlb = list(set(pd.read_csv(os.path.join(SCORE_DATA_DIR_MLB, \"score_mlb.csv\"), encoding=\"cp932\", index_col=0).表チーム))\n",
    "teams_mlb.remove(\"ア・リーグ\")\n",
    "first_teams = ['Rソックス', 'インディアンス', 'アストロズ', 'ブレーブス', 'ブリュワーズ', 'ドジャース']\n",
    "second_teams = ['ヤンキース', 'ツインズ', 'アスレチックス', 'ナショナルズ', 'カブス', 'ロッキーズ']\n",
    "third_teams = ['レイズ', 'タイガース', 'マリナーズ', 'フィリーズ', 'カージナルス', 'Dバックス']\n",
    "fourth_teams = ['ブルージェイズ', 'Wソックス',  'エンゼルス', 'メッツ', 'パイレーツ', 'ジャイアンツ']\n",
    "fifth_teams = ['オリオールズ', 'ロイヤルズ', 'レンジャーズ', 'マーリンズ', 'レッズ', 'パドレス']"
   ]
  },
  {
   "cell_type": "code",
   "execution_count": 3,
   "metadata": {},
   "outputs": [],
   "source": [
    "def ranking(team):\n",
    "    first_teams = ['Rソックス', 'インディアンス', 'アストロズ', 'ブレーブス', 'ブリュワーズ', 'ドジャース']\n",
    "    second_teams = ['ヤンキース', 'ツインズ', 'アスレチックス', 'ナショナルズ', 'カブス', 'ロッキーズ']\n",
    "    third_teams = ['レイズ', 'タイガース', 'マリナーズ', 'フィリーズ', 'カージナルス', 'Dバックス']\n",
    "    fourth_teams = ['ブルージェイズ', 'Wソックス',  'エンゼルス', 'メッツ', 'パイレーツ', 'ジャイアンツ']\n",
    "    fifth_teams = ['オリオールズ', 'ロイヤルズ', 'レンジャーズ', 'マーリンズ', 'レッズ', 'パドレス']\n",
    "    lst = [first_teams, second_teams, third_teams, fourth_teams, fifth_teams]\n",
    "    for i in range(len(lst)):\n",
    "        teams = lst[i]\n",
    "        if team in teams:\n",
    "            return i + 1"
   ]
  },
  {
   "cell_type": "code",
   "execution_count": null,
   "metadata": {
    "scrolled": true
   },
   "outputs": [],
   "source": []
  },
  {
   "cell_type": "code",
   "execution_count": 4,
   "metadata": {},
   "outputs": [],
   "source": [
    "case_expected_score_dict = dict(pd.read_csv(os.path.join(ROOT_DIR, \"case_expected_score.csv\"), dtype=object).values)\n",
    "case_expected_score_dict = dict([[key, float(value)] for key, value in case_expected_score_dict.items()])\n",
    "\n",
    "def weighted_score(case, score):\n",
    "    \"\"\"\n",
    "    lst : (Stの状況, 直後の得点)\n",
    "    \"\"\"\n",
    "    return score / case_expected_score_dict[case]"
   ]
  },
  {
   "cell_type": "code",
   "execution_count": 5,
   "metadata": {
    "scrolled": true
   },
   "outputs": [
    {
     "data": {
      "text/plain": [
       "{'0000': 0.033157798382493886,\n",
       " '0001': 0.5030241935483871,\n",
       " '0010': 0.16194895591647332,\n",
       " '0011': 0.648729446935725,\n",
       " '0100': 0.08679945323179067,\n",
       " '0101': 0.6521246458923513,\n",
       " '0110': 0.22460824143934996,\n",
       " '0111': 0.8508327299058653,\n",
       " '1000': 0.033681354332566506,\n",
       " '1001': 0.511204481792717,\n",
       " '1010': 0.18310955438801324,\n",
       " '1011': 0.6151399491094147,\n",
       " '1100': 0.08819357192072305,\n",
       " '1101': 0.5884353741496599,\n",
       " '1110': 0.2544052863436123,\n",
       " '1111': 0.7888493475682088,\n",
       " '2000': 0.03356242200741279,\n",
       " '2001': 0.25295420974889216,\n",
       " '2010': 0.2059659090909091,\n",
       " '2011': 0.38658829815655893,\n",
       " '2100': 0.08848366173051034,\n",
       " '2101': 0.31339031339031337,\n",
       " '2110': 0.270979967514889,\n",
       " '2111': 0.593297974927676}"
      ]
     },
     "execution_count": 5,
     "metadata": {},
     "output_type": "execute_result"
    }
   ],
   "source": [
    "case_expected_score_dict"
   ]
  },
  {
   "cell_type": "code",
   "execution_count": 6,
   "metadata": {},
   "outputs": [
    {
     "data": {
      "text/plain": [
       "'df = event_df[event_df.攻撃チーム==team]\\ntriple = make_inning_triple(make_inning_list(df, score_end=1, how=\"both\"))\\nlst = make_flattened_list(triple)'"
      ]
     },
     "execution_count": 6,
     "metadata": {},
     "output_type": "execute_result"
    }
   ],
   "source": [
    "team = \"Rソックス\"\n",
    "\"\"\"df = event_df[event_df.攻撃チーム==team]\n",
    "triple = make_inning_triple(make_inning_list(df, score_end=1, how=\"both\"))\n",
    "lst = make_flattened_list(triple)\"\"\""
   ]
  },
  {
   "cell_type": "code",
   "execution_count": null,
   "metadata": {},
   "outputs": [],
   "source": [
    "def triple_on_score_diff(team, diff_lower, diff_upper, year=\"both\"):\n",
    "    if year == \"both\":\n",
    "        df = event_df[event_df.攻撃チーム==team]\n",
    "    elif int(year) == 2018:\n",
    "        df = df_2018[df_2018.攻撃チーム==team]\n",
    "    elif int(year) == 2017:\n",
    "        df = df_2017[df_2017.攻撃チーム==team]\n",
    "    triple = make_inning_triple(make_inning_list(df, score_end=1, how=\"both\"))\n",
    "    lst = make_flattened_list(triple)\n",
    "    res = []\n",
    "    for elem in lst:\n",
    "        my_score = int(elem[1][1])\n",
    "        opp_score = int(elem[1][2])\n",
    "        if diff_lower < diff_upper:\n",
    "            if diff_lower <= my_score - opp_score <= diff_upper:\n",
    "                res.append(((elem[0][0], elem[0][1]), (elem[1][0], elem[1][1]), (elem[2][0], elem[2][1])))\n",
    "        elif diff_lower > diff_upper:\n",
    "            if diff_lower <= my_score - opp_score or my_score - opp_score <= diff_upper:\n",
    "                res.append(((elem[0][0], elem[0][1]), (elem[1][0], elem[1][1]), (elem[2][0], elem[2][1])))\n",
    "        else:\n",
    "            raise \"diff_lower == diff_upper\"\n",
    "    return res"
   ]
  },
  {
   "cell_type": "markdown",
   "metadata": {},
   "source": [
    "## negative facilitation = 負けてることが逆に力になる"
   ]
  },
  {
   "cell_type": "markdown",
   "metadata": {},
   "source": [
    "## negative facilitaitonを起こしがちなチームは、僅差で負けているとdet時の期待得点が上がる"
   ]
  },
  {
   "cell_type": "markdown",
   "metadata": {},
   "source": [
    "# 点数気にしない"
   ]
  },
  {
   "cell_type": "code",
   "execution_count": 7,
   "metadata": {},
   "outputs": [
    {
     "name": "stdout",
     "output_type": "stream",
     "text": [
      "マーリンズ 0.844679912666 0.695222098839\n",
      "マリナーズ 0.905468816839 0.844746346979\n",
      "パドレス 0.806578623402 0.916007573781\n",
      "Rソックス 0.911386576467 0.93712167959\n",
      "レッズ 0.840547854415 0.714499284529\n",
      "パイレーツ 0.936734831758 0.704679339415\n",
      "タイガース 0.827729236297 0.586874101773\n",
      "オリオールズ 0.906042824138 0.927070766562\n",
      "インディアンス 1.00784827106 0.990169525977\n",
      "メッツ 0.871277001881 0.827844631927\n",
      "ヤンキース 1.16128542128 1.13685642867\n",
      "カージナルス 0.972290897371 0.830193910803\n",
      "エンゼルス 0.901477934893 1.08430224374\n",
      "レイズ 0.712193565687 0.775499011988\n",
      "ロッキーズ 1.03728886145 1.00270883411\n",
      "ロイヤルズ 0.956856578375 0.727179229931\n",
      "Wソックス 0.904289744233 0.912657900919\n",
      "アスレチックス 0.95909810695 1.10230609272\n",
      "フィリーズ 0.826993336306 0.790274289458\n",
      "ナショナルズ 0.933698261654 0.840208990869\n",
      "カブス 0.800344989279 0.685855024942\n",
      "Dバックス 1.03161366753 0.860837069788\n",
      "ツインズ 0.921116825618 0.886260549805\n",
      "ブルージェイズ 0.862896392348 1.10031556848\n",
      "ブレーブス 0.951047796162 0.744919713476\n",
      "アストロズ 0.975676478091 0.971769565515\n",
      "ブリュワーズ 1.00623017262 0.876985729082\n",
      "ジャイアンツ 0.725696647321 0.544644867159\n",
      "ドジャース 0.95392781831 1.01388431451\n",
      "レンジャーズ 0.924122079791 0.888645221556\n"
     ]
    }
   ],
   "source": [
    "#imp_list = []\n",
    "#det_list = []\n",
    "res_dict1 = dict()\n",
    "for team in teams_mlb:\n",
    "    df = df_2018[df_2018.攻撃チーム==team]\n",
    "    triple = make_inning_triple(make_inning_list(df, score_end=1, how=\"own\"))\n",
    "    lst = make_flattened_list(triple[:])\n",
    "    improved_score_list = []\n",
    "    deteriorated_score_list = []\n",
    "    for three_series in [elem for elem in lst if elem[0][0]!=\"3000\" and elem[1][0]!=\"3000\"]:\n",
    "        if is_improved(three_series[0][0], three_series[1][0]):\n",
    "            improved_score_list.append(weighted_score(three_series[1][0], three_series[2][1]-three_series[1][1]))\n",
    "        elif is_deteriorated(three_series[0][0], three_series[1][0]):\n",
    "            deteriorated_score_list.append(weighted_score(three_series[1][0], three_series[2][1]-three_series[1][1]))\n",
    "    #imp_list.append(np.mean(improved_score_list))\n",
    "    #det_list.append(np.mean(deteriorated_score_list))\n",
    "    res_dict1[team] = (np.mean(improved_score_list), np.mean(deteriorated_score_list))\n",
    "    print(team, np.mean(improved_score_list), np.mean(deteriorated_score_list))"
   ]
  },
  {
   "cell_type": "code",
   "execution_count": 8,
   "metadata": {},
   "outputs": [
    {
     "data": {
      "text/plain": [
       "<matplotlib.collections.PathCollection at 0x201a619358>"
      ]
     },
     "execution_count": 8,
     "metadata": {},
     "output_type": "execute_result"
    },
    {
     "data": {
      "image/png": "[encoded data removed]",
      "text/plain": [
       "<matplotlib.figure.Figure at 0x2017765208>"
      ]
     },
     "metadata": {
      "image/png": {
       "height": 250,
       "width": 374
      }
     },
     "output_type": "display_data"
    }
   ],
   "source": [
    "plt.scatter([elem[0] for elem in list(res_dict1.values())], [elem[1] for elem in list(res_dict1.values())])"
   ]
  },
  {
   "cell_type": "markdown",
   "metadata": {},
   "source": [
    "# 4点差の負け以内"
   ]
  },
  {
   "cell_type": "code",
   "execution_count": 9,
   "metadata": {
    "scrolled": true
   },
   "outputs": [
    {
     "name": "stdout",
     "output_type": "stream",
     "text": [
      "マーリンズ 0.760844238848 0.64883794915\n",
      "マリナーズ 0.97636350261 0.860807997291\n",
      "パドレス 0.731802918682 0.990572796565\n",
      "Rソックス 0.977282547696 1.30063173139\n",
      "レッズ 0.664465927795 0.694124389136\n",
      "パイレーツ 0.913573848677 0.618541719491\n",
      "タイガース 0.73010689773 0.432948475297\n",
      "オリオールズ 0.878988949432 0.972239518873\n",
      "インディアンス 1.16057823805 1.03987610912\n",
      "メッツ 0.806665146236 0.875682906905\n",
      "ヤンキース 0.927381160313 0.866718476702\n",
      "カージナルス 0.757886154304 0.774545378461\n",
      "エンゼルス 0.820922061566 0.877381214223\n",
      "レイズ 0.450679517418 0.757012680794\n",
      "ロッキーズ 1.11105115412 0.882931913811\n",
      "ロイヤルズ 0.717268955669 1.04666525654\n",
      "Wソックス 0.92856697413 0.998411890544\n",
      "アスレチックス 0.764722536869 0.845958209404\n",
      "フィリーズ 0.740690479745 0.873815801233\n",
      "ナショナルズ 0.611440574827 0.839723266101\n",
      "カブス 0.935288331836 0.49476541855\n",
      "Dバックス 0.880036584849 0.704431685631\n",
      "ツインズ 0.915830464915 0.822898912125\n",
      "ブルージェイズ 0.820970348035 0.963120236693\n",
      "ブレーブス 0.936378034634 0.605149114042\n",
      "アストロズ 0.839169211979 1.01519537842\n",
      "ブリュワーズ 0.872106578136 0.663403132649\n",
      "ジャイアンツ 0.905047731546 0.543272234798\n",
      "ドジャース 0.805698033591 0.971917593586\n",
      "レンジャーズ 0.717509895277 0.762359768633\n"
     ]
    }
   ],
   "source": [
    "#imp_list = []\n",
    "#det_list = []\n",
    "res_dict = dict()\n",
    "for team in teams_mlb:\n",
    "    lst = triple_on_score_diff(team, -4, -1, 2018)\n",
    "    improved_score_list = []\n",
    "    deteriorated_score_list = []\n",
    "    for three_series in [elem for elem in lst if elem[0][0]!=\"3000\" and elem[1][0]!=\"3000\"]:\n",
    "        if is_improved(three_series[0][0], three_series[1][0]):\n",
    "            improved_score_list.append(weighted_score(three_series[1][0], three_series[2][1]-three_series[1][1]))\n",
    "        elif is_deteriorated(three_series[0][0], three_series[1][0]):\n",
    "            deteriorated_score_list.append(weighted_score(three_series[1][0], three_series[2][1]-three_series[1][1]))\n",
    "    #imp_list.append(np.mean(improved_score_list))\n",
    "    #det_list.append(np.mean(deteriorated_score_list))\n",
    "    res_dict[team] = (np.mean(improved_score_list), np.mean(deteriorated_score_list))\n",
    "    print(team, np.mean(improved_score_list), np.mean(deteriorated_score_list))"
   ]
  },
  {
   "cell_type": "code",
   "execution_count": 10,
   "metadata": {},
   "outputs": [
    {
     "data": {
      "text/plain": [
       "<matplotlib.collections.PathCollection at 0x201a9290b8>"
      ]
     },
     "execution_count": 10,
     "metadata": {},
     "output_type": "execute_result"
    },
    {
     "data": {
      "image/png": "[encoded data removed]",
      "text/plain": [
       "<matplotlib.figure.Figure at 0x201a474748>"
      ]
     },
     "metadata": {
      "image/png": {
       "height": 250,
       "width": 378
      }
     },
     "output_type": "display_data"
    }
   ],
   "source": [
    "plt.scatter([elem[0] for elem in list(res_dict.values())], [elem[1] for elem in list(res_dict.values())])"
   ]
  },
  {
   "cell_type": "code",
   "execution_count": 11,
   "metadata": {},
   "outputs": [
    {
     "name": "stdout",
     "output_type": "stream",
     "text": [
      "3 マリナーズ 0.0160616503119\n",
      "5 パドレス 0.0745652227837\n",
      "1 Rソックス 0.363510051804\n",
      "5 オリオールズ 0.0451687523107\n",
      "1 インディアンス 0.0497065831443\n",
      "4 メッツ 0.0478382749774\n",
      "5 ロイヤルズ 0.319486026606\n",
      "4 Wソックス 0.085753989625\n",
      "3 フィリーズ 0.0835415117749\n",
      "1 アストロズ 0.0434258129072\n"
     ]
    }
   ],
   "source": [
    "# 僅差で負けていると、流れが悪くても頑張るチーム\n",
    "for team in teams_mlb:\n",
    "    if res_dict1[team][1] < res_dict[team][1]:\n",
    "        print(ranking(team), team, res_dict[team][1] - res_dict1[team][1])"
   ]
  },
  {
   "cell_type": "code",
   "execution_count": 12,
   "metadata": {},
   "outputs": [
    {
     "name": "stdout",
     "output_type": "stream",
     "text": [
      "5 マーリンズ -0.0463841496887\n",
      "5 レッズ -0.0203748953939\n",
      "4 パイレーツ -0.0861376199245\n",
      "3 タイガース -0.153925626475\n",
      "2 ヤンキース -0.270137951965\n",
      "3 カージナルス -0.0556485323423\n",
      "4 エンゼルス -0.20692102952\n",
      "3 レイズ -0.0184863311946\n",
      "2 ロッキーズ -0.119776920297\n",
      "2 アスレチックス -0.256347883317\n",
      "2 ナショナルズ -0.000485724768024\n",
      "2 カブス -0.191089606392\n",
      "3 Dバックス -0.156405384157\n",
      "2 ツインズ -0.0633616376794\n",
      "4 ブルージェイズ -0.137195331787\n",
      "1 ブレーブス -0.139770599433\n",
      "1 ブリュワーズ -0.213582596433\n",
      "4 ジャイアンツ -0.0013726323612\n",
      "1 ドジャース -0.0419667209194\n",
      "5 レンジャーズ -0.126285452922\n"
     ]
    }
   ],
   "source": [
    "# 僅差で負けていると、流れが悪いと諦めるチーム\n",
    "for team in teams_mlb:\n",
    "    if res_dict1[team][1] > res_dict[team][1]:\n",
    "        print(ranking(team), team, res_dict[team][1] - res_dict1[team][1])"
   ]
  },
  {
   "cell_type": "code",
   "execution_count": null,
   "metadata": {},
   "outputs": [],
   "source": []
  },
  {
   "cell_type": "code",
   "execution_count": null,
   "metadata": {},
   "outputs": [],
   "source": []
  },
  {
   "cell_type": "code",
   "execution_count": null,
   "metadata": {
    "scrolled": true
   },
   "outputs": [],
   "source": []
  },
  {
   "cell_type": "code",
   "execution_count": null,
   "metadata": {},
   "outputs": [],
   "source": []
  }
 ],
 "metadata": {
  "kernelspec": {
   "display_name": "Python 3",
   "language": "python",
   "name": "python3"
  },
  "language_info": {
   "codemirror_mode": {
    "name": "ipython",
    "version": 3
   },
   "file_extension": ".py",
   "mimetype": "text/x-python",
   "name": "python",
   "nbconvert_exporter": "python",
   "pygments_lexer": "ipython3",
   "version": "3.5.4"
  }
 },
 "nbformat": 4,
 "nbformat_minor": 2
}
