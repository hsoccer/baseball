{
 "cells": [
  {
   "cell_type": "code",
   "execution_count": 1,
   "metadata": {},
   "outputs": [],
   "source": [
    "import pandas as pd\n",
    "import numpy as np\n",
    "import re\n",
    "import os, sys\n",
    "import matplotlib.pyplot as plt\n",
    "import seaborn as sns\n",
    "from collections import Counter, defaultdict\n",
    "from itertools import product\n",
    "from scipy import stats\n",
    "\n",
    "%matplotlib inline\n",
    "plt.style.use('ggplot')\n",
    "#plt.style.use('seaborn-pastel')\n",
    "%config InlineBackend.figure_format = 'retina'\n",
    "import warnings\n",
    "warnings.filterwarnings('ignore')\n",
    "from tqdm import tqdm_notebook as tq\n",
    "\n",
    "import matplotlib as mpl\n",
    "font = {\"family\":\"osaka\"}\n",
    "mpl.rc('font', **font)\n",
    "\n",
    "sys.path.append(\"..\")\n",
    "from utils.util_functions import *\n",
    "\n",
    "pd.set_option('display.max_rows', 500)"
   ]
  },
  {
   "cell_type": "code",
   "execution_count": 2,
   "metadata": {},
   "outputs": [],
   "source": [
    "#event_df = make_df(data_dir=DETAIL_DATA_DIR_MLB)\n",
    "#event_df = pd.read_csv(os.path.join(ROOT_DIR, \"event_df.csv\"), index_col=0, encoding=\"cp932\", dtype=object)\n",
    "#df_2017 = make_df(end=1944417, data_dir=DETAIL_DATA_DIR_MLB)\n",
    "#df_2017 = pd.read_csv(os.path.join(ROOT_DIR, \"df_2017.csv\"), index_col=0, encoding=\"cp932\", dtype=object)\n",
    "#df_2018 = make_df(start=1944417, data_dir=DETAIL_DATA_DIR_MLB)\n",
    "#df_2018 = pd.read_csv(os.path.join(ROOT_DIR, \"df_2018.csv\"), index_col=0, encoding=\"cp932\", dtype=object)\n",
    "files = os.listdir(DETAIL_DATA_DIR_MLB)[1:]\n",
    "names = pd.Series(files).apply(lambda x: int(x.split(\".\")[0]))\n",
    "files_2017 = names[names<=1944417].apply(lambda x: str(x)+\".csv\")\n",
    "files_2018 = names[names>1944417].apply(lambda x: str(x)+\".csv\")\n",
    "column = \"得点\"\n",
    "teams_mlb = list(set(pd.read_csv(os.path.join(SCORE_DATA_DIR_MLB, \"score_mlb.csv\"), encoding=\"cp932\", index_col=0).表チーム))\n",
    "teams_mlb.remove(\"ア・リーグ\")\n",
    "first_teams = ['Rソックス', 'インディアンス', 'アストロズ', 'ブレーブス', 'ブリュワーズ', 'ドジャース']\n",
    "second_teams = ['ヤンキース', 'ツインズ', 'アスレチックス', 'ナショナルズ', 'カブス', 'ロッキーズ']\n",
    "third_teams = ['レイズ', 'タイガース', 'マリナーズ', 'フィリーズ', 'カージナルス', 'Dバックス']\n",
    "fourth_teams = ['ブルージェイズ', 'Wソックス',  'エンゼルス', 'メッツ', 'パイレーツ', 'ジャイアンツ']\n",
    "fifth_teams = ['オリオールズ', 'ロイヤルズ', 'レンジャーズ', 'マーリンズ', 'レッズ', 'パドレス']"
   ]
  },
  {
   "cell_type": "code",
   "execution_count": 3,
   "metadata": {},
   "outputs": [],
   "source": [
    "def pos_neg(team, nlead=5, nbehind=4, year=\"both\"):\n",
    "    if year == \"both\":\n",
    "        df = event_df[event_df.攻撃チーム==team]\n",
    "    elif year == 2018:\n",
    "        df = df_2018[df_2018.攻撃チーム==team]\n",
    "    elif year == 2017:\n",
    "        df = df_2017[df_2017.攻撃チーム==team]\n",
    "        \n",
    "    # 点差関係なし\n",
    "    triple = make_inning_triple(make_inning_list(df, score_end=1, how=\"own\"))\n",
    "    lst = make_flattened_list(triple[:])\n",
    "    improved_score_list = []\n",
    "    deteriorated_score_list = []\n",
    "    for three_series in [elem for elem in lst if elem[0][0]!=\"3000\" and elem[1][0]!=\"3000\"]:\n",
    "        if is_improved(three_series[0][0], three_series[1][0]):\n",
    "            improved_score_list.append(weighted_score(three_series[1][0], three_series[2][1]-three_series[1][1]))\n",
    "        elif is_deteriorated(three_series[0][0], three_series[1][0]):\n",
    "            deteriorated_score_list.append(weighted_score(three_series[1][0], three_series[2][1]-three_series[1][1]))\n",
    "    all_imp, all_det = np.mean(improved_score_list), np.mean(deteriorated_score_list)\n",
    "    \n",
    "    #  nlead点差以上リード\n",
    "    lst = triple_on_score_diff(team, nlead, 30, year)\n",
    "    improved_score_list = []\n",
    "    deteriorated_score_list = []\n",
    "    for three_series in [elem for elem in lst if elem[0][0]!=\"3000\" and elem[1][0]!=\"3000\"]:\n",
    "        if is_improved(three_series[0][0], three_series[1][0]):\n",
    "            improved_score_list.append(weighted_score(three_series[1][0], three_series[2][1]-three_series[1][1]))\n",
    "        elif is_deteriorated(three_series[0][0], three_series[1][0]):\n",
    "            deteriorated_score_list.append(weighted_score(three_series[1][0], three_series[2][1]-three_series[1][1]))\n",
    "    pos_imp, pos_det = np.mean(improved_score_list), np.mean(deteriorated_score_list)\n",
    "    \n",
    "    # nbehind点差以上ビハインド\n",
    "    lst = triple_on_score_diff(team, -nbehind, -1, year)\n",
    "    improved_score_list = []\n",
    "    deteriorated_score_list = []\n",
    "    for three_series in [elem for elem in lst if elem[0][0]!=\"3000\" and elem[1][0]!=\"3000\"]:\n",
    "        if is_improved(three_series[0][0], three_series[1][0]):\n",
    "            improved_score_list.append(weighted_score(three_series[1][0], three_series[2][1]-three_series[1][1]))\n",
    "        elif is_deteriorated(three_series[0][0], three_series[1][0]):\n",
    "            deteriorated_score_list.append(weighted_score(three_series[1][0], three_series[2][1]-three_series[1][1]))\n",
    "    neg_imp, neg_det = np.mean(improved_score_list), np.mean(deteriorated_score_list)\n",
    "    \n",
    "    return [team, all_imp, all_det, pos_imp, pos_det, neg_imp, neg_det]"
   ]
  },
  {
   "cell_type": "code",
   "execution_count": 4,
   "metadata": {},
   "outputs": [],
   "source": [
    "#pos_neg(\"インディアンス\", year=2017)"
   ]
  },
  {
   "cell_type": "code",
   "execution_count": 6,
   "metadata": {
    "scrolled": true
   },
   "outputs": [
    {
     "name": "stdout",
     "output_type": "stream",
     "text": [
      "['カージナルス', 0.92960508976286227, 0.88635689644636106, 1.0007265355170931, 0.74879208925914387, 0.83740717763739725, 0.95140916065399295]\n",
      "['レンジャーズ', 0.95935764102904708, 0.96651778918007725, 0.88843081392174073, 1.0481554378555398, 0.7539944053571459, 0.90933509718925809]\n",
      "['ロイヤルズ', 1.0398729046852799, 0.78732698945353796, 0.98302121165305101, 0.61580446473592432, 1.0079249341427858, 0.98919268857184872]\n",
      "['パドレス', 0.81069432595968483, 0.89223366600251386, 1.015829603084313, 0.063466306062654951, 0.83748518302970232, 0.96740254071841369]\n",
      "['ヤンキース', 1.09351482299923, 0.99873769099775744, 1.2422252897106765, 1.0662915682516463, 0.85390033742356775, 0.79815221234334199]\n",
      "['フィリーズ', 0.87676551924045154, 0.77989137597657598, 1.0874367922834098, 0.90420034690788964, 0.77081731056009062, 0.81419646897320019]\n",
      "['インディアンス', 0.95543236126094733, 1.0176031661782745, 0.96285254835965084, 0.93610943647482125, 0.86979927603217222, 0.96294037142918099]\n",
      "['ブリュワーズ', 1.0442962501441819, 0.9413936044140282, 1.391685633653124, 0.49594619741166279, 0.96107955282236979, 0.94372176144912712]\n",
      "['パイレーツ', 0.89330527972932694, 0.62888207250041794, 1.1208859131704265, 0.95889136632359351, 0.77585521932488188, 0.55033851898890807]\n",
      "['アストロズ', 0.94370062549137435, 0.9137774379319179, 1.1737743067836401, 1.0246621512687786, 0.74961492271958019, 0.96040309522153111]\n",
      "['タイガース', 0.91061887711417921, 0.71272854909837879, 0.79418685123996346, 0.46890640479929846, 0.72489946854330434, 0.62614498266463192]\n",
      "['メッツ', 0.87397565475607775, 0.95844967113378121, 0.86258310196022325, 1.4785884117336081, 0.86903356120992992, 0.93320097952800518]\n",
      "['エンゼルス', 0.90844584847465781, 0.94499610989296434, 1.1771743229314282, 0.8120907166209399, 0.87814279550547103, 0.82107737005700909]\n",
      "['ブルージェイズ', 0.94194520647143121, 1.0149294516331338, 0.8424423536060871, 0.84238798879998034, 0.94158650709849734, 0.90327567394587149]\n",
      "['Dバックス', 1.0884717901149523, 0.89722447366364, 1.3704578593451333, 0.72570593339267242, 0.93665614712479905, 0.71838885062519853]\n",
      "['ドジャース', 0.93032905103372676, 1.0085541178944051, 1.1400748757095465, 0.82681475960791428, 0.8797389090626645, 1.0321334421292871]\n",
      "['Wソックス', 0.94560435435358892, 0.87807290306233376, 0.87661194851987534, 0.99599795452062845, 0.89280664708724411, 0.80975558243952817]\n",
      "['ジャイアンツ', 0.67557886293898328, 0.65212047822166219, 0.43924997866013105, 0.61689385182826295, 0.75905164814865955, 0.55885389956842613]\n",
      "['Rソックス', 0.8749245559801212, 0.81578721401806853, 0.92081467375712212, 0.57150215155204065, 0.8977386898862022, 0.9924233543020079]\n",
      "['マリナーズ', 0.93986356498643853, 0.89833047323392223, 0.93085794826462387, 1.4293358884309655, 1.0065848756081781, 0.75508273209262489]\n",
      "['アスレチックス', 1.0720382208733406, 1.0787462010837414, 0.93503572488300724, 1.2650350014188103, 1.0278509688777147, 0.90258831635549985]\n",
      "['カブス', 0.87823870819907202, 0.87286651343917954, 1.1795832661357988, 0.72619962664443793, 0.80757014203378474, 0.71443266353964918]\n",
      "['ツインズ', 0.92241606584208646, 0.83859025815251409, 0.84532932758090595, 0.93800407098721839, 0.90046345363138525, 0.80559175123766036]\n",
      "['ロッキーズ', 0.97866813833820221, 0.92331051782413753, 1.2169017133116544, 1.019657350445051, 0.94098058888476932, 0.72666062815246513]\n",
      "['ブレーブス', 0.90763121236088673, 0.75669293782263292, 1.0034571669924575, 0.49921204398109043, 0.85619238417889476, 0.68070405840463566]\n",
      "['レッズ', 0.87225166078025484, 0.82390587593505848, 0.53577697586851425, 0.9150201363700422, 0.68788609996703176, 0.65983942487494318]\n",
      "['マーリンズ', 0.9365883427463656, 0.79615610317193697, 0.79529716313726806, 0.79435527983431953, 0.81822135584663513, 0.8060304459241785]\n",
      "['レイズ', 0.78189418173314784, 0.91202165435318361, 0.86339786245991013, 1.2765954202534338, 0.62232252093764973, 0.95440215535518358]\n",
      "['ナショナルズ', 0.97180090913357431, 0.81021101890805225, 1.4581510682820051, 0.56967365743275511, 0.6183194185111256, 0.79587993336019369]\n",
      "['オリオールズ', 0.99711700117834134, 0.95570249119936979, 1.0532161501653594, 0.72934286349020672, 0.94036231175995066, 1.0166413638231555]\n"
     ]
    }
   ],
   "source": [
    "res = []\n",
    "for team in teams_mlb:\n",
    "    curr = pos_neg(team)\n",
    "    res.append(curr)\n",
    "    print(curr)"
   ]
  },
  {
   "cell_type": "code",
   "execution_count": 7,
   "metadata": {
    "scrolled": true
   },
   "outputs": [],
   "source": [
    "df = pd.DataFrame(res, columns=[\"チーム\", \"all_imp\", \"all_det\", \"pos_imp\", \"pos_det\", \"neg_imp\", \"neg_det\"]).set_index(\"チーム\", drop=True)"
   ]
  },
  {
   "cell_type": "code",
   "execution_count": 8,
   "metadata": {},
   "outputs": [],
   "source": [
    "df[\"positive_inhibition\"] = - df[\"pos_imp\"] + df[\"all_imp\"]\n",
    "df[\"negative_facilitation\"] = df[\"neg_det\"] - df[\"all_det\"]"
   ]
  },
  {
   "cell_type": "code",
   "execution_count": 9,
   "metadata": {
    "scrolled": true
   },
   "outputs": [
    {
     "data": {
      "text/plain": [
       "<matplotlib.collections.PathCollection at 0x2017af3358>"
      ]
     },
     "execution_count": 9,
     "metadata": {},
     "output_type": "execute_result"
    },
    {
     "data": {
      "image/png": "[encoded data removed]",
      "text/plain": [
       "<matplotlib.figure.Figure at 0x2017a80630>"
      ]
     },
     "metadata": {
      "image/png": {
       "height": 250,
       "width": 384
      }
     },
     "output_type": "display_data"
    }
   ],
   "source": [
    "df[[\"positive_inhibition\", \"negative_facilitation\"]]\n",
    "plt.scatter(df[\"positive_inhibition\"], df[\"negative_facilitation\"])"
   ]
  },
  {
   "cell_type": "code",
   "execution_count": 10,
   "metadata": {},
   "outputs": [
    {
     "data": {
      "text/html": [
       "<div>\n",
       "<style scoped>\n",
       "    .dataframe tbody tr th:only-of-type {\n",
       "        vertical-align: middle;\n",
       "    }\n",
       "\n",
       "    .dataframe tbody tr th {\n",
       "        vertical-align: top;\n",
       "    }\n",
       "\n",
       "    .dataframe thead th {\n",
       "        text-align: right;\n",
       "    }\n",
       "</style>\n",
       "<table border=\"1\" class=\"dataframe\">\n",
       "  <thead>\n",
       "    <tr style=\"text-align: right;\">\n",
       "      <th></th>\n",
       "      <th>all_imp</th>\n",
       "      <th>all_det</th>\n",
       "      <th>pos_imp</th>\n",
       "      <th>pos_det</th>\n",
       "      <th>neg_imp</th>\n",
       "      <th>neg_det</th>\n",
       "      <th>positive_inhibition</th>\n",
       "      <th>negative_facilitation</th>\n",
       "    </tr>\n",
       "    <tr>\n",
       "      <th>チーム</th>\n",
       "      <th></th>\n",
       "      <th></th>\n",
       "      <th></th>\n",
       "      <th></th>\n",
       "      <th></th>\n",
       "      <th></th>\n",
       "      <th></th>\n",
       "      <th></th>\n",
       "    </tr>\n",
       "  </thead>\n",
       "  <tbody>\n",
       "    <tr>\n",
       "      <th>カージナルス</th>\n",
       "      <td>0.929605</td>\n",
       "      <td>0.886357</td>\n",
       "      <td>1.000727</td>\n",
       "      <td>0.748792</td>\n",
       "      <td>0.837407</td>\n",
       "      <td>0.951409</td>\n",
       "      <td>-0.071121</td>\n",
       "      <td>0.065052</td>\n",
       "    </tr>\n",
       "    <tr>\n",
       "      <th>レンジャーズ</th>\n",
       "      <td>0.959358</td>\n",
       "      <td>0.966518</td>\n",
       "      <td>0.888431</td>\n",
       "      <td>1.048155</td>\n",
       "      <td>0.753994</td>\n",
       "      <td>0.909335</td>\n",
       "      <td>0.070927</td>\n",
       "      <td>-0.057183</td>\n",
       "    </tr>\n",
       "    <tr>\n",
       "      <th>ロイヤルズ</th>\n",
       "      <td>1.039873</td>\n",
       "      <td>0.787327</td>\n",
       "      <td>0.983021</td>\n",
       "      <td>0.615804</td>\n",
       "      <td>1.007925</td>\n",
       "      <td>0.989193</td>\n",
       "      <td>0.056852</td>\n",
       "      <td>0.201866</td>\n",
       "    </tr>\n",
       "    <tr>\n",
       "      <th>パドレス</th>\n",
       "      <td>0.810694</td>\n",
       "      <td>0.892234</td>\n",
       "      <td>1.015830</td>\n",
       "      <td>0.063466</td>\n",
       "      <td>0.837485</td>\n",
       "      <td>0.967403</td>\n",
       "      <td>-0.205135</td>\n",
       "      <td>0.075169</td>\n",
       "    </tr>\n",
       "    <tr>\n",
       "      <th>ヤンキース</th>\n",
       "      <td>1.093515</td>\n",
       "      <td>0.998738</td>\n",
       "      <td>1.242225</td>\n",
       "      <td>1.066292</td>\n",
       "      <td>0.853900</td>\n",
       "      <td>0.798152</td>\n",
       "      <td>-0.148710</td>\n",
       "      <td>-0.200585</td>\n",
       "    </tr>\n",
       "    <tr>\n",
       "      <th>フィリーズ</th>\n",
       "      <td>0.876766</td>\n",
       "      <td>0.779891</td>\n",
       "      <td>1.087437</td>\n",
       "      <td>0.904200</td>\n",
       "      <td>0.770817</td>\n",
       "      <td>0.814196</td>\n",
       "      <td>-0.210671</td>\n",
       "      <td>0.034305</td>\n",
       "    </tr>\n",
       "    <tr>\n",
       "      <th>インディアンス</th>\n",
       "      <td>0.955432</td>\n",
       "      <td>1.017603</td>\n",
       "      <td>0.962853</td>\n",
       "      <td>0.936109</td>\n",
       "      <td>0.869799</td>\n",
       "      <td>0.962940</td>\n",
       "      <td>-0.007420</td>\n",
       "      <td>-0.054663</td>\n",
       "    </tr>\n",
       "    <tr>\n",
       "      <th>ブリュワーズ</th>\n",
       "      <td>1.044296</td>\n",
       "      <td>0.941394</td>\n",
       "      <td>1.391686</td>\n",
       "      <td>0.495946</td>\n",
       "      <td>0.961080</td>\n",
       "      <td>0.943722</td>\n",
       "      <td>-0.347389</td>\n",
       "      <td>0.002328</td>\n",
       "    </tr>\n",
       "    <tr>\n",
       "      <th>パイレーツ</th>\n",
       "      <td>0.893305</td>\n",
       "      <td>0.628882</td>\n",
       "      <td>1.120886</td>\n",
       "      <td>0.958891</td>\n",
       "      <td>0.775855</td>\n",
       "      <td>0.550339</td>\n",
       "      <td>-0.227581</td>\n",
       "      <td>-0.078544</td>\n",
       "    </tr>\n",
       "    <tr>\n",
       "      <th>アストロズ</th>\n",
       "      <td>0.943701</td>\n",
       "      <td>0.913777</td>\n",
       "      <td>1.173774</td>\n",
       "      <td>1.024662</td>\n",
       "      <td>0.749615</td>\n",
       "      <td>0.960403</td>\n",
       "      <td>-0.230074</td>\n",
       "      <td>0.046626</td>\n",
       "    </tr>\n",
       "    <tr>\n",
       "      <th>タイガース</th>\n",
       "      <td>0.910619</td>\n",
       "      <td>0.712729</td>\n",
       "      <td>0.794187</td>\n",
       "      <td>0.468906</td>\n",
       "      <td>0.724899</td>\n",
       "      <td>0.626145</td>\n",
       "      <td>0.116432</td>\n",
       "      <td>-0.086584</td>\n",
       "    </tr>\n",
       "    <tr>\n",
       "      <th>メッツ</th>\n",
       "      <td>0.873976</td>\n",
       "      <td>0.958450</td>\n",
       "      <td>0.862583</td>\n",
       "      <td>1.478588</td>\n",
       "      <td>0.869034</td>\n",
       "      <td>0.933201</td>\n",
       "      <td>0.011393</td>\n",
       "      <td>-0.025249</td>\n",
       "    </tr>\n",
       "    <tr>\n",
       "      <th>エンゼルス</th>\n",
       "      <td>0.908446</td>\n",
       "      <td>0.944996</td>\n",
       "      <td>1.177174</td>\n",
       "      <td>0.812091</td>\n",
       "      <td>0.878143</td>\n",
       "      <td>0.821077</td>\n",
       "      <td>-0.268728</td>\n",
       "      <td>-0.123919</td>\n",
       "    </tr>\n",
       "    <tr>\n",
       "      <th>ブルージェイズ</th>\n",
       "      <td>0.941945</td>\n",
       "      <td>1.014929</td>\n",
       "      <td>0.842442</td>\n",
       "      <td>0.842388</td>\n",
       "      <td>0.941587</td>\n",
       "      <td>0.903276</td>\n",
       "      <td>0.099503</td>\n",
       "      <td>-0.111654</td>\n",
       "    </tr>\n",
       "    <tr>\n",
       "      <th>Dバックス</th>\n",
       "      <td>1.088472</td>\n",
       "      <td>0.897224</td>\n",
       "      <td>1.370458</td>\n",
       "      <td>0.725706</td>\n",
       "      <td>0.936656</td>\n",
       "      <td>0.718389</td>\n",
       "      <td>-0.281986</td>\n",
       "      <td>-0.178836</td>\n",
       "    </tr>\n",
       "    <tr>\n",
       "      <th>ドジャース</th>\n",
       "      <td>0.930329</td>\n",
       "      <td>1.008554</td>\n",
       "      <td>1.140075</td>\n",
       "      <td>0.826815</td>\n",
       "      <td>0.879739</td>\n",
       "      <td>1.032133</td>\n",
       "      <td>-0.209746</td>\n",
       "      <td>0.023579</td>\n",
       "    </tr>\n",
       "    <tr>\n",
       "      <th>Wソックス</th>\n",
       "      <td>0.945604</td>\n",
       "      <td>0.878073</td>\n",
       "      <td>0.876612</td>\n",
       "      <td>0.995998</td>\n",
       "      <td>0.892807</td>\n",
       "      <td>0.809756</td>\n",
       "      <td>0.068992</td>\n",
       "      <td>-0.068317</td>\n",
       "    </tr>\n",
       "    <tr>\n",
       "      <th>ジャイアンツ</th>\n",
       "      <td>0.675579</td>\n",
       "      <td>0.652120</td>\n",
       "      <td>0.439250</td>\n",
       "      <td>0.616894</td>\n",
       "      <td>0.759052</td>\n",
       "      <td>0.558854</td>\n",
       "      <td>0.236329</td>\n",
       "      <td>-0.093267</td>\n",
       "    </tr>\n",
       "    <tr>\n",
       "      <th>Rソックス</th>\n",
       "      <td>0.874925</td>\n",
       "      <td>0.815787</td>\n",
       "      <td>0.920815</td>\n",
       "      <td>0.571502</td>\n",
       "      <td>0.897739</td>\n",
       "      <td>0.992423</td>\n",
       "      <td>-0.045890</td>\n",
       "      <td>0.176636</td>\n",
       "    </tr>\n",
       "    <tr>\n",
       "      <th>マリナーズ</th>\n",
       "      <td>0.939864</td>\n",
       "      <td>0.898330</td>\n",
       "      <td>0.930858</td>\n",
       "      <td>1.429336</td>\n",
       "      <td>1.006585</td>\n",
       "      <td>0.755083</td>\n",
       "      <td>0.009006</td>\n",
       "      <td>-0.143248</td>\n",
       "    </tr>\n",
       "    <tr>\n",
       "      <th>アスレチックス</th>\n",
       "      <td>1.072038</td>\n",
       "      <td>1.078746</td>\n",
       "      <td>0.935036</td>\n",
       "      <td>1.265035</td>\n",
       "      <td>1.027851</td>\n",
       "      <td>0.902588</td>\n",
       "      <td>0.137002</td>\n",
       "      <td>-0.176158</td>\n",
       "    </tr>\n",
       "    <tr>\n",
       "      <th>カブス</th>\n",
       "      <td>0.878239</td>\n",
       "      <td>0.872867</td>\n",
       "      <td>1.179583</td>\n",
       "      <td>0.726200</td>\n",
       "      <td>0.807570</td>\n",
       "      <td>0.714433</td>\n",
       "      <td>-0.301345</td>\n",
       "      <td>-0.158434</td>\n",
       "    </tr>\n",
       "    <tr>\n",
       "      <th>ツインズ</th>\n",
       "      <td>0.922416</td>\n",
       "      <td>0.838590</td>\n",
       "      <td>0.845329</td>\n",
       "      <td>0.938004</td>\n",
       "      <td>0.900463</td>\n",
       "      <td>0.805592</td>\n",
       "      <td>0.077087</td>\n",
       "      <td>-0.032999</td>\n",
       "    </tr>\n",
       "    <tr>\n",
       "      <th>ロッキーズ</th>\n",
       "      <td>0.978668</td>\n",
       "      <td>0.923311</td>\n",
       "      <td>1.216902</td>\n",
       "      <td>1.019657</td>\n",
       "      <td>0.940981</td>\n",
       "      <td>0.726661</td>\n",
       "      <td>-0.238234</td>\n",
       "      <td>-0.196650</td>\n",
       "    </tr>\n",
       "    <tr>\n",
       "      <th>ブレーブス</th>\n",
       "      <td>0.907631</td>\n",
       "      <td>0.756693</td>\n",
       "      <td>1.003457</td>\n",
       "      <td>0.499212</td>\n",
       "      <td>0.856192</td>\n",
       "      <td>0.680704</td>\n",
       "      <td>-0.095826</td>\n",
       "      <td>-0.075989</td>\n",
       "    </tr>\n",
       "    <tr>\n",
       "      <th>レッズ</th>\n",
       "      <td>0.872252</td>\n",
       "      <td>0.823906</td>\n",
       "      <td>0.535777</td>\n",
       "      <td>0.915020</td>\n",
       "      <td>0.687886</td>\n",
       "      <td>0.659839</td>\n",
       "      <td>0.336475</td>\n",
       "      <td>-0.164066</td>\n",
       "    </tr>\n",
       "    <tr>\n",
       "      <th>マーリンズ</th>\n",
       "      <td>0.936588</td>\n",
       "      <td>0.796156</td>\n",
       "      <td>0.795297</td>\n",
       "      <td>0.794355</td>\n",
       "      <td>0.818221</td>\n",
       "      <td>0.806030</td>\n",
       "      <td>0.141291</td>\n",
       "      <td>0.009874</td>\n",
       "    </tr>\n",
       "    <tr>\n",
       "      <th>レイズ</th>\n",
       "      <td>0.781894</td>\n",
       "      <td>0.912022</td>\n",
       "      <td>0.863398</td>\n",
       "      <td>1.276595</td>\n",
       "      <td>0.622323</td>\n",
       "      <td>0.954402</td>\n",
       "      <td>-0.081504</td>\n",
       "      <td>0.042381</td>\n",
       "    </tr>\n",
       "    <tr>\n",
       "      <th>ナショナルズ</th>\n",
       "      <td>0.971801</td>\n",
       "      <td>0.810211</td>\n",
       "      <td>1.458151</td>\n",
       "      <td>0.569674</td>\n",
       "      <td>0.618319</td>\n",
       "      <td>0.795880</td>\n",
       "      <td>-0.486350</td>\n",
       "      <td>-0.014331</td>\n",
       "    </tr>\n",
       "    <tr>\n",
       "      <th>オリオールズ</th>\n",
       "      <td>0.997117</td>\n",
       "      <td>0.955702</td>\n",
       "      <td>1.053216</td>\n",
       "      <td>0.729343</td>\n",
       "      <td>0.940362</td>\n",
       "      <td>1.016641</td>\n",
       "      <td>-0.056099</td>\n",
       "      <td>0.060939</td>\n",
       "    </tr>\n",
       "  </tbody>\n",
       "</table>\n",
       "</div>"
      ],
      "text/plain": [
       "          all_imp   all_det   pos_imp   pos_det   neg_imp   neg_det  \\\n",
       "チーム                                                                   \n",
       "カージナルス   0.929605  0.886357  1.000727  0.748792  0.837407  0.951409   \n",
       "レンジャーズ   0.959358  0.966518  0.888431  1.048155  0.753994  0.909335   \n",
       "ロイヤルズ    1.039873  0.787327  0.983021  0.615804  1.007925  0.989193   \n",
       "パドレス     0.810694  0.892234  1.015830  0.063466  0.837485  0.967403   \n",
       "ヤンキース    1.093515  0.998738  1.242225  1.066292  0.853900  0.798152   \n",
       "フィリーズ    0.876766  0.779891  1.087437  0.904200  0.770817  0.814196   \n",
       "インディアンス  0.955432  1.017603  0.962853  0.936109  0.869799  0.962940   \n",
       "ブリュワーズ   1.044296  0.941394  1.391686  0.495946  0.961080  0.943722   \n",
       "パイレーツ    0.893305  0.628882  1.120886  0.958891  0.775855  0.550339   \n",
       "アストロズ    0.943701  0.913777  1.173774  1.024662  0.749615  0.960403   \n",
       "タイガース    0.910619  0.712729  0.794187  0.468906  0.724899  0.626145   \n",
       "メッツ      0.873976  0.958450  0.862583  1.478588  0.869034  0.933201   \n",
       "エンゼルス    0.908446  0.944996  1.177174  0.812091  0.878143  0.821077   \n",
       "ブルージェイズ  0.941945  1.014929  0.842442  0.842388  0.941587  0.903276   \n",
       "Dバックス    1.088472  0.897224  1.370458  0.725706  0.936656  0.718389   \n",
       "ドジャース    0.930329  1.008554  1.140075  0.826815  0.879739  1.032133   \n",
       "Wソックス    0.945604  0.878073  0.876612  0.995998  0.892807  0.809756   \n",
       "ジャイアンツ   0.675579  0.652120  0.439250  0.616894  0.759052  0.558854   \n",
       "Rソックス    0.874925  0.815787  0.920815  0.571502  0.897739  0.992423   \n",
       "マリナーズ    0.939864  0.898330  0.930858  1.429336  1.006585  0.755083   \n",
       "アスレチックス  1.072038  1.078746  0.935036  1.265035  1.027851  0.902588   \n",
       "カブス      0.878239  0.872867  1.179583  0.726200  0.807570  0.714433   \n",
       "ツインズ     0.922416  0.838590  0.845329  0.938004  0.900463  0.805592   \n",
       "ロッキーズ    0.978668  0.923311  1.216902  1.019657  0.940981  0.726661   \n",
       "ブレーブス    0.907631  0.756693  1.003457  0.499212  0.856192  0.680704   \n",
       "レッズ      0.872252  0.823906  0.535777  0.915020  0.687886  0.659839   \n",
       "マーリンズ    0.936588  0.796156  0.795297  0.794355  0.818221  0.806030   \n",
       "レイズ      0.781894  0.912022  0.863398  1.276595  0.622323  0.954402   \n",
       "ナショナルズ   0.971801  0.810211  1.458151  0.569674  0.618319  0.795880   \n",
       "オリオールズ   0.997117  0.955702  1.053216  0.729343  0.940362  1.016641   \n",
       "\n",
       "         positive_inhibition  negative_facilitation  \n",
       "チーム                                                  \n",
       "カージナルス             -0.071121               0.065052  \n",
       "レンジャーズ              0.070927              -0.057183  \n",
       "ロイヤルズ               0.056852               0.201866  \n",
       "パドレス               -0.205135               0.075169  \n",
       "ヤンキース              -0.148710              -0.200585  \n",
       "フィリーズ              -0.210671               0.034305  \n",
       "インディアンス            -0.007420              -0.054663  \n",
       "ブリュワーズ             -0.347389               0.002328  \n",
       "パイレーツ              -0.227581              -0.078544  \n",
       "アストロズ              -0.230074               0.046626  \n",
       "タイガース               0.116432              -0.086584  \n",
       "メッツ                 0.011393              -0.025249  \n",
       "エンゼルス              -0.268728              -0.123919  \n",
       "ブルージェイズ             0.099503              -0.111654  \n",
       "Dバックス              -0.281986              -0.178836  \n",
       "ドジャース              -0.209746               0.023579  \n",
       "Wソックス               0.068992              -0.068317  \n",
       "ジャイアンツ              0.236329              -0.093267  \n",
       "Rソックス              -0.045890               0.176636  \n",
       "マリナーズ               0.009006              -0.143248  \n",
       "アスレチックス             0.137002              -0.176158  \n",
       "カブス                -0.301345              -0.158434  \n",
       "ツインズ                0.077087              -0.032999  \n",
       "ロッキーズ              -0.238234              -0.196650  \n",
       "ブレーブス              -0.095826              -0.075989  \n",
       "レッズ                 0.336475              -0.164066  \n",
       "マーリンズ               0.141291               0.009874  \n",
       "レイズ                -0.081504               0.042381  \n",
       "ナショナルズ             -0.486350              -0.014331  \n",
       "オリオールズ             -0.056099               0.060939  "
      ]
     },
     "execution_count": 10,
     "metadata": {},
     "output_type": "execute_result"
    }
   ],
   "source": [
    "df"
   ]
  },
  {
   "cell_type": "code",
   "execution_count": 12,
   "metadata": {
    "scrolled": false
   },
   "outputs": [
    {
     "data": {
      "text/plain": [
       "<matplotlib.text.Text at 0x2016ad7be0>"
      ]
     },
     "execution_count": 12,
     "metadata": {},
     "output_type": "execute_result"
    },
    {
     "data": {
      "image/png": "[encoded data removed]",
      "text/plain": [
       "<matplotlib.figure.Figure at 0x2018d96518>"
      ]
     },
     "metadata": {
      "image/png": {
       "height": 375,
       "width": 735
      }
     },
     "output_type": "display_data"
    }
   ],
   "source": [
    "plt.figure(figsize=(12, 6))\n",
    "colors = [\"r\", \"b\", \"y\", \"g\", \"c\"]\n",
    "for team in df.index:\n",
    "    pos_inh = df.loc[team, \"positive_inhibition\"]\n",
    "    neg_fac = df.loc[team, \"negative_facilitation\"]\n",
    "    plt.scatter([pos_inh], [neg_fac], marker=\"${}$\".format(ranking(team)), color=colors[ranking(team)-1], s=200)\n",
    "plt.xlabel(\"positive_inhibition (5点差以上のリード)\")\n",
    "plt.ylabel(\"negative_facilitation (4点差以内のビハインド)\")"
   ]
  },
  {
   "cell_type": "code",
   "execution_count": 21,
   "metadata": {},
   "outputs": [],
   "source": [
    "order_pos_dict = defaultdict(int)\n",
    "for team in df.index:\n",
    "    order_pos_dict[ranking(team, 2017)] += df.loc[team, \"positive_inhibition\"]"
   ]
  },
  {
   "cell_type": "code",
   "execution_count": 22,
   "metadata": {
    "scrolled": false
   },
   "outputs": [
    {
     "data": {
      "text/plain": [
       "defaultdict(int,\n",
       "            {1: -1.2808245279289476,\n",
       "             2: -0.82843647603706194,\n",
       "             3: -0.4208273463319725,\n",
       "             4: -0.18190127196350925,\n",
       "             5: 0.55946766902516554})"
      ]
     },
     "execution_count": 22,
     "metadata": {},
     "output_type": "execute_result"
    }
   ],
   "source": [
    "order_pos_dict"
   ]
  },
  {
   "cell_type": "code",
   "execution_count": 23,
   "metadata": {},
   "outputs": [],
   "source": [
    "order_neg_dict = defaultdict(int)\n",
    "for team in df.index:\n",
    "    order_neg_dict[ranking(team, 2017)] += df.loc[team, \"negative_facilitation\"]"
   ]
  },
  {
   "cell_type": "code",
   "execution_count": 24,
   "metadata": {},
   "outputs": [
    {
     "data": {
      "text/plain": [
       "defaultdict(int,\n",
       "            {1: 0.019413391611952213,\n",
       "             2: -0.52413584865632545,\n",
       "             3: -0.1065880459030244,\n",
       "             4: -0.26577716070227309,\n",
       "             5: -0.42483051525492987})"
      ]
     },
     "execution_count": 24,
     "metadata": {},
     "output_type": "execute_result"
    }
   ],
   "source": [
    "order_neg_dict"
   ]
  },
  {
   "cell_type": "code",
   "execution_count": 25,
   "metadata": {},
   "outputs": [
    {
     "data": {
      "text/html": [
       "<div>\n",
       "<style scoped>\n",
       "    .dataframe tbody tr th:only-of-type {\n",
       "        vertical-align: middle;\n",
       "    }\n",
       "\n",
       "    .dataframe tbody tr th {\n",
       "        vertical-align: top;\n",
       "    }\n",
       "\n",
       "    .dataframe thead th {\n",
       "        text-align: right;\n",
       "    }\n",
       "</style>\n",
       "<table border=\"1\" class=\"dataframe\">\n",
       "  <thead>\n",
       "    <tr style=\"text-align: right;\">\n",
       "      <th></th>\n",
       "      <th>positive_inhibition</th>\n",
       "      <th>negative_facilitation</th>\n",
       "    </tr>\n",
       "  </thead>\n",
       "  <tbody>\n",
       "    <tr>\n",
       "      <th>1</th>\n",
       "      <td>-1.280825</td>\n",
       "      <td>0.019413</td>\n",
       "    </tr>\n",
       "    <tr>\n",
       "      <th>2</th>\n",
       "      <td>-0.828436</td>\n",
       "      <td>-0.524136</td>\n",
       "    </tr>\n",
       "    <tr>\n",
       "      <th>3</th>\n",
       "      <td>-0.420827</td>\n",
       "      <td>-0.106588</td>\n",
       "    </tr>\n",
       "    <tr>\n",
       "      <th>4</th>\n",
       "      <td>-0.181901</td>\n",
       "      <td>-0.265777</td>\n",
       "    </tr>\n",
       "    <tr>\n",
       "      <th>5</th>\n",
       "      <td>0.559468</td>\n",
       "      <td>-0.424831</td>\n",
       "    </tr>\n",
       "  </tbody>\n",
       "</table>\n",
       "</div>"
      ],
      "text/plain": [
       "   positive_inhibition  negative_facilitation\n",
       "1            -1.280825               0.019413\n",
       "2            -0.828436              -0.524136\n",
       "3            -0.420827              -0.106588\n",
       "4            -0.181901              -0.265777\n",
       "5             0.559468              -0.424831"
      ]
     },
     "execution_count": 25,
     "metadata": {},
     "output_type": "execute_result"
    }
   ],
   "source": [
    "pd.DataFrame([list(order_pos_dict.values()), list(order_neg_dict.values())], index=[\"positive_inhibition\", \"negative_facilitation\"], columns=[1, 2, 3, 4, 5]).T"
   ]
  },
  {
   "cell_type": "code",
   "execution_count": 26,
   "metadata": {},
   "outputs": [
    {
     "data": {
      "text/plain": [
       "<matplotlib.axes._subplots.AxesSubplot at 0x2016d2c080>"
      ]
     },
     "execution_count": 26,
     "metadata": {},
     "output_type": "execute_result"
    },
    {
     "data": {
      "image/png": "[encoded data removed]",
      "text/plain": [
       "<matplotlib.figure.Figure at 0x201b033908>"
      ]
     },
     "metadata": {
      "image/png": {
       "height": 250,
       "width": 364
      }
     },
     "output_type": "display_data"
    }
   ],
   "source": [
    "df.loc[:, \"positive_inhibition\"].hist()"
   ]
  },
  {
   "cell_type": "code",
   "execution_count": 27,
   "metadata": {},
   "outputs": [
    {
     "data": {
      "text/plain": [
       "<matplotlib.axes._subplots.AxesSubplot at 0x201adae400>"
      ]
     },
     "execution_count": 27,
     "metadata": {},
     "output_type": "execute_result"
    },
    {
     "data": {
      "image/png": "[encoded data removed]",
      "text/plain": [
       "<matplotlib.figure.Figure at 0x2018d2fe80>"
      ]
     },
     "metadata": {
      "image/png": {
       "height": 250,
       "width": 364
      }
     },
     "output_type": "display_data"
    }
   ],
   "source": [
    "df.loc[:, \"negative_facilitation\"].hist()"
   ]
  },
  {
   "cell_type": "code",
   "execution_count": null,
   "metadata": {},
   "outputs": [],
   "source": []
  },
  {
   "cell_type": "code",
   "execution_count": null,
   "metadata": {},
   "outputs": [],
   "source": []
  }
 ],
 "metadata": {
  "kernelspec": {
   "display_name": "Python 3",
   "language": "python",
   "name": "python3"
  },
  "language_info": {
   "codemirror_mode": {
    "name": "ipython",
    "version": 3
   },
   "file_extension": ".py",
   "mimetype": "text/x-python",
   "name": "python",
   "nbconvert_exporter": "python",
   "pygments_lexer": "ipython3",
   "version": "3.5.4"
  }
 },
 "nbformat": 4,
 "nbformat_minor": 2
}
