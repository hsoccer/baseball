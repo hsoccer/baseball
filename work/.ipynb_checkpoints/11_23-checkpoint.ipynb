{
 "cells": [
  {
   "cell_type": "code",
   "execution_count": 1,
   "metadata": {},
   "outputs": [],
   "source": [
    "import pandas as pd\n",
    "import numpy as np\n",
    "import re\n",
    "import os, sys\n",
    "import matplotlib.pyplot as plt\n",
    "import seaborn as sns\n",
    "from collections import Counter, defaultdict\n",
    "from itertools import product\n",
    "from scipy import stats\n",
    "\n",
    "%matplotlib inline\n",
    "plt.style.use('ggplot')\n",
    "#plt.style.use('seaborn-pastel')\n",
    "%config InlineBackend.figure_format = 'retina'\n",
    "import warnings\n",
    "warnings.filterwarnings('ignore')\n",
    "\n",
    "sys.path.append(\"..\")\n",
    "from utils.util_functions import *\n",
    "\n",
    "from tqdm import tqdm_notebook as tq"
   ]
  },
  {
   "cell_type": "code",
   "execution_count": 2,
   "metadata": {},
   "outputs": [],
   "source": [
    "files = os.listdir(DETAIL_DATA_DIR_MLB)[1:]"
   ]
  },
  {
   "cell_type": "markdown",
   "metadata": {},
   "source": [
    "# 得点データを作る"
   ]
  },
  {
   "cell_type": "code",
   "execution_count": 3,
   "metadata": {},
   "outputs": [
    {
     "data": {
      "application/vnd.jupyter.widget-view+json": {
       "model_id": "6a78804fc7434b56b994761d8c2d953a",
       "version_major": 2,
       "version_minor": 0
      },
      "text/plain": [
       "HBox(children=(IntProgress(value=0, max=4294), HTML(value='')))"
      ]
     },
     "metadata": {},
     "output_type": "display_data"
    },
    {
     "name": "stdout",
     "output_type": "stream",
     "text": [
      "\n"
     ]
    }
   ],
   "source": [
    "res = []\n",
    "for file in tq(files):\n",
    "    try:\n",
    "        df = pd.read_csv(os.path.join(DETAIL_DATA_DIR_MLB, file), index_col=0, dtype=str, encoding=\"cp932\")\n",
    "        game_id = file\n",
    "        top_team = df[\"攻撃チーム\"][0]\n",
    "        bot_team = (set(df[\"攻撃チーム\"]) - set([top_team])).pop()\n",
    "        top_score = df[\"表得点\"].values[-1]\n",
    "        bot_score = df[\"裏得点\"].values[-1]\n",
    "        res.append([game_id, top_team, bot_team, top_score, bot_score])\n",
    "    except:\n",
    "        print(file)\n",
    "columns = [\"試合ID\", \"表チーム\", \"裏チーム\", \"表得点\", \"裏得点\"]\n",
    "res_df = pd.DataFrame(res, columns=columns)"
   ]
  },
  {
   "cell_type": "code",
   "execution_count": 4,
   "metadata": {},
   "outputs": [],
   "source": [
    "#res_df.to_csv(os.path.join(SCORE_DATA_DIR_MLB, \"score_mlb.csv\"), encoding=\"cp932\")"
   ]
  },
  {
   "cell_type": "raw",
   "metadata": {},
   "source": [
    "def make_score_df(team):\n",
    "    res = []\n",
    "    columns = [\"相手\", \"得点\", \"安打\", \"失点\", \"被安打\"]\n",
    "    files = os.listdir(SCORE_DATA_DIR)\n",
    "    for file in files:\n",
    "        score_df = pd.read_csv(os.path.join(SCORE_DATA_DIR, file), encoding=\"cp932\", index_col=0)\n",
    "        if not name_dict[team] in score_df.index:\n",
    "            continue\n",
    "        opponent = score_df.index[0] if score_df.index[1] == name_dict[team] else score_df.index[1]\n",
    "        team_score = score_df.loc[name_dict[team], \"計\"]\n",
    "        team_hits = score_df.loc[name_dict[team], \"安\"]\n",
    "        opponent_score = score_df.loc[opponent, \"計\"]\n",
    "        opponent_hits = score_df.loc[opponent, \"安\"]\n",
    "        res.append([opponent, team_score, team_hits, opponent_score, opponent_hits])\n",
    "    df = pd.DataFrame(res, columns=columns)\n",
    "    df[\"得点率\"] = df[\"得点\"] / df[\"安打\"]\n",
    "    df[\"失点率\"] = df[\"失点\"] / df[\"被安打\"]\n",
    "    return df"
   ]
  },
  {
   "cell_type": "code",
   "execution_count": 46,
   "metadata": {},
   "outputs": [],
   "source": [
    "def make_score_df_mlb(team):\n",
    "    res = []\n",
    "    columns = [\"相手\", \"得点\", \"失点\"]\n",
    "    df = pd.read_csv(os.path.join(SCORE_DATA_DIR_MLB, \"score_mlb.csv\"), encoding=\"cp932\", index_col=0)\n",
    "    df_top = df[df[\"表チーム\"]==team]\n",
    "    df_bot = df[df[\"裏チーム\"]==team]\n",
    "    for elem in df_top.values:\n",
    "        res.append([elem[1], elem[2], elem[3]])\n",
    "    for elem in df_bot.values:\n",
    "        res.append([elem[0], elem[3], elem[2]])\n",
    "    return pd.DataFrame(res, columns=columns)"
   ]
  },
  {
   "cell_type": "code",
   "execution_count": 55,
   "metadata": {
    "scrolled": true
   },
   "outputs": [],
   "source": [
    "event_df = make_df(data_dir=DETAIL_DATA_DIR_MLB)"
   ]
  },
  {
   "cell_type": "code",
   "execution_count": 67,
   "metadata": {},
   "outputs": [],
   "source": [
    "column = \"得点\"\n",
    "teams_mlb = list(set(pd.read_csv(os.path.join(SCORE_DATA_DIR_MLB, \"score_mlb.csv\"), encoding=\"cp932\", index_col=0).表チーム))\n",
    "teams_mlb.remove(\"ア・リーグ\")"
   ]
  },
  {
   "cell_type": "code",
   "execution_count": 105,
   "metadata": {
    "scrolled": true
   },
   "outputs": [
    {
     "name": "stdout",
     "output_type": "stream",
     "text": [
      "タイガース -0.2663437771894923 8.93352725706\n",
      "ブリュワーズ -0.27892457878358057 8.34080794249\n",
      "インディアンス -0.2709066189995166 12.6075307574\n",
      "レッズ -0.29767069121006706 10.1749636563\n",
      "ロッキーズ -0.28867807489233943 12.0677225029\n",
      "マーリンズ -0.30257469873463316 10.0033886584\n",
      "フィリーズ -0.27498873915135347 9.63526628031\n",
      "ブレーブス -0.284938581638154 10.7074995852\n",
      "マリナーズ -0.2708540315197019 8.55286055777\n",
      "ヤンキース -0.254533642409271 10.5960920595\n",
      "アストロズ -0.2616418960358051 13.20403872\n",
      "ドジャース -0.2751709034235357 11.8994677705\n",
      "カージナルス -0.30413994772509456 9.66567413851\n",
      "ブルージェイズ -0.25215145096369485 7.77083333333\n",
      "エンゼルス -0.2568735790243104 8.59936340592\n",
      "メッツ -0.2735715953116187 10.2287387086\n",
      "Wソックス -0.25826447537902375 8.89193170866\n",
      "ジャイアンツ -0.28601768496457725 8.01101928375\n",
      "レイズ -0.2797230164964888 8.59722928317\n",
      "ツインズ -0.27836087726463177 9.30232657114\n",
      "ナショナルズ -0.28483082096784607 15.0054753609\n",
      "パドレス -0.2663206840868013 6.01460700209\n",
      "Dバックス -0.3028621201069508 11.0106390097\n",
      "ロイヤルズ -0.2611038056023762 9.88131831549\n",
      "アスレチックス -0.2715991019207795 9.86605599723\n",
      "Rソックス -0.2816474617843543 12.3681004858\n",
      "パイレーツ -0.2909183774211552 8.98301747477\n",
      "オリオールズ -0.24742314676692212 11.0714267296\n",
      "レンジャーズ -0.290226647372656 11.905691944\n",
      "カブス -0.30610668744289615 13.8649686966\n"
     ]
    }
   ],
   "source": [
    "diffs = []\n",
    "stds = []\n",
    "for team in teams_mlb:\n",
    "    lst = make_flattened_list(make_inning_triple(make_inning_list(event_df[event_df.攻撃チーム==team])))\n",
    "    # H(St+1 | St, St-1)\n",
    "    second_cond_entropy = cond_entropy(pd.DataFrame(lst)[2].values, pd.DataFrame(lst)[[0, 1]].values)\n",
    "    # H(St+1 | St)\n",
    "    first_cond_entropy = cond_entropy(pd.DataFrame(lst)[2].values, pd.DataFrame(lst)[[1]].values)\n",
    "    std = make_score_df_mlb(team).describe()[column][\"std\"] #/ make_score_df_mlb(team).describe()[column][\"mean\"]\n",
    "    diffs.append(second_cond_entropy - first_cond_entropy)\n",
    "    stds.append(std)\n",
    "    print(team, second_cond_entropy - first_cond_entropy, std)"
   ]
  },
  {
   "cell_type": "code",
   "execution_count": 106,
   "metadata": {},
   "outputs": [
    {
     "data": {
      "text/plain": [
       "<matplotlib.collections.PathCollection at 0x201d101b70>"
      ]
     },
     "execution_count": 106,
     "metadata": {},
     "output_type": "execute_result"
    },
    {
     "data": {
      "image/png": "[encoded data removed]",
      "text/plain": [
       "<matplotlib.figure.Figure at 0x201cc39a20>"
      ]
     },
     "metadata": {
      "image/png": {
       "height": 250,
       "width": 371
      }
     },
     "output_type": "display_data"
    }
   ],
   "source": [
    "plt.scatter(diffs, stds)"
   ]
  },
  {
   "cell_type": "code",
   "execution_count": 107,
   "metadata": {},
   "outputs": [],
   "source": [
    "res_df = pd.DataFrame([teams_mlb, diffs, stds], index=[\"チーム\", \"エントロピー差\", \"標準偏差\"]).T"
   ]
  },
  {
   "cell_type": "code",
   "execution_count": 108,
   "metadata": {
    "scrolled": true
   },
   "outputs": [],
   "source": [
    "import statsmodels.api as sm\n",
    "\n",
    "nsample = len(diffs)\n",
    "X = np.column_stack((np.repeat(1, nsample), diffs))\n",
    "\n",
    "model = sm.OLS(stds, X)\n",
    "results = model.fit()"
   ]
  },
  {
   "cell_type": "code",
   "execution_count": 109,
   "metadata": {},
   "outputs": [],
   "source": [
    "a, b = results.params"
   ]
  },
  {
   "cell_type": "code",
   "execution_count": 110,
   "metadata": {},
   "outputs": [
    {
     "data": {
      "image/png": "[encoded data removed]",
      "text/plain": [
       "<matplotlib.figure.Figure at 0x201d1215f8>"
      ]
     },
     "metadata": {
      "image/png": {
       "height": 250,
       "width": 371
      }
     },
     "output_type": "display_data"
    }
   ],
   "source": [
    "plt.scatter(diffs, stds)\n",
    "plt.plot(diffs, a+b*np.array(diffs))\n",
    "plt.show()"
   ]
  },
  {
   "cell_type": "code",
   "execution_count": 111,
   "metadata": {},
   "outputs": [
    {
     "data": {
      "text/plain": [
       "array([ 0.85328168,  0.14793591])"
      ]
     },
     "execution_count": 111,
     "metadata": {},
     "output_type": "execute_result"
    }
   ],
   "source": [
    "results.pvalues"
   ]
  },
  {
   "cell_type": "code",
   "execution_count": null,
   "metadata": {},
   "outputs": [],
   "source": []
  }
 ],
 "metadata": {
  "kernelspec": {
   "display_name": "Python 3",
   "language": "python",
   "name": "python3"
  },
  "language_info": {
   "codemirror_mode": {
    "name": "ipython",
    "version": 3
   },
   "file_extension": ".py",
   "mimetype": "text/x-python",
   "name": "python",
   "nbconvert_exporter": "python",
   "pygments_lexer": "ipython3",
   "version": "3.5.4"
  }
 },
 "nbformat": 4,
 "nbformat_minor": 2
}
