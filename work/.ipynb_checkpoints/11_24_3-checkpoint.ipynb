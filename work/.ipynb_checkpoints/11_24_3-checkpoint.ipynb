{
 "cells": [
  {
   "cell_type": "code",
   "execution_count": 1,
   "metadata": {},
   "outputs": [],
   "source": [
    "import pandas as pd\n",
    "import numpy as np\n",
    "import re\n",
    "import os, sys\n",
    "import matplotlib.pyplot as plt\n",
    "import seaborn as sns\n",
    "from collections import Counter, defaultdict\n",
    "from itertools import product\n",
    "from scipy import stats\n",
    "\n",
    "%matplotlib inline\n",
    "plt.style.use('ggplot')\n",
    "#plt.style.use('seaborn-pastel')\n",
    "%config InlineBackend.figure_format = 'retina'\n",
    "import warnings\n",
    "warnings.filterwarnings('ignore')\n",
    "from tqdm import tqdm_notebook as tq\n",
    "\n",
    "sys.path.append(\"..\")\n",
    "from utils.util_functions import *"
   ]
  },
  {
   "cell_type": "markdown",
   "metadata": {},
   "source": [
    "# 流れがいい時だけ取り出して得点の分散との関係を見る"
   ]
  },
  {
   "cell_type": "code",
   "execution_count": 2,
   "metadata": {},
   "outputs": [],
   "source": [
    "def is_improved(before, after):\n",
    "    if before[0] == after[0]:\n",
    "        if int(before[::-1][:-1]) <= int(after[::-1][:-1]):\n",
    "            return True\n",
    "    return False\n",
    "\n",
    "def is_deteriorated(before, after):\n",
    "    if int(before[0]) < int(after):\n",
    "        if int(before[::-1][:-1]) >= int(after[::-1][:-1]):\n",
    "            return True\n",
    "    return False"
   ]
  },
  {
   "cell_type": "code",
   "execution_count": 65,
   "metadata": {},
   "outputs": [],
   "source": [
    "test = [\n",
    "    [\"0000\", \"1000\", True],\n",
    "    [\"0000\", \"0100\", False],\n",
    "    [\"1100\", \"2010\", False],\n",
    "    [\"1100\", \"1110\", False],\n",
    "]"
   ]
  },
  {
   "cell_type": "code",
   "execution_count": 66,
   "metadata": {},
   "outputs": [],
   "source": [
    "for [before, after, res] in test:\n",
    "    if is_deteriorated(before, after) == res:\n",
    "        pass\n",
    "    else:\n",
    "        print([before, after, res])"
   ]
  },
  {
   "cell_type": "code",
   "execution_count": 77,
   "metadata": {},
   "outputs": [],
   "source": [
    "event_df = make_df(\"20180101\", \"20181231\")"
   ]
  },
  {
   "cell_type": "code",
   "execution_count": 78,
   "metadata": {},
   "outputs": [],
   "source": [
    "team = \"ロッテ\"\n",
    "lst = make_flattened_list(make_inning_triple(make_inning_list(event_df[event_df.攻撃チーム==team])))"
   ]
  },
  {
   "cell_type": "code",
   "execution_count": 79,
   "metadata": {},
   "outputs": [],
   "source": [
    "improved_lst = [elem for elem in lst if is_improved(elem[0], elem[1])]"
   ]
  },
  {
   "cell_type": "code",
   "execution_count": 80,
   "metadata": {},
   "outputs": [
    {
     "data": {
      "text/plain": [
       "(1494, 4000)"
      ]
     },
     "execution_count": 80,
     "metadata": {},
     "output_type": "execute_result"
    }
   ],
   "source": [
    "len(improved_lst), len(lst)"
   ]
  },
  {
   "cell_type": "code",
   "execution_count": 81,
   "metadata": {},
   "outputs": [],
   "source": [
    "second_cond_entropy = cond_entropy(pd.DataFrame(improved_lst)[2].values, pd.DataFrame(improved_lst)[[0, 1]].values)\n",
    "first_cond_entropy = cond_entropy(pd.DataFrame(improved_lst)[2].values, pd.DataFrame(improved_lst)[[1]].values)"
   ]
  },
  {
   "cell_type": "code",
   "execution_count": 82,
   "metadata": {},
   "outputs": [
    {
     "data": {
      "text/plain": [
       "1.4422576293260594"
      ]
     },
     "execution_count": 82,
     "metadata": {},
     "output_type": "execute_result"
    }
   ],
   "source": [
    "second_cond_entropy"
   ]
  },
  {
   "cell_type": "code",
   "execution_count": 83,
   "metadata": {},
   "outputs": [
    {
     "data": {
      "text/plain": [
       "1.5617323451379477"
      ]
     },
     "execution_count": 83,
     "metadata": {},
     "output_type": "execute_result"
    }
   ],
   "source": [
    "first_cond_entropy"
   ]
  },
  {
   "cell_type": "code",
   "execution_count": 84,
   "metadata": {},
   "outputs": [],
   "source": [
    "column = \"得点\""
   ]
  },
  {
   "cell_type": "code",
   "execution_count": 89,
   "metadata": {
    "scrolled": true
   },
   "outputs": [
    {
     "name": "stdout",
     "output_type": "stream",
     "text": [
      "西武 -0.10179032068968841 3.46452910947\n",
      "ソフトバンク -0.089414622760289 3.19062218542\n",
      "日本ハム -0.08400378484355508 2.99808120277\n",
      "オリックス -0.09048961809240619 2.86439522962\n",
      "ロッテ -0.09913591208737693 2.72549398464\n",
      "楽天 -0.08917703771208685 2.87909948565\n",
      "広島 -0.10434874360639457 3.1490932408\n",
      "ヤクルト -0.09155922865863175 2.91726519115\n",
      "巨人 -0.07710201629454327 3.27865168571\n",
      "ＤｅＮＡ -0.07286362780178757 2.79709599974\n",
      "中日 -0.09488352933846134 2.9345880116\n",
      "阪神 -0.0876222136286986 3.62989803137\n"
     ]
    }
   ],
   "source": [
    "diffs = []\n",
    "stds = []\n",
    "for team in pacific+central:\n",
    "    lst = make_flattened_list(make_inning_triple(make_inning_list(event_df[event_df.攻撃チーム==team])))\n",
    "    #improved_lst = [elem for elem in lst if is_improved(elem[0], elem[1])]\n",
    "    improved_lst = [elem for elem in lst if is_deteriorated(elem[0], elem[1])]\n",
    "    # H(St+1 | St, St-1)\n",
    "    second_cond_entropy = cond_entropy(pd.DataFrame(improved_lst)[2].values, pd.DataFrame(improved_lst)[[0, 1]].values)\n",
    "    # H(St+1 | St)\n",
    "    first_cond_entropy = cond_entropy(pd.DataFrame(improved_lst)[2].values, pd.DataFrame(improved_lst)[[1]].values)\n",
    "    std = make_score_df(team).describe()[column][\"std\"] #/ make_score_df(team).describe()[column][\"mean\"]\n",
    "    diffs.append(second_cond_entropy - first_cond_entropy)\n",
    "    stds.append(std)\n",
    "    print(team, second_cond_entropy - first_cond_entropy, std)"
   ]
  },
  {
   "cell_type": "code",
   "execution_count": 90,
   "metadata": {},
   "outputs": [
    {
     "data": {
      "text/plain": [
       "<matplotlib.collections.PathCollection at 0x2227bade80>"
      ]
     },
     "execution_count": 90,
     "metadata": {},
     "output_type": "execute_result"
    },
    {
     "data": {
      "image/png": "[encoded data removed]",
      "text/plain": [
       "<matplotlib.figure.Figure at 0x2227cd4518>"
      ]
     },
     "metadata": {
      "image/png": {
       "height": 250,
       "width": 374
      }
     },
     "output_type": "display_data"
    }
   ],
   "source": [
    "plt.scatter(diffs[:6], stds[:6], color=\"red\")\n",
    "plt.scatter(diffs[6:], stds[6:], color=\"blue\")"
   ]
  },
  {
   "cell_type": "code",
   "execution_count": 91,
   "metadata": {},
   "outputs": [
    {
     "data": {
      "image/png": "[encoded data removed]",
      "text/plain": [
       "<matplotlib.figure.Figure at 0x2227a13588>"
      ]
     },
     "metadata": {
      "image/png": {
       "height": 250,
       "width": 374
      }
     },
     "output_type": "display_data"
    }
   ],
   "source": [
    "import statsmodels.api as sm\n",
    "\n",
    "nsample = len(diffs)\n",
    "X = np.column_stack((np.repeat(1, nsample), diffs))\n",
    "\n",
    "model = sm.OLS(stds, X)\n",
    "results = model.fit()\n",
    "\n",
    "a, b = results.params\n",
    "\n",
    "plt.scatter(diffs, stds)\n",
    "plt.plot(diffs, a+b*np.array(diffs))\n",
    "plt.show()"
   ]
  },
  {
   "cell_type": "code",
   "execution_count": 92,
   "metadata": {},
   "outputs": [
    {
     "data": {
      "text/plain": [
       "array([ 0.00809077,  0.76069986])"
      ]
     },
     "execution_count": 92,
     "metadata": {},
     "output_type": "execute_result"
    }
   ],
   "source": [
    "results.pvalues"
   ]
  },
  {
   "cell_type": "markdown",
   "metadata": {},
   "source": [
    "# MLB"
   ]
  },
  {
   "cell_type": "code",
   "execution_count": 3,
   "metadata": {},
   "outputs": [],
   "source": [
    "files = os.listdir(DETAIL_DATA_DIR_MLB)[1:]\n",
    "res = []\n",
    "for file in files:\n",
    "    res.append(pd.read_csv(os.path.join(DETAIL_DATA_DIR_MLB, file), encoding=\"cp932\", dtype=str).values.tolist())"
   ]
  },
  {
   "cell_type": "code",
   "execution_count": 4,
   "metadata": {},
   "outputs": [
    {
     "name": "stdout",
     "output_type": "stream",
     "text": [
      "ng\n"
     ]
    }
   ],
   "source": [
    "inning_list = []\n",
    "for elem in res:\n",
    "    try:\n",
    "        inning_list.append(np.array(elem)[:, 1].tolist() + [\"GAMESET\"])\n",
    "    except:\n",
    "        print(\"ng\")"
   ]
  },
  {
   "cell_type": "code",
   "execution_count": 5,
   "metadata": {
    "scrolled": true
   },
   "outputs": [],
   "source": [
    "event_df = make_df(data_dir=DETAIL_DATA_DIR_MLB)"
   ]
  },
  {
   "cell_type": "code",
   "execution_count": 6,
   "metadata": {},
   "outputs": [],
   "source": [
    "column = \"得点\"\n",
    "teams_mlb = list(set(pd.read_csv(os.path.join(SCORE_DATA_DIR_MLB, \"score_mlb.csv\"), encoding=\"cp932\", index_col=0).表チーム))\n",
    "teams_mlb.remove(\"ア・リーグ\")"
   ]
  },
  {
   "cell_type": "code",
   "execution_count": 7,
   "metadata": {},
   "outputs": [],
   "source": [
    "def make_score_df_mlb(team):\n",
    "    res = []\n",
    "    columns = [\"相手\", \"得点\", \"失点\"]\n",
    "    df = pd.read_csv(os.path.join(SCORE_DATA_DIR_MLB, \"score_mlb.csv\"), encoding=\"cp932\", index_col=0)\n",
    "    df_top = df[df[\"表チーム\"]==team]\n",
    "    df_bot = df[df[\"裏チーム\"]==team]\n",
    "    for elem in df_top.values:\n",
    "        res.append([elem[1], elem[2], elem[3]])\n",
    "    for elem in df_bot.values:\n",
    "        res.append([elem[0], elem[3], elem[2]])\n",
    "    return pd.DataFrame(res, columns=columns)"
   ]
  },
  {
   "cell_type": "code",
   "execution_count": 59,
   "metadata": {},
   "outputs": [
    {
     "data": {
      "text/plain": [
       "[('1000', '1000', '0101'),\n",
       " ('0000', '0000', '1001'),\n",
       " ('0000', '0010', '2000'),\n",
       " ('0000', '0100', '1000'),\n",
       " ('0000', '0000', '0000'),\n",
       " ('0000', '0000', '0000'),\n",
       " ('0000', '0000', '0000'),\n",
       " ('0000', '0000', '0100'),\n",
       " ('0000', '0100', '2100'),\n",
       " ('0000', '0000', '0000'),\n",
       " ('0000', '0000', '1110'),\n",
       " ('0000', '0000', '2000'),\n",
       " ('0000', '0000', '0100'),\n",
       " ('0000', '0100', '1000'),\n",
       " ('0000', '0000', '2110'),\n",
       " ('2000', '2110', '2000'),\n",
       " ('2000', '2000', '2100'),\n",
       " ('2000', '2100', '0000'),\n",
       " ('1000', '1000', '1000'),\n",
       " ('1000', '1000', '0000'),\n",
       " ('0000', '0000', '0000'),\n",
       " ('0000', '0000', '2100'),\n",
       " ('1000', '1000', '0000'),\n",
       " ('0000', '0010', '0000'),\n",
       " ('0000', '0000', '1100'),\n",
       " ('0000', '0000', '2000'),\n",
       " ('0010', '0010', '0000'),\n",
       " ('0000', '0000', '0000'),\n",
       " ('0000', '0000', '1100'),\n",
       " ('1100', '1110', '0000'),\n",
       " ('0000', '0000', '2000'),\n",
       " ('0000', '0000', '1010'),\n",
       " ('0000', '0000', '1001'),\n",
       " ('2000', '2010', '0000'),\n",
       " ('0100', '0100', '1001'),\n",
       " ('0000', '0000', '1000'),\n",
       " ('2000', '2000', '0000'),\n",
       " ('2000', '2000', '0000'),\n",
       " ('2000', '2100', '0000'),\n",
       " ('0000', '0000', '2101'),\n",
       " ('2000', '2000', '0000'),\n",
       " ('0000', '0000', '0000'),\n",
       " ('0000', '0000', '0000'),\n",
       " ('0000', '0000', '1000'),\n",
       " ('1000', '1000', '0000'),\n",
       " ('0000', '0000', '2110'),\n",
       " ('0000', '0100', '1101'),\n",
       " ('0000', '0000', '2101'),\n",
       " ('0000', '0000', '1000'),\n",
       " ('0000', '0000', '0000'),\n",
       " ('0000', '0000', '2110'),\n",
       " ('0000', '0000', '1000'),\n",
       " ('0000', '0000', '0000'),\n",
       " ('0000', '0000', '1100'),\n",
       " ('0000', '0000', '1100'),\n",
       " ('2000', '2010', '0000'),\n",
       " ('0000', '0111', '0000'),\n",
       " ('0000', '0000', '2000'),\n",
       " ('2000', '2000', '2000'),\n",
       " ('2000', '2000', '0000'),\n",
       " ('1100', '1011', '0000'),\n",
       " ('0000', '0000', '0000'),\n",
       " ('0000', '0000', '1100'),\n",
       " ('0000', '0000', '0000'),\n",
       " ('0000', '0000', '2000'),\n",
       " ('2100', '2100', '0000'),\n",
       " ('0000', '0000', '1111'),\n",
       " ('1100', '1100', '0000'),\n",
       " ('1000', '1000', '1000'),\n",
       " ('1000', '1000', '0000'),\n",
       " ('0000', '0000', '0000'),\n",
       " ('0000', '0000', '0100'),\n",
       " ('0000', '0100', '0000'),\n",
       " ('0000', '0100', '2101'),\n",
       " ('2000', '2110', '0000'),\n",
       " ('2000', '2100', '0101'),\n",
       " ('2000', '2010', '1111'),\n",
       " ('0000', '0100', '1101'),\n",
       " ('1000', '1000', '0000'),\n",
       " ('0000', '0100', '0000'),\n",
       " ('0000', '0000', '1100'),\n",
       " ('0000', '0100', '1110'),\n",
       " ('0000', '0101', '0000'),\n",
       " ('0000', '0000', '0000'),\n",
       " ('0000', '0000', '2010'),\n",
       " ('0000', '0100', '0000'),\n",
       " ('0000', '0000', '2000'),\n",
       " ('2000', '2100', '0000'),\n",
       " ('0000', '0000', '2100'),\n",
       " ('0000', '0111', '0000'),\n",
       " ('0000', '0101', '0000'),\n",
       " ('0000', '0010', '1000'),\n",
       " ('1000', '1110', '2000'),\n",
       " ('2000', '2010', '0000'),\n",
       " ('0000', '0000', '2000'),\n",
       " ('0000', '0010', '2000'),\n",
       " ('2000', '2000', '0000'),\n",
       " ('2100', '2101', '0000'),\n",
       " ('1000', '1010', '0000'),\n",
       " ('0000', '0100', '1000'),\n",
       " ('0000', '0100', '2000'),\n",
       " ('0000', '0000', '2110'),\n",
       " ('2000', '2110', '1000'),\n",
       " ('2100', '2111', '1010'),\n",
       " ('0000', '0100', '2000'),\n",
       " ('0000', '0000', '0000'),\n",
       " ('0000', '0000', '0000'),\n",
       " ('0000', '0000', '1000'),\n",
       " ('1000', '1011', '2110'),\n",
       " ('0000', '0000', '2010'),\n",
       " ('0000', '0000', '1000'),\n",
       " ('0000', '0100', '0000'),\n",
       " ('0000', '0100', '1000'),\n",
       " ('0000', '0000', '1101'),\n",
       " ('1101', '1111', '0000'),\n",
       " ('0000', '0000', '1100'),\n",
       " ('0000', '0000', '0000'),\n",
       " ('0000', '0000', '2000'),\n",
       " ('2010', '2110', '0000'),\n",
       " ('0000', '0100', '0000'),\n",
       " ('0000', '0000', '0000'),\n",
       " ('0000', '0000', '0000'),\n",
       " ('0000', '0000', '1000'),\n",
       " ('1000', '1000', '2111'),\n",
       " ('2000', '2000', '2000'),\n",
       " ('2000', '2000', '1010'),\n",
       " ('0000', '0111', '0000'),\n",
       " ('0000', '0000', '1000'),\n",
       " ('1000', '1010', '2100'),\n",
       " ('0000', '0100', '2010'),\n",
       " ('1100', '1100', '0000'),\n",
       " ('2100', '2110', '2011'),\n",
       " ('2110', '2011', '1000'),\n",
       " ('2000', '2000', '0000'),\n",
       " ('2000', '2000', '2000'),\n",
       " ('2000', '2000', '0000'),\n",
       " ('1000', '1010', '0100'),\n",
       " ('0000', '0000', '1000'),\n",
       " ('1000', '1100', '2001'),\n",
       " ('0000', '0000', '0000'),\n",
       " ('0000', '0000', '2100'),\n",
       " ('2100', '2010', '0000'),\n",
       " ('2000', '2100', '0000'),\n",
       " ('0000', '0000', '2010'),\n",
       " ('2010', '2010', '0000'),\n",
       " ('0000', '0000', '2000'),\n",
       " ('0000', '0000', '2110'),\n",
       " ('0000', '0000', '1000'),\n",
       " ('0000', '0100', '0000'),\n",
       " ('0000', '0000', '0000'),\n",
       " ('0000', '0000', '0000'),\n",
       " ('0000', '0000', '1011'),\n",
       " ('0000', '0000', '0000'),\n",
       " ('0000', '0000', '0000'),\n",
       " ('0000', '0000', '0000'),\n",
       " ('0000', '0000', '2000'),\n",
       " ('0000', '0000', '2000'),\n",
       " ('2000', '2010', '0000'),\n",
       " ('0000', '0000', '0000'),\n",
       " ('0000', '0000', '0100'),\n",
       " ('0000', '0100', '1000'),\n",
       " ('0000', '0000', '0000'),\n",
       " ('0000', '0000', '0000'),\n",
       " ('0000', '0000', '0000'),\n",
       " ('0000', '0000', '0000'),\n",
       " ('0000', '0000', '1000'),\n",
       " ('1000', '1000', '1010'),\n",
       " ('1000', '1010', '0000'),\n",
       " ('0000', '0000', '2000'),\n",
       " ('0000', '0000', '0000'),\n",
       " ('0000', '0000', '0000'),\n",
       " ('0000', '0000', '0000'),\n",
       " ('0000', '0000', '1100'),\n",
       " ('0000', '0000', '2011'),\n",
       " ('0000', '0000', '2000'),\n",
       " ('0000', '0100', '0000'),\n",
       " ('0000', '0000', '0110'),\n",
       " ('0000', '0110', '0100'),\n",
       " ('0000', '0000', '1010'),\n",
       " ('0000', '0100', '1111'),\n",
       " ('0000', '0000', '2000'),\n",
       " ('1000', '1100', '0000'),\n",
       " ('1000', '1000', '0000'),\n",
       " ('0000', '0000', '0000'),\n",
       " ('0000', '0000', '2000'),\n",
       " ('2000', '2100', '0000'),\n",
       " ('0000', '0000', '1000'),\n",
       " ('2010', '2011', '0000'),\n",
       " ('1100', '1100', '0100'),\n",
       " ('0000', '0000', '0000'),\n",
       " ('0000', '0000', '2000'),\n",
       " ('2000', '2000', '0000'),\n",
       " ('0000', '0000', '2100'),\n",
       " ('1000', '1000', '0000'),\n",
       " ('0000', '0110', '0000'),\n",
       " ('0000', '0000', '0000'),\n",
       " ('0000', '0000', '1000'),\n",
       " ('1000', '1000', '0000'),\n",
       " ('0000', '0000', '1100'),\n",
       " ('2110', '2110', '2000'),\n",
       " ('0000', '0000', '1000'),\n",
       " ('1000', '1000', '2000'),\n",
       " ('1100', '1011', '1000'),\n",
       " ('0000', '0000', '0100'),\n",
       " ('0000', '0100', '0000'),\n",
       " ('1000', '1011', '2010'),\n",
       " ('1000', '1000', '0000'),\n",
       " ('0000', '0000', '0000'),\n",
       " ('0000', '0000', '0000'),\n",
       " ('0000', '0000', '1000'),\n",
       " ('0000', '0000', '0000'),\n",
       " ('0000', '0000', '1000'),\n",
       " ('1000', '1101', '0000'),\n",
       " ('2000', '2001', '1100'),\n",
       " ('0000', '0000', '0000'),\n",
       " ('0000', '0000', '2000'),\n",
       " ('0000', '0100', '1010'),\n",
       " ('0000', '0000', '0000'),\n",
       " ('0000', '0000', '2000'),\n",
       " ('0000', '0000', '0000'),\n",
       " ('0000', '0000', '1000'),\n",
       " ('1000', '1000', '2100'),\n",
       " ('2100', '2110', '0000'),\n",
       " ('0000', '0000', '0000'),\n",
       " ('0000', '0000', '1000'),\n",
       " ('0000', '0000', '1000'),\n",
       " ('0000', '0000', '0010'),\n",
       " ('0000', '0010', '0000'),\n",
       " ('0000', '0010', '2110'),\n",
       " ('2110', '2011', '2000'),\n",
       " ('0000', '0000', '0000'),\n",
       " ('0000', '0000', '1000'),\n",
       " ('1000', '1000', '1000'),\n",
       " ('1000', '1000', '0000'),\n",
       " ('0000', '0000', '0000'),\n",
       " ('0000', '0000', '0000'),\n",
       " ('0000', '0000', '2000'),\n",
       " ('2000', '2110', '2101'),\n",
       " ('2110', '2101', '2010'),\n",
       " ('0000', '0000', '2000'),\n",
       " ('0000', '0110', '2000'),\n",
       " ('0000', '0000', '0100'),\n",
       " ('0000', '0100', '1000'),\n",
       " ('1000', '1110', '0000'),\n",
       " ('2000', '2000', '2000'),\n",
       " ('2000', '2000', '0000'),\n",
       " ('0000', '0000', '0000'),\n",
       " ('0000', '0000', '0000'),\n",
       " ('0000', '0000', '0000'),\n",
       " ('0000', '0000', '2110'),\n",
       " ('0000', '0000', '2000'),\n",
       " ('2000', '2100', '2101'),\n",
       " ('2100', '2101', '0000'),\n",
       " ('1000', '1010', '2000'),\n",
       " ('0000', '0000', '0110'),\n",
       " ('0000', '0110', '1000'),\n",
       " ('2000', '2110', '0000'),\n",
       " ('1000', '1100', '0000'),\n",
       " ('0000', '0000', '1000'),\n",
       " ('0000', '0000', '1100'),\n",
       " ('1000', '1000', '1100'),\n",
       " ('1000', '1100', '0000'),\n",
       " ('0000', '0100', '1100'),\n",
       " ('0000', '0000', '0010'),\n",
       " ('0000', '0010', '0010'),\n",
       " ('0010', '0010', '0000'),\n",
       " ('0000', '0100', '0000'),\n",
       " ('0100', '0100', '1000'),\n",
       " ('0000', '0100', '2101'),\n",
       " ('1000', '1100', '0110'),\n",
       " ('0000', '0000', '2001'),\n",
       " ('1100', '1101', '2100'),\n",
       " ('2100', '2100', '0000'),\n",
       " ('1100', '1010', '1000'),\n",
       " ('0000', '0000', '2100'),\n",
       " ('2100', '2110', '0000'),\n",
       " ('0000', '0000', '2001'),\n",
       " ('1000', '1000', '0000'),\n",
       " ('2100', '2100', '0000'),\n",
       " ('0000', '0011', '0000'),\n",
       " ('2000', '2000', '0000'),\n",
       " ('0000', '0000', '0000'),\n",
       " ('0000', '0000', '2010'),\n",
       " ('0000', '0101', '0100'),\n",
       " ('2000', '2000', '0101'),\n",
       " ('0000', '0010', '2101'),\n",
       " ('1100', '1100', '0000'),\n",
       " ('0000', '0000', '0000'),\n",
       " ('0000', '0000', '2010'),\n",
       " ('0000', '0000', '2000'),\n",
       " ('2000', '2100', '0000'),\n",
       " ('0000', '0000', '2011'),\n",
       " ('0000', '0000', '1110'),\n",
       " ('0000', '0000', '1000'),\n",
       " ('1000', '1000', '2001'),\n",
       " ('0000', '0000', '1000'),\n",
       " ('0000', '0100', '0000'),\n",
       " ('0000', '0000', '2101'),\n",
       " ('2000', '2000', '2000'),\n",
       " ('2000', '2000', '0000'),\n",
       " ('2000', '2100', '0000'),\n",
       " ('0000', '0000', '2110'),\n",
       " ('0000', '0100', '0000'),\n",
       " ('0000', '0000', '0000'),\n",
       " ('0000', '0000', '2000'),\n",
       " ('2100', '2110', '0000'),\n",
       " ('0000', '0000', '2100'),\n",
       " ('0000', '0100', '1000'),\n",
       " ('1000', '1000', '2100'),\n",
       " ('2100', '2100', '0000'),\n",
       " ('0000', '0000', '0010'),\n",
       " ('0000', '0010', '0000'),\n",
       " ('0000', '0000', '0110'),\n",
       " ('0000', '0110', '0000'),\n",
       " ('2000', '2000', '2000'),\n",
       " ('2000', '2000', '0000'),\n",
       " ('0000', '0000', '2100'),\n",
       " ('0000', '0000', '1000'),\n",
       " ('0000', '0000', '2000'),\n",
       " ('1100', '1101', '1000'),\n",
       " ('1000', '1010', '2100'),\n",
       " ('1000', '1100', '2000'),\n",
       " ('2000', '2100', '1000'),\n",
       " ('0000', '0100', '1000'),\n",
       " ('0000', '0000', '1000'),\n",
       " ('1000', '1000', '1000'),\n",
       " ('1000', '1000', '2110'),\n",
       " ('1000', '1000', '2000'),\n",
       " ('2000', '2000', '2100'),\n",
       " ('2000', '2100', '2010'),\n",
       " ('2100', '2010', '1000'),\n",
       " ('0000', '0000', '2000'),\n",
       " ('1000', '1110', '1010'),\n",
       " ('0000', '0000', '0000'),\n",
       " ('0000', '0000', '0010'),\n",
       " ('0000', '0010', '2000'),\n",
       " ('1000', '1000', '2011'),\n",
       " ('1100', '1100', '0010'),\n",
       " ('1000', '1000', '1101'),\n",
       " ('1000', '1101', '0100'),\n",
       " ('0000', '0100', '0000'),\n",
       " ('1000', '1000', '1000'),\n",
       " ('1000', '1000', '1000'),\n",
       " ('1000', '1000', '2011'),\n",
       " ('1000', '1000', '0000'),\n",
       " ('0000', '0000', '1110'),\n",
       " ('0000', '0000', '1000'),\n",
       " ('0000', '0010', '0000'),\n",
       " ('0000', '0100', '2000'),\n",
       " ('2000', '2010', '1000'),\n",
       " ('1000', '1000', '2110'),\n",
       " ('1000', '1000', '0100'),\n",
       " ('0100', '0010', '2000'),\n",
       " ('0000', '0100', '0000'),\n",
       " ('2000', '2000', '1000'),\n",
       " ('1000', '1000', '2000'),\n",
       " ('2000', '2010', '1000'),\n",
       " ('0100', '0110', '2101'),\n",
       " ('0000', '0100', '1000'),\n",
       " ('1000', '1000', '0100'),\n",
       " ('1000', '1000', '2000'),\n",
       " ('1000', '1000', '1000'),\n",
       " ('1000', '1000', '2010'),\n",
       " ('1000', '1000', '1110'),\n",
       " ('1000', '1110', '2110'),\n",
       " ('0000', '0000', '1000'),\n",
       " ('1000', '1111', '1000'),\n",
       " ('1000', '1000', '2100'),\n",
       " ('0000', '0000', '1000'),\n",
       " ('1000', '1000', '1000'),\n",
       " ('1000', '1000', '0000'),\n",
       " ('1000', '1000', '2100'),\n",
       " ('0000', '0000', '0000'),\n",
       " ('0000', '0000', '2000'),\n",
       " ('2000', '2000', '1000'),\n",
       " ('0000', '0100', '1110'),\n",
       " ('1000', '1000', '1000'),\n",
       " ('1000', '1000', '0101'),\n",
       " ('2000', '2000', '2000'),\n",
       " ('2000', '2000', '0010'),\n",
       " ('0010', '0110', '2101'),\n",
       " ('0000', '0100', '2110'),\n",
       " ('2100', '2110', '2000'),\n",
       " ('1000', '1100', '1110'),\n",
       " ('1100', '1110', '1010'),\n",
       " ('1000', '1000', '2000'),\n",
       " ('0100', '0100', '2010'),\n",
       " ('1000', '1000', '1000'),\n",
       " ('1000', '1000', '2010'),\n",
       " ('1000', '1000', '2010'),\n",
       " ('0000', '0000', '1000'),\n",
       " ('1000', '1000', '1000'),\n",
       " ('1000', '1000', '1000'),\n",
       " ('1000', '1000', '1011'),\n",
       " ('1000', '1011', '1000'),\n",
       " ('0000', '0000', '2101'),\n",
       " ('1000', '1010', '2000'),\n",
       " ('2000', '2110', '0100'),\n",
       " ('0000', '0000', '1000'),\n",
       " ('1000', '1000', '2100'),\n",
       " ('0000', '0010', '2100'),\n",
       " ('2110', '2110', '1000'),\n",
       " ('2000', '2001', '0100'),\n",
       " ('1000', '1110', '1000'),\n",
       " ('1000', '1100', '2000'),\n",
       " ('2000', '2100', '2110'),\n",
       " ('2100', '2110', '0100'),\n",
       " ('0100', '0110', '0000'),\n",
       " ('0000', '0010', '1000'),\n",
       " ('0000', '0000', '2111'),\n",
       " ('1000', '1000', '1000'),\n",
       " ('1000', '1000', '1000'),\n",
       " ('1000', '1000', '1100'),\n",
       " ('1000', '1100', '0110'),\n",
       " ('0100', '0110', '1000'),\n",
       " ('1000', '1100', '1100'),\n",
       " ('1100', '1100', '1000'),\n",
       " ('2110', '2011', '0000'),\n",
       " ('0000', '0100', '1100'),\n",
       " ('0000', '0000', '2111'),\n",
       " ('1000', '1000', '1000'),\n",
       " ('1000', '1000', '0000'),\n",
       " ('2000', '2000', '0000'),\n",
       " ('0000', '0100', '0000'),\n",
       " ('0000', '0000', '0000'),\n",
       " ('0000', '0000', '2001'),\n",
       " ('0000', '0011', '2100'),\n",
       " ('1000', '1110', '2110'),\n",
       " ('1000', '1100', '2001'),\n",
       " ('2001', '2011', '1100'),\n",
       " ('0000', '0000', '0000'),\n",
       " ('0000', '0000', '2000'),\n",
       " ('2000', '2100', '0000'),\n",
       " ('1000', '1000', '1000'),\n",
       " ('1000', '1000', '0000'),\n",
       " ('0000', '0000', '1000'),\n",
       " ('2110', '2110', '1000'),\n",
       " ('1000', '1000', '0000'),\n",
       " ('0000', '0000', '0100'),\n",
       " ('0000', '0100', '0010'),\n",
       " ('0100', '0010', '0000'),\n",
       " ('0000', '0000', '1000'),\n",
       " ('1000', '1100', '1000'),\n",
       " ('1000', '1000', '0000'),\n",
       " ('0000', '0110', '2110'),\n",
       " ('1000', '1000', '2000'),\n",
       " ('2000', '2000', '2000'),\n",
       " ('2000', '2000', '0100'),\n",
       " ('1000', '1000', '1000'),\n",
       " ('1000', '1000', '1000'),\n",
       " ('1000', '1000', '2001'),\n",
       " ('1000', '1011', '0100'),\n",
       " ('1000', '1000', '2100'),\n",
       " ('1000', '1000', '2100'),\n",
       " ('0000', '0000', '1000'),\n",
       " ('1000', '1000', '0110'),\n",
       " ('0000', '0100', '1000'),\n",
       " ('1000', '1000', '1000'),\n",
       " ('1000', '1000', '1000'),\n",
       " ('1000', '1000', '2000'),\n",
       " ('1000', '1001', '1000'),\n",
       " ('1000', '1111', '2111'),\n",
       " ('1000', '1000', '0000'),\n",
       " ('1000', '1000', '0000'),\n",
       " ('1000', '1010', '1000'),\n",
       " ('2100', '2100', '1000'),\n",
       " ('2100', '2010', '0000'),\n",
       " ('0000', '0000', '2000'),\n",
       " ('0000', '0000', '0001'),\n",
       " ('0000', '0001', '0000'),\n",
       " ('0000', '0100', '1000'),\n",
       " ('0000', '0000', '1111'),\n",
       " ('1000', '1100', '0100'),\n",
       " ('0000', '0111', '2000'),\n",
       " ('1000', '1000', '1101'),\n",
       " ('1000', '1101', '0100'),\n",
       " ('0100', '0010', '1000'),\n",
       " ('1000', '1000', '1101'),\n",
       " ('1000', '1101', '1000'),\n",
       " ('2000', '2000', '1000'),\n",
       " ('0010', '0010', '0000'),\n",
       " ('2000', '2110', '1000'),\n",
       " ('0000', '0100', '0000'),\n",
       " ('1000', '1110', '0000'),\n",
       " ('1000', '1000', '0000'),\n",
       " ('0000', '0000', '1000'),\n",
       " ('1000', '1000', '0000'),\n",
       " ('1000', '1110', '0010'),\n",
       " ('1000', '1000', '2000'),\n",
       " ('1000', '1000', '1110'),\n",
       " ('1000', '1110', '0000'),\n",
       " ('1000', '1000', '2000'),\n",
       " ('1000', '1100', '1000'),\n",
       " ('0000', '0000', '2010'),\n",
       " ('2000', '2011', '0000'),\n",
       " ('0000', '0000', '2000'),\n",
       " ('2000', '2000', '1000'),\n",
       " ('1000', '1000', '1000'),\n",
       " ('1000', '1000', '1000'),\n",
       " ('1000', '1000', '2000'),\n",
       " ('2000', '2010', '2000'),\n",
       " ('2100', '2100', '2110'),\n",
       " ('2100', '2110', '1100'),\n",
       " ('2000', '2110', '0000'),\n",
       " ('0000', '0000', '1000'),\n",
       " ('0000', '0010', '2100'),\n",
       " ('1000', '1010', '2000'),\n",
       " ('1000', '1100', '2111'),\n",
       " ('1000', '1000', '1000'),\n",
       " ('1000', '1000', '2000'),\n",
       " ('1000', '1000', '2100'),\n",
       " ('2100', '2110', '1000'),\n",
       " ('1000', '1000', '2000'),\n",
       " ('1000', '1000', '1010'),\n",
       " ('1000', '1010', '1000'),\n",
       " ('0000', '0000', '0000'),\n",
       " ('0000', '0000', '1000'),\n",
       " ('0000', '0010', '0000'),\n",
       " ('1000', '1000', '0010'),\n",
       " ('0010', '0010', '1000'),\n",
       " ('0000', '0000', '2111'),\n",
       " ('0000', '0111', '2100'),\n",
       " ('1000', '1000', '1100'),\n",
       " ('1000', '1100', '2000'),\n",
       " ('2000', '2110', '0010'),\n",
       " ('2100', '2100', '1000'),\n",
       " ('1000', '1100', '1000'),\n",
       " ('1000', '1000', '1000'),\n",
       " ('1000', '1000', '0100'),\n",
       " ('2100', '2010', '2000'),\n",
       " ('2010', '2110', '2111'),\n",
       " ('2110', '2111', '1000'),\n",
       " ('2000', '2001', '0000'),\n",
       " ('1000', '1000', '1110'),\n",
       " ('1000', '1110', '2000'),\n",
       " ('0000', '0000', '1000'),\n",
       " ('1000', '1011', '2000'),\n",
       " ('1000', '1000', '2000'),\n",
       " ('2000', '2000', '0000'),\n",
       " ('1000', '1100', '2100'),\n",
       " ('1000', '1100', '1000'),\n",
       " ('0010', '0110', '2000'),\n",
       " ('0000', '0110', '1000'),\n",
       " ('1110', '1110', '1000'),\n",
       " ('1000', '1000', '0000'),\n",
       " ('0000', '0100', '0000'),\n",
       " ('0000', '0000', '2100'),\n",
       " ('1000', '1000', '0000'),\n",
       " ('0000', '0100', '1100'),\n",
       " ('1000', '1110', '0100'),\n",
       " ('1000', '1000', '2100'),\n",
       " ('2000', '2000', '0100'),\n",
       " ('0000', '0000', '0010'),\n",
       " ('0000', '0010', '1010'),\n",
       " ('1010', '1110', '0100'),\n",
       " ('0000', '0000', '0100'),\n",
       " ('0000', '0100', '1000'),\n",
       " ('1000', '1000', '2110'),\n",
       " ('1000', '1100', '1100'),\n",
       " ('1100', '1100', '0000'),\n",
       " ('1000', '1001', '0000'),\n",
       " ('0000', '0000', '2000'),\n",
       " ('2000', '2100', '1000'),\n",
       " ('1000', '1101', '1000'),\n",
       " ('1000', '1010', '2111'),\n",
       " ('0000', '0000', '1000'),\n",
       " ('1000', '1000', '1000'),\n",
       " ('1000', '1000', '0000'),\n",
       " ('1000', '1000', '0000'),\n",
       " ('0000', '0000', '1000'),\n",
       " ('0000', '0100', '0100'),\n",
       " ('0100', '0100', '0000'),\n",
       " ('1000', '1000', '0000'),\n",
       " ('1000', '1000', '1100'),\n",
       " ('1000', '1100', '2000'),\n",
       " ('2100', '2101', '1000'),\n",
       " ('1000', '1000', '2000'),\n",
       " ('1000', '1000', '2000'),\n",
       " ('0100', '0100', '0000'),\n",
       " ('0000', '0000', '0000'),\n",
       " ('0000', '0000', '0000'),\n",
       " ('0000', '0000', '1000'),\n",
       " ('0000', '0100', '2100'),\n",
       " ('0000', '0100', '1000'),\n",
       " ('2000', '2000', '1000'),\n",
       " ('0100', '0110', '1000'),\n",
       " ('0000', '0000', '0000'),\n",
       " ('0000', '0000', '1000'),\n",
       " ('0000', '0000', '0010'),\n",
       " ('0000', '0010', '1000'),\n",
       " ('1000', '1000', '1010'),\n",
       " ('1000', '1010', '2000'),\n",
       " ('1000', '1010', '0000'),\n",
       " ('0100', '0001', '1001'),\n",
       " ('2010', '2110', '0100'),\n",
       " ('0100', '0100', '1101'),\n",
       " ('0000', '0000', '0000'),\n",
       " ('0000', '0000', '1000'),\n",
       " ('1000', '1000', '0000'),\n",
       " ('0000', '0010', '1000'),\n",
       " ('0000', '0000', '2000'),\n",
       " ('2000', '2000', '0000'),\n",
       " ('0000', '0101', '0000'),\n",
       " ('2000', '2000', '2101'),\n",
       " ('2000', '2101', '2000'),\n",
       " ('0000', '0000', '2110'),\n",
       " ('2000', '2000', '1100'),\n",
       " ('1000', '1000', '1100'),\n",
       " ('1000', '1100', '2000'),\n",
       " ('2000', '2000', '2011'),\n",
       " ('2000', '2011', '2000'),\n",
       " ('2000', '2000', '1000'),\n",
       " ('2000', '2100', '1000'),\n",
       " ('2000', '2000', '2000'),\n",
       " ('2000', '2000', '2000'),\n",
       " ('2000', '2000', '1111'),\n",
       " ('1000', '1010', '0000'),\n",
       " ('1000', '1110', '2100'),\n",
       " ('1000', '1000', '0000'),\n",
       " ('0000', '0000', '2010'),\n",
       " ('1010', '1110', '1100'),\n",
       " ('1100', '1100', '0101'),\n",
       " ('2000', '2000', '2000'),\n",
       " ('2000', '2000', '2101'),\n",
       " ('2000', '2101', '2000'),\n",
       " ('2000', '2000', '1000'),\n",
       " ('0000', '0000', '1000'),\n",
       " ('1000', '1000', '2101'),\n",
       " ('2000', '2011', '0000'),\n",
       " ('0010', '0110', '2100'),\n",
       " ('2000', '2000', '0000'),\n",
       " ('1010', '1001', '0000'),\n",
       " ('1000', '1100', '1000'),\n",
       " ('2000', '2000', '0000'),\n",
       " ('0000', '0000', '2000'),\n",
       " ('0000', '0000', '2000'),\n",
       " ('1000', '1100', '2000'),\n",
       " ('2000', '2100', '1010'),\n",
       " ('2000', '2100', '1010'),\n",
       " ('2000', '2000', '1111'),\n",
       " ('1000', '1000', '2000'),\n",
       " ('1100', '1010', '2110'),\n",
       " ('1000', '1000', '1100'),\n",
       " ('1000', '1100', '0000'),\n",
       " ('2000', '2000', '2000'),\n",
       " ('2000', '2000', '1000'),\n",
       " ('1000', '1000', '3000'),\n",
       " ('0000', '0000', '2100'),\n",
       " ('1000', '1000', '2010'),\n",
       " ('0000', '0000', '1100'),\n",
       " ('1000', '1100', '2110'),\n",
       " ('2000', '2000', '2000'),\n",
       " ('2000', '2000', '0101'),\n",
       " ('2000', '2100', '0110'),\n",
       " ('2000', '2111', '0000'),\n",
       " ('1110', '1110', '2010'),\n",
       " ('2000', '2100', '1100'),\n",
       " ('1100', '1001', '0000'),\n",
       " ('2000', '2000', '2110'),\n",
       " ('2000', '2110', '1000'),\n",
       " ('2000', '2000', '2000'),\n",
       " ('2000', '2000', '1100'),\n",
       " ('2000', '2000', '1000'),\n",
       " ('1100', '1110', '0000'),\n",
       " ('0000', '0000', '0110'),\n",
       " ('0000', '0110', '1000'),\n",
       " ('0000', '0000', '1100'),\n",
       " ('0000', '0100', '1000'),\n",
       " ('0000', '0000', '2000'),\n",
       " ('2000', '2000', '2110'),\n",
       " ('2000', '2110', '1100'),\n",
       " ('1100', '1101', '1100'),\n",
       " ('1000', '1100', '1000'),\n",
       " ('2000', '2100', '2000'),\n",
       " ('2000', '2011', '0110'),\n",
       " ('2000', '2100', '2000'),\n",
       " ('1100', '1111', '1100'),\n",
       " ('2000', '2100', '0000'),\n",
       " ('0000', '0001', '2000'),\n",
       " ('0000', '0100', '2010'),\n",
       " ('1000', '1100', '1001'),\n",
       " ('1100', '1001', '1100'),\n",
       " ('1100', '1110', '1110'),\n",
       " ('1110', '1110', '3000'),\n",
       " ('0000', '0010', '0000'),\n",
       " ('0000', '0000', '0111'),\n",
       " ('0000', '0111', '1000'),\n",
       " ('1000', '1110', '0000'),\n",
       " ('1000', '1100', '0000'),\n",
       " ('0000', '0000', '2000'),\n",
       " ('2010', '2010', '1000'),\n",
       " ('1000', '1010', '1100'),\n",
       " ('1000', '1000', '0000'),\n",
       " ('1100', '1100', '2000'),\n",
       " ('2000', '2000', '0000'),\n",
       " ('1000', '1100', '0100'),\n",
       " ('0100', '0100', '0100'),\n",
       " ('0100', '0100', '1100'),\n",
       " ('0000', '0000', '2000'),\n",
       " ('2000', '2000', '1011'),\n",
       " ('0000', '0010', '0000'),\n",
       " ('1000', '1000', '2000'),\n",
       " ('2100', '2110', '1000'),\n",
       " ('1010', '1010', '1000'),\n",
       " ('1100', '1100', '1000'),\n",
       " ('1000', '1000', '0110'),\n",
       " ('0110', '0110', '1000'),\n",
       " ('0000', '0011', '0000'),\n",
       " ('2000', '2100', '1000'),\n",
       " ('1000', '1110', '2000'),\n",
       " ('1000', '1110', '0000'),\n",
       " ('2000', '2110', '0100'),\n",
       " ('1100', '1010', '1000'),\n",
       " ('2000', '2000', '2000'),\n",
       " ('2000', '2000', '2000'),\n",
       " ('2000', '2000', '0000'),\n",
       " ('2000', '2000', '2110'),\n",
       " ('2000', '2110', '1010'),\n",
       " ('1010', '1010', '2000'),\n",
       " ('1000', '1000', '2000'),\n",
       " ('1100', '1110', '0000'),\n",
       " ('2000', '2000', '2000'),\n",
       " ('2000', '2000', '2000'),\n",
       " ('2000', '2000', '2100'),\n",
       " ('2000', '2100', '2100'),\n",
       " ('2100', '2100', '2100'),\n",
       " ('2100', '2100', '2000'),\n",
       " ('2000', '2000', '1100'),\n",
       " ('2000', '2111', '0000'),\n",
       " ('2000', '2000', '1000'),\n",
       " ('1100', '1100', '2001'),\n",
       " ('2000', '2011', '2100'),\n",
       " ('2000', '2110', '2110'),\n",
       " ('2110', '2110', '0100'),\n",
       " ('2000', '2100', '1100'),\n",
       " ('1000', '1000', '1111'),\n",
       " ('1000', '1111', '2000'),\n",
       " ('2000', '2010', '0110'),\n",
       " ('0000', '0000', '2000'),\n",
       " ('2000', '2000', '1110'),\n",
       " ('2000', '2000', '1011'),\n",
       " ('1010', '1010', '0000'),\n",
       " ('0000', '0000', '0010'),\n",
       " ('0000', '0010', '1000'),\n",
       " ('0000', '0000', '1100'),\n",
       " ('1100', '1100', '0000'),\n",
       " ('1000', '1100', '1000'),\n",
       " ('2000', '2101', '1000'),\n",
       " ('2000', '2000', '1000'),\n",
       " ('1000', '1000', '2000'),\n",
       " ('2000', '2000', '1000'),\n",
       " ('2100', '2100', '2000'),\n",
       " ('0000', '0101', '2000'),\n",
       " ('2000', '2101', '1000'),\n",
       " ('1000', '1010', '1110'),\n",
       " ('1010', '1110', '2000'),\n",
       " ('1000', '1000', '0100'),\n",
       " ('2100', '2100', '1100'),\n",
       " ('1000', '1100', '2000'),\n",
       " ('2000', '2000', '2000'),\n",
       " ('2000', '2000', '1100'),\n",
       " ('1100', '1010', '1010'),\n",
       " ('1010', '1010', '1110'),\n",
       " ('1010', '1110', '0000'),\n",
       " ('2000', '2100', '0010'),\n",
       " ('1100', '1010', '2000'),\n",
       " ('2000', '2010', '0000'),\n",
       " ('1000', '1101', '1100'),\n",
       " ('2000', '2000', '0010'),\n",
       " ('1000', '1100', '0000'),\n",
       " ('1100', '1010', '1010'),\n",
       " ('1010', '1010', '0000'),\n",
       " ('2000', '2010', '2100'),\n",
       " ('0000', '0000', '2000'),\n",
       " ('1010', '1110', '2000'),\n",
       " ('0100', '0100', '1100'),\n",
       " ('1010', '1010', '1001'),\n",
       " ('1010', '1001', '1100'),\n",
       " ('0000', '0110', '0000'),\n",
       " ('2000', '2100', '0100'),\n",
       " ('0000', '0000', '0000'),\n",
       " ('0000', '0000', '1001'),\n",
       " ('2011', '2011', '2000'),\n",
       " ('0000', '0000', '2100'),\n",
       " ('0000', '0000', '2101'),\n",
       " ('2000', '2100', '2100'),\n",
       " ('2100', '2100', '0100'),\n",
       " ('2000', '2100', '1000'),\n",
       " ('1000', '1000', '2000'),\n",
       " ('2000', '2011', '0000'),\n",
       " ('0000', '0000', '2000'),\n",
       " ('2000', '2000', '1001'),\n",
       " ('2000', '2100', '2000'),\n",
       " ('2000', '2100', '0000'),\n",
       " ('1101', '1101', '1100'),\n",
       " ('1000', '1100', '0100'),\n",
       " ('0100', '0100', '2110'),\n",
       " ('0000', '0100', '2110'),\n",
       " ('2000', '2000', '1000'),\n",
       " ('1000', '1100', '1110'),\n",
       " ('1100', '1110', '1100'),\n",
       " ('2000', '2001', '1100'),\n",
       " ('2000', '2000', '2110'),\n",
       " ('2000', '2110', '0000'),\n",
       " ('0000', '0000', '2000'),\n",
       " ('2000', '2111', '2110'),\n",
       " ('1110', '1111', '0101'),\n",
       " ('0000', '0100', '1000'),\n",
       " ('2100', '2100', '1000'),\n",
       " ('2000', '2010', '0000'),\n",
       " ('0000', '0000', '1010'),\n",
       " ('0100', '0100', '1000'),\n",
       " ('2000', '2000', '1000'),\n",
       " ('1000', '1100', '2000'),\n",
       " ('1000', '1000', '1100'),\n",
       " ('1000', '1100', '1000'),\n",
       " ('2000', '2000', '2100'),\n",
       " ('2000', '2100', '0000'),\n",
       " ('2000', '2101', '2111'),\n",
       " ('2101', '2111', '1000'),\n",
       " ('1000', '1010', '2100'),\n",
       " ('2000', '2000', '0000'),\n",
       " ('1000', '1100', '2000'),\n",
       " ('1000', '1100', '0000'),\n",
       " ('1000', '1100', '2000'),\n",
       " ('2000', '2100', '1001'),\n",
       " ('1100', '1011', '1100'),\n",
       " ('1000', '1000', '1010'),\n",
       " ('1000', '1010', '2011'),\n",
       " ('1000', '1000', '1010'),\n",
       " ('1000', '1010', '2000'),\n",
       " ('2000', '2010', '1000'),\n",
       " ('1000', '1000', '1000'),\n",
       " ('1000', '1000', '0000'),\n",
       " ('1100', '1011', '1100'),\n",
       " ('2000', '2000', '1000'),\n",
       " ('1000', '1010', '2000'),\n",
       " ('0000', '0000', '1000'),\n",
       " ('0000', '0100', '1010'),\n",
       " ('0000', '0000', '0000'),\n",
       " ('0000', '0000', '0000'),\n",
       " ('0000', '0000', '2110'),\n",
       " ('0000', '0000', '2010'),\n",
       " ('0000', '0100', '0000'),\n",
       " ('2000', '2000', '1011'),\n",
       " ('2100', '2111', '0000'),\n",
       " ('0000', '0000', '2000'),\n",
       " ('0000', '0000', '2000'),\n",
       " ('2000', '2000', '2010'),\n",
       " ('2000', '2010', '1000'),\n",
       " ('0000', '0000', '0000'),\n",
       " ('0000', '0000', '0000'),\n",
       " ('0000', '0000', '2011'),\n",
       " ('2011', '2011', '0000'),\n",
       " ('1000', '1000', '2000'),\n",
       " ('0000', '0000', '0000'),\n",
       " ('0000', '0000', '2100'),\n",
       " ('0000', '0010', '2000'),\n",
       " ('0000', '0000', '0000'),\n",
       " ('0000', '0000', '2000'),\n",
       " ('0000', '0110', '0000'),\n",
       " ('1000', '1000', '2000'),\n",
       " ('2000', '2000', '2101'),\n",
       " ('2000', '2101', '0000'),\n",
       " ('0000', '0000', '2111'),\n",
       " ('1000', '1000', '1000'),\n",
       " ('1000', '1000', '0000'),\n",
       " ('1100', '1010', '2010'),\n",
       " ('1100', '1101', '1010'),\n",
       " ('1010', '1101', '2010'),\n",
       " ('2010', '2010', '2010'),\n",
       " ('2010', '2010', '1101'),\n",
       " ('2000', '2100', '1100'),\n",
       " ('1000', '1000', '0000'),\n",
       " ('1010', '1111', '0100'),\n",
       " ('0000', '0010', '2010'),\n",
       " ('2010', '2010', '2000'),\n",
       " ('0000', '0000', '2111'),\n",
       " ('0000', '0000', '2010'),\n",
       " ('2000', '2000', '2000'),\n",
       " ('2000', '2000', '0000'),\n",
       " ('0000', '0101', '2000'),\n",
       " ('2000', '2000', '2110'),\n",
       " ('2000', '2110', '1000'),\n",
       " ('1000', '1000', '2100'),\n",
       " ('2000', '2100', '0000'),\n",
       " ('2000', '2010', '2010'),\n",
       " ('2010', '2010', '1100'),\n",
       " ('0000', '0000', '1101'),\n",
       " ('1000', '1111', '0100'),\n",
       " ('2000', '2100', '2101'),\n",
       " ('2100', '2101', '0000'),\n",
       " ('1000', '1000', '2000'),\n",
       " ('2000', '2100', '1000'),\n",
       " ('1000', '1111', '0000'),\n",
       " ('2010', '2001', '0100'),\n",
       " ('1100', '1100', '0000'),\n",
       " ('1000', '1100', '0000'),\n",
       " ('0000', '0000', '0000'),\n",
       " ('0000', '0000', '0000'),\n",
       " ('0000', '0000', '2000'),\n",
       " ('0000', '0000', '0000'),\n",
       " ('0000', '0000', '1110'),\n",
       " ('2000', '2100', '2000'),\n",
       " ('2100', '2110', '1000'),\n",
       " ('1000', '1000', '0101'),\n",
       " ('1000', '1100', '1100'),\n",
       " ('1100', '1100', '0000'),\n",
       " ('0000', '0000', '1000'),\n",
       " ('0000', '0000', '2101'),\n",
       " ('0000', '0000', '1000'),\n",
       " ('0000', '0000', '0000'),\n",
       " ('0000', '0000', '0000'),\n",
       " ('0000', '0000', '2100'),\n",
       " ('0000', '0000', '1101'),\n",
       " ('0000', '0000', '0000'),\n",
       " ('0000', '0000', '1100'),\n",
       " ('1000', '1010', '0000'),\n",
       " ('2000', '2100', '0100'),\n",
       " ('0000', '0000', '0010'),\n",
       " ('0000', '0010', '0000'),\n",
       " ('1100', '1110', '2010'),\n",
       " ('0000', '0000', '1001'),\n",
       " ('1000', '1100', '0000'),\n",
       " ('0000', '0110', '0000'),\n",
       " ('0000', '0000', '1000'),\n",
       " ('1000', '1000', '1110'),\n",
       " ('1000', '1110', '2110'),\n",
       " ('2110', '2110', '2100'),\n",
       " ('1000', '1010', '1000'),\n",
       " ('1000', '1101', '2000'),\n",
       " ('1000', '1101', '2000'),\n",
       " ('2000', '2110', '1000'),\n",
       " ('0000', '0000', '1100'),\n",
       " ('2100', '2101', '1001'),\n",
       " ('1000', '1110', '2100'),\n",
       " ('2100', '2100', '1000'),\n",
       " ('0110', '0110', '1110'),\n",
       " ('1000', '1111', '2111'),\n",
       " ('0000', '0100', '0100'),\n",
       " ('0100', '0100', '0000'),\n",
       " ('0000', '0000', '1111'),\n",
       " ('2100', '2100', '1000'),\n",
       " ('1100', '1100', '0000'),\n",
       " ('0000', '0000', '2000'),\n",
       " ('1000', '1100', '2111'),\n",
       " ('2010', '2011', '0000'),\n",
       " ('2010', '2001', '1100'),\n",
       " ('1000', '1110', '0000'),\n",
       " ('2000', '2000', '0010'),\n",
       " ('0000', '0000', '1100'),\n",
       " ('0000', '0000', '1101'),\n",
       " ('0000', '0000', '2100'),\n",
       " ('0000', '0100', '2000'),\n",
       " ('2000', '2100', '1110'),\n",
       " ('1100', '1100', '2010'),\n",
       " ('2010', '2011', '1000'),\n",
       " ('1000', '1100', '0000'),\n",
       " ('2100', '2100', '2100'),\n",
       " ('2100', '2100', '0000'),\n",
       " ('0000', '0000', '2000'),\n",
       " ('0000', '0000', '0100'),\n",
       " ('0000', '0100', '2001'),\n",
       " ('0000', '0000', '2000'),\n",
       " ('2000', '2100', '1000'),\n",
       " ('0000', '0000', '0000'),\n",
       " ('0000', '0000', '2000'),\n",
       " ('0000', '0000', '0000'),\n",
       " ('0000', '0000', '0101'),\n",
       " ('0000', '0101', '0000'),\n",
       " ('0000', '0101', '2000'),\n",
       " ('0000', '0000', '2010'),\n",
       " ('2000', '2000', '1110'),\n",
       " ('2000', '2000', '0000'),\n",
       " ('0000', '0000', '1100'),\n",
       " ('0000', '0111', '2111'),\n",
       " ('2010', '2110', '0101'),\n",
       " ('1000', '1000', '2010'),\n",
       " ('0000', '0101', '2100'),\n",
       " ('0000', '0100', '3000'),\n",
       " ('1000', '1000', '0110'),\n",
       " ('0000', '0001', '1000'),\n",
       " ('1000', '1000', '2110'),\n",
       " ('1000', '1000', '0000'),\n",
       " ('0000', '0000', '2000'),\n",
       " ('0000', '0000', '2000'),\n",
       " ('2000', '2000', '2100'),\n",
       " ('2000', '2100', '0000'),\n",
       " ('2000', '2000', '2100'),\n",
       " ('2000', '2100', '1000'),\n",
       " ('1000', '1101', '0000'),\n",
       " ('1000', '1100', '0000'),\n",
       " ('0000', '0010', '2101'),\n",
       " ('2000', '2000', '0000'),\n",
       " ('1100', '1100', '2000'),\n",
       " ('2000', '2110', '0000'),\n",
       " ('0000', '0100', '0000'),\n",
       " ('2000', '2101', '2110'),\n",
       " ('2000', '2010', '2100'),\n",
       " ('2100', '2100', '2010'),\n",
       " ...]"
      ]
     },
     "execution_count": 59,
     "metadata": {},
     "output_type": "execute_result"
    }
   ],
   "source": [
    "improved_lst"
   ]
  },
  {
   "cell_type": "code",
   "execution_count": 73,
   "metadata": {
    "scrolled": true
   },
   "outputs": [
    {
     "name": "stdout",
     "output_type": "stream",
     "text": [
      "インディアンス -0.2845926822840772 3.55070848668\n",
      "Dバックス -0.3185772055910041 3.31822829379\n",
      "ジャイアンツ -0.28351737265283194 2.83037440699\n",
      "オリオールズ -0.25880131460395805 3.32737535147\n",
      "マーリンズ -0.3121128628397529 3.16281340872\n",
      "ヤンキース -0.25673757429016275 3.25516390671\n",
      "Rソックス -0.30005844020447814 3.5168310289\n",
      "ツインズ -0.2873929408854252 3.04997156891\n",
      "ナショナルズ -0.2838754763038045 3.87369014776\n",
      "ブルージェイズ -0.26741428790345356 2.78762144728\n",
      "Wソックス -0.2726056376852757 2.98193422273\n",
      "ロイヤルズ -0.2645209788515972 3.14345642812\n",
      "アストロズ -0.2768428493726316 3.63373619295\n",
      "レイズ -0.28234353007501234 2.93210321837\n",
      "ブレーブス -0.30438912961539044 3.27223159101\n",
      "アスレチックス -0.2883442783968029 3.14102785681\n",
      "レッズ -0.3194328623267655 3.18982188474\n",
      "パイレーツ -0.3090775009347482 2.99716824265\n",
      "メッツ -0.27826811987911304 3.19823993919\n",
      "カージナルス -0.3170763099335536 3.10896673165\n",
      "マリナーズ -0.2903592883599897 2.92452740759\n",
      "レンジャーズ -0.29818117260273613 3.45046256957\n",
      "ドジャース -0.29217700749880304 3.44956051846\n",
      "パドレス -0.26929311979861437 2.4524695721\n",
      "フィリーズ -0.2904828153602459 3.10407253142\n",
      "ブリュワーズ -0.2800350434406167 2.88804569605\n",
      "タイガース -0.27399220289498727 2.98890067701\n",
      "ロッキーズ -0.2972776149001284 3.47386276397\n",
      "カブス -0.3215871915777333 3.72356934898\n",
      "エンゼルス -0.26034470141927457 2.93246711933\n"
     ]
    }
   ],
   "source": [
    "diffs = []\n",
    "stds = []\n",
    "for team in teams_mlb:\n",
    "    lst = make_flattened_list(make_inning_triple(make_inning_list(event_df[event_df.攻撃チーム==team])))\n",
    "    improved_lst = [elem for elem in lst if is_deteriorated(elem[0], elem[1])]\n",
    "    # H(St+1 | St, St-1)\n",
    "    second_cond_entropy = cond_entropy(pd.DataFrame(improved_lst)[2].values, pd.DataFrame(improved_lst)[[0, 1]].values)\n",
    "    # H(St+1 | St)\n",
    "    first_cond_entropy = cond_entropy(pd.DataFrame(improved_lst)[2].values, pd.DataFrame(improved_lst)[[1]].values)\n",
    "    std = make_score_df_mlb(team).describe()[column][\"std\"] #/ make_score_df_mlb(team).describe()[column][\"mean\"]\n",
    "    diffs.append(second_cond_entropy - first_cond_entropy)\n",
    "    stds.append(std)\n",
    "    print(team, second_cond_entropy - first_cond_entropy, std)"
   ]
  },
  {
   "cell_type": "code",
   "execution_count": 74,
   "metadata": {},
   "outputs": [
    {
     "data": {
      "text/plain": [
       "<matplotlib.collections.PathCollection at 0x222497b780>"
      ]
     },
     "execution_count": 74,
     "metadata": {},
     "output_type": "execute_result"
    },
    {
     "data": {
      "image/png": "[encoded data removed]",
      "text/plain": [
       "<matplotlib.figure.Figure at 0x201ccc8828>"
      ]
     },
     "metadata": {
      "image/png": {
       "height": 250,
       "width": 374
      }
     },
     "output_type": "display_data"
    }
   ],
   "source": [
    "plt.scatter(diffs, stds)"
   ]
  },
  {
   "cell_type": "code",
   "execution_count": 75,
   "metadata": {},
   "outputs": [
    {
     "data": {
      "image/png": "[encoded data removed]",
      "text/plain": [
       "<matplotlib.figure.Figure at 0x201c6b0cf8>"
      ]
     },
     "metadata": {
      "image/png": {
       "height": 250,
       "width": 374
      }
     },
     "output_type": "display_data"
    }
   ],
   "source": [
    "import statsmodels.api as sm\n",
    "\n",
    "nsample = len(diffs)\n",
    "X = np.column_stack((np.repeat(1, nsample), diffs))\n",
    "\n",
    "model = sm.OLS(stds, X)\n",
    "results = model.fit()\n",
    "\n",
    "a, b = results.params\n",
    "\n",
    "plt.scatter(diffs, stds)\n",
    "plt.plot(diffs, a+b*np.array(diffs))\n",
    "plt.show()"
   ]
  },
  {
   "cell_type": "code",
   "execution_count": 76,
   "metadata": {},
   "outputs": [
    {
     "data": {
      "text/plain": [
       "array([ 0.05133471,  0.09331794])"
      ]
     },
     "execution_count": 76,
     "metadata": {},
     "output_type": "execute_result"
    }
   ],
   "source": [
    "results.pvalues"
   ]
  },
  {
   "cell_type": "code",
   "execution_count": 93,
   "metadata": {},
   "outputs": [
    {
     "data": {
      "text/plain": [
       "array([[1, 2, 3],\n",
       "       [4, 5, 6]])"
      ]
     },
     "execution_count": 93,
     "metadata": {},
     "output_type": "execute_result"
    }
   ],
   "source": [
    "np.array([(1, 2, 3), (4, 5, 6)])"
   ]
  },
  {
   "cell_type": "code",
   "execution_count": 113,
   "metadata": {},
   "outputs": [],
   "source": [
    "def calc_proba(target, lst):\n",
    "    if type(lst) == np.ndarray:\n",
    "        lst = lst.tolist()\n",
    "    return lst.count(target) / len(lst)"
   ]
  },
  {
   "cell_type": "code",
   "execution_count": 114,
   "metadata": {},
   "outputs": [
    {
     "data": {
      "text/plain": [
       "numpy.ndarray"
      ]
     },
     "execution_count": 114,
     "metadata": {},
     "output_type": "execute_result"
    }
   ],
   "source": [
    "type(np.array([]))"
   ]
  },
  {
   "cell_type": "code",
   "execution_count": 116,
   "metadata": {},
   "outputs": [
    {
     "data": {
      "text/plain": [
       "0.0"
      ]
     },
     "execution_count": 116,
     "metadata": {},
     "output_type": "execute_result"
    }
   ],
   "source": [
    "calc_proba([1, 2, 2], np.array([[1, 2, 3], [5, 6, 7]]))"
   ]
  },
  {
   "cell_type": "code",
   "execution_count": 8,
   "metadata": {},
   "outputs": [],
   "source": [
    "def calc_entropy(triple_list):\n",
    "    triple_proba_dict = pd.Series(lst).value_counts() / len(lst)\n",
    "    double_form_proba_dict = pd.Series(np.array(lst)[:, [0, 1]].tolist()).apply(lambda x: tuple(x)).value_counts() / len(lst)\n",
    "    double_late_proba_dict = pd.Series(np.array(lst)[:, [1, 2]].tolist()).apply(lambda x: tuple(x)).value_counts() / len(lst)\n",
    "    single_form_proba_dict = pd.Series(np.array(lst)[:, 0]).value_counts() / len(lst)\n",
    "    single_curr_proba_dict = pd.Series(np.array(lst)[:, 1]).value_counts() / len(lst)\n",
    "    single_late_proba_dict = pd.Series(np.array(lst)[:, 2]).value_counts() / len(lst)\n",
    "    \n",
    "    EPSILON = 1e-9\n",
    "    triple_array = np.array(triple_list)\n",
    "    forms = triple_array[:, 0]\n",
    "    currs = triple_array[:, 1]\n",
    "    lates = triple_array[:, 2]\n",
    "    \n",
    "    res = 0\n",
    "    for form in set(forms):\n",
    "        proba = single_form_proba_dict[form]\n",
    "        for curr in set(currs):\n",
    "            for late in set(lates):\n",
    "                try:\n",
    "                    second_joint = triple_proba_dict[(form, curr, late)]\n",
    "                except:\n",
    "                    second_joint = 0\n",
    "                try:\n",
    "                    second_cond = double_form_proba_dict[(form, curr)]\n",
    "                except:\n",
    "                    second_cond = 0\n",
    "                try:\n",
    "                    first_joint = double_late_proba_dict[(curr, late)]\n",
    "                except:\n",
    "                    first_joint = 0\n",
    "                try:\n",
    "                    first_cond = single_curr_proba_dict[curr]\n",
    "                except:\n",
    "                    first_cond = 0\n",
    "                second_cond_proba = second_joint / (second_cond+EPSILON)\n",
    "                first_cond_proba = first_joint / (first_cond+EPSILON)\n",
    "                res += proba * (second_cond_proba*np.log(second_cond_proba+EPSILON) - first_cond_proba*np.log(first_cond_proba+EPSILON))\n",
    "    return res    "
   ]
  },
  {
   "cell_type": "code",
   "execution_count": 9,
   "metadata": {
    "scrolled": true
   },
   "outputs": [],
   "source": [
    "#calc_entropy(lst)"
   ]
  },
  {
   "cell_type": "code",
   "execution_count": 10,
   "metadata": {
    "scrolled": true
   },
   "outputs": [],
   "source": [
    "#df = pd.DataFrame(lst)"
   ]
  },
  {
   "cell_type": "code",
   "execution_count": null,
   "metadata": {
    "scrolled": true
   },
   "outputs": [
    {
     "data": {
      "text/plain": [
       "'triple_proba_dict = pd.Series(lst).value_counts() / len(lst)\\ndouble_form_proba_dict = pd.Series(np.array(lst)[:, [0, 1]].tolist()).apply(lambda x: tuple(x)).value_counts() / len(lst)\\ndouble_late_proba_dict = pd.Series(np.array(lst)[:, [1, 2]].tolist()).apply(lambda x: tuple(x)).value_counts() / len(lst)\\nsingle_form_proba_dict = pd.Series(np.array(lst)[:, 0]).value_counts() / len(lst)\\nsingle_curr_proba_dict = pd.Series(np.array(lst)[:, 1]).value_counts() / len(lst)\\nsingle_late_proba_dict = pd.Series(np.array(lst)[:, 2]).value_counts() / len(lst)'"
      ]
     },
     "execution_count": 11,
     "metadata": {},
     "output_type": "execute_result"
    }
   ],
   "source": [
    "\"\"\"triple_proba_dict = pd.Series(lst).value_counts() / len(lst)\n",
    "double_form_proba_dict = pd.Series(np.array(lst)[:, [0, 1]].tolist()).apply(lambda x: tuple(x)).value_counts() / len(lst)\n",
    "double_late_proba_dict = pd.Series(np.array(lst)[:, [1, 2]].tolist()).apply(lambda x: tuple(x)).value_counts() / len(lst)\n",
    "single_form_proba_dict = pd.Series(np.array(lst)[:, 0]).value_counts() / len(lst)\n",
    "single_curr_proba_dict = pd.Series(np.array(lst)[:, 1]).value_counts() / len(lst)\n",
    "single_late_proba_dict = pd.Series(np.array(lst)[:, 2]).value_counts() / len(lst)\"\"\""
   ]
  },
  {
   "cell_type": "code",
   "execution_count": 200,
   "metadata": {
    "scrolled": true
   },
   "outputs": [
    {
     "data": {
      "application/vnd.jupyter.widget-view+json": {
       "model_id": "2a1cd5d11a95469cade7f752d8be33e3",
       "version_major": 2,
       "version_minor": 0
      },
      "text/plain": [
       "HBox(children=(IntProgress(value=0, max=24), HTML(value='')))"
      ]
     },
     "metadata": {},
     "output_type": "display_data"
    },
    {
     "name": "stdout",
     "output_type": "stream",
     "text": [
      "西武 29.0847824992 0.613558417522\n"
     ]
    },
    {
     "data": {
      "application/vnd.jupyter.widget-view+json": {
       "model_id": "f295d3760fa14868803fed0d1deffbcb",
       "version_major": 2,
       "version_minor": 0
      },
      "text/plain": [
       "HBox(children=(IntProgress(value=0, max=24), HTML(value='')))"
      ]
     },
     "metadata": {},
     "output_type": "display_data"
    },
    {
     "name": "stdout",
     "output_type": "stream",
     "text": [
      "ソフトバンク 28.9020153249 0.665868977826\n"
     ]
    },
    {
     "data": {
      "application/vnd.jupyter.widget-view+json": {
       "model_id": "e9dec55703cf4e838df79cc3c735c5fb",
       "version_major": 2,
       "version_minor": 0
      },
      "text/plain": [
       "HBox(children=(IntProgress(value=0, max=24), HTML(value='')))"
      ]
     },
     "metadata": {},
     "output_type": "display_data"
    },
    {
     "name": "stdout",
     "output_type": "stream",
     "text": [
      "日本ハム 27.5266678274 0.73001605495\n"
     ]
    },
    {
     "data": {
      "application/vnd.jupyter.widget-view+json": {
       "model_id": "ec4e4c0e334547b4b5a71fb9642b17b5",
       "version_major": 2,
       "version_minor": 0
      },
      "text/plain": [
       "HBox(children=(IntProgress(value=0, max=24), HTML(value='')))"
      ]
     },
     "metadata": {},
     "output_type": "display_data"
    },
    {
     "name": "stdout",
     "output_type": "stream",
     "text": [
      "オリックス 28.0709408293 0.738430371046\n"
     ]
    },
    {
     "data": {
      "application/vnd.jupyter.widget-view+json": {
       "model_id": "10fa2684db9445a99f5590413a5cb140",
       "version_major": 2,
       "version_minor": 0
      },
      "text/plain": [
       "HBox(children=(IntProgress(value=0, max=24), HTML(value='')))"
      ]
     },
     "metadata": {},
     "output_type": "display_data"
    },
    {
     "name": "stdout",
     "output_type": "stream",
     "text": [
      "ロッテ 28.5895800243 0.73693614177\n"
     ]
    },
    {
     "data": {
      "application/vnd.jupyter.widget-view+json": {
       "model_id": "82d154721d424d4eab8de38ae1038ead",
       "version_major": 2,
       "version_minor": 0
      },
      "text/plain": [
       "HBox(children=(IntProgress(value=0, max=24), HTML(value='')))"
      ]
     },
     "metadata": {},
     "output_type": "display_data"
    },
    {
     "name": "stdout",
     "output_type": "stream",
     "text": [
      "楽天 26.7196866876 0.786334698231\n"
     ]
    },
    {
     "data": {
      "application/vnd.jupyter.widget-view+json": {
       "model_id": "c74899f2b51747ca828244bc1d62f18a",
       "version_major": 2,
       "version_minor": 0
      },
      "text/plain": [
       "HBox(children=(IntProgress(value=0, max=24), HTML(value='')))"
      ]
     },
     "metadata": {},
     "output_type": "display_data"
    },
    {
     "name": "stdout",
     "output_type": "stream",
     "text": [
      "広島 27.8092421077 0.627011135613\n"
     ]
    },
    {
     "data": {
      "application/vnd.jupyter.widget-view+json": {
       "model_id": "13946e12e04f451c9acc05454ea35a51",
       "version_major": 2,
       "version_minor": 0
      },
      "text/plain": [
       "HBox(children=(IntProgress(value=0, max=24), HTML(value='')))"
      ]
     },
     "metadata": {},
     "output_type": "display_data"
    },
    {
     "name": "stdout",
     "output_type": "stream",
     "text": [
      "ヤクルト 29.4974231192 0.663965375046\n"
     ]
    },
    {
     "data": {
      "application/vnd.jupyter.widget-view+json": {
       "model_id": "f846c115d4f9464998452b8691c611bb",
       "version_major": 2,
       "version_minor": 0
      },
      "text/plain": [
       "HBox(children=(IntProgress(value=0, max=24), HTML(value='')))"
      ]
     },
     "metadata": {},
     "output_type": "display_data"
    },
    {
     "name": "stdout",
     "output_type": "stream",
     "text": [
      "巨人 28.3893933207 0.744661085481\n"
     ]
    },
    {
     "data": {
      "application/vnd.jupyter.widget-view+json": {
       "model_id": "a56cf0026c5b4aada213a0d4366631d4",
       "version_major": 2,
       "version_minor": 0
      },
      "text/plain": [
       "HBox(children=(IntProgress(value=0, max=24), HTML(value='')))"
      ]
     },
     "metadata": {},
     "output_type": "display_data"
    },
    {
     "name": "stdout",
     "output_type": "stream",
     "text": [
      "ＤｅＮＡ 26.817596679 0.702059952125\n"
     ]
    },
    {
     "data": {
      "application/vnd.jupyter.widget-view+json": {
       "model_id": "0979f067e6944ad2bc9654c641e6eeda",
       "version_major": 2,
       "version_minor": 0
      },
      "text/plain": [
       "HBox(children=(IntProgress(value=0, max=24), HTML(value='')))"
      ]
     },
     "metadata": {},
     "output_type": "display_data"
    },
    {
     "name": "stdout",
     "output_type": "stream",
     "text": [
      "中日 29.0657842833 0.706474891683\n"
     ]
    },
    {
     "data": {
      "application/vnd.jupyter.widget-view+json": {
       "model_id": "e418709a262642f2b8f19cb2aaa3bad1",
       "version_major": 2,
       "version_minor": 0
      },
      "text/plain": [
       "HBox(children=(IntProgress(value=0, max=24), HTML(value='')))"
      ]
     },
     "metadata": {},
     "output_type": "display_data"
    },
    {
     "name": "stdout",
     "output_type": "stream",
     "text": [
      "阪神 28.7425992317 0.887157914383\n"
     ]
    }
   ],
   "source": [
    "diffs = []\n",
    "stds = []\n",
    "for team in pacific+central:\n",
    "    lst = make_flattened_list(make_inning_triple(make_inning_list(event_df[event_df.攻撃チーム==team])))\n",
    "    std = make_score_df(team).describe()[column][\"std\"] / make_score_df(team).describe()[column][\"mean\"]\n",
    "    diffs.append(calc_entropy(lst))\n",
    "    stds.append(std)\n",
    "    print(team, diffs[-1], std)"
   ]
  },
  {
   "cell_type": "code",
   "execution_count": 201,
   "metadata": {},
   "outputs": [
    {
     "data": {
      "text/plain": [
       "<matplotlib.collections.PathCollection at 0x201b790390>"
      ]
     },
     "execution_count": 201,
     "metadata": {},
     "output_type": "execute_result"
    },
    {
     "data": {
      "image/png": "[encoded data removed]",
      "text/plain": [
       "<matplotlib.figure.Figure at 0x22243b4208>"
      ]
     },
     "metadata": {
      "image/png": {
       "height": 250,
       "width": 381
      }
     },
     "output_type": "display_data"
    }
   ],
   "source": [
    "plt.scatter(diffs[:6], stds[:6], color=\"red\")\n",
    "plt.scatter(diffs[6:], stds[6:], color=\"blue\")"
   ]
  },
  {
   "cell_type": "code",
   "execution_count": 202,
   "metadata": {},
   "outputs": [
    {
     "data": {
      "image/png": "[encoded data removed]",
      "text/plain": [
       "<matplotlib.figure.Figure at 0x2220f244a8>"
      ]
     },
     "metadata": {
      "image/png": {
       "height": 250,
       "width": 381
      }
     },
     "output_type": "display_data"
    }
   ],
   "source": [
    "import statsmodels.api as sm\n",
    "\n",
    "nsample = len(diffs)\n",
    "X = np.column_stack((np.repeat(1, nsample), diffs))\n",
    "\n",
    "model = sm.OLS(stds, X)\n",
    "results = model.fit()\n",
    "\n",
    "a, b = results.params\n",
    "\n",
    "plt.scatter(diffs, stds)\n",
    "plt.plot(diffs, a+b*np.array(diffs))\n",
    "plt.show()"
   ]
  },
  {
   "cell_type": "code",
   "execution_count": 203,
   "metadata": {},
   "outputs": [
    {
     "data": {
      "text/plain": [
       "array([ 0.12016034,  0.49843161])"
      ]
     },
     "execution_count": 203,
     "metadata": {},
     "output_type": "execute_result"
    }
   ],
   "source": [
    "results.pvalues"
   ]
  },
  {
   "cell_type": "code",
   "execution_count": null,
   "metadata": {
    "scrolled": false
   },
   "outputs": [
    {
     "name": "stdout",
     "output_type": "stream",
     "text": [
      "アストロズ 14.8367752787 0.697755969437\n",
      "マーリンズ 17.4558975266 0.738602743703\n",
      "Wソックス 15.1779259499 0.720789830023\n",
      "ツインズ 16.1638362713 0.641337895122\n",
      "Dバックス 17.1998431574 0.720714478704\n",
      "ブレーブス 16.6096282993 0.70673307409\n",
      "パイレーツ 16.6567146137 0.72064709255\n",
      "タイガース 15.6402178884 0.707079622899\n",
      "カブス 17.010103232 0.779999564374\n",
      "エンゼルス 15.8618558343 0.67850247108\n"
     ]
    }
   ],
   "source": [
    "diffs = []\n",
    "stds = []\n",
    "for team in teams_mlb:\n",
    "    lst = make_flattened_list(make_inning_triple(make_inning_list(event_df[event_df.攻撃チーム==team])))\n",
    "    std = make_score_df_mlb(team).describe()[column][\"std\"] / make_score_df_mlb(team).describe()[column][\"mean\"]\n",
    "    diffs.append(calc_entropy(lst))\n",
    "    stds.append(std)\n",
    "    print(team, diffs[-1], std)"
   ]
  },
  {
   "cell_type": "code",
   "execution_count": null,
   "metadata": {},
   "outputs": [],
   "source": [
    "import statsmodels.api as sm\n",
    "\n",
    "nsample = len(diffs)\n",
    "X = np.column_stack((np.repeat(1, nsample), diffs))\n",
    "\n",
    "model = sm.OLS(stds, X)\n",
    "results = model.fit()\n",
    "\n",
    "a, b = results.params\n",
    "\n",
    "plt.scatter(diffs, stds)\n",
    "plt.plot(diffs, a+b*np.array(diffs))\n",
    "plt.show()"
   ]
  },
  {
   "cell_type": "code",
   "execution_count": null,
   "metadata": {},
   "outputs": [],
   "source": [
    "results.pvalues"
   ]
  },
  {
   "cell_type": "code",
   "execution_count": null,
   "metadata": {},
   "outputs": [],
   "source": [
    "diffs = []\n",
    "stds = []\n",
    "for team in teams_mlb:\n",
    "    lst = make_flattened_list(make_inning_triple(make_inning_list(event_df[event_df.攻撃チーム==team])))\n",
    "    std = make_score_df_mlb(team).describe()[column][\"std\"] #/ make_score_df_mlb(team).describe()[column][\"mean\"]\n",
    "    diffs.append(calc_entropy(lst))\n",
    "    stds.append(std)\n",
    "    print(team, diffs[-1], std)"
   ]
  },
  {
   "cell_type": "code",
   "execution_count": null,
   "metadata": {},
   "outputs": [],
   "source": [
    "import statsmodels.api as sm\n",
    "\n",
    "nsample = len(diffs)\n",
    "X = np.column_stack((np.repeat(1, nsample), diffs))\n",
    "\n",
    "model = sm.OLS(stds, X)\n",
    "results = model.fit()\n",
    "\n",
    "a, b = results.params\n",
    "\n",
    "plt.scatter(diffs, stds)\n",
    "plt.plot(diffs, a+b*np.array(diffs))\n",
    "plt.show()"
   ]
  },
  {
   "cell_type": "code",
   "execution_count": null,
   "metadata": {},
   "outputs": [],
   "source": [
    "results.pvalues"
   ]
  },
  {
   "cell_type": "code",
   "execution_count": null,
   "metadata": {},
   "outputs": [],
   "source": []
  }
 ],
 "metadata": {
  "kernelspec": {
   "display_name": "Python 3",
   "language": "python",
   "name": "python3"
  },
  "language_info": {
   "codemirror_mode": {
    "name": "ipython",
    "version": 3
   },
   "file_extension": ".py",
   "mimetype": "text/x-python",
   "name": "python",
   "nbconvert_exporter": "python",
   "pygments_lexer": "ipython3",
   "version": "3.5.4"
  }
 },
 "nbformat": 4,
 "nbformat_minor": 2
}
