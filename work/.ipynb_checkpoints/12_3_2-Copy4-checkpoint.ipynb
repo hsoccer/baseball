{
 "cells": [
  {
   "cell_type": "code",
   "execution_count": 1,
   "metadata": {},
   "outputs": [],
   "source": [
    "import pandas as pd\n",
    "import numpy as np\n",
    "import re\n",
    "import os, sys\n",
    "import matplotlib.pyplot as plt\n",
    "import seaborn as sns\n",
    "from collections import Counter, defaultdict\n",
    "from itertools import product\n",
    "from scipy import stats\n",
    "\n",
    "%matplotlib inline\n",
    "plt.style.use('ggplot')\n",
    "#plt.style.use('seaborn-pastel')\n",
    "%config InlineBackend.figure_format = 'retina'\n",
    "import warnings\n",
    "warnings.filterwarnings('ignore')\n",
    "from tqdm import tqdm_notebook as tq\n",
    "\n",
    "import matplotlib as mpl\n",
    "font = {\"family\":\"osaka\"}\n",
    "mpl.rc('font', **font)\n",
    "\n",
    "sys.path.append(\"..\")\n",
    "from utils.util_functions import *\n",
    "\n",
    "pd.set_option('display.max_rows', 500)"
   ]
  },
  {
   "cell_type": "code",
   "execution_count": 2,
   "metadata": {},
   "outputs": [],
   "source": [
    "#event_df = make_df(data_dir=DETAIL_DATA_DIR_MLB)\n",
    "#event_df = pd.read_csv(os.path.join(ROOT_DIR, \"event_df.csv\"), index_col=0, encoding=\"cp932\", dtype=object)\n",
    "#df_2017 = make_df(end=1944417, data_dir=DETAIL_DATA_DIR_MLB)\n",
    "#df_2017 = pd.read_csv(os.path.join(ROOT_DIR, \"df_2017.csv\"), index_col=0, encoding=\"cp932\", dtype=object)\n",
    "#df_2018 = make_df(start=1944417, data_dir=DETAIL_DATA_DIR_MLB)\n",
    "#df_2018 = pd.read_csv(os.path.join(ROOT_DIR, \"df_2018.csv\"), index_col=0, encoding=\"cp932\", dtype=object)\n",
    "files = os.listdir(DETAIL_DATA_DIR_MLB)[1:]\n",
    "names = pd.Series(files).apply(lambda x: int(x.split(\".\")[0]))\n",
    "files_2017 = names[names<=1944417].apply(lambda x: str(x)+\".csv\")\n",
    "files_2018 = names[names>1944417].apply(lambda x: str(x)+\".csv\")\n",
    "column = \"得点\"\n",
    "teams_mlb = list(set(pd.read_csv(os.path.join(SCORE_DATA_DIR_MLB, \"score_mlb.csv\"), encoding=\"cp932\", index_col=0).表チーム))\n",
    "teams_mlb.remove(\"ア・リーグ\")\n",
    "first_teams = ['Rソックス', 'インディアンス', 'アストロズ', 'ブレーブス', 'ブリュワーズ', 'ドジャース']\n",
    "second_teams = ['ヤンキース', 'ツインズ', 'アスレチックス', 'ナショナルズ', 'カブス', 'ロッキーズ']\n",
    "third_teams = ['レイズ', 'タイガース', 'マリナーズ', 'フィリーズ', 'カージナルス', 'Dバックス']\n",
    "fourth_teams = ['ブルージェイズ', 'Wソックス',  'エンゼルス', 'メッツ', 'パイレーツ', 'ジャイアンツ']\n",
    "fifth_teams = ['オリオールズ', 'ロイヤルズ', 'レンジャーズ', 'マーリンズ', 'レッズ', 'パドレス']"
   ]
  },
  {
   "cell_type": "code",
   "execution_count": 3,
   "metadata": {},
   "outputs": [],
   "source": [
    "def pos_neg(team, nlead=5, nbehind=4, year=\"both\"):\n",
    "    if year == \"both\":\n",
    "        df = event_df[event_df.攻撃チーム==team]\n",
    "    elif year == 2018:\n",
    "        df = df_2018[df_2018.攻撃チーム==team]\n",
    "    elif year == 2017:\n",
    "        df = df_2017[df_2017.攻撃チーム==team]\n",
    "        \n",
    "    # 点差関係なし\n",
    "    triple = make_inning_triple(make_inning_list(df, score_end=1, how=\"own\"))\n",
    "    lst = make_flattened_list(triple[:])\n",
    "    improved_score_list = []\n",
    "    deteriorated_score_list = []\n",
    "    for three_series in [elem for elem in lst if elem[0][0]!=\"3000\" and elem[1][0]!=\"3000\"]:\n",
    "        if is_improved(three_series[0][0], three_series[1][0]):\n",
    "            improved_score_list.append(weighted_score(three_series[1][0], three_series[2][1]-three_series[1][1]))\n",
    "        elif is_deteriorated(three_series[0][0], three_series[1][0]):\n",
    "            deteriorated_score_list.append(weighted_score(three_series[1][0], three_series[2][1]-three_series[1][1]))\n",
    "    all_imp, all_det = np.mean(improved_score_list), np.mean(deteriorated_score_list)\n",
    "    \n",
    "    #  nlead点差以上リード\n",
    "    lst = triple_on_score_diff(team, nlead, 30, year)\n",
    "    improved_score_list = []\n",
    "    deteriorated_score_list = []\n",
    "    for three_series in [elem for elem in lst if elem[0][0]!=\"3000\" and elem[1][0]!=\"3000\"]:\n",
    "        if is_improved(three_series[0][0], three_series[1][0]):\n",
    "            improved_score_list.append(weighted_score(three_series[1][0], three_series[2][1]-three_series[1][1]))\n",
    "        elif is_deteriorated(three_series[0][0], three_series[1][0]):\n",
    "            deteriorated_score_list.append(weighted_score(three_series[1][0], three_series[2][1]-three_series[1][1]))\n",
    "    pos_imp, pos_det = np.mean(improved_score_list), np.mean(deteriorated_score_list)\n",
    "    \n",
    "    # nbehind点差以上ビハインド\n",
    "    lst = triple_on_score_diff(team, -nbehind, -1, year)\n",
    "    improved_score_list = []\n",
    "    deteriorated_score_list = []\n",
    "    for three_series in [elem for elem in lst if elem[0][0]!=\"3000\" and elem[1][0]!=\"3000\"]:\n",
    "        if is_improved(three_series[0][0], three_series[1][0]):\n",
    "            improved_score_list.append(weighted_score(three_series[1][0], three_series[2][1]-three_series[1][1]))\n",
    "        elif is_deteriorated(three_series[0][0], three_series[1][0]):\n",
    "            deteriorated_score_list.append(weighted_score(three_series[1][0], three_series[2][1]-three_series[1][1]))\n",
    "    neg_imp, neg_det = np.mean(improved_score_list), np.mean(deteriorated_score_list)\n",
    "    \n",
    "    return [team, all_imp, all_det, pos_imp, pos_det, neg_imp, neg_det]"
   ]
  },
  {
   "cell_type": "code",
   "execution_count": null,
   "metadata": {},
   "outputs": [],
   "source": [
    "#pos_neg(\"インディアンス\", year=2017)"
   ]
  },
  {
   "cell_type": "code",
   "execution_count": null,
   "metadata": {
    "scrolled": true
   },
   "outputs": [
    {
     "name": "stdout",
     "output_type": "stream",
     "text": [
      "エンゼルス2018\n",
      "エンゼルス2017\n",
      "Wソックス2018\n",
      "Wソックス2017\n",
      "ツインズ2018\n",
      "ツインズ2017\n",
      "ブルージェイズ2018\n",
      "ブルージェイズ2017\n",
      "パドレス2018\n",
      "パドレス2017\n",
      "ナショナルズ2018\n",
      "ナショナルズ2017\n",
      "オリオールズ2018\n",
      "オリオールズ2017\n",
      "フィリーズ2018\n",
      "フィリーズ2017\n",
      "アスレチックス2018\n",
      "アスレチックス2017\n",
      "パイレーツ2018\n",
      "パイレーツ2017\n",
      "ジャイアンツ2018\n",
      "ジャイアンツ2017\n",
      "レイズ2018\n",
      "レイズ2017\n",
      "レッズ2018\n",
      "レッズ2017\n",
      "インディアンス2018\n",
      "インディアンス2017\n",
      "ロッキーズ2018\n",
      "ロッキーズ2017\n",
      "Rソックス2018\n",
      "Rソックス2017\n",
      "カージナルス2018\n",
      "カージナルス2017\n",
      "ドジャース2018\n",
      "ドジャース2017\n",
      "マーリンズ2018\n",
      "マーリンズ2017\n",
      "マリナーズ2018\n",
      "マリナーズ2017\n",
      "ロイヤルズ2018\n",
      "ロイヤルズ2017\n",
      "カブス2018\n",
      "カブス2017\n",
      "ヤンキース2018\n"
     ]
    }
   ],
   "source": [
    "res = []\n",
    "for team in teams_mlb:\n",
    "    curr = pos_neg(team, year=2018)\n",
    "    curr[0] = curr[0] + \"2018\"\n",
    "    res.append(curr)\n",
    "    print(curr[0])\n",
    "    curr = pos_neg(team, year=2017)\n",
    "    curr[0] = curr[0] + \"2017\"\n",
    "    res.append(curr)\n",
    "    print(curr[0])"
   ]
  },
  {
   "cell_type": "code",
   "execution_count": null,
   "metadata": {
    "scrolled": true
   },
   "outputs": [],
   "source": [
    "df = pd.DataFrame(res, columns=[\"チーム\", \"all_imp\", \"all_det\", \"pos_imp\", \"pos_det\", \"neg_imp\", \"neg_det\"]).set_index(\"チーム\", drop=True)"
   ]
  },
  {
   "cell_type": "code",
   "execution_count": null,
   "metadata": {},
   "outputs": [],
   "source": [
    "df[\"positive_inhibition\"] = - df[\"pos_imp\"] + df[\"all_imp\"]\n",
    "df[\"negative_facilitation\"] = df[\"neg_det\"] - df[\"all_det\"]"
   ]
  },
  {
   "cell_type": "code",
   "execution_count": null,
   "metadata": {
    "scrolled": true
   },
   "outputs": [],
   "source": [
    "df[[\"positive_inhibition\", \"negative_facilitation\"]]\n",
    "plt.scatter(df[\"positive_inhibition\"], df[\"negative_facilitation\"])"
   ]
  },
  {
   "cell_type": "code",
   "execution_count": null,
   "metadata": {},
   "outputs": [],
   "source": [
    "df"
   ]
  },
  {
   "cell_type": "code",
   "execution_count": null,
   "metadata": {
    "scrolled": false
   },
   "outputs": [],
   "source": [
    "plt.figure(figsize=(12, 6))\n",
    "colors = [\"r\", \"b\", \"y\", \"g\", \"c\"]\n",
    "for team in df.index:\n",
    "    pos_inh = df.loc[team, \"positive_inhibition\"]\n",
    "    neg_fac = df.loc[team, \"negative_facilitation\"]\n",
    "    plt.scatter([pos_inh], [neg_fac], marker=\"${}$\".format(ranking(team[:-4], int(team[-4:]))), color=colors[ranking(team[:-4], int(team[-4:]))-1], s=200)\n",
    "plt.xlabel(\"positive_inhibition (5点差以上のリード)\")\n",
    "plt.ylabel(\"negative_facilitation (4点差以内のビハインド)\")"
   ]
  },
  {
   "cell_type": "code",
   "execution_count": null,
   "metadata": {},
   "outputs": [],
   "source": [
    "pd.DataFrame([list(order_pos_dict.values()), list(order_neg_dict.values())], index=[\"positive_inhibition\", \"negative_facilitation\"], columns=[1, 2, 3, 4, 5]).T.plot()"
   ]
  },
  {
   "cell_type": "code",
   "execution_count": null,
   "metadata": {},
   "outputs": [],
   "source": [
    "order_pos_dict = defaultdict(int)\n",
    "for teamyear in df.index:\n",
    "    team = teamyear[:-4]\n",
    "    year = int(teamyear[-4:])\n",
    "    order_pos_dict[ranking(team, year)] += df.loc[teamyear, \"positive_inhibition\"]"
   ]
  },
  {
   "cell_type": "code",
   "execution_count": null,
   "metadata": {
    "scrolled": false
   },
   "outputs": [],
   "source": [
    "order_pos_dict"
   ]
  },
  {
   "cell_type": "code",
   "execution_count": null,
   "metadata": {},
   "outputs": [],
   "source": [
    "order_neg_dict = defaultdict(int)\n",
    "for teamyear in df.index:\n",
    "    team = teamyear[:-4]\n",
    "    year = int(teamyear[-4:])\n",
    "    order_neg_dict[ranking(team, year)] += df.loc[teamyear, \"negative_facilitation\"]"
   ]
  },
  {
   "cell_type": "code",
   "execution_count": null,
   "metadata": {},
   "outputs": [],
   "source": [
    "order_neg_dict"
   ]
  },
  {
   "cell_type": "code",
   "execution_count": null,
   "metadata": {},
   "outputs": [],
   "source": [
    "df.loc[:, \"positive_inhibition\"].hist()"
   ]
  },
  {
   "cell_type": "code",
   "execution_count": null,
   "metadata": {},
   "outputs": [],
   "source": [
    "df.loc[:, \"negative_facilitation\"].hist()"
   ]
  },
  {
   "cell_type": "code",
   "execution_count": null,
   "metadata": {},
   "outputs": [],
   "source": []
  }
 ],
 "metadata": {
  "kernelspec": {
   "display_name": "Python 3",
   "language": "python",
   "name": "python3"
  },
  "language_info": {
   "codemirror_mode": {
    "name": "ipython",
    "version": 3
   },
   "file_extension": ".py",
   "mimetype": "text/x-python",
   "name": "python",
   "nbconvert_exporter": "python",
   "pygments_lexer": "ipython3",
   "version": "3.5.4"
  }
 },
 "nbformat": 4,
 "nbformat_minor": 2
}
