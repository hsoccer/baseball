{
 "cells": [
  {
   "cell_type": "markdown",
   "metadata": {},
   "source": [
    "# 年別"
   ]
  },
  {
   "cell_type": "code",
   "execution_count": 1,
   "metadata": {},
   "outputs": [],
   "source": [
    "import pandas as pd\n",
    "import numpy as np\n",
    "import re\n",
    "import os, sys\n",
    "import matplotlib.pyplot as plt\n",
    "import seaborn as sns\n",
    "from collections import Counter, defaultdict\n",
    "from itertools import product\n",
    "from scipy import stats\n",
    "\n",
    "%matplotlib inline\n",
    "plt.style.use('ggplot')\n",
    "#plt.style.use('seaborn-pastel')\n",
    "%config InlineBackend.figure_format = 'retina'\n",
    "import warnings\n",
    "warnings.filterwarnings('ignore')\n",
    "from tqdm import tqdm_notebook as tq\n",
    "\n",
    "sys.path.append(\"..\")\n",
    "from utils.util_functions import *\n",
    "\n",
    "pd.set_option('display.max_rows', 500)"
   ]
  },
  {
   "cell_type": "code",
   "execution_count": 2,
   "metadata": {},
   "outputs": [],
   "source": [
    "#event_df = make_df(data_dir=DETAIL_DATA_DIR_MLB)\n",
    "event_df = pd.read_csv(os.path.join(ROOT_DIR, \"event_df.csv\"), index_col=0, encoding=\"cp932\", dtype=object)\n",
    "#df_2017 = make_df(end=1944417, data_dir=DETAIL_DATA_DIR_MLB)\n",
    "df_2017 = pd.read_csv(os.path.join(ROOT_DIR, \"df_2017.csv\"), index_col=0, encoding=\"cp932\", dtype=object)\n",
    "#df_2018 = make_df(start=1944417, data_dir=DETAIL_DATA_DIR_MLB)\n",
    "df_2018 = pd.read_csv(os.path.join(ROOT_DIR, \"df_2018.csv\"), index_col=0, encoding=\"cp932\", dtype=object)\n",
    "files = os.listdir(DETAIL_DATA_DIR_MLB)[1:]\n",
    "names = pd.Series(files).apply(lambda x: int(x.split(\".\")[0]))\n",
    "files_2017 = names[names<=1944417].apply(lambda x: str(x)+\".csv\")\n",
    "files_2018 = names[names>1944417].apply(lambda x: str(x)+\".csv\")\n",
    "column = \"得点\"\n",
    "teams_mlb = list(set(pd.read_csv(os.path.join(SCORE_DATA_DIR_MLB, \"score_mlb.csv\"), encoding=\"cp932\", index_col=0).表チーム))\n",
    "teams_mlb.remove(\"ア・リーグ\")\n",
    "first_teams = ['Rソックス', 'インディアンス', 'アストロズ', 'ブレーブス', 'ブリュワーズ', 'ドジャース']\n",
    "second_teams = ['ヤンキース', 'ツインズ', 'アスレチックス', 'ナショナルズ', 'カブス', 'ロッキーズ']\n",
    "third_teams = ['レイズ', 'タイガース', 'マリナーズ', 'フィリーズ', 'カージナルス', 'Dバックス']\n",
    "fourth_teams = ['ブルージェイズ', 'Wソックス',  'エンゼルス', 'メッツ', 'パイレーツ', 'ジャイアンツ']\n",
    "fifth_teams = ['オリオールズ', 'ロイヤルズ', 'レンジャーズ', 'マーリンズ', 'レッズ', 'パドレス']"
   ]
  },
  {
   "cell_type": "code",
   "execution_count": 3,
   "metadata": {},
   "outputs": [],
   "source": [
    "def ranking(team):\n",
    "    first_teams = ['Rソックス', 'インディアンス', 'アストロズ', 'ブレーブス', 'ブリュワーズ', 'ドジャース']\n",
    "    second_teams = ['ヤンキース', 'ツインズ', 'アスレチックス', 'ナショナルズ', 'カブス', 'ロッキーズ']\n",
    "    third_teams = ['レイズ', 'タイガース', 'マリナーズ', 'フィリーズ', 'カージナルス', 'Dバックス']\n",
    "    fourth_teams = ['ブルージェイズ', 'Wソックス',  'エンゼルス', 'メッツ', 'パイレーツ', 'ジャイアンツ']\n",
    "    fifth_teams = ['オリオールズ', 'ロイヤルズ', 'レンジャーズ', 'マーリンズ', 'レッズ', 'パドレス']\n",
    "    lst = [first_teams, second_teams, third_teams, fourth_teams, fifth_teams]\n",
    "    for i in range(len(lst)):\n",
    "        teams = lst[i]\n",
    "        if team in teams:\n",
    "            return i + 1"
   ]
  },
  {
   "cell_type": "code",
   "execution_count": 4,
   "metadata": {},
   "outputs": [],
   "source": [
    "case_expected_score_dict = dict(pd.read_csv(os.path.join(ROOT_DIR, \"case_expected_score.csv\"), dtype=object).values)\n",
    "case_expected_score_dict = dict([[key, float(value)] for key, value in case_expected_score_dict.items()])\n",
    "\n",
    "def weighted_score(case, score):\n",
    "    \"\"\"\n",
    "    lst : (Stの状況, 直後の得点)\n",
    "    \"\"\"\n",
    "    return score / case_expected_score_dict[case]"
   ]
  },
  {
   "cell_type": "code",
   "execution_count": 5,
   "metadata": {},
   "outputs": [
    {
     "data": {
      "text/plain": [
       "'df = event_df[event_df.攻撃チーム==team]\\ntriple = make_inning_triple(make_inning_list(df, score_end=1, how=\"both\"))\\nlst = make_flattened_list(triple)'"
      ]
     },
     "execution_count": 5,
     "metadata": {},
     "output_type": "execute_result"
    }
   ],
   "source": [
    "team = \"Rソックス\"\n",
    "\"\"\"df = event_df[event_df.攻撃チーム==team]\n",
    "triple = make_inning_triple(make_inning_list(df, score_end=1, how=\"both\"))\n",
    "lst = make_flattened_list(triple)\"\"\""
   ]
  },
  {
   "cell_type": "code",
   "execution_count": 9,
   "metadata": {},
   "outputs": [],
   "source": [
    "def triple_on_score_diff(team, diff_lower, diff_upper, year=\"both\"):\n",
    "    if year == \"both\":\n",
    "        df = event_df[event_df.攻撃チーム==team]\n",
    "    elif int(year) == 2018:\n",
    "        df = df_2018[df_2018.攻撃チーム==team]\n",
    "    elif int(year) == 2017:\n",
    "        df = df_2017[df_2017.攻撃チーム==team]\n",
    "    triple = make_inning_triple(make_inning_list(df, score_end=1, how=\"both\"))\n",
    "    lst = make_flattened_list(triple)\n",
    "    res = []\n",
    "    for elem in lst:\n",
    "        my_score = int(elem[1][1])\n",
    "        opp_score = int(elem[1][2])\n",
    "        if diff_lower < diff_upper:\n",
    "            if diff_lower <= my_score - opp_score <= diff_upper:\n",
    "                res.append(((elem[0][0], elem[0][1]), (elem[1][0], elem[1][1]), (elem[2][0], elem[2][1])))\n",
    "        elif diff_lower > diff_upper:\n",
    "            if diff_lower <= my_score - opp_score or my_score - opp_score <= diff_upper:\n",
    "                res.append(((elem[0][0], elem[0][1]), (elem[1][0], elem[1][1]), (elem[2][0], elem[2][1])))\n",
    "        else:\n",
    "            raise \"diff_lower == diff_upper\"\n",
    "    return res"
   ]
  },
  {
   "cell_type": "markdown",
   "metadata": {},
   "source": [
    "## positive inhibition = 勝ってるから気をぬく = 流れはいいのに点が取れない"
   ]
  },
  {
   "cell_type": "markdown",
   "metadata": {},
   "source": [
    "## positive inhibitionを起こしがちなチームは、大差がつくとimp時の期待得点が下がる"
   ]
  },
  {
   "cell_type": "markdown",
   "metadata": {},
   "source": [
    "# 点数気にしない"
   ]
  },
  {
   "cell_type": "code",
   "execution_count": 7,
   "metadata": {},
   "outputs": [
    {
     "name": "stdout",
     "output_type": "stream",
     "text": [
      "ロイヤルズ 1.73434079927 0.729953972464\n",
      "Rソックス 1.09110112729 0.941280892137\n",
      "エンゼルス 0.896596966492 1.08914291887\n",
      "オリオールズ 2.07696661958 0.93173705575\n",
      "ブリュワーズ 1.52279025663 0.881431008828\n",
      "インディアンス 2.02368299397 0.994264339997\n",
      "ツインズ 1.3133155618 0.890298940168\n",
      "ブルージェイズ 1.45210184204 1.10560090737\n",
      "アスレチックス 1.69073195061 1.10704140305\n",
      "パドレス 1.20917565355 0.919569431152\n",
      "ナショナルズ 1.10317158033 0.84391607331\n",
      "マリナーズ 1.29958230174 0.849371686149\n",
      "メッツ 1.06962815205 0.831377455228\n",
      "レンジャーズ 1.10834891167 0.892911844747\n",
      "タイガース 1.42225116616 0.589737704438\n",
      "Dバックス 1.39743756764 0.865164692325\n",
      "ジャイアンツ 1.13897684718 0.546871213644\n",
      "フィリーズ 1.01101222667 0.79344755982\n",
      "ロッキーズ 2.50169731443 1.0068635569\n",
      "マーリンズ 1.4435278721 0.698586754476\n",
      "Wソックス 1.85376042444 0.905296725303\n",
      "カブス 0.951145693766 0.689155582977\n",
      "パイレーツ 1.47914353699 0.707592235481\n",
      "レッズ 1.19529542241 0.716872673001\n",
      "ドジャース 2.0677864503 1.01937427688\n",
      "ブレーブス 1.31991273036 0.747567448246\n",
      "アストロズ 1.98955862099 0.976127628249\n",
      "レイズ 0.722742849424 0.778823553131\n",
      "カージナルス 1.88933140785 0.833199313104\n",
      "ヤンキース 1.67463593201 1.14158997255\n"
     ]
    }
   ],
   "source": [
    "#imp_list = []\n",
    "#det_list = []\n",
    "res_dict1 = dict()\n",
    "for team in teams_mlb:\n",
    "    df = df_2018[df_2018.攻撃チーム==team]\n",
    "    triple = make_inning_triple(make_inning_list(df, score_end=1, how=\"own\"))\n",
    "    lst = make_flattened_list(triple[:])\n",
    "    improved_score_list = []\n",
    "    deteriorated_score_list = []\n",
    "    for three_series in [elem for elem in lst if elem[0][0]!=\"3000\" and elem[1][0]!=\"3000\"]:\n",
    "        if is_improved(three_series[0][0], three_series[1][0]):\n",
    "            improved_score_list.append(weighted_score(three_series[1][0], three_series[2][1]-three_series[1][1]))\n",
    "        elif is_deteriorated(three_series[0][0], three_series[1][0]):\n",
    "            deteriorated_score_list.append(weighted_score(three_series[1][0], three_series[2][1]-three_series[1][1]))\n",
    "    #imp_list.append(np.mean(improved_score_list))\n",
    "    #det_list.append(np.mean(deteriorated_score_list))\n",
    "    res_dict1[team] = (np.mean(improved_score_list), np.mean(deteriorated_score_list))\n",
    "    print(team, np.mean(improved_score_list), np.mean(deteriorated_score_list))"
   ]
  },
  {
   "cell_type": "code",
   "execution_count": 8,
   "metadata": {},
   "outputs": [
    {
     "data": {
      "text/plain": [
       "<matplotlib.collections.PathCollection at 0x201989bf60>"
      ]
     },
     "execution_count": 8,
     "metadata": {},
     "output_type": "execute_result"
    },
    {
     "data": {
      "image/png": "[encoded data removed]",
      "text/plain": [
       "<matplotlib.figure.Figure at 0x201306fc18>"
      ]
     },
     "metadata": {
      "image/png": {
       "height": 250,
       "width": 374
      }
     },
     "output_type": "display_data"
    }
   ],
   "source": [
    "plt.scatter([elem[0] for elem in list(res_dict1.values())], [elem[1] for elem in list(res_dict1.values())])"
   ]
  },
  {
   "cell_type": "markdown",
   "metadata": {},
   "source": [
    "# n点差以上"
   ]
  },
  {
   "cell_type": "code",
   "execution_count": 10,
   "metadata": {
    "scrolled": true
   },
   "outputs": [
    {
     "name": "stdout",
     "output_type": "stream",
     "text": [
      "ロイヤルズ 1.12394744466 0.767375824202\n",
      "Rソックス 1.00796291392 0.75955151635\n",
      "エンゼルス 1.18978374035 0.963294305834\n",
      "オリオールズ 4.85072256403 0.78397189396\n",
      "ブリュワーズ 3.55693191448 0.777699942631\n",
      "インディアンス 2.47206328836 0.93891900518\n",
      "ツインズ 0.606359446934 0.711324178568\n",
      "ブルージェイズ 0.951861517653 1.33345170028\n",
      "アスレチックス 2.81551893263 1.16914856634\n",
      "パドレス 1.27131473343 0.11559070089\n",
      "ナショナルズ 1.38269960096 0.740148585428\n",
      "マリナーズ 0.721986390933 1.08157430837\n",
      "メッツ 0.942099450444 1.766466201\n",
      "レンジャーズ 1.05113821801 1.06785165683\n",
      "タイガース 0.345828711351 0.247725602615\n",
      "Dバックス 0.98339763356 0.927635087731\n",
      "ジャイアンツ 0.434637629297 0.135238322708\n",
      "フィリーズ 1.01040395877 0.616045678754\n",
      "ロッキーズ 1.28467442384 0.964767660697\n",
      "マーリンズ 0.683391783698 1.08646339016\n",
      "Wソックス 0.423489757446 1.00973841894\n",
      "カブス 0.568724874738 0.343172548087\n",
      "パイレーツ 0.710816986119 0.914223533713\n",
      "レッズ 0.333062671801 0.3702131561\n",
      "ドジャース 1.29720602009 0.682502251477\n",
      "ブレーブス 1.0475294185 0.34242208313\n",
      "アストロズ 2.84819579072 1.18604094983\n",
      "レイズ 0.527915057716 1.29134656233\n",
      "カージナルス 1.19845974573 0.549408747514\n",
      "ヤンキース 1.0576443135 1.39236664085\n"
     ]
    }
   ],
   "source": [
    "#imp_list = []\n",
    "#det_list = []\n",
    "res_dict = dict()\n",
    "for team in teams_mlb:\n",
    "    lst = triple_on_score_diff(team, 5, 30, 2018)\n",
    "    improved_score_list = []\n",
    "    deteriorated_score_list = []\n",
    "    for three_series in [elem for elem in lst if elem[0][0]!=\"3000\" and elem[1][0]!=\"3000\"]:\n",
    "        if is_improved(three_series[0][0], three_series[1][0]):\n",
    "            improved_score_list.append(weighted_score(three_series[1][0], three_series[2][1]-three_series[1][1]))\n",
    "        elif is_deteriorated(three_series[0][0], three_series[1][0]):\n",
    "            deteriorated_score_list.append(weighted_score(three_series[1][0], three_series[2][1]-three_series[1][1]))\n",
    "    #imp_list.append(np.mean(improved_score_list))\n",
    "    #det_list.append(np.mean(deteriorated_score_list))\n",
    "    res_dict[team] = (np.mean(improved_score_list), np.mean(deteriorated_score_list))\n",
    "    print(team, np.mean(improved_score_list), np.mean(deteriorated_score_list))"
   ]
  },
  {
   "cell_type": "code",
   "execution_count": 11,
   "metadata": {},
   "outputs": [
    {
     "data": {
      "text/plain": [
       "<matplotlib.collections.PathCollection at 0x201492db00>"
      ]
     },
     "execution_count": 11,
     "metadata": {},
     "output_type": "execute_result"
    },
    {
     "data": {
      "image/png": "[encoded data removed]",
      "text/plain": [
       "<matplotlib.figure.Figure at 0x201306f6d8>"
      ]
     },
     "metadata": {
      "image/png": {
       "height": 250,
       "width": 381
      }
     },
     "output_type": "display_data"
    }
   ],
   "source": [
    "plt.scatter([elem[0] for elem in list(res_dict.values())], [elem[1] for elem in list(res_dict.values())])"
   ]
  },
  {
   "cell_type": "code",
   "execution_count": 12,
   "metadata": {},
   "outputs": [
    {
     "name": "stdout",
     "output_type": "stream",
     "text": [
      "4 エンゼルス 0.293186773856\n",
      "5 オリオールズ 2.77375594445\n",
      "1 ブリュワーズ 2.03414165784\n",
      "1 インディアンス 0.448380294397\n",
      "2 アスレチックス 1.12478698202\n",
      "5 パドレス 0.0621390798747\n",
      "2 ナショナルズ 0.279528020628\n",
      "1 アストロズ 0.858637169731\n"
     ]
    }
   ],
   "source": [
    "# 大差で勝っていると流れがいいとボコボコにするチーム\n",
    "for team in teams_mlb:\n",
    "    if res_dict1[team][0] < res_dict[team][0]:\n",
    "        print(ranking(team), team, res_dict[team][0] - res_dict1[team][0])"
   ]
  },
  {
   "cell_type": "code",
   "execution_count": 13,
   "metadata": {},
   "outputs": [
    {
     "name": "stdout",
     "output_type": "stream",
     "text": [
      "5 ロイヤルズ -0.610393354612\n",
      "1 Rソックス -0.0831382133682\n",
      "2 ツインズ -0.70695611487\n",
      "4 ブルージェイズ -0.500240324383\n",
      "3 マリナーズ -0.57759591081\n",
      "4 メッツ -0.127528701607\n",
      "5 レンジャーズ -0.0572106936583\n",
      "3 タイガース -1.07642245481\n",
      "3 Dバックス -0.414039934085\n",
      "4 ジャイアンツ -0.704339217881\n",
      "3 フィリーズ -0.000608267905102\n",
      "2 ロッキーズ -1.21702289058\n",
      "5 マーリンズ -0.760136088401\n",
      "4 Wソックス -1.43027066699\n",
      "2 カブス -0.382420819028\n",
      "4 パイレーツ -0.768326550868\n",
      "5 レッズ -0.862232750614\n",
      "1 ドジャース -0.770580430212\n",
      "1 ブレーブス -0.272383311864\n",
      "3 レイズ -0.194827791708\n",
      "3 カージナルス -0.690871662126\n",
      "2 ヤンキース -0.616991618504\n"
     ]
    }
   ],
   "source": [
    "# 大差で勝っていると油断するチーム\n",
    "for team in teams_mlb:\n",
    "    if res_dict1[team][0] > res_dict[team][0]:\n",
    "        print(ranking(team), team, res_dict[team][0] - res_dict1[team][0])"
   ]
  },
  {
   "cell_type": "code",
   "execution_count": null,
   "metadata": {},
   "outputs": [],
   "source": []
  }
 ],
 "metadata": {
  "kernelspec": {
   "display_name": "Python 3",
   "language": "python",
   "name": "python3"
  },
  "language_info": {
   "codemirror_mode": {
    "name": "ipython",
    "version": 3
   },
   "file_extension": ".py",
   "mimetype": "text/x-python",
   "name": "python",
   "nbconvert_exporter": "python",
   "pygments_lexer": "ipython3",
   "version": "3.5.4"
  }
 },
 "nbformat": 4,
 "nbformat_minor": 2
}
