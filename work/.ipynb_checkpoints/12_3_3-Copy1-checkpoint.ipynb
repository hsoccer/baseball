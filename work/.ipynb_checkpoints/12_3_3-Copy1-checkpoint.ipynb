{
 "cells": [
  {
   "cell_type": "code",
   "execution_count": 1,
   "metadata": {},
   "outputs": [],
   "source": [
    "import pandas as pd\n",
    "import numpy as np\n",
    "import re\n",
    "import os, sys\n",
    "import matplotlib.pyplot as plt\n",
    "import seaborn as sns\n",
    "from collections import Counter, defaultdict\n",
    "from itertools import product\n",
    "from scipy import stats\n",
    "\n",
    "%matplotlib inline\n",
    "plt.style.use('ggplot')\n",
    "#plt.style.use('seaborn-pastel')\n",
    "%config InlineBackend.figure_format = 'retina'\n",
    "import warnings\n",
    "warnings.filterwarnings('ignore')\n",
    "from tqdm import tqdm_notebook as tq\n",
    "\n",
    "sys.path.append(\"..\")\n",
    "from utils.util_functions import *\n",
    "\n",
    "pd.set_option('display.max_rows', 500)"
   ]
  },
  {
   "cell_type": "code",
   "execution_count": 2,
   "metadata": {},
   "outputs": [],
   "source": [
    "#event_df = make_df(data_dir=DETAIL_DATA_DIR_MLB)\n",
    "event_df = pd.read_csv(os.path.join(ROOT_DIR, \"event_df.csv\"), index_col=0, encoding=\"cp932\", dtype=object)\n",
    "#df_2017 = make_df(end=1944417, data_dir=DETAIL_DATA_DIR_MLB)\n",
    "df_2017 = pd.read_csv(os.path.join(ROOT_DIR, \"df_2017.csv\"), index_col=0, encoding=\"cp932\", dtype=object)\n",
    "#df_2018 = make_df(start=1944417, data_dir=DETAIL_DATA_DIR_MLB)\n",
    "df_2018 = pd.read_csv(os.path.join(ROOT_DIR, \"df_2018.csv\"), index_col=0, encoding=\"cp932\", dtype=object)\n",
    "files = os.listdir(DETAIL_DATA_DIR_MLB)[1:]\n",
    "names = pd.Series(files).apply(lambda x: int(x.split(\".\")[0]))\n",
    "files_2017 = names[names<=1944417].apply(lambda x: str(x)+\".csv\")\n",
    "files_2018 = names[names>1944417].apply(lambda x: str(x)+\".csv\")\n",
    "column = \"得点\"\n",
    "teams_mlb = list(set(pd.read_csv(os.path.join(SCORE_DATA_DIR_MLB, \"score_mlb.csv\"), encoding=\"cp932\", index_col=0).表チーム))\n",
    "teams_mlb.remove(\"ア・リーグ\")\n",
    "first_teams = ['Rソックス', 'インディアンス', 'アストロズ', 'ブレーブス', 'ブリュワーズ', 'ドジャース']\n",
    "second_teams = ['ヤンキース', 'ツインズ', 'アスレチックス', 'ナショナルズ', 'カブス', 'ロッキーズ']\n",
    "third_teams = ['レイズ', 'タイガース', 'マリナーズ', 'フィリーズ', 'カージナルス', 'Dバックス']\n",
    "fourth_teams = ['ブルージェイズ', 'Wソックス',  'エンゼルス', 'メッツ', 'パイレーツ', 'ジャイアンツ']\n",
    "fifth_teams = ['オリオールズ', 'ロイヤルズ', 'レンジャーズ', 'マーリンズ', 'レッズ', 'パドレス']"
   ]
  },
  {
   "cell_type": "code",
   "execution_count": 3,
   "metadata": {},
   "outputs": [],
   "source": [
    "def ranking(team):\n",
    "    first_teams = ['Rソックス', 'インディアンス', 'アストロズ', 'ブレーブス', 'ブリュワーズ', 'ドジャース']\n",
    "    second_teams = ['ヤンキース', 'ツインズ', 'アスレチックス', 'ナショナルズ', 'カブス', 'ロッキーズ']\n",
    "    third_teams = ['レイズ', 'タイガース', 'マリナーズ', 'フィリーズ', 'カージナルス', 'Dバックス']\n",
    "    fourth_teams = ['ブルージェイズ', 'Wソックス',  'エンゼルス', 'メッツ', 'パイレーツ', 'ジャイアンツ']\n",
    "    fifth_teams = ['オリオールズ', 'ロイヤルズ', 'レンジャーズ', 'マーリンズ', 'レッズ', 'パドレス']\n",
    "    lst = [first_teams, second_teams, third_teams, fourth_teams, fifth_teams]\n",
    "    for i in range(len(lst)):\n",
    "        teams = lst[i]\n",
    "        if team in teams:\n",
    "            return i + 1"
   ]
  },
  {
   "cell_type": "code",
   "execution_count": 4,
   "metadata": {},
   "outputs": [],
   "source": [
    "case_expected_score_dict = dict(pd.read_csv(os.path.join(ROOT_DIR, \"case_expected_score.csv\"), dtype=object).values)\n",
    "case_expected_score_dict = dict([[key, float(value)] for key, value in case_expected_score_dict.items()])\n",
    "\n",
    "def weighted_score(case, score):\n",
    "    \"\"\"\n",
    "    lst : (Stの状況, 直後の得点)\n",
    "    \"\"\"\n",
    "    return score / case_expected_score_dict[case]"
   ]
  },
  {
   "cell_type": "code",
   "execution_count": 5,
   "metadata": {},
   "outputs": [
    {
     "data": {
      "text/plain": [
       "'df = event_df[event_df.攻撃チーム==team]\\ntriple = make_inning_triple(make_inning_list(df, score_end=1, how=\"both\"))\\nlst = make_flattened_list(triple)'"
      ]
     },
     "execution_count": 5,
     "metadata": {},
     "output_type": "execute_result"
    }
   ],
   "source": [
    "team = \"Rソックス\"\n",
    "\"\"\"df = event_df[event_df.攻撃チーム==team]\n",
    "triple = make_inning_triple(make_inning_list(df, score_end=1, how=\"both\"))\n",
    "lst = make_flattened_list(triple)\"\"\""
   ]
  },
  {
   "cell_type": "code",
   "execution_count": 6,
   "metadata": {},
   "outputs": [],
   "source": [
    "def triple_on_score_diff(team, diff_lower, diff_upper):\n",
    "    df = event_df[event_df.攻撃チーム==team]\n",
    "    triple = make_inning_triple(make_inning_list(df, score_end=1, how=\"both\"))\n",
    "    lst = make_flattened_list(triple)\n",
    "    res = []\n",
    "    for elem in lst:\n",
    "        my_score = int(elem[1][1])\n",
    "        opp_score = int(elem[1][2])\n",
    "        if diff_lower < diff_upper:\n",
    "            if diff_lower <= my_score - opp_score <= diff_upper:\n",
    "                res.append(((elem[0][0], elem[0][1]), (elem[1][0], elem[1][1]), (elem[2][0], elem[2][1])))\n",
    "        elif diff_lower > diff_upper:\n",
    "            if diff_lower <= my_score - opp_score or my_score - opp_score <= diff_upper:\n",
    "                res.append(((elem[0][0], elem[0][1]), (elem[1][0], elem[1][1]), (elem[2][0], elem[2][1])))\n",
    "        else:\n",
    "            raise \"diff_lower == diff_upper\"\n",
    "    return res"
   ]
  },
  {
   "cell_type": "markdown",
   "metadata": {},
   "source": [
    "## negative facilitation = 負けてることが逆に力になる"
   ]
  },
  {
   "cell_type": "markdown",
   "metadata": {},
   "source": [
    "## negative facilitaitonを起こしがちなチームは、僅差で負けているとdet時の期待得点が上がる"
   ]
  },
  {
   "cell_type": "markdown",
   "metadata": {},
   "source": [
    "# 点数気にしない"
   ]
  },
  {
   "cell_type": "code",
   "execution_count": 7,
   "metadata": {},
   "outputs": [
    {
     "name": "stdout",
     "output_type": "stream",
     "text": [
      "パドレス 1.1194927535 0.895955108566\n",
      "パイレーツ 1.35251383129 0.631483711265\n",
      "マーリンズ 1.86824915894 0.800064418143\n",
      "ヤンキース 1.82572305221 1.00319373951\n",
      "カブス 1.12341609717 0.876937092662\n",
      "アストロズ 1.92802262217 0.917786462583\n",
      "タイガース 1.28639718647 0.715798861343\n",
      "ナショナルズ 1.76014733489 0.813545986586\n",
      "ツインズ 1.39918701953 0.842306335731\n",
      "ロイヤルズ 2.20180326219 0.790367630575\n",
      "メッツ 1.42374978819 0.962482221972\n",
      "Rソックス 1.30982737849 0.819188972614\n",
      "レンジャーズ 1.14533576548 0.970702274359\n",
      "レイズ 0.889645129887 0.916170941551\n",
      "アスレチックス 1.98687241498 1.08381309416\n",
      "ジャイアンツ 0.882602478288 0.655131235304\n",
      "ドジャース 1.91923638098 1.01325743801\n",
      "ブリュワーズ 1.82942589581 0.946072698121\n",
      "インディアンス 1.72810198903 1.01632508776\n",
      "オリオールズ 1.86542104218 0.960262310013\n",
      "マリナーズ 1.87008270554 0.902569233866\n",
      "エンゼルス 1.20198645342 0.948968721226\n",
      "ブルージェイズ 1.50872919605 1.01985066925\n",
      "レッズ 1.40846019932 0.82715877444\n",
      "Dバックス 1.80406127812 0.901758805464\n",
      "Wソックス 2.08338100829 0.875830524006\n",
      "ロッキーズ 1.88719126475 0.92113289828\n",
      "フィリーズ 1.23471734456 0.783229856355\n",
      "ブレーブス 1.27880759702 0.759568932936\n",
      "カージナルス 1.38064927148 0.890158841389\n"
     ]
    }
   ],
   "source": [
    "#imp_list = []\n",
    "#det_list = []\n",
    "res_dict1 = dict()\n",
    "for team in teams_mlb:\n",
    "    df = event_df[event_df.攻撃チーム==team]\n",
    "    triple = make_inning_triple(make_inning_list(df, score_end=1, how=\"own\"))\n",
    "    lst = make_flattened_list(triple[:])\n",
    "    improved_score_list = []\n",
    "    deteriorated_score_list = []\n",
    "    for three_series in [elem for elem in lst if elem[0][0]!=\"3000\" and elem[1][0]!=\"3000\"]:\n",
    "        if is_improved(three_series[0][0], three_series[1][0]):\n",
    "            improved_score_list.append(weighted_score(three_series[1][0], three_series[2][1]-three_series[1][1]))\n",
    "        elif is_deteriorated(three_series[0][0], three_series[1][0]):\n",
    "            deteriorated_score_list.append(weighted_score(three_series[1][0], three_series[2][1]-three_series[1][1]))\n",
    "    #imp_list.append(np.mean(improved_score_list))\n",
    "    #det_list.append(np.mean(deteriorated_score_list))\n",
    "    res_dict1[team] = (np.mean(improved_score_list), np.mean(deteriorated_score_list))\n",
    "    print(team, np.mean(improved_score_list), np.mean(deteriorated_score_list))"
   ]
  },
  {
   "cell_type": "code",
   "execution_count": 8,
   "metadata": {},
   "outputs": [
    {
     "data": {
      "text/plain": [
       "<matplotlib.collections.PathCollection at 0x201acfed30>"
      ]
     },
     "execution_count": 8,
     "metadata": {},
     "output_type": "execute_result"
    },
    {
     "data": {
      "image/png": "[encoded data removed]",
      "text/plain": [
       "<matplotlib.figure.Figure at 0x201c0adb70>"
      ]
     },
     "metadata": {
      "image/png": {
       "height": 250,
       "width": 374
      }
     },
     "output_type": "display_data"
    }
   ],
   "source": [
    "plt.scatter([elem[0] for elem in list(res_dict1.values())], [elem[1] for elem in list(res_dict1.values())])"
   ]
  },
  {
   "cell_type": "markdown",
   "metadata": {},
   "source": [
    "# 4点差の負け以内"
   ]
  },
  {
   "cell_type": "code",
   "execution_count": 9,
   "metadata": {
    "scrolled": true
   },
   "outputs": [
    {
     "name": "stdout",
     "output_type": "stream",
     "text": [
      "パドレス 0.832459956564 0.971472514976\n",
      "パイレーツ 1.102576444 0.553055526711\n",
      "マーリンズ 1.46902107977 0.810571532113\n",
      "ヤンキース 0.872290858787 0.801381620094\n",
      "カブス 0.823479538951 0.717790584433\n",
      "アストロズ 1.10091906223 0.963527010683\n",
      "タイガース 1.32678225076 0.627972261624\n",
      "ナショナルズ 0.632124223747 0.799143987202\n",
      "ツインズ 1.23920773034 0.809332592573\n",
      "ロイヤルズ 1.65828795187 0.993529597101\n",
      "メッツ 1.20569790682 0.937853999983\n",
      "Rソックス 1.54036348808 0.997019908432\n",
      "レンジャーズ 0.765888576242 0.912531349195\n",
      "レイズ 0.639373098359 0.958118230871\n",
      "アスレチックス 1.95322400388 0.907319935113\n",
      "ジャイアンツ 1.07878981595 0.561484314184\n",
      "ドジャース 1.88395770939 1.03733382046\n",
      "ブリュワーズ 1.344477634 0.94856045924\n",
      "インディアンス 1.31843108878 0.944006653553\n",
      "オリオールズ 1.58573652003 1.02220095446\n",
      "マリナーズ 1.95858674519 0.758979022774\n",
      "エンゼルス 0.88750898539 0.823961880279\n",
      "ブルージェイズ 0.962201650104 0.907827492019\n",
      "レッズ 0.969886658449 0.662217991116\n",
      "Dバックス 0.928060217144 0.722140636736\n",
      "Wソックス 2.13201700203 0.795963834772\n",
      "ロッキーズ 1.64315687253 0.709876915698\n",
      "フィリーズ 0.762423720764 0.817661628071\n",
      "ブレーブス 0.852143431162 0.682878087544\n",
      "カージナルス 0.833694859766 0.955418075939\n"
     ]
    }
   ],
   "source": [
    "#imp_list = []\n",
    "#det_list = []\n",
    "res_dict = dict()\n",
    "for team in teams_mlb:\n",
    "    lst = triple_on_score_diff(team, -4, -1)\n",
    "    improved_score_list = []\n",
    "    deteriorated_score_list = []\n",
    "    for three_series in [elem for elem in lst if elem[0][0]!=\"3000\" and elem[1][0]!=\"3000\"]:\n",
    "        if is_improved(three_series[0][0], three_series[1][0]):\n",
    "            improved_score_list.append(weighted_score(three_series[1][0], three_series[2][1]-three_series[1][1]))\n",
    "        elif is_deteriorated(three_series[0][0], three_series[1][0]):\n",
    "            deteriorated_score_list.append(weighted_score(three_series[1][0], three_series[2][1]-three_series[1][1]))\n",
    "    #imp_list.append(np.mean(improved_score_list))\n",
    "    #det_list.append(np.mean(deteriorated_score_list))\n",
    "    res_dict[team] = (np.mean(improved_score_list), np.mean(deteriorated_score_list))\n",
    "    print(team, np.mean(improved_score_list), np.mean(deteriorated_score_list))"
   ]
  },
  {
   "cell_type": "code",
   "execution_count": 10,
   "metadata": {},
   "outputs": [
    {
     "data": {
      "text/plain": [
       "<matplotlib.collections.PathCollection at 0x201f4f9c50>"
      ]
     },
     "execution_count": 10,
     "metadata": {},
     "output_type": "execute_result"
    },
    {
     "data": {
      "image/png": "[encoded data removed]",
      "text/plain": [
       "<matplotlib.figure.Figure at 0x201ad4e2e8>"
      ]
     },
     "metadata": {
      "image/png": {
       "height": 250,
       "width": 377
      }
     },
     "output_type": "display_data"
    }
   ],
   "source": [
    "plt.scatter([elem[0] for elem in list(res_dict.values())], [elem[1] for elem in list(res_dict.values())])"
   ]
  },
  {
   "cell_type": "code",
   "execution_count": 11,
   "metadata": {},
   "outputs": [
    {
     "name": "stdout",
     "output_type": "stream",
     "text": [
      "5 パドレス 0.07551740641\n",
      "5 マーリンズ 0.0105071139693\n",
      "1 アストロズ 0.0457405481005\n",
      "5 ロイヤルズ 0.203161966526\n",
      "1 Rソックス 0.177830935818\n",
      "3 レイズ 0.0419472893207\n",
      "1 ドジャース 0.0240763824496\n",
      "1 ブリュワーズ 0.00248776111844\n",
      "5 オリオールズ 0.0619386444427\n",
      "3 フィリーズ 0.0344317717159\n",
      "3 カージナルス 0.0652592345492\n"
     ]
    }
   ],
   "source": [
    "# 僅差で負けていると、流れが悪くても頑張るチーム\n",
    "for team in teams_mlb:\n",
    "    if res_dict1[team][1] < res_dict[team][1]:\n",
    "        print(ranking(team), team, res_dict[team][1] - res_dict1[team][1])"
   ]
  },
  {
   "cell_type": "code",
   "execution_count": 12,
   "metadata": {},
   "outputs": [
    {
     "name": "stdout",
     "output_type": "stream",
     "text": [
      "4 パイレーツ -0.0784281845542\n",
      "2 ヤンキース -0.201812119418\n",
      "2 カブス -0.159146508229\n",
      "3 タイガース -0.0878265997188\n",
      "2 ナショナルズ -0.0144019993833\n",
      "2 ツインズ -0.0329737431583\n",
      "4 メッツ -0.0246282219881\n",
      "5 レンジャーズ -0.0581709251637\n",
      "2 アスレチックス -0.176493159043\n",
      "4 ジャイアンツ -0.0936469211197\n",
      "1 インディアンス -0.0723184342063\n",
      "3 マリナーズ -0.143590211092\n",
      "4 エンゼルス -0.125006840947\n",
      "4 ブルージェイズ -0.112023177232\n",
      "5 レッズ -0.164940783324\n",
      "3 Dバックス -0.179618168728\n",
      "4 Wソックス -0.0798666892342\n",
      "2 ロッキーズ -0.211255982582\n",
      "1 ブレーブス -0.0766908453915\n"
     ]
    }
   ],
   "source": [
    "# 僅差で負けていると、流れが悪いと諦めるチーム\n",
    "for team in teams_mlb:\n",
    "    if res_dict1[team][1] > res_dict[team][1]:\n",
    "        print(ranking(team), team, res_dict[team][1] - res_dict1[team][1])"
   ]
  },
  {
   "cell_type": "code",
   "execution_count": 16,
   "metadata": {},
   "outputs": [
    {
     "data": {
      "text/plain": [
       "4.189830508474576"
      ]
     },
     "execution_count": 16,
     "metadata": {},
     "output_type": "execute_result"
    }
   ],
   "source": [
    "make_score_df_mlb(\"オリオールズ\").得点.mean()"
   ]
  },
  {
   "cell_type": "code",
   "execution_count": 17,
   "metadata": {},
   "outputs": [
    {
     "data": {
      "text/plain": [
       "5.201298701298701"
      ]
     },
     "execution_count": 17,
     "metadata": {},
     "output_type": "execute_result"
    }
   ],
   "source": [
    "make_score_df_mlb(\"Rソックス\").得点.mean()"
   ]
  },
  {
   "cell_type": "code",
   "execution_count": 18,
   "metadata": {
    "scrolled": true
   },
   "outputs": [
    {
     "name": "stdout",
     "output_type": "stream",
     "text": [
      "パドレス 3.7169811320754715\n",
      "パイレーツ 4.240875912408759\n",
      "マーリンズ 4.258181818181818\n",
      "ヤンキース 5.279874213836478\n",
      "カブス 4.818815331010453\n",
      "アストロズ 5.1877022653721685\n",
      "タイガース 4.129692832764505\n",
      "ナショナルズ 4.794117647058823\n",
      "ツインズ 4.7421602787456445\n",
      "ロイヤルズ 4.058219178082192\n",
      "メッツ 4.2327272727272724\n",
      "Rソックス 5.201298701298701\n",
      "レンジャーズ 4.760869565217392\n",
      "レイズ 4.345637583892618\n",
      "アスレチックス 4.885714285714286\n",
      "ジャイアンツ 3.7941176470588234\n",
      "ドジャース 4.8737541528239205\n",
      "ブリュワーズ 4.540350877192982\n",
      "インディアンス 5.016556291390729\n",
      "オリオールズ 4.189830508474576\n",
      "マリナーズ 4.316725978647687\n",
      "エンゼルス 4.310954063604241\n",
      "ブルージェイズ 4.231543624161074\n",
      "レッズ 4.56\n",
      "Dバックス 4.653429602888087\n",
      "Wソックス 4.11340206185567\n",
      "ロッキーズ 4.925266903914591\n",
      "フィリーズ 4.218181818181818\n",
      "ブレーブス 4.553571428571429\n",
      "カージナルス 4.709677419354839\n"
     ]
    }
   ],
   "source": [
    "for team in teams_mlb:\n",
    "    print(team, make_score_df_mlb(team).得点.mean())"
   ]
  },
  {
   "cell_type": "code",
   "execution_count": null,
   "metadata": {},
   "outputs": [],
   "source": []
  }
 ],
 "metadata": {
  "kernelspec": {
   "display_name": "Python 3",
   "language": "python",
   "name": "python3"
  },
  "language_info": {
   "codemirror_mode": {
    "name": "ipython",
    "version": 3
   },
   "file_extension": ".py",
   "mimetype": "text/x-python",
   "name": "python",
   "nbconvert_exporter": "python",
   "pygments_lexer": "ipython3",
   "version": "3.5.4"
  }
 },
 "nbformat": 4,
 "nbformat_minor": 2
}
