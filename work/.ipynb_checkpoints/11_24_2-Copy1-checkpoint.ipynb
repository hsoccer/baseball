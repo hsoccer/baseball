{
 "cells": [
  {
   "cell_type": "code",
   "execution_count": 1,
   "metadata": {},
   "outputs": [],
   "source": [
    "import pandas as pd\n",
    "import numpy as np\n",
    "import re\n",
    "import os, sys\n",
    "import matplotlib.pyplot as plt\n",
    "import seaborn as sns\n",
    "from collections import Counter, defaultdict\n",
    "from itertools import product\n",
    "from scipy import stats\n",
    "\n",
    "%matplotlib inline\n",
    "plt.style.use('ggplot')\n",
    "#plt.style.use('seaborn-pastel')\n",
    "%config InlineBackend.figure_format = 'retina'\n",
    "import warnings\n",
    "warnings.filterwarnings('ignore')\n",
    "\n",
    "sys.path.append(\"..\")\n",
    "from utils.util_functions import *"
   ]
  },
  {
   "cell_type": "markdown",
   "metadata": {},
   "source": [
    "# 流れがいい時だけ取り出して得点の分散との関係を見る"
   ]
  },
  {
   "cell_type": "code",
   "execution_count": null,
   "metadata": {},
   "outputs": [],
   "source": [
    "def is_improved(before, after):\n",
    "    if before[0] == after[0]:\n",
    "        if int(before[::-1][:-1]) <= int(after[::-1][:-1]):\n",
    "            return True\n",
    "    return False\n",
    "\n",
    "def is_deteriorated(before, after):\n",
    "    if int(before[0]) < int(after):\n",
    "        if int(before[::-1][:-1]) >= int(after[::-1][:-1]):\n",
    "            return True\n",
    "    return False"
   ]
  },
  {
   "cell_type": "code",
   "execution_count": 2,
   "metadata": {},
   "outputs": [],
   "source": [
    "event_df = make_df(\"20180101\", \"20181231\")"
   ]
  },
  {
   "cell_type": "code",
   "execution_count": null,
   "metadata": {},
   "outputs": [],
   "source": [
    "team = \"ロッテ\"\n",
    "lst = make_flattened_list(make_inning_triple(make_inning_list(event_df[event_df.攻撃チーム==team])))"
   ]
  },
  {
   "cell_type": "code",
   "execution_count": null,
   "metadata": {},
   "outputs": [],
   "source": [
    "def digits_to_list(case):\n",
    "    res = [0] * 6\n",
    "    out = case[0]\n",
    "    if out != \"3\":\n",
    "        res[int(out)] = 1\n",
    "    if case[1] == \"1\":\n",
    "        res[3] = 1\n",
    "    if case[2] == \"1\":\n",
    "        res[4] = 1\n",
    "    if case[3] == \"1\":\n",
    "        res[5] = 1\n",
    "    return res"
   ]
  },
  {
   "cell_type": "code",
   "execution_count": null,
   "metadata": {},
   "outputs": [],
   "source": [
    "digits_to_list(\"1001\")"
   ]
  },
  {
   "cell_type": "code",
   "execution_count": null,
   "metadata": {},
   "outputs": [],
   "source": [
    "def make_data_set(lst):\n",
    "    data = []\n",
    "    for triple in lst:\n",
    "        st0, st1, st2 = triple\n",
    "        feature = digits_to_list(st0) + digits_to_list(st1)\n",
    "        label = digits_to_list(st2)\n",
    "        data.append([feature, label])\n",
    "    return data"
   ]
  },
  {
   "cell_type": "code",
   "execution_count": null,
   "metadata": {},
   "outputs": [],
   "source": [
    "data = make_data_set(lst)"
   ]
  },
  {
   "cell_type": "code",
   "execution_count": null,
   "metadata": {},
   "outputs": [],
   "source": [
    "X = np.array(np.array(data)[:, 0].tolist())\n",
    "y = np.array(np.array(data)[:, 1].tolist())"
   ]
  },
  {
   "cell_type": "code",
   "execution_count": null,
   "metadata": {},
   "outputs": [],
   "source": [
    "X_train, X_test, y_train, y_test = train_test_split(X, y)"
   ]
  },
  {
   "cell_type": "code",
   "execution_count": null,
   "metadata": {},
   "outputs": [],
   "source": [
    "from sklearn.cross_validation import train_test_split\n",
    "from sklearn.linear_model import LogisticRegression\n",
    "from sklearn.metrics import confusion_matrix, cohen_kappa_score"
   ]
  },
  {
   "cell_type": "code",
   "execution_count": null,
   "metadata": {},
   "outputs": [],
   "source": [
    "num = 1"
   ]
  },
  {
   "cell_type": "code",
   "execution_count": null,
   "metadata": {
    "scrolled": true
   },
   "outputs": [],
   "source": [
    "model = LogisticRegression()\n",
    "model.fit(X_train, y_train[:, num])"
   ]
  },
  {
   "cell_type": "code",
   "execution_count": null,
   "metadata": {},
   "outputs": [],
   "source": [
    "model.coef_"
   ]
  },
  {
   "cell_type": "code",
   "execution_count": null,
   "metadata": {},
   "outputs": [],
   "source": []
  },
  {
   "cell_type": "code",
   "execution_count": null,
   "metadata": {
    "scrolled": true
   },
   "outputs": [],
   "source": [
    "sum(model.predict(X_test) == y_test[:, num]) / len(y_test)"
   ]
  },
  {
   "cell_type": "code",
   "execution_count": null,
   "metadata": {},
   "outputs": [],
   "source": [
    "confusion_matrix(model.predict(X_test), y_test[:, num])"
   ]
  },
  {
   "cell_type": "code",
   "execution_count": null,
   "metadata": {},
   "outputs": [],
   "source": [
    "cohen_kappa_score(model.predict(X_test), y_test[:, num])"
   ]
  },
  {
   "cell_type": "code",
   "execution_count": null,
   "metadata": {},
   "outputs": [],
   "source": []
  },
  {
   "cell_type": "code",
   "execution_count": null,
   "metadata": {},
   "outputs": [],
   "source": []
  },
  {
   "cell_type": "code",
   "execution_count": null,
   "metadata": {},
   "outputs": [],
   "source": []
  },
  {
   "cell_type": "code",
   "execution_count": null,
   "metadata": {},
   "outputs": [],
   "source": []
  },
  {
   "cell_type": "code",
   "execution_count": null,
   "metadata": {},
   "outputs": [],
   "source": []
  },
  {
   "cell_type": "code",
   "execution_count": null,
   "metadata": {},
   "outputs": [],
   "source": []
  },
  {
   "cell_type": "code",
   "execution_count": null,
   "metadata": {},
   "outputs": [],
   "source": [
    "team = \"ロッテ\"\n",
    "lst = make_flattened_list(make_inning_triple(make_inning_list(event_df[event_df.攻撃チーム==team])))"
   ]
  },
  {
   "cell_type": "code",
   "execution_count": null,
   "metadata": {},
   "outputs": [],
   "source": [
    "improved_lst = [elem for elem in lst if is_improved(elem[0], elem[1])]"
   ]
  },
  {
   "cell_type": "code",
   "execution_count": null,
   "metadata": {},
   "outputs": [],
   "source": [
    "len(improved_lst), len(lst)"
   ]
  },
  {
   "cell_type": "code",
   "execution_count": null,
   "metadata": {},
   "outputs": [],
   "source": [
    "second_cond_entropy = cond_entropy(pd.DataFrame(improved_lst)[2].values, pd.DataFrame(improved_lst)[[0, 1]].values)\n",
    "first_cond_entropy = cond_entropy(pd.DataFrame(improved_lst)[2].values, pd.DataFrame(improved_lst)[[1]].values)"
   ]
  },
  {
   "cell_type": "code",
   "execution_count": null,
   "metadata": {},
   "outputs": [],
   "source": [
    "second_cond_entropy"
   ]
  },
  {
   "cell_type": "code",
   "execution_count": null,
   "metadata": {},
   "outputs": [],
   "source": [
    "first_cond_entropy"
   ]
  },
  {
   "cell_type": "code",
   "execution_count": 3,
   "metadata": {},
   "outputs": [],
   "source": [
    "column = \"得点\""
   ]
  },
  {
   "cell_type": "code",
   "execution_count": 4,
   "metadata": {
    "scrolled": true
   },
   "outputs": [
    {
     "name": "stdout",
     "output_type": "stream",
     "text": [
      "西武 -0.10179032068968841 3.46452910947\n",
      "ソフトバンク -0.089414622760289 3.19062218542\n",
      "日本ハム -0.08400378484355508 2.99808120277\n",
      "オリックス -0.09048961809240619 2.86439522962\n",
      "ロッテ -0.09913591208737693 2.72549398464\n",
      "楽天 -0.08917703771208685 2.87909948565\n",
      "広島 -0.10434874360639457 3.1490932408\n",
      "ヤクルト -0.09155922865863175 2.91726519115\n",
      "巨人 -0.07710201629454327 3.27865168571\n",
      "ＤｅＮＡ -0.07286362780178757 2.79709599974\n",
      "中日 -0.09488352933846134 2.9345880116\n",
      "阪神 -0.0876222136286986 3.62989803137\n"
     ]
    }
   ],
   "source": [
    "diffs = []\n",
    "stds = []\n",
    "for team in pacific+central:\n",
    "    lst = make_flattened_list(make_inning_triple(make_inning_list(event_df[event_df.攻撃チーム==team])))\n",
    "    #improved_lst = [elem for elem in lst if is_improved(elem[0], elem[1])]\n",
    "    improved_lst = [elem for elem in lst if is_deteriorated(elem[0], elem[1])]\n",
    "    # H(St+1 | St, St-1)\n",
    "    second_cond_entropy = cond_entropy(pd.DataFrame(improved_lst)[2].values, pd.DataFrame(improved_lst)[[0, 1]].values)\n",
    "    # H(St+1 | St)\n",
    "    first_cond_entropy = cond_entropy(pd.DataFrame(improved_lst)[2].values, pd.DataFrame(improved_lst)[[1]].values)\n",
    "    std = make_score_df(team).describe()[column][\"std\"] #/ make_score_df(team).describe()[column][\"mean\"]\n",
    "    diffs.append(second_cond_entropy - first_cond_entropy)\n",
    "    stds.append(std)\n",
    "    print(team, second_cond_entropy - first_cond_entropy, std)"
   ]
  },
  {
   "cell_type": "code",
   "execution_count": 5,
   "metadata": {},
   "outputs": [
    {
     "data": {
      "text/plain": [
       "<matplotlib.collections.PathCollection at 0x201b4d5c50>"
      ]
     },
     "execution_count": 5,
     "metadata": {},
     "output_type": "execute_result"
    },
    {
     "data": {
      "image/png": "[encoded data removed]",
      "text/plain": [
       "<matplotlib.figure.Figure at 0x201bb0bda0>"
      ]
     },
     "metadata": {
      "image/png": {
       "height": 250,
       "width": 374
      }
     },
     "output_type": "display_data"
    }
   ],
   "source": [
    "plt.scatter(diffs[:6], stds[:6], color=\"red\")\n",
    "plt.scatter(diffs[6:], stds[6:], color=\"blue\")"
   ]
  },
  {
   "cell_type": "code",
   "execution_count": 6,
   "metadata": {},
   "outputs": [
    {
     "data": {
      "image/png": "[encoded data removed]",
      "text/plain": [
       "<matplotlib.figure.Figure at 0x221fb54f60>"
      ]
     },
     "metadata": {
      "image/png": {
       "height": 250,
       "width": 374
      }
     },
     "output_type": "display_data"
    }
   ],
   "source": [
    "import statsmodels.api as sm\n",
    "\n",
    "nsample = len(diffs)\n",
    "X = np.column_stack((np.repeat(1, nsample), diffs))\n",
    "\n",
    "model = sm.OLS(stds, X)\n",
    "results = model.fit()\n",
    "\n",
    "a, b = results.params\n",
    "\n",
    "plt.scatter(diffs, stds)\n",
    "plt.plot(diffs, a+b*np.array(diffs))\n",
    "plt.show()"
   ]
  },
  {
   "cell_type": "code",
   "execution_count": 7,
   "metadata": {},
   "outputs": [
    {
     "data": {
      "text/plain": [
       "array([ 0.00809077,  0.76069986])"
      ]
     },
     "execution_count": 7,
     "metadata": {},
     "output_type": "execute_result"
    }
   ],
   "source": [
    "results.pvalues"
   ]
  },
  {
   "cell_type": "markdown",
   "metadata": {},
   "source": [
    "# MLB"
   ]
  },
  {
   "cell_type": "code",
   "execution_count": null,
   "metadata": {},
   "outputs": [],
   "source": [
    "files = os.listdir(DETAIL_DATA_DIR_MLB)[1:]\n",
    "res = []\n",
    "for file in files:\n",
    "    res.append(pd.read_csv(os.path.join(DETAIL_DATA_DIR_MLB, file), encoding=\"cp932\", dtype=str).values.tolist())"
   ]
  },
  {
   "cell_type": "code",
   "execution_count": null,
   "metadata": {},
   "outputs": [],
   "source": [
    "inning_list = []\n",
    "for elem in res:\n",
    "    try:\n",
    "        inning_list.append(np.array(elem)[:, 1].tolist() + [\"GAMESET\"])\n",
    "    except:\n",
    "        print(\"ng\")"
   ]
  },
  {
   "cell_type": "code",
   "execution_count": 8,
   "metadata": {
    "scrolled": true
   },
   "outputs": [],
   "source": [
    "event_df = make_df(data_dir=DETAIL_DATA_DIR_MLB)"
   ]
  },
  {
   "cell_type": "code",
   "execution_count": 9,
   "metadata": {},
   "outputs": [],
   "source": [
    "column = \"得点\"\n",
    "teams_mlb = list(set(pd.read_csv(os.path.join(SCORE_DATA_DIR_MLB, \"score_mlb.csv\"), encoding=\"cp932\", index_col=0).表チーム))\n",
    "teams_mlb.remove(\"ア・リーグ\")"
   ]
  },
  {
   "cell_type": "code",
   "execution_count": null,
   "metadata": {},
   "outputs": [],
   "source": [
    "\"\"\"def make_score_df_mlb(team):\n",
    "    res = []\n",
    "    columns = [\"相手\", \"得点\", \"失点\"]\n",
    "    df = pd.read_csv(os.path.join(SCORE_DATA_DIR_MLB, \"score_mlb.csv\"), encoding=\"cp932\", index_col=0)\n",
    "    df_top = df[df[\"表チーム\"]==team]\n",
    "    df_bot = df[df[\"裏チーム\"]==team]\n",
    "    for elem in df_top.values:\n",
    "        res.append([elem[1], elem[2], elem[3]])\n",
    "    for elem in df_bot.values:\n",
    "        res.append([elem[0], elem[3], elem[2]])\n",
    "    return pd.DataFrame(res, columns=columns)\"\"\""
   ]
  },
  {
   "cell_type": "code",
   "execution_count": null,
   "metadata": {},
   "outputs": [],
   "source": []
  },
  {
   "cell_type": "code",
   "execution_count": 10,
   "metadata": {
    "scrolled": true
   },
   "outputs": [
    {
     "name": "stdout",
     "output_type": "stream",
     "text": [
      "アストロズ -0.07002998302764718 0.684975274055\n",
      "レンジャーズ -0.08768508268172637 0.714067340083\n",
      "ブリュワーズ -0.07547572526071189 0.670083659328\n",
      "ロッキーズ -0.0729843569532238 0.6973869369\n",
      "マーリンズ -0.08602634396039033 0.745161351662\n",
      "エンゼルス -0.07161647836365015 0.692139970806\n",
      "ジャイアンツ -0.08098646435742474 0.737955073316\n",
      "Dバックス -0.08169983095402245 0.708102395369\n",
      "ブレーブス -0.08315309778553459 0.70938418131\n",
      "ロイヤルズ -0.07473927699379646 0.757228903468\n",
      "ツインズ -0.07334575888129669 0.649470212774\n",
      "パドレス -0.07762289288740254 0.668453678081\n",
      "ブルージェイズ -0.07927777352135612 0.666022782951\n",
      "ドジャース -0.07226038015622471 0.697131500955\n",
      "Rソックス -0.07997286448271801 0.669210021299\n",
      "メッツ -0.06713829108721425 0.735159694044\n",
      "カージナルス -0.08090705754474259 0.668960338682\n",
      "ナショナルズ -0.07169169869566883 0.795189195443\n",
      "アスレチックス -0.06518569477223801 0.640292515595\n",
      "マリナーズ -0.07216476315211118 0.668948069586\n",
      "レイズ -0.06608716381612556 0.70014369491\n",
      "パイレーツ -0.07452107769433924 0.713864249192\n",
      "レッズ -0.08028185490385153 0.678095136226\n",
      "カブス -0.07881846393753245 0.763224672511\n",
      "タイガース -0.07310385778310247 0.72243695297\n",
      "Wソックス -0.07454791956603612 0.720786613389\n",
      "フィリーズ -0.07432567212303232 0.72758841746\n",
      "オリオールズ -0.08008719152795907 0.781906801829\n",
      "ヤンキース -0.06017910723664688 0.61072599013\n",
      "インディアンス -0.08068603349086967 0.709479335467\n"
     ]
    }
   ],
   "source": [
    "diffs = []\n",
    "stds = []\n",
    "for team in teams_mlb:\n",
    "    lst = make_flattened_list(make_inning_triple(make_inning_list(event_df[event_df.攻撃チーム==team])))\n",
    "    improved_lst = [elem for elem in lst if is_improved(elem[0], elem[1])]\n",
    "    # H(St+1 | St, St-1)\n",
    "    second_cond_entropy = cond_entropy(pd.DataFrame(improved_lst)[2].values, pd.DataFrame(improved_lst)[[0, 1]].values)\n",
    "    # H(St+1 | St)\n",
    "    first_cond_entropy = cond_entropy(pd.DataFrame(improved_lst)[2].values, pd.DataFrame(improved_lst)[[1]].values)\n",
    "    std = make_score_df_mlb(team).describe()[column][\"std\"] / make_score_df_mlb(team).describe()[column][\"mean\"]\n",
    "    diffs.append(second_cond_entropy - first_cond_entropy)\n",
    "    stds.append(std)\n",
    "    print(team, second_cond_entropy - first_cond_entropy, std)"
   ]
  },
  {
   "cell_type": "code",
   "execution_count": 11,
   "metadata": {},
   "outputs": [
    {
     "data": {
      "text/plain": [
       "<matplotlib.collections.PathCollection at 0x201b4d1e48>"
      ]
     },
     "execution_count": 11,
     "metadata": {},
     "output_type": "execute_result"
    },
    {
     "data": {
      "image/png": "[encoded data removed]",
      "text/plain": [
       "<matplotlib.figure.Figure at 0x201bcbb5c0>"
      ]
     },
     "metadata": {
      "image/png": {
       "height": 250,
       "width": 388
      }
     },
     "output_type": "display_data"
    }
   ],
   "source": [
    "plt.scatter(diffs, stds)"
   ]
  },
  {
   "cell_type": "code",
   "execution_count": 12,
   "metadata": {},
   "outputs": [
    {
     "data": {
      "image/png": "[encoded data removed]",
      "text/plain": [
       "<matplotlib.figure.Figure at 0x201b57dac8>"
      ]
     },
     "metadata": {
      "image/png": {
       "height": 250,
       "width": 388
      }
     },
     "output_type": "display_data"
    }
   ],
   "source": [
    "import statsmodels.api as sm\n",
    "\n",
    "nsample = len(diffs)\n",
    "X = np.column_stack((np.repeat(1, nsample), diffs))\n",
    "\n",
    "model = sm.OLS(stds, X)\n",
    "results = model.fit()\n",
    "\n",
    "a, b = results.params\n",
    "\n",
    "plt.scatter(diffs, stds)\n",
    "plt.plot(diffs, a+b*np.array(diffs))\n",
    "plt.show()"
   ]
  },
  {
   "cell_type": "code",
   "execution_count": 13,
   "metadata": {},
   "outputs": [
    {
     "data": {
      "text/plain": [
       "array([  2.03855990e-06,   7.44986605e-02])"
      ]
     },
     "execution_count": 13,
     "metadata": {},
     "output_type": "execute_result"
    }
   ],
   "source": [
    "results.pvalues"
   ]
  },
  {
   "cell_type": "markdown",
   "metadata": {},
   "source": [
    "# 流れでエントロピーの差を見る"
   ]
  },
  {
   "cell_type": "code",
   "execution_count": 14,
   "metadata": {},
   "outputs": [
    {
     "name": "stdout",
     "output_type": "stream",
     "text": [
      "=====アストロズ=====\n",
      "いい流れ : 0.07002998302764718\n",
      "悪い流れ : 0.07987933986297846\n",
      "=====レンジャーズ=====\n",
      "いい流れ : 0.08768508268172637\n",
      "悪い流れ : 0.08333563351314255\n",
      "=====ブリュワーズ=====\n",
      "いい流れ : 0.07547572526071189\n",
      "悪い流れ : 0.07615645418310368\n",
      "=====ロッキーズ=====\n",
      "いい流れ : 0.0729843569532238\n",
      "悪い流れ : 0.08062034474011481\n",
      "=====マーリンズ=====\n",
      "いい流れ : 0.08602634396039033\n",
      "悪い流れ : 0.08640150640831656\n",
      "=====エンゼルス=====\n",
      "いい流れ : 0.07161647836365015\n",
      "悪い流れ : 0.07482160957714767\n",
      "=====ジャイアンツ=====\n",
      "いい流れ : 0.08098646435742474\n",
      "悪い流れ : 0.07552722804968615\n",
      "=====Dバックス=====\n",
      "いい流れ : 0.08169983095402245\n",
      "悪い流れ : 0.0812335414886114\n",
      "=====ブレーブス=====\n",
      "いい流れ : 0.08315309778553459\n",
      "悪い流れ : 0.08645623603320907\n",
      "=====ロイヤルズ=====\n",
      "いい流れ : 0.07473927699379646\n",
      "悪い流れ : 0.07649979845112131\n",
      "=====ツインズ=====\n",
      "いい流れ : 0.07334575888129669\n",
      "悪い流れ : 0.07619868879743175\n",
      "=====パドレス=====\n",
      "いい流れ : 0.07762289288740254\n",
      "悪い流れ : 0.07976712961558752\n",
      "=====ブルージェイズ=====\n",
      "いい流れ : 0.07927777352135612\n",
      "悪い流れ : 0.08395084423806454\n",
      "=====ドジャース=====\n",
      "いい流れ : 0.07226038015622471\n",
      "悪い流れ : 0.07320634125938752\n",
      "=====Rソックス=====\n",
      "いい流れ : 0.07997286448271801\n",
      "悪い流れ : 0.08152171688925769\n",
      "=====メッツ=====\n",
      "いい流れ : 0.06713829108721425\n",
      "悪い流れ : 0.0716943295307435\n",
      "=====カージナルス=====\n",
      "いい流れ : 0.08090705754474259\n",
      "悪い流れ : 0.08911123134007437\n",
      "=====ナショナルズ=====\n",
      "いい流れ : 0.07169169869566883\n",
      "悪い流れ : 0.07409855258709319\n",
      "=====アスレチックス=====\n",
      "いい流れ : 0.06518569477223801\n",
      "悪い流れ : 0.07293605747621945\n",
      "=====マリナーズ=====\n",
      "いい流れ : 0.07216476315211118\n",
      "悪い流れ : 0.07863024348541292\n",
      "=====レイズ=====\n",
      "いい流れ : 0.06608716381612556\n",
      "悪い流れ : 0.0874991693892544\n",
      "=====パイレーツ=====\n",
      "いい流れ : 0.07452107769433924\n",
      "悪い流れ : 0.08638608732265607\n",
      "=====レッズ=====\n",
      "いい流れ : 0.08028185490385153\n",
      "悪い流れ : 0.0791499035107035\n",
      "=====カブス=====\n",
      "いい流れ : 0.07881846393753245\n",
      "悪い流れ : 0.08107556640042946\n",
      "=====タイガース=====\n",
      "いい流れ : 0.07310385778310247\n",
      "悪い流れ : 0.08050534400239062\n",
      "=====Wソックス=====\n",
      "いい流れ : 0.07454791956603612\n",
      "悪い流れ : 0.08180920720938945\n",
      "=====フィリーズ=====\n",
      "いい流れ : 0.07432567212303232\n",
      "悪い流れ : 0.07454811087889657\n",
      "=====オリオールズ=====\n",
      "いい流れ : 0.08008719152795907\n",
      "悪い流れ : 0.0677612888882726\n",
      "=====ヤンキース=====\n",
      "いい流れ : 0.06017910723664688\n",
      "悪い流れ : 0.06928976684386479\n",
      "=====インディアンス=====\n",
      "いい流れ : 0.08068603349086967\n",
      "悪い流れ : 0.07697028478734635\n"
     ]
    }
   ],
   "source": [
    "diffs = []\n",
    "stds = []\n",
    "for team in teams_mlb:\n",
    "    print(\"=====\"+team+\"=====\")\n",
    "    lst = make_flattened_list(make_inning_triple(make_inning_list(event_df[event_df.攻撃チーム==team])))\n",
    "    improved_lst = [elem for elem in lst if is_improved(elem[0], elem[1])]\n",
    "    # H(St+1 | St, St-1)\n",
    "    second_cond_entropy = cond_entropy(pd.DataFrame(improved_lst)[2].values, pd.DataFrame(improved_lst)[[0, 1]].values)\n",
    "    # H(St+1 | St)\n",
    "    first_cond_entropy = cond_entropy(pd.DataFrame(improved_lst)[2].values, pd.DataFrame(improved_lst)[[1]].values)\n",
    "    print(\"いい流れ : \"+str(first_cond_entropy - second_cond_entropy))\n",
    "    improved_lst = [elem for elem in lst if is_deteriorated(elem[0], elem[1])]\n",
    "    # H(St+1 | St, St-1)\n",
    "    second_cond_entropy = cond_entropy(pd.DataFrame(improved_lst)[2].values, pd.DataFrame(improved_lst)[[0, 1]].values)\n",
    "    # H(St+1 | St)\n",
    "    first_cond_entropy = cond_entropy(pd.DataFrame(improved_lst)[2].values, pd.DataFrame(improved_lst)[[1]].values)\n",
    "    print(\"悪い流れ : \"+str(first_cond_entropy - second_cond_entropy))"
   ]
  },
  {
   "cell_type": "code",
   "execution_count": null,
   "metadata": {},
   "outputs": [],
   "source": []
  }
 ],
 "metadata": {
  "kernelspec": {
   "display_name": "Python 3",
   "language": "python",
   "name": "python3"
  },
  "language_info": {
   "codemirror_mode": {
    "name": "ipython",
    "version": 3
   },
   "file_extension": ".py",
   "mimetype": "text/x-python",
   "name": "python",
   "nbconvert_exporter": "python",
   "pygments_lexer": "ipython3",
   "version": "3.5.4"
  }
 },
 "nbformat": 4,
 "nbformat_minor": 2
}
