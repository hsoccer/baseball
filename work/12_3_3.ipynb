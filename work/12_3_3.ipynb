{
 "cells": [
  {
   "cell_type": "code",
   "execution_count": null,
   "metadata": {},
   "outputs": [],
   "source": [
    "import pandas as pd\n",
    "import numpy as np\n",
    "import re\n",
    "import os, sys\n",
    "import matplotlib.pyplot as plt\n",
    "import seaborn as sns\n",
    "from collections import Counter, defaultdict\n",
    "from itertools import product\n",
    "from scipy import stats\n",
    "\n",
    "%matplotlib inline\n",
    "plt.style.use('ggplot')\n",
    "#plt.style.use('seaborn-pastel')\n",
    "%config InlineBackend.figure_format = 'retina'\n",
    "import warnings\n",
    "warnings.filterwarnings('ignore')\n",
    "from tqdm import tqdm_notebook as tq\n",
    "\n",
    "sys.path.append(\"..\")\n",
    "from utils.util_functions import *\n",
    "\n",
    "pd.set_option('display.max_rows', 500)"
   ]
  },
  {
   "cell_type": "code",
   "execution_count": 2,
   "metadata": {},
   "outputs": [],
   "source": [
    "#event_df = make_df(data_dir=DETAIL_DATA_DIR_MLB)\n",
    "#event_df = pd.read_csv(os.path.join(ROOT_DIR, \"event_df.csv\"), index_col=0, encoding=\"cp932\", dtype=object)\n",
    "#df_2017 = make_df(end=1944417, data_dir=DETAIL_DATA_DIR_MLB)\n",
    "#df_2017 = pd.read_csv(os.path.join(ROOT_DIR, \"df_2017.csv\"), index_col=0, encoding=\"cp932\", dtype=object)\n",
    "#df_2018 = make_df(start=1944417, data_dir=DETAIL_DATA_DIR_MLB)\n",
    "#df_2018 = pd.read_csv(os.path.join(ROOT_DIR, \"df_2018.csv\"), index_col=0, encoding=\"cp932\", dtype=object)\n",
    "files = os.listdir(DETAIL_DATA_DIR_MLB)[1:]\n",
    "names = pd.Series(files).apply(lambda x: int(x.split(\".\")[0]))\n",
    "files_2017 = names[names<=1944417].apply(lambda x: str(x)+\".csv\")\n",
    "files_2018 = names[names>1944417].apply(lambda x: str(x)+\".csv\")\n",
    "column = \"得点\"\n",
    "teams_mlb = list(set(pd.read_csv(os.path.join(SCORE_DATA_DIR_MLB, \"score_mlb.csv\"), encoding=\"cp932\", index_col=0).表チーム))\n",
    "teams_mlb.remove(\"ア・リーグ\")\n",
    "first_teams = ['Rソックス', 'インディアンス', 'アストロズ', 'ブレーブス', 'ブリュワーズ', 'ドジャース']\n",
    "second_teams = ['ヤンキース', 'ツインズ', 'アスレチックス', 'ナショナルズ', 'カブス', 'ロッキーズ']\n",
    "third_teams = ['レイズ', 'タイガース', 'マリナーズ', 'フィリーズ', 'カージナルス', 'Dバックス']\n",
    "fourth_teams = ['ブルージェイズ', 'Wソックス',  'エンゼルス', 'メッツ', 'パイレーツ', 'ジャイアンツ']\n",
    "fifth_teams = ['オリオールズ', 'ロイヤルズ', 'レンジャーズ', 'マーリンズ', 'レッズ', 'パドレス']"
   ]
  },
  {
   "cell_type": "code",
   "execution_count": 3,
   "metadata": {},
   "outputs": [],
   "source": [
    "def ranking(team):\n",
    "    first_teams = ['Rソックス', 'インディアンス', 'アストロズ', 'ブレーブス', 'ブリュワーズ', 'ドジャース']\n",
    "    second_teams = ['ヤンキース', 'ツインズ', 'アスレチックス', 'ナショナルズ', 'カブス', 'ロッキーズ']\n",
    "    third_teams = ['レイズ', 'タイガース', 'マリナーズ', 'フィリーズ', 'カージナルス', 'Dバックス']\n",
    "    fourth_teams = ['ブルージェイズ', 'Wソックス',  'エンゼルス', 'メッツ', 'パイレーツ', 'ジャイアンツ']\n",
    "    fifth_teams = ['オリオールズ', 'ロイヤルズ', 'レンジャーズ', 'マーリンズ', 'レッズ', 'パドレス']\n",
    "    lst = [first_teams, second_teams, third_teams, fourth_teams, fifth_teams]\n",
    "    for i in range(len(lst)):\n",
    "        teams = lst[i]\n",
    "        if team in teams:\n",
    "            return i + 1"
   ]
  },
  {
   "cell_type": "code",
   "execution_count": 4,
   "metadata": {},
   "outputs": [],
   "source": [
    "case_expected_score_dict = dict(pd.read_csv(os.path.join(ROOT_DIR, \"case_expected_score.csv\"), dtype=object).values)\n",
    "case_expected_score_dict = dict([[key, float(value)] for key, value in case_expected_score_dict.items()])\n",
    "\n",
    "def weighted_score(case, score):\n",
    "    \"\"\"\n",
    "    lst : (Stの状況, 直後の得点)\n",
    "    \"\"\"\n",
    "    return score / case_expected_score_dict[case]"
   ]
  },
  {
   "cell_type": "code",
   "execution_count": 5,
   "metadata": {
    "scrolled": true
   },
   "outputs": [],
   "source": [
    "#case_expected_score_dict"
   ]
  },
  {
   "cell_type": "code",
   "execution_count": 6,
   "metadata": {},
   "outputs": [
    {
     "data": {
      "text/plain": [
       "'df = event_df[event_df.攻撃チーム==team]\\ntriple = make_inning_triple(make_inning_list(df, score_end=1, how=\"both\"))\\nlst = make_flattened_list(triple)'"
      ]
     },
     "execution_count": 6,
     "metadata": {},
     "output_type": "execute_result"
    }
   ],
   "source": [
    "team = \"Rソックス\"\n",
    "\"\"\"df = event_df[event_df.攻撃チーム==team]\n",
    "triple = make_inning_triple(make_inning_list(df, score_end=1, how=\"both\"))\n",
    "lst = make_flattened_list(triple)\"\"\""
   ]
  },
  {
   "cell_type": "code",
   "execution_count": null,
   "metadata": {},
   "outputs": [],
   "source": [
    "def triple_on_score_diff(team, diff_lower, diff_upper):\n",
    "    df = event_df[event_df.攻撃チーム==team]\n",
    "    triple = make_inning_triple(make_inning_list(df, score_end=1, how=\"both\"))\n",
    "    lst = make_flattened_list(triple)\n",
    "    res = []\n",
    "    for elem in lst:\n",
    "        my_score = int(elem[1][1])\n",
    "        opp_score = int(elem[1][2])\n",
    "        if diff_lower < diff_upper:\n",
    "            if diff_lower <= my_score - opp_score <= diff_upper:\n",
    "                res.append(((elem[0][0], elem[0][1]), (elem[1][0], elem[1][1]), (elem[2][0], elem[2][1])))\n",
    "        elif diff_lower > diff_upper:\n",
    "            if diff_lower <= my_score - opp_score or my_score - opp_score <= diff_upper:\n",
    "                res.append(((elem[0][0], elem[0][1]), (elem[1][0], elem[1][1]), (elem[2][0], elem[2][1])))\n",
    "        else:\n",
    "            raise \"diff_lower == diff_upper\"\n",
    "    return res"
   ]
  },
  {
   "cell_type": "markdown",
   "metadata": {},
   "source": [
    "## negative facilitation = 負けてることが逆に力になる"
   ]
  },
  {
   "cell_type": "markdown",
   "metadata": {},
   "source": [
    "## negative facilitaitonを起こしがちなチームは、僅差で負けているとdet時の期待得点が上がる"
   ]
  },
  {
   "cell_type": "markdown",
   "metadata": {},
   "source": [
    "# 点数気にしない"
   ]
  },
  {
   "cell_type": "code",
   "execution_count": 7,
   "metadata": {},
   "outputs": [
    {
     "name": "stdout",
     "output_type": "stream",
     "text": [
      "レンジャーズ 0.959357641029 0.96651778918\n",
      "オリオールズ 0.997117001178 0.955702491199\n",
      "カージナルス 0.929605089763 0.886356896446\n",
      "パイレーツ 0.893305279729 0.6288820725\n",
      "フィリーズ 0.87676551924 0.779891375977\n",
      "Wソックス 0.945604354354 0.878072903062\n",
      "Rソックス 0.87492455598 0.815787214018\n",
      "ロイヤルズ 1.03987290469 0.787326989454\n",
      "タイガース 0.910618877114 0.712728549098\n",
      "メッツ 0.873975654756 0.958449671134\n",
      "エンゼルス 0.908445848475 0.944996109893\n",
      "マーリンズ 0.936588342746 0.796156103172\n",
      "ブリュワーズ 1.04429625014 0.941393604414\n",
      "マリナーズ 0.939863564986 0.898330473234\n",
      "ジャイアンツ 0.675578862939 0.652120478222\n",
      "ブルージェイズ 0.941945206471 1.01492945163\n",
      "ドジャース 0.930329051034 1.00855411789\n",
      "レイズ 0.781894181733 0.912021654353\n",
      "ツインズ 0.922416065842 0.838590258153\n",
      "ナショナルズ 0.971800909134 0.810211018908\n",
      "カブス 0.878238708199 0.872866513439\n",
      "アスレチックス 1.07203822087 1.07874620108\n",
      "パドレス 0.81069432596 0.892233666003\n",
      "アストロズ 0.943700625491 0.913777437932\n",
      "インディアンス 0.955432361261 1.01760316618\n",
      "Dバックス 1.08847179011 0.897224473664\n",
      "ロッキーズ 0.978668138338 0.923310517824\n",
      "ヤンキース 1.093514823 0.998737690998\n",
      "レッズ 0.87225166078 0.823905875935\n",
      "ブレーブス 0.907631212361 0.756692937823\n"
     ]
    }
   ],
   "source": [
    "#imp_list = []\n",
    "#det_list = []\n",
    "res_dict1 = dict()\n",
    "for team in teams_mlb:\n",
    "    df = event_df[event_df.攻撃チーム==team]\n",
    "    triple = make_inning_triple(make_inning_list(df, score_end=1, how=\"own\"))\n",
    "    lst = make_flattened_list(triple[:])\n",
    "    improved_score_list = []\n",
    "    deteriorated_score_list = []\n",
    "    for three_series in [elem for elem in lst if elem[0][0]!=\"3000\" and elem[1][0]!=\"3000\"]:\n",
    "        if is_improved(three_series[0][0], three_series[1][0]):\n",
    "            improved_score_list.append(weighted_score(three_series[1][0], three_series[2][1]-three_series[1][1]))\n",
    "        elif is_deteriorated(three_series[0][0], three_series[1][0]):\n",
    "            deteriorated_score_list.append(weighted_score(three_series[1][0], three_series[2][1]-three_series[1][1]))\n",
    "    #imp_list.append(np.mean(improved_score_list))\n",
    "    #det_list.append(np.mean(deteriorated_score_list))\n",
    "    res_dict1[team] = (np.mean(improved_score_list), np.mean(deteriorated_score_list))\n",
    "    print(team, np.mean(improved_score_list), np.mean(deteriorated_score_list))"
   ]
  },
  {
   "cell_type": "code",
   "execution_count": 8,
   "metadata": {},
   "outputs": [
    {
     "data": {
      "text/plain": [
       "<matplotlib.collections.PathCollection at 0x201af203c8>"
      ]
     },
     "execution_count": 8,
     "metadata": {},
     "output_type": "execute_result"
    },
    {
     "data": {
      "image/png": "[encoded data removed]",
      "text/plain": [
       "<matplotlib.figure.Figure at 0x201ea7d198>"
      ]
     },
     "metadata": {
      "image/png": {
       "height": 250,
       "width": 374
      }
     },
     "output_type": "display_data"
    }
   ],
   "source": [
    "plt.scatter([elem[0] for elem in list(res_dict1.values())], [elem[1] for elem in list(res_dict1.values())])"
   ]
  },
  {
   "cell_type": "markdown",
   "metadata": {},
   "source": [
    "# 4点差の負け以内"
   ]
  },
  {
   "cell_type": "code",
   "execution_count": 9,
   "metadata": {
    "scrolled": true
   },
   "outputs": [
    {
     "name": "stdout",
     "output_type": "stream",
     "text": [
      "レンジャーズ 0.753994405357 0.909335097189\n",
      "オリオールズ 0.94036231176 1.01664136382\n",
      "カージナルス 0.837407177637 0.951409160654\n",
      "パイレーツ 0.775855219325 0.550338518989\n",
      "フィリーズ 0.77081731056 0.814196468973\n",
      "Wソックス 0.892806647087 0.80975558244\n",
      "Rソックス 0.897738689886 0.992423354302\n",
      "ロイヤルズ 1.00792493414 0.989192688572\n",
      "タイガース 0.724899468543 0.626144982665\n",
      "メッツ 0.86903356121 0.933200979528\n",
      "エンゼルス 0.878142795505 0.821077370057\n",
      "マーリンズ 0.818221355847 0.806030445924\n",
      "ブリュワーズ 0.961079552822 0.943721761449\n",
      "マリナーズ 1.00658487561 0.755082732093\n",
      "ジャイアンツ 0.759051648149 0.558853899568\n",
      "ブルージェイズ 0.941586507098 0.903275673946\n",
      "ドジャース 0.879738909063 1.03213344213\n",
      "レイズ 0.622322520938 0.954402155355\n",
      "ツインズ 0.900463453631 0.805591751238\n",
      "ナショナルズ 0.618319418511 0.79587993336\n",
      "カブス 0.807570142034 0.71443266354\n",
      "アスレチックス 1.02785096888 0.902588316355\n",
      "パドレス 0.83748518303 0.967402540718\n",
      "アストロズ 0.74961492272 0.960403095222\n",
      "インディアンス 0.869799276032 0.962940371429\n",
      "Dバックス 0.936656147125 0.718388850625\n",
      "ロッキーズ 0.940980588885 0.726660628152\n",
      "ヤンキース 0.853900337424 0.798152212343\n",
      "レッズ 0.687886099967 0.659839424875\n",
      "ブレーブス 0.856192384179 0.680704058405\n"
     ]
    }
   ],
   "source": [
    "#imp_list = []\n",
    "#det_list = []\n",
    "res_dict = dict()\n",
    "for team in teams_mlb:\n",
    "    lst = triple_on_score_diff(team, -4, -1)\n",
    "    improved_score_list = []\n",
    "    deteriorated_score_list = []\n",
    "    for three_series in [elem for elem in lst if elem[0][0]!=\"3000\" and elem[1][0]!=\"3000\"]:\n",
    "        if is_improved(three_series[0][0], three_series[1][0]):\n",
    "            improved_score_list.append(weighted_score(three_series[1][0], three_series[2][1]-three_series[1][1]))\n",
    "        elif is_deteriorated(three_series[0][0], three_series[1][0]):\n",
    "            deteriorated_score_list.append(weighted_score(three_series[1][0], three_series[2][1]-three_series[1][1]))\n",
    "    #imp_list.append(np.mean(improved_score_list))\n",
    "    #det_list.append(np.mean(deteriorated_score_list))\n",
    "    res_dict[team] = (np.mean(improved_score_list), np.mean(deteriorated_score_list))\n",
    "    print(team, np.mean(improved_score_list), np.mean(deteriorated_score_list))"
   ]
  },
  {
   "cell_type": "code",
   "execution_count": 10,
   "metadata": {},
   "outputs": [
    {
     "data": {
      "text/plain": [
       "<matplotlib.collections.PathCollection at 0x2018ff5828>"
      ]
     },
     "execution_count": 10,
     "metadata": {},
     "output_type": "execute_result"
    },
    {
     "data": {
      "image/png": "[encoded data removed]",
      "text/plain": [
       "<matplotlib.figure.Figure at 0x2018b99048>"
      ]
     },
     "metadata": {
      "image/png": {
       "height": 250,
       "width": 374
      }
     },
     "output_type": "display_data"
    }
   ],
   "source": [
    "plt.scatter([elem[0] for elem in list(res_dict.values())], [elem[1] for elem in list(res_dict.values())])"
   ]
  },
  {
   "cell_type": "code",
   "execution_count": 11,
   "metadata": {},
   "outputs": [
    {
     "name": "stdout",
     "output_type": "stream",
     "text": [
      "5 オリオールズ 0.0609388726238\n",
      "3 カージナルス 0.0650522642076\n",
      "3 フィリーズ 0.0343050929966\n",
      "1 Rソックス 0.176636140284\n",
      "5 ロイヤルズ 0.201865699118\n",
      "5 マーリンズ 0.00987434275224\n",
      "1 ブリュワーズ 0.0023281570351\n",
      "1 ドジャース 0.0235793242349\n",
      "3 レイズ 0.042380501002\n",
      "5 パドレス 0.0751688747159\n",
      "1 アストロズ 0.0466256572896\n"
     ]
    }
   ],
   "source": [
    "# 僅差で負けていると、流れが悪くても頑張るチーム\n",
    "for team in teams_mlb:\n",
    "    if res_dict1[team][1] < res_dict[team][1]:\n",
    "        print(ranking(team), team, res_dict[team][1] - res_dict1[team][1])"
   ]
  },
  {
   "cell_type": "code",
   "execution_count": 12,
   "metadata": {},
   "outputs": [
    {
     "name": "stdout",
     "output_type": "stream",
     "text": [
      "5 レンジャーズ -0.0571826919908\n",
      "4 パイレーツ -0.0785435535115\n",
      "4 Wソックス -0.0683173206228\n",
      "3 タイガース -0.0865835664337\n",
      "4 メッツ -0.0252486916058\n",
      "4 エンゼルス -0.123918739836\n",
      "3 マリナーズ -0.143247741141\n",
      "4 ジャイアンツ -0.0932665786532\n",
      "4 ブルージェイズ -0.111653777687\n",
      "2 ツインズ -0.0329985069149\n",
      "2 ナショナルズ -0.0143310855479\n",
      "2 カブス -0.1584338499\n",
      "2 アスレチックス -0.176157884728\n",
      "1 インディアンス -0.0546627947491\n",
      "3 Dバックス -0.178835623038\n",
      "2 ロッキーズ -0.196649889672\n",
      "2 ヤンキース -0.200585478654\n",
      "5 レッズ -0.16406645106\n",
      "1 ブレーブス -0.075988879418\n"
     ]
    }
   ],
   "source": [
    "# 僅差で負けていると、流れが悪いと諦めるチーム\n",
    "for team in teams_mlb:\n",
    "    if res_dict1[team][1] > res_dict[team][1]:\n",
    "        print(ranking(team), team, res_dict[team][1] - res_dict1[team][1])"
   ]
  },
  {
   "cell_type": "code",
   "execution_count": null,
   "metadata": {},
   "outputs": [],
   "source": [
    "make_score_df_mlb(\"オリオールズ\").得点.mean()"
   ]
  },
  {
   "cell_type": "code",
   "execution_count": null,
   "metadata": {},
   "outputs": [],
   "source": [
    "make_score_df_mlb(\"Rソックス\").得点.mean()"
   ]
  },
  {
   "cell_type": "code",
   "execution_count": null,
   "metadata": {
    "scrolled": true
   },
   "outputs": [],
   "source": [
    "for team in teams_mlb:\n",
    "    print(team, make_score_df_mlb(team).得点.mean())"
   ]
  },
  {
   "cell_type": "code",
   "execution_count": null,
   "metadata": {},
   "outputs": [],
   "source": []
  }
 ],
 "metadata": {
  "kernelspec": {
   "display_name": "Python 3",
   "language": "python",
   "name": "python3"
  },
  "language_info": {
   "codemirror_mode": {
    "name": "ipython",
    "version": 3
   },
   "file_extension": ".py",
   "mimetype": "text/x-python",
   "name": "python",
   "nbconvert_exporter": "python",
   "pygments_lexer": "ipython3",
   "version": "3.5.4"
  }
 },
 "nbformat": 4,
 "nbformat_minor": 2
}
