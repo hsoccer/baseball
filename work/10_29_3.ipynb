{
 "cells": [
  {
   "cell_type": "markdown",
   "metadata": {},
   "source": [
    "# チームごとの1100の分布の相違"
   ]
  },
  {
   "cell_type": "code",
   "execution_count": 1,
   "metadata": {},
   "outputs": [],
   "source": [
    "import pandas as pd\n",
    "import numpy as np\n",
    "import re\n",
    "import os, sys\n",
    "import matplotlib.pyplot as plt\n",
    "import seaborn as sns\n",
    "from collections import Counter, defaultdict\n",
    "from scipy import stats\n",
    "\n",
    "%matplotlib inline\n",
    "plt.style.use('ggplot')\n",
    "#plt.style.use('seaborn-pastel')\n",
    "%config InlineBackend.figure_format = 'retina'\n",
    "import warnings\n",
    "warnings.filterwarnings('ignore')\n",
    "\n",
    "sys.path.append(\"..\")\n",
    "from utils.util_functions import *"
   ]
  },
  {
   "cell_type": "code",
   "execution_count": 2,
   "metadata": {},
   "outputs": [],
   "source": [
    "event_df = make_df(\"20180101\", \"20181231\")"
   ]
  },
  {
   "cell_type": "code",
   "execution_count": 18,
   "metadata": {},
   "outputs": [
    {
     "data": {
      "text/html": [
       "<div>\n",
       "<style scoped>\n",
       "    .dataframe tbody tr th:only-of-type {\n",
       "        vertical-align: middle;\n",
       "    }\n",
       "\n",
       "    .dataframe tbody tr th {\n",
       "        vertical-align: top;\n",
       "    }\n",
       "\n",
       "    .dataframe thead th {\n",
       "        text-align: right;\n",
       "    }\n",
       "</style>\n",
       "<table border=\"1\" class=\"dataframe\">\n",
       "  <thead>\n",
       "    <tr style=\"text-align: right;\">\n",
       "      <th></th>\n",
       "      <th>状況</th>\n",
       "      <th>回</th>\n",
       "      <th>守備チーム</th>\n",
       "      <th>投手</th>\n",
       "      <th>利き手</th>\n",
       "      <th>防御率</th>\n",
       "      <th>攻撃チーム</th>\n",
       "      <th>打者</th>\n",
       "      <th>打席</th>\n",
       "      <th>打率</th>\n",
       "      <th>本塁打数</th>\n",
       "      <th>打点</th>\n",
       "      <th>四球数</th>\n",
       "      <th>盗塁数</th>\n",
       "      <th>結果</th>\n",
       "    </tr>\n",
       "  </thead>\n",
       "  <tbody>\n",
       "    <tr>\n",
       "      <th>0</th>\n",
       "      <td>0000</td>\n",
       "      <td>1回表</td>\n",
       "      <td>巨人</td>\n",
       "      <td>菅野 智之</td>\n",
       "      <td>右</td>\n",
       "      <td>6.43</td>\n",
       "      <td>阪神</td>\n",
       "      <td>高山 俊</td>\n",
       "      <td>左</td>\n",
       "      <td>.500</td>\n",
       "      <td>0</td>\n",
       "      <td>1</td>\n",
       "      <td>0</td>\n",
       "      <td>0</td>\n",
       "      <td>三ゴロ</td>\n",
       "    </tr>\n",
       "    <tr>\n",
       "      <th>1</th>\n",
       "      <td>1000</td>\n",
       "      <td>1回表</td>\n",
       "      <td>巨人</td>\n",
       "      <td>菅野 智之</td>\n",
       "      <td>右</td>\n",
       "      <td>6.43</td>\n",
       "      <td>阪神</td>\n",
       "      <td>鳥谷 敬</td>\n",
       "      <td>左</td>\n",
       "      <td>.250</td>\n",
       "      <td>0</td>\n",
       "      <td>0</td>\n",
       "      <td>0</td>\n",
       "      <td>0</td>\n",
       "      <td>遊ゴロ</td>\n",
       "    </tr>\n",
       "    <tr>\n",
       "      <th>2</th>\n",
       "      <td>2000</td>\n",
       "      <td>1回表</td>\n",
       "      <td>巨人</td>\n",
       "      <td>菅野 智之</td>\n",
       "      <td>右</td>\n",
       "      <td>6.43</td>\n",
       "      <td>阪神</td>\n",
       "      <td>糸井 嘉男</td>\n",
       "      <td>左</td>\n",
       "      <td>.250</td>\n",
       "      <td>0</td>\n",
       "      <td>0</td>\n",
       "      <td>0</td>\n",
       "      <td>0</td>\n",
       "      <td>一ゴロ</td>\n",
       "    </tr>\n",
       "    <tr>\n",
       "      <th>3</th>\n",
       "      <td>3000</td>\n",
       "      <td>1回表</td>\n",
       "      <td>巨人</td>\n",
       "      <td>NaN</td>\n",
       "      <td>NaN</td>\n",
       "      <td>NaN</td>\n",
       "      <td>阪神</td>\n",
       "      <td>NaN</td>\n",
       "      <td>NaN</td>\n",
       "      <td>NaN</td>\n",
       "      <td>NaN</td>\n",
       "      <td>NaN</td>\n",
       "      <td>NaN</td>\n",
       "      <td>NaN</td>\n",
       "      <td>NaN</td>\n",
       "    </tr>\n",
       "    <tr>\n",
       "      <th>4</th>\n",
       "      <td>0000</td>\n",
       "      <td>1回裏</td>\n",
       "      <td>阪神</td>\n",
       "      <td>メッセンジャー</td>\n",
       "      <td>右</td>\n",
       "      <td>1.29</td>\n",
       "      <td>巨人</td>\n",
       "      <td>陽 岱鋼</td>\n",
       "      <td>右</td>\n",
       "      <td>.333</td>\n",
       "      <td>0</td>\n",
       "      <td>0</td>\n",
       "      <td>0</td>\n",
       "      <td>0</td>\n",
       "      <td>中安</td>\n",
       "    </tr>\n",
       "  </tbody>\n",
       "</table>\n",
       "</div>"
      ],
      "text/plain": [
       "     状況    回 守備チーム       投手  利き手   防御率 攻撃チーム     打者   打席    打率 本塁打数   打点  四球数  \\\n",
       "0  0000  1回表    巨人    菅野 智之    右  6.43    阪神   高山 俊    左  .500    0    1    0   \n",
       "1  1000  1回表    巨人    菅野 智之    右  6.43    阪神   鳥谷 敬    左  .250    0    0    0   \n",
       "2  2000  1回表    巨人    菅野 智之    右  6.43    阪神  糸井 嘉男    左  .250    0    0    0   \n",
       "3  3000  1回表    巨人      NaN  NaN   NaN    阪神    NaN  NaN   NaN  NaN  NaN  NaN   \n",
       "4  0000  1回裏    阪神  メッセンジャー    右  1.29    巨人   陽 岱鋼    右  .333    0    0    0   \n",
       "\n",
       "   盗塁数   結果  \n",
       "0    0  三ゴロ  \n",
       "1    0  遊ゴロ  \n",
       "2    0  一ゴロ  \n",
       "3  NaN  NaN  \n",
       "4    0   中安  "
      ]
     },
     "execution_count": 18,
     "metadata": {},
     "output_type": "execute_result"
    }
   ],
   "source": [
    "event_df.head()"
   ]
  },
  {
   "cell_type": "code",
   "execution_count": 3,
   "metadata": {},
   "outputs": [],
   "source": [
    "ad_before = \"1000\"\n",
    "dis_before = \"0100\"\n",
    "after = \"1100\"\n",
    "\n",
    "central_df = pd.DataFrame(columns=central, index=[\"statistic\", \"pvalue\"])\n",
    "\n",
    "for team in central:\n",
    "    lst1 = extract_case(event_df[event_df.攻撃チーム==team], ad_before, after).状況.values\n",
    "    lst2 = extract_case(event_df[event_df.攻撃チーム==team], dis_before, after).状況.values\n",
    "    central_df[team][\"statistic\"] = stats.ks_2samp(lst1, lst2).statistic\n",
    "    central_df[team][\"pvalue\"] = stats.ks_2samp(lst1, lst2).pvalue"
   ]
  },
  {
   "cell_type": "code",
   "execution_count": 17,
   "metadata": {},
   "outputs": [
    {
     "data": {
      "text/html": [
       "<div>\n",
       "<style scoped>\n",
       "    .dataframe tbody tr th:only-of-type {\n",
       "        vertical-align: middle;\n",
       "    }\n",
       "\n",
       "    .dataframe tbody tr th {\n",
       "        vertical-align: top;\n",
       "    }\n",
       "\n",
       "    .dataframe thead th {\n",
       "        text-align: right;\n",
       "    }\n",
       "</style>\n",
       "<table border=\"1\" class=\"dataframe\">\n",
       "  <thead>\n",
       "    <tr style=\"text-align: right;\">\n",
       "      <th></th>\n",
       "      <th>広島</th>\n",
       "      <th>ヤクルト</th>\n",
       "      <th>巨人</th>\n",
       "      <th>ＤｅＮＡ</th>\n",
       "      <th>中日</th>\n",
       "      <th>阪神</th>\n",
       "    </tr>\n",
       "  </thead>\n",
       "  <tbody>\n",
       "    <tr>\n",
       "      <th>statistic</th>\n",
       "      <td>0.170659</td>\n",
       "      <td>0.0754863</td>\n",
       "      <td>0.0979358</td>\n",
       "      <td>0.100774</td>\n",
       "      <td>0.0963085</td>\n",
       "      <td>0.0600985</td>\n",
       "    </tr>\n",
       "    <tr>\n",
       "      <th>pvalue</th>\n",
       "      <td>0.0260873</td>\n",
       "      <td>0.775223</td>\n",
       "      <td>0.428783</td>\n",
       "      <td>0.532882</td>\n",
       "      <td>0.596843</td>\n",
       "      <td>0.943603</td>\n",
       "    </tr>\n",
       "  </tbody>\n",
       "</table>\n",
       "</div>"
      ],
      "text/plain": [
       "                  広島       ヤクルト         巨人      ＤｅＮＡ         中日         阪神\n",
       "statistic   0.170659  0.0754863  0.0979358  0.100774  0.0963085  0.0600985\n",
       "pvalue     0.0260873   0.775223   0.428783  0.532882   0.596843   0.943603"
      ]
     },
     "execution_count": 17,
     "metadata": {},
     "output_type": "execute_result"
    }
   ],
   "source": [
    "central_df"
   ]
  },
  {
   "cell_type": "code",
   "execution_count": 12,
   "metadata": {
    "scrolled": true
   },
   "outputs": [],
   "source": [
    "ad_before = \"1000\"\n",
    "dis_before = \"0100\"\n",
    "after = \"1100\"\n",
    "\n",
    "pacific_df = pd.DataFrame(columns=pacific, index=[\"statistic\", \"pvalue\"])\n",
    "\n",
    "for team in pacific:\n",
    "    lst1 = extract_case(event_df[event_df.攻撃チーム==team], ad_before, after).状況.values\n",
    "    lst2 = extract_case(event_df[event_df.攻撃チーム==team], dis_before, after).状況.values\n",
    "    pacific_df[team][\"statistic\"] = stats.ks_2samp(lst1, lst2).statistic\n",
    "    pacific_df[team][\"pvalue\"] = stats.ks_2samp(lst1, lst2).pvalue"
   ]
  },
  {
   "cell_type": "code",
   "execution_count": 13,
   "metadata": {},
   "outputs": [
    {
     "data": {
      "text/html": [
       "<div>\n",
       "<style scoped>\n",
       "    .dataframe tbody tr th:only-of-type {\n",
       "        vertical-align: middle;\n",
       "    }\n",
       "\n",
       "    .dataframe tbody tr th {\n",
       "        vertical-align: top;\n",
       "    }\n",
       "\n",
       "    .dataframe thead th {\n",
       "        text-align: right;\n",
       "    }\n",
       "</style>\n",
       "<table border=\"1\" class=\"dataframe\">\n",
       "  <thead>\n",
       "    <tr style=\"text-align: right;\">\n",
       "      <th></th>\n",
       "      <th>西武</th>\n",
       "      <th>ソフトバンク</th>\n",
       "      <th>日本ハム</th>\n",
       "      <th>オリックス</th>\n",
       "      <th>ロッテ</th>\n",
       "      <th>楽天</th>\n",
       "    </tr>\n",
       "  </thead>\n",
       "  <tbody>\n",
       "    <tr>\n",
       "      <th>statistic</th>\n",
       "      <td>0.0535116</td>\n",
       "      <td>0.0805998</td>\n",
       "      <td>0.049834</td>\n",
       "      <td>0.219375</td>\n",
       "      <td>0.0776558</td>\n",
       "      <td>0.106225</td>\n",
       "    </tr>\n",
       "    <tr>\n",
       "      <th>pvalue</th>\n",
       "      <td>0.981433</td>\n",
       "      <td>0.765543</td>\n",
       "      <td>0.99298</td>\n",
       "      <td>0.0244601</td>\n",
       "      <td>0.831205</td>\n",
       "      <td>0.428533</td>\n",
       "    </tr>\n",
       "  </tbody>\n",
       "</table>\n",
       "</div>"
      ],
      "text/plain": [
       "                  西武     ソフトバンク      日本ハム      オリックス        ロッテ        楽天\n",
       "statistic  0.0535116  0.0805998  0.049834   0.219375  0.0776558  0.106225\n",
       "pvalue      0.981433   0.765543   0.99298  0.0244601   0.831205  0.428533"
      ]
     },
     "execution_count": 13,
     "metadata": {},
     "output_type": "execute_result"
    }
   ],
   "source": [
    "pacific_df"
   ]
  },
  {
   "cell_type": "code",
   "execution_count": null,
   "metadata": {},
   "outputs": [],
   "source": []
  },
  {
   "cell_type": "code",
   "execution_count": null,
   "metadata": {},
   "outputs": [],
   "source": []
  },
  {
   "cell_type": "code",
   "execution_count": 5,
   "metadata": {},
   "outputs": [
    {
     "data": {
      "text/plain": [
       "(0.026087343789856922, 0.17065919130139318)"
      ]
     },
     "execution_count": 5,
     "metadata": {},
     "output_type": "execute_result"
    }
   ],
   "source": [
    "target_team = \"広島\"\n",
    "lst1 = extract_case(event_df[event_df.攻撃チーム==target_team], \"1000\", \"1100\").状況.values\n",
    "lst2 = extract_case(event_df[event_df.攻撃チーム==target_team], \"0100\", \"1100\").状況.values\n",
    "stats.ks_2samp(lst1, lst2).pvalue, stats.ks_2samp(lst1, lst2).statistic"
   ]
  },
  {
   "cell_type": "code",
   "execution_count": 6,
   "metadata": {},
   "outputs": [
    {
     "data": {
      "text/plain": [
       "(0.77522314115090618, 0.075486317850006146)"
      ]
     },
     "execution_count": 6,
     "metadata": {},
     "output_type": "execute_result"
    }
   ],
   "source": [
    "target_team = \"ヤクルト\"\n",
    "lst1 = extract_case(event_df[event_df.攻撃チーム==target_team], \"1000\", \"1100\").状況.values\n",
    "lst2 = extract_case(event_df[event_df.攻撃チーム==target_team], \"0100\", \"1100\").状況.values\n",
    "stats.ks_2samp(lst1, lst2).pvalue, stats.ks_2samp(lst1, lst2).statistic"
   ]
  },
  {
   "cell_type": "code",
   "execution_count": 7,
   "metadata": {
    "scrolled": true
   },
   "outputs": [
    {
     "data": {
      "text/plain": [
       "(0.42878330629428851, 0.097935779816513746)"
      ]
     },
     "execution_count": 7,
     "metadata": {},
     "output_type": "execute_result"
    }
   ],
   "source": [
    "target_team = \"巨人\"\n",
    "lst1 = extract_case(event_df[event_df.攻撃チーム==target_team], \"1000\", \"1100\").状況.values\n",
    "lst2 = extract_case(event_df[event_df.攻撃チーム==target_team], \"0100\", \"1100\").状況.values\n",
    "stats.ks_2samp(lst1, lst2).pvalue, stats.ks_2samp(lst1, lst2).statistic"
   ]
  },
  {
   "cell_type": "code",
   "execution_count": 8,
   "metadata": {},
   "outputs": [
    {
     "data": {
      "text/plain": [
       "(0.53288159437808735, 0.10077380952380943)"
      ]
     },
     "execution_count": 8,
     "metadata": {},
     "output_type": "execute_result"
    }
   ],
   "source": [
    "target_team = \"ＤｅＮＡ\"\n",
    "lst1 = extract_case(event_df[event_df.攻撃チーム==target_team], \"1000\", \"1100\").状況.values\n",
    "lst2 = extract_case(event_df[event_df.攻撃チーム==target_team], \"0100\", \"1100\").状況.values\n",
    "stats.ks_2samp(lst1, lst2).pvalue, stats.ks_2samp(lst1, lst2).statistic"
   ]
  },
  {
   "cell_type": "code",
   "execution_count": 9,
   "metadata": {},
   "outputs": [
    {
     "data": {
      "text/plain": [
       "(0.59684317324954017, 0.09630847953216376)"
      ]
     },
     "execution_count": 9,
     "metadata": {},
     "output_type": "execute_result"
    }
   ],
   "source": [
    "target_team = \"中日\"\n",
    "lst1 = extract_case(event_df[event_df.攻撃チーム==target_team], \"1000\", \"1100\").状況.values\n",
    "lst2 = extract_case(event_df[event_df.攻撃チーム==target_team], \"0100\", \"1100\").状況.values\n",
    "stats.ks_2samp(lst1, lst2).pvalue, stats.ks_2samp(lst1, lst2).statistic"
   ]
  },
  {
   "cell_type": "code",
   "execution_count": 10,
   "metadata": {},
   "outputs": [
    {
     "data": {
      "text/plain": [
       "(0.94360332266750568, 0.060098522167487622)"
      ]
     },
     "execution_count": 10,
     "metadata": {},
     "output_type": "execute_result"
    }
   ],
   "source": [
    "target_team = \"阪神\"\n",
    "lst1 = extract_case(event_df[event_df.攻撃チーム==target_team], \"1000\", \"1100\").状況.values\n",
    "lst2 = extract_case(event_df[event_df.攻撃チーム==target_team], \"0100\", \"1100\").状況.values\n",
    "stats.ks_2samp(lst1, lst2).pvalue, stats.ks_2samp(lst1, lst2).statistic"
   ]
  },
  {
   "cell_type": "code",
   "execution_count": null,
   "metadata": {},
   "outputs": [],
   "source": []
  },
  {
   "cell_type": "code",
   "execution_count": null,
   "metadata": {},
   "outputs": [],
   "source": [
    "target_team = \"西武\"\n",
    "lst1 = extract_case(event_df[event_df.攻撃チーム==target_team], \"1000\", \"1100\").状況.values\n",
    "lst2 = extract_case(event_df[event_df.攻撃チーム==target_team], \"0100\", \"1100\").状況.values\n",
    "stats.ks_2samp(lst1, lst2).pvalue, stats.ks_2samp(lst1, lst2).statistic"
   ]
  },
  {
   "cell_type": "code",
   "execution_count": null,
   "metadata": {},
   "outputs": [],
   "source": [
    "target_team = \"ソフトバンク\"\n",
    "lst1 = extract_case(event_df[event_df.攻撃チーム==target_team], \"1000\", \"1100\").状況.values\n",
    "lst2 = extract_case(event_df[event_df.攻撃チーム==target_team], \"0100\", \"1100\").状況.values\n",
    "stats.ks_2samp(lst1, lst2).pvalue, stats.ks_2samp(lst1, lst2).statistic"
   ]
  },
  {
   "cell_type": "code",
   "execution_count": null,
   "metadata": {},
   "outputs": [],
   "source": [
    "target_team = \"日本ハム\"\n",
    "lst1 = extract_case(event_df[event_df.攻撃チーム==target_team], \"1000\", \"1100\").状況.values\n",
    "lst2 = extract_case(event_df[event_df.攻撃チーム==target_team], \"0100\", \"1100\").状況.values\n",
    "stats.ks_2samp(lst1, lst2).pvalue, stats.ks_2samp(lst1, lst2).statistic"
   ]
  },
  {
   "cell_type": "code",
   "execution_count": null,
   "metadata": {},
   "outputs": [],
   "source": [
    "target_team = \"オリックス\"\n",
    "lst1 = extract_case(event_df[event_df.攻撃チーム==target_team], \"1000\", \"1100\").状況.values\n",
    "lst2 = extract_case(event_df[event_df.攻撃チーム==target_team], \"0100\", \"1100\").状況.values\n",
    "stats.ks_2samp(lst1, lst2).pvalue, stats.ks_2samp(lst1, lst2).statistic"
   ]
  },
  {
   "cell_type": "code",
   "execution_count": null,
   "metadata": {},
   "outputs": [],
   "source": [
    "target_team = \"ロッテ\"\n",
    "lst1 = extract_case(event_df[event_df.攻撃チーム==target_team], \"1000\", \"1100\").状況.values\n",
    "lst2 = extract_case(event_df[event_df.攻撃チーム==target_team], \"0100\", \"1100\").状況.values\n",
    "stats.ks_2samp(lst1, lst2).pvalue, stats.ks_2samp(lst1, lst2).statistic"
   ]
  },
  {
   "cell_type": "code",
   "execution_count": null,
   "metadata": {},
   "outputs": [],
   "source": [
    "target_team = \"楽天\"\n",
    "lst1 = extract_case(event_df[event_df.攻撃チーム==target_team], \"1000\", \"1100\").状況.values\n",
    "lst2 = extract_case(event_df[event_df.攻撃チーム==target_team], \"0100\", \"1100\").状況.values\n",
    "stats.ks_2samp(lst1, lst2).pvalue, stats.ks_2samp(lst1, lst2).statistic"
   ]
  },
  {
   "cell_type": "code",
   "execution_count": null,
   "metadata": {},
   "outputs": [],
   "source": []
  },
  {
   "cell_type": "code",
   "execution_count": null,
   "metadata": {},
   "outputs": [],
   "source": []
  },
  {
   "cell_type": "code",
   "execution_count": null,
   "metadata": {},
   "outputs": [],
   "source": []
  },
  {
   "cell_type": "code",
   "execution_count": null,
   "metadata": {},
   "outputs": [],
   "source": []
  },
  {
   "cell_type": "code",
   "execution_count": null,
   "metadata": {},
   "outputs": [],
   "source": []
  },
  {
   "cell_type": "code",
   "execution_count": null,
   "metadata": {},
   "outputs": [],
   "source": []
  },
  {
   "cell_type": "code",
   "execution_count": null,
   "metadata": {},
   "outputs": [],
   "source": []
  },
  {
   "cell_type": "code",
   "execution_count": null,
   "metadata": {
    "scrolled": true
   },
   "outputs": [],
   "source": []
  },
  {
   "cell_type": "code",
   "execution_count": null,
   "metadata": {},
   "outputs": [],
   "source": []
  },
  {
   "cell_type": "code",
   "execution_count": null,
   "metadata": {},
   "outputs": [],
   "source": []
  },
  {
   "cell_type": "code",
   "execution_count": null,
   "metadata": {},
   "outputs": [],
   "source": []
  },
  {
   "cell_type": "code",
   "execution_count": null,
   "metadata": {},
   "outputs": [],
   "source": []
  },
  {
   "cell_type": "code",
   "execution_count": null,
   "metadata": {},
   "outputs": [],
   "source": []
  },
  {
   "cell_type": "markdown",
   "metadata": {},
   "source": [
    "# いらぬ"
   ]
  },
  {
   "cell_type": "code",
   "execution_count": null,
   "metadata": {
    "scrolled": true
   },
   "outputs": [],
   "source": [
    "\"\"\"for team in central:\n",
    "    target_flattened_triple = make_flattened_list(make_inning_triple(make_inning_list(event_df[event_df.攻撃チーム==team])))\n",
    "    bar_and_df(target_flattened_triple, \"1000\", \"0100\", \"1100\", team, False)\"\"\""
   ]
  },
  {
   "cell_type": "code",
   "execution_count": null,
   "metadata": {
    "scrolled": true
   },
   "outputs": [],
   "source": [
    "\"\"\"for team in pacific:\n",
    "    target_flattened_triple = make_flattened_list(make_inning_triple(make_inning_list(event_df[event_df.攻撃チーム==team])))\n",
    "    bar_and_df(target_flattened_triple, \"1000\", \"0100\", \"1100\", team, False)\"\"\""
   ]
  },
  {
   "cell_type": "code",
   "execution_count": null,
   "metadata": {
    "scrolled": true
   },
   "outputs": [],
   "source": [
    "#event_df = pd.concat([event_df, event_df[[\"状況\"]].shift(1).rename({\"状況\": \"状況-1\"}, axis=1), event_df[[\"状況\"]].shift(-1).rename({\"状況\": \"状況+1\"}, axis=1)], axis=1)"
   ]
  },
  {
   "cell_type": "code",
   "execution_count": null,
   "metadata": {},
   "outputs": [],
   "source": [
    "\"\"\"def extract_case(event_df, before_2, before_1):\n",
    "    con_event_df = pd.concat([event_df, event_df[[\"状況\"]].shift(1).rename({\"状況\": \"状況-1\"}, axis=1), event_df[[\"状況\"]].shift(2).rename({\"状況\": \"状況-2\"}, axis=1)], axis=1)\n",
    "    return con_event_df[(con_event_df[\"状況-1\"]==before_1) & (con_event_df[\"状況-2\"]==before_2)]\"\"\""
   ]
  },
  {
   "cell_type": "code",
   "execution_count": null,
   "metadata": {},
   "outputs": [],
   "source": [
    "\"\"\"def make_triple_from_case(con_event_df):\n",
    "    return [list(reversed(elem)) for elem in con_event_df[[\"状況\", \"状況-1\", \"状況-2\"]].values.tolist()]\"\"\""
   ]
  },
  {
   "cell_type": "code",
   "execution_count": null,
   "metadata": {
    "scrolled": true
   },
   "outputs": [],
   "source": [
    "#ad_list = make_triple_from_case(extract_case(event_df[event_df.攻撃チーム==\"巨人\"], \"1000\", \"1100\"))\n",
    "#dis_list = make_triple_from_case(extract_case(event_df[event_df.攻撃チーム==\"巨人\"], \"0100\", \"1100\"))"
   ]
  }
 ],
 "metadata": {
  "kernelspec": {
   "display_name": "Python 3",
   "language": "python",
   "name": "python3"
  },
  "language_info": {
   "codemirror_mode": {
    "name": "ipython",
    "version": 3
   },
   "file_extension": ".py",
   "mimetype": "text/x-python",
   "name": "python",
   "nbconvert_exporter": "python",
   "pygments_lexer": "ipython3",
   "version": "3.5.4"
  }
 },
 "nbformat": 4,
 "nbformat_minor": 2
}
