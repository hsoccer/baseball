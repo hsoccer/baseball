{
 "cells": [
  {
   "cell_type": "markdown",
   "metadata": {},
   "source": [
    "# 年別"
   ]
  },
  {
   "cell_type": "code",
   "execution_count": null,
   "metadata": {},
   "outputs": [],
   "source": [
    "import pandas as pd\n",
    "import numpy as np\n",
    "import re\n",
    "import os, sys\n",
    "import matplotlib.pyplot as plt\n",
    "import seaborn as sns\n",
    "from collections import Counter, defaultdict\n",
    "from itertools import product\n",
    "from scipy import stats\n",
    "\n",
    "%matplotlib inline\n",
    "plt.style.use('ggplot')\n",
    "#plt.style.use('seaborn-pastel')\n",
    "%config InlineBackend.figure_format = 'retina'\n",
    "import warnings\n",
    "warnings.filterwarnings('ignore')\n",
    "from tqdm import tqdm_notebook as tq\n",
    "\n",
    "sys.path.append(\"..\")\n",
    "from utils.util_functions import *\n",
    "\n",
    "pd.set_option('display.max_rows', 500)"
   ]
  },
  {
   "cell_type": "code",
   "execution_count": 2,
   "metadata": {},
   "outputs": [],
   "source": [
    "#event_df = make_df(data_dir=DETAIL_DATA_DIR_MLB)\n",
    "#event_df = pd.read_csv(os.path.join(ROOT_DIR, \"event_df.csv\"), index_col=0, encoding=\"cp932\", dtype=object)\n",
    "#df_2017 = make_df(end=1944417, data_dir=DETAIL_DATA_DIR_MLB)\n",
    "#df_2017 = pd.read_csv(os.path.join(ROOT_DIR, \"df_2017.csv\"), index_col=0, encoding=\"cp932\", dtype=object)\n",
    "#df_2018 = make_df(start=1944417, data_dir=DETAIL_DATA_DIR_MLB)\n",
    "#df_2018 = pd.read_csv(os.path.join(ROOT_DIR, \"df_2018.csv\"), index_col=0, encoding=\"cp932\", dtype=object)\n",
    "files = os.listdir(DETAIL_DATA_DIR_MLB)[1:]\n",
    "names = pd.Series(files).apply(lambda x: int(x.split(\".\")[0]))\n",
    "files_2017 = names[names<=1944417].apply(lambda x: str(x)+\".csv\")\n",
    "files_2018 = names[names>1944417].apply(lambda x: str(x)+\".csv\")\n",
    "column = \"得点\"\n",
    "teams_mlb = list(set(pd.read_csv(os.path.join(SCORE_DATA_DIR_MLB, \"score_mlb.csv\"), encoding=\"cp932\", index_col=0).表チーム))\n",
    "teams_mlb.remove(\"ア・リーグ\")\n",
    "first_teams = ['Rソックス', 'インディアンス', 'アストロズ', 'ブレーブス', 'ブリュワーズ', 'ドジャース']\n",
    "second_teams = ['ヤンキース', 'ツインズ', 'アスレチックス', 'ナショナルズ', 'カブス', 'ロッキーズ']\n",
    "third_teams = ['レイズ', 'タイガース', 'マリナーズ', 'フィリーズ', 'カージナルス', 'Dバックス']\n",
    "fourth_teams = ['ブルージェイズ', 'Wソックス',  'エンゼルス', 'メッツ', 'パイレーツ', 'ジャイアンツ']\n",
    "fifth_teams = ['オリオールズ', 'ロイヤルズ', 'レンジャーズ', 'マーリンズ', 'レッズ', 'パドレス']"
   ]
  },
  {
   "cell_type": "code",
   "execution_count": 3,
   "metadata": {},
   "outputs": [],
   "source": [
    "def ranking(team):\n",
    "    first_teams = ['Rソックス', 'インディアンス', 'アストロズ', 'ブレーブス', 'ブリュワーズ', 'ドジャース']\n",
    "    second_teams = ['ヤンキース', 'ツインズ', 'アスレチックス', 'ナショナルズ', 'カブス', 'ロッキーズ']\n",
    "    third_teams = ['レイズ', 'タイガース', 'マリナーズ', 'フィリーズ', 'カージナルス', 'Dバックス']\n",
    "    fourth_teams = ['ブルージェイズ', 'Wソックス',  'エンゼルス', 'メッツ', 'パイレーツ', 'ジャイアンツ']\n",
    "    fifth_teams = ['オリオールズ', 'ロイヤルズ', 'レンジャーズ', 'マーリンズ', 'レッズ', 'パドレス']\n",
    "    lst = [first_teams, second_teams, third_teams, fourth_teams, fifth_teams]\n",
    "    for i in range(len(lst)):\n",
    "        teams = lst[i]\n",
    "        if team in teams:\n",
    "            return i + 1"
   ]
  },
  {
   "cell_type": "code",
   "execution_count": 4,
   "metadata": {},
   "outputs": [],
   "source": [
    "case_expected_score_dict = dict(pd.read_csv(os.path.join(ROOT_DIR, \"case_expected_score.csv\"), dtype=object).values)\n",
    "case_expected_score_dict = dict([[key, float(value)] for key, value in case_expected_score_dict.items()])\n",
    "\n",
    "def weighted_score(case, score):\n",
    "    \"\"\"\n",
    "    lst : (Stの状況, 直後の得点)\n",
    "    \"\"\"\n",
    "    return score / case_expected_score_dict[case]"
   ]
  },
  {
   "cell_type": "code",
   "execution_count": 5,
   "metadata": {},
   "outputs": [
    {
     "data": {
      "text/plain": [
       "'df = event_df[event_df.攻撃チーム==team]\\ntriple = make_inning_triple(make_inning_list(df, score_end=1, how=\"both\"))\\nlst = make_flattened_list(triple)'"
      ]
     },
     "execution_count": 5,
     "metadata": {},
     "output_type": "execute_result"
    }
   ],
   "source": [
    "team = \"Rソックス\"\n",
    "\"\"\"df = event_df[event_df.攻撃チーム==team]\n",
    "triple = make_inning_triple(make_inning_list(df, score_end=1, how=\"both\"))\n",
    "lst = make_flattened_list(triple)\"\"\""
   ]
  },
  {
   "cell_type": "code",
   "execution_count": null,
   "metadata": {},
   "outputs": [],
   "source": [
    "def triple_on_score_diff(team, diff_lower, diff_upper, year=\"both\"):\n",
    "    if year == \"both\":\n",
    "        df = event_df[event_df.攻撃チーム==team]\n",
    "    elif int(year) == 2018:\n",
    "        df = df_2018[df_2018.攻撃チーム==team]\n",
    "    elif int(year) == 2017:\n",
    "        df = df_2017[df_2017.攻撃チーム==team]\n",
    "    triple = make_inning_triple(make_inning_list(df, score_end=1, how=\"both\"))\n",
    "    lst = make_flattened_list(triple)\n",
    "    res = []\n",
    "    for elem in lst:\n",
    "        my_score = int(elem[1][1])\n",
    "        opp_score = int(elem[1][2])\n",
    "        if diff_lower < diff_upper:\n",
    "            if diff_lower <= my_score - opp_score <= diff_upper:\n",
    "                res.append(((elem[0][0], elem[0][1]), (elem[1][0], elem[1][1]), (elem[2][0], elem[2][1])))\n",
    "        elif diff_lower > diff_upper:\n",
    "            if diff_lower <= my_score - opp_score or my_score - opp_score <= diff_upper:\n",
    "                res.append(((elem[0][0], elem[0][1]), (elem[1][0], elem[1][1]), (elem[2][0], elem[2][1])))\n",
    "        else:\n",
    "            raise \"diff_lower == diff_upper\"\n",
    "    return res"
   ]
  },
  {
   "cell_type": "markdown",
   "metadata": {},
   "source": [
    "## positive inhibition = 勝ってるから気をぬく = 流れはいいのに点が取れない"
   ]
  },
  {
   "cell_type": "markdown",
   "metadata": {},
   "source": [
    "## positive inhibitionを起こしがちなチームは、大差がつくとimp時の期待得点が下がる"
   ]
  },
  {
   "cell_type": "markdown",
   "metadata": {},
   "source": [
    "# 点数気にしない"
   ]
  },
  {
   "cell_type": "code",
   "execution_count": 6,
   "metadata": {},
   "outputs": [
    {
     "name": "stdout",
     "output_type": "stream",
     "text": [
      "ツインズ 0.92366038901 0.789537944542\n",
      "ブリュワーズ 1.08518435977 1.0108727633\n",
      "マリナーズ 0.972623184145 0.952930514751\n",
      "Rソックス 0.835660697013 0.690565289127\n",
      "ドジャース 0.905195114327 1.00288118137\n",
      "ロイヤルズ 1.12085736287 0.848346455636\n",
      "インディアンス 0.902157628414 1.04603281857\n",
      "マーリンズ 1.02208802284 0.899243691333\n",
      "エンゼルス 0.915604275109 0.801461744543\n",
      "ロッキーズ 0.921682757292 0.838801280813\n",
      "ジャイアンツ 0.627556698516 0.762969569229\n",
      "オリオールズ 1.0871926731 0.984524869702\n",
      "Wソックス 0.986304445102 0.842205430476\n",
      "ブルージェイズ 1.01799941371 0.931078816168\n",
      "レンジャーズ 0.994612886939 1.04599630139\n",
      "ブレーブス 0.862033886908 0.769437199549\n",
      "タイガース 0.986390570936 0.84013737406\n",
      "カージナルス 0.888277676248 0.943655405455\n",
      "カブス 0.952157860171 1.05752610441\n",
      "レイズ 0.852290644196 1.04489940481\n",
      "レッズ 0.903544618683 0.934222023326\n",
      "ナショナルズ 1.01105943324 0.7801661568\n",
      "パドレス 0.814943206198 0.867884050255\n",
      "アストロズ 0.9132393372 0.855633951329\n",
      "Dバックス 1.14028315707 0.933797819461\n",
      "メッツ 0.876622210086 1.0933786905\n",
      "フィリーズ 0.92729822789 0.7691952027\n",
      "パイレーツ 0.84943231764 0.552902308153\n",
      "ヤンキース 1.02982089689 0.863356989979\n",
      "アスレチックス 1.1864960071 1.05510230032\n"
     ]
    }
   ],
   "source": [
    "#imp_list = []\n",
    "#det_list = []\n",
    "res_dict1 = dict()\n",
    "for team in teams_mlb:\n",
    "    df = df_2017[df_2017.攻撃チーム==team]\n",
    "    triple = make_inning_triple(make_inning_list(df, score_end=1, how=\"own\"))\n",
    "    lst = make_flattened_list(triple[:])\n",
    "    improved_score_list = []\n",
    "    deteriorated_score_list = []\n",
    "    for three_series in [elem for elem in lst if elem[0][0]!=\"3000\" and elem[1][0]!=\"3000\"]:\n",
    "        if is_improved(three_series[0][0], three_series[1][0]):\n",
    "            improved_score_list.append(weighted_score(three_series[1][0], three_series[2][1]-three_series[1][1]))\n",
    "        elif is_deteriorated(three_series[0][0], three_series[1][0]):\n",
    "            deteriorated_score_list.append(weighted_score(three_series[1][0], three_series[2][1]-three_series[1][1]))\n",
    "    #imp_list.append(np.mean(improved_score_list))\n",
    "    #det_list.append(np.mean(deteriorated_score_list))\n",
    "    res_dict1[team] = (np.mean(improved_score_list), np.mean(deteriorated_score_list))\n",
    "    print(team, np.mean(improved_score_list), np.mean(deteriorated_score_list))"
   ]
  },
  {
   "cell_type": "code",
   "execution_count": 7,
   "metadata": {},
   "outputs": [
    {
     "data": {
      "text/plain": [
       "<matplotlib.collections.PathCollection at 0x2010a22ac8>"
      ]
     },
     "execution_count": 7,
     "metadata": {},
     "output_type": "execute_result"
    },
    {
     "data": {
      "image/png": "[encoded data removed]",
      "text/plain": [
       "<matplotlib.figure.Figure at 0x1021b45f8>"
      ]
     },
     "metadata": {
      "image/png": {
       "height": 250,
       "width": 374
      }
     },
     "output_type": "display_data"
    }
   ],
   "source": [
    "plt.scatter([elem[0] for elem in list(res_dict1.values())], [elem[1] for elem in list(res_dict1.values())])"
   ]
  },
  {
   "cell_type": "markdown",
   "metadata": {},
   "source": [
    "# n点差以上"
   ]
  },
  {
   "cell_type": "code",
   "execution_count": 8,
   "metadata": {
    "scrolled": true
   },
   "outputs": [
    {
     "name": "stdout",
     "output_type": "stream",
     "text": [
      "ツインズ 1.02429217415 1.09577853495\n",
      "ブリュワーズ 1.17004138477 0.217108418709\n",
      "マリナーズ 1.07340088741 1.71716082127\n",
      "Rソックス 0.82304789357 0.267296633213\n",
      "ドジャース 1.09514342641 0.972404516893\n",
      "ロイヤルズ 0.903684219314 0.501407611255\n",
      "インディアンス 0.690508116986 0.93580347966\n",
      "マーリンズ 0.844700586467 0.609220822057\n",
      "エンゼルス 1.04109186989 0.609635918008\n",
      "ロッキーズ 1.13315253832 1.06076028418\n",
      "ジャイアンツ 0.518101596835 0.936915425716\n",
      "オリオールズ 0.983023142603 0.704857922714\n",
      "Wソックス 1.15116563166 0.989233106523\n",
      "ブルージェイズ 0.661647094488 0.322717581665\n",
      "レンジャーズ 0.771230700529 1.0405860491\n",
      "ブレーブス 0.860737288635 0.673174586152\n",
      "タイガース 1.06562119268 0.625187672352\n",
      "カージナルス 0.86756518998 0.949239711033\n",
      "カブス 1.36654259823 1.08943217923\n",
      "レイズ 1.29664770187 1.27247288319\n",
      "レッズ 0.679588122316 1.3185808625\n",
      "ナショナルズ 1.55832391772 0.421192148936\n",
      "パドレス 0.54041243309 0.0\n",
      "アストロズ 1.037989045 0.891905868463\n",
      "Dバックス 1.58739495139 0.569162659891\n",
      "メッツ 0.769830937235 1.30224353486\n",
      "フィリーズ 1.1692607538 1.24186725232\n",
      "パイレーツ 1.60216341893 1.01228898133\n",
      "ヤンキース 1.35696747384 0.783368408179\n",
      "アスレチックス 0.508541512597 1.45386035205\n"
     ]
    }
   ],
   "source": [
    "#imp_list = []\n",
    "#det_list = []\n",
    "res_dict = dict()\n",
    "for team in teams_mlb:\n",
    "    lst = triple_on_score_diff(team, 5, 30, 2017)\n",
    "    improved_score_list = []\n",
    "    deteriorated_score_list = []\n",
    "    for three_series in [elem for elem in lst if elem[0][0]!=\"3000\" and elem[1][0]!=\"3000\"]:\n",
    "        if is_improved(three_series[0][0], three_series[1][0]):\n",
    "            improved_score_list.append(weighted_score(three_series[1][0], three_series[2][1]-three_series[1][1]))\n",
    "        elif is_deteriorated(three_series[0][0], three_series[1][0]):\n",
    "            deteriorated_score_list.append(weighted_score(three_series[1][0], three_series[2][1]-three_series[1][1]))\n",
    "    #imp_list.append(np.mean(improved_score_list))\n",
    "    #det_list.append(np.mean(deteriorated_score_list))\n",
    "    res_dict[team] = (np.mean(improved_score_list), np.mean(deteriorated_score_list))\n",
    "    print(team, np.mean(improved_score_list), np.mean(deteriorated_score_list))"
   ]
  },
  {
   "cell_type": "code",
   "execution_count": 9,
   "metadata": {},
   "outputs": [
    {
     "data": {
      "text/plain": [
       "<matplotlib.collections.PathCollection at 0x20130bdfd0>"
      ]
     },
     "execution_count": 9,
     "metadata": {},
     "output_type": "execute_result"
    },
    {
     "data": {
      "image/png": "[encoded data removed]",
      "text/plain": [
       "<matplotlib.figure.Figure at 0x20157ed550>"
      ]
     },
     "metadata": {
      "image/png": {
       "height": 250,
       "width": 381
      }
     },
     "output_type": "display_data"
    }
   ],
   "source": [
    "plt.scatter([elem[0] for elem in list(res_dict.values())], [elem[1] for elem in list(res_dict.values())])"
   ]
  },
  {
   "cell_type": "code",
   "execution_count": 10,
   "metadata": {},
   "outputs": [
    {
     "name": "stdout",
     "output_type": "stream",
     "text": [
      "2 ツインズ 0.100631785139\n",
      "1 ブリュワーズ 0.0848570249992\n",
      "3 マリナーズ 0.100777703266\n",
      "1 ドジャース 0.189948312083\n",
      "4 エンゼルス 0.125487594776\n",
      "2 ロッキーズ 0.21146978103\n",
      "4 Wソックス 0.164861186559\n",
      "3 タイガース 0.0792306217425\n",
      "2 カブス 0.414384738062\n",
      "3 レイズ 0.444357057672\n",
      "2 ナショナルズ 0.547264484474\n",
      "1 アストロズ 0.124749707796\n",
      "3 Dバックス 0.447111794317\n",
      "3 フィリーズ 0.241962525912\n",
      "4 パイレーツ 0.752731101293\n",
      "2 ヤンキース 0.327146576949\n"
     ]
    }
   ],
   "source": [
    "# 大差で勝っていると流れがいいとボコボコにするチーム\n",
    "for team in teams_mlb:\n",
    "    if res_dict1[team][0] < res_dict[team][0]:\n",
    "        print(ranking(team), team, res_dict[team][0] - res_dict1[team][0])"
   ]
  },
  {
   "cell_type": "code",
   "execution_count": 11,
   "metadata": {},
   "outputs": [
    {
     "name": "stdout",
     "output_type": "stream",
     "text": [
      "1 Rソックス -0.0126128034437\n",
      "5 ロイヤルズ -0.217173143554\n",
      "1 インディアンス -0.211649511428\n",
      "5 マーリンズ -0.177387436371\n",
      "4 ジャイアンツ -0.109455101681\n",
      "5 オリオールズ -0.104169530501\n",
      "4 ブルージェイズ -0.356352319221\n",
      "5 レンジャーズ -0.22338218641\n",
      "1 ブレーブス -0.00129659827288\n",
      "3 カージナルス -0.0207124862683\n",
      "5 レッズ -0.223956496368\n",
      "5 パドレス -0.274530773108\n",
      "4 メッツ -0.106791272851\n",
      "2 アスレチックス -0.677954494503\n"
     ]
    }
   ],
   "source": [
    "# 大差で勝っていると油断するチーム\n",
    "for team in teams_mlb:\n",
    "    if res_dict1[team][0] > res_dict[team][0]:\n",
    "        print(ranking(team), team, res_dict[team][0] - res_dict1[team][0])"
   ]
  },
  {
   "cell_type": "code",
   "execution_count": null,
   "metadata": {},
   "outputs": [],
   "source": []
  }
 ],
 "metadata": {
  "kernelspec": {
   "display_name": "Python 3",
   "language": "python",
   "name": "python3"
  },
  "language_info": {
   "codemirror_mode": {
    "name": "ipython",
    "version": 3
   },
   "file_extension": ".py",
   "mimetype": "text/x-python",
   "name": "python",
   "nbconvert_exporter": "python",
   "pygments_lexer": "ipython3",
   "version": "3.5.4"
  }
 },
 "nbformat": 4,
 "nbformat_minor": 2
}
