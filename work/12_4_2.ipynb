{
 "cells": [
  {
   "cell_type": "markdown",
   "metadata": {},
   "source": [
    "# 大差がつく相手の分布"
   ]
  },
  {
   "cell_type": "code",
   "execution_count": 1,
   "metadata": {},
   "outputs": [],
   "source": [
    "import pandas as pd\n",
    "import numpy as np\n",
    "import re\n",
    "import os, sys\n",
    "import matplotlib.pyplot as plt\n",
    "import seaborn as sns\n",
    "from collections import Counter, defaultdict\n",
    "from itertools import product\n",
    "from scipy import stats\n",
    "\n",
    "%matplotlib inline\n",
    "plt.style.use('ggplot')\n",
    "#plt.style.use('seaborn-pastel')\n",
    "%config InlineBackend.figure_format = 'retina'\n",
    "import warnings\n",
    "warnings.filterwarnings('ignore')\n",
    "from tqdm import tqdm_notebook as tq\n",
    "\n",
    "import matplotlib as mpl\n",
    "font = {\"family\":\"osaka\"}\n",
    "mpl.rc('font', **font)\n",
    "\n",
    "sys.path.append(\"..\")\n",
    "from utils.util_functions import *\n",
    "\n",
    "pd.set_option('display.max_rows', 500)"
   ]
  },
  {
   "cell_type": "code",
   "execution_count": 2,
   "metadata": {},
   "outputs": [],
   "source": [
    "#event_df = make_df(data_dir=DETAIL_DATA_DIR_MLB)\n",
    "#event_df = pd.read_csv(os.path.join(ROOT_DIR, \"event_df.csv\"), index_col=0, encoding=\"cp932\", dtype=object)\n",
    "#df_2017 = make_df(end=1944417, data_dir=DETAIL_DATA_DIR_MLB)\n",
    "#df_2017 = pd.read_csv(os.path.join(ROOT_DIR, \"df_2017.csv\"), index_col=0, encoding=\"cp932\", dtype=object)\n",
    "#df_2018 = make_df(start=1944417, data_dir=DETAIL_DATA_DIR_MLB)\n",
    "#df_2018 = pd.read_csv(os.path.join(ROOT_DIR, \"df_2018.csv\"), index_col=0, encoding=\"cp932\", dtype=object)\n",
    "files = os.listdir(DETAIL_DATA_DIR_MLB)[1:]\n",
    "names = pd.Series(files).apply(lambda x: int(x.split(\".\")[0]))\n",
    "files_2017 = names[names<=1944417].apply(lambda x: str(x)+\".csv\")\n",
    "files_2018 = names[names>1944417].apply(lambda x: str(x)+\".csv\")\n",
    "column = \"得点\"\n",
    "teams_mlb = list(set(pd.read_csv(os.path.join(SCORE_DATA_DIR_MLB, \"score_mlb.csv\"), encoding=\"cp932\", index_col=0).表チーム))\n",
    "teams_mlb.remove(\"ア・リーグ\")\n",
    "first_teams = ['Rソックス', 'インディアンス', 'アストロズ', 'ブレーブス', 'ブリュワーズ', 'ドジャース']\n",
    "second_teams = ['ヤンキース', 'ツインズ', 'アスレチックス', 'ナショナルズ', 'カブス', 'ロッキーズ']\n",
    "third_teams = ['レイズ', 'タイガース', 'マリナーズ', 'フィリーズ', 'カージナルス', 'Dバックス']\n",
    "fourth_teams = ['ブルージェイズ', 'Wソックス',  'エンゼルス', 'メッツ', 'パイレーツ', 'ジャイアンツ']\n",
    "fifth_teams = ['オリオールズ', 'ロイヤルズ', 'レンジャーズ', 'マーリンズ', 'レッズ', 'パドレス']"
   ]
  },
  {
   "cell_type": "code",
   "execution_count": 3,
   "metadata": {},
   "outputs": [],
   "source": [
    "score_df = pd.read_csv(os.path.join(SCORE_DATA_DIR_MLB, \"score_mlb.csv\"), encoding=\"cp932\", index_col=0)"
   ]
  },
  {
   "cell_type": "code",
   "execution_count": 4,
   "metadata": {},
   "outputs": [],
   "source": [
    "def func(team, n=5):\n",
    "    top_leads = np.array(score_df[(score_df.表チーム==team)][\"表得点\"] - score_df[(score_df.表チーム==team)][\"裏得点\"])\n",
    "    top_opps = np.array(score_df[(score_df.表チーム==team)][\"裏チーム\"])\n",
    "    bot_leads = np.array(score_df[(score_df.裏チーム==team)][\"裏得点\"] - score_df[(score_df.裏チーム==team)][\"表得点\"])\n",
    "    bot_opps = np.array(score_df[(score_df.裏チーム==team)][\"表チーム\"])\n",
    "    leads = np.concatenate([top_leads, bot_leads])\n",
    "    opps = np.concatenate([top_opps, bot_opps])\n",
    "    df = pd.DataFrame([leads, opps], index=[\"リード\", \"相手チーム\"]).T\n",
    "    return df[df.リード>=n]"
   ]
  },
  {
   "cell_type": "code",
   "execution_count": 5,
   "metadata": {
    "scrolled": false
   },
   "outputs": [
    {
     "name": "stdout",
     "output_type": "stream",
     "text": [
      "Rソックス 0.99608320391\n",
      "エンゼルス 0.948024660279\n",
      "タイガース 0.493048337129\n",
      "ナショナルズ 0.112207412744\n",
      "メッツ 0.790584548442\n",
      "レイズ 0.34983094668\n",
      "カブス 0.737445272124\n",
      "Wソックス 0.413546728639\n",
      "パドレス 0.281395653032\n",
      "ブリュワーズ 0.797652966023\n",
      "Dバックス 0.134287673458\n",
      "アスレチックス 0.991539385442\n",
      "ツインズ 0.414559032894\n",
      "ヤンキース 0.325647485252\n",
      "マーリンズ 0.995804417892\n",
      "パイレーツ 0.830513905956\n",
      "マリナーズ 0.342838945366\n",
      "ブルージェイズ 0.469885403521\n",
      "オリオールズ 0.125021564496\n",
      "レッズ 0.414123522423\n",
      "インディアンス 0.862600158327\n",
      "ジャイアンツ 0.674760503036\n",
      "レンジャーズ 0.971326954903\n",
      "ドジャース 0.0671422037667\n",
      "カージナルス 0.169417258144\n",
      "アストロズ 0.99899319312\n",
      "ブレーブス 0.504889391146\n",
      "ロイヤルズ 0.946974592358\n",
      "ロッキーズ 0.994925038863\n",
      "フィリーズ 0.353858647478\n"
     ]
    }
   ],
   "source": [
    "# 大差をつける相手として、有意に分布が違うチームはなさそう\n",
    "# プロだからある程度接戦になると説明するべきか\n",
    "for team in teams_mlb:\n",
    "    opps = score_df[(score_df.表チーム==team) | (score_df.裏チーム==team)][[\"表チーム\", \"裏チーム\"]].values.flatten()\n",
    "    opps = opps[opps!=team]\n",
    "    lead_opps = np.array(func(team).相手チーム)\n",
    "    print(team, stats.ks_2samp(opps, lead_opps).pvalue)"
   ]
  },
  {
   "cell_type": "code",
   "execution_count": null,
   "metadata": {},
   "outputs": [],
   "source": []
  },
  {
   "cell_type": "markdown",
   "metadata": {},
   "source": [
    "# positive vs negative"
   ]
  },
  {
   "cell_type": "code",
   "execution_count": 6,
   "metadata": {},
   "outputs": [],
   "source": [
    "lst = make_flattened_list(make_inning_triple(make_inning_list(event_df[event_df.攻撃チーム==team], score_end=1, how=\"own\")))"
   ]
  },
  {
   "cell_type": "code",
   "execution_count": 7,
   "metadata": {
    "scrolled": true
   },
   "outputs": [],
   "source": [
    "improved_list = [elem for elem in lst if is_improved(elem[0][0], elem[1][0])]\n",
    "deteriorated_list = [elem for elem in lst if is_deteriorated(elem[0][0], elem[1][0])]"
   ]
  },
  {
   "cell_type": "code",
   "execution_count": 8,
   "metadata": {},
   "outputs": [],
   "source": [
    "common_case_list = list(set([elem[1][0] for elem in improved_list]) & set([elem[1][0] for elem in deteriorated_list]))"
   ]
  },
  {
   "cell_type": "code",
   "execution_count": 12,
   "metadata": {
    "scrolled": true
   },
   "outputs": [],
   "source": [
    "case = common_case_list[0]\n",
    "#[elem[2][1]-elem[1][1] for elem in improved_list if elem[1][0]==case]"
   ]
  },
  {
   "cell_type": "code",
   "execution_count": 38,
   "metadata": {},
   "outputs": [],
   "source": [
    "imp_proba = (pd.Series([elem[1][0] for elem in improved_list]).value_counts()/len(pd.Series([elem[1][0] for elem in improved_list])))[common_case_list]\n",
    "det_proba = (pd.Series([elem[1][0] for elem in deteriorated_list]).value_counts()/len(pd.Series([elem[1][0] for elem in deteriorated_list])))[common_case_list]"
   ]
  },
  {
   "cell_type": "code",
   "execution_count": 41,
   "metadata": {},
   "outputs": [],
   "source": [
    "#det_proba"
   ]
  },
  {
   "cell_type": "code",
   "execution_count": 10,
   "metadata": {},
   "outputs": [],
   "source": [
    "res_dict = dict()\n",
    "for case in common_case_list:\n",
    "    imp_score = np.mean([elem[2][1]-elem[1][1] for elem in improved_list if elem[1][0]==case])\n",
    "    det_score = np.mean([elem[2][1]-elem[1][1] for elem in deteriorated_list if elem[1][0]==case])\n",
    "    res_dict[case] = (imp_score, det_score)"
   ]
  },
  {
   "cell_type": "code",
   "execution_count": 29,
   "metadata": {},
   "outputs": [
    {
     "data": {
      "text/html": [
       "<div>\n",
       "<style scoped>\n",
       "    .dataframe tbody tr th:only-of-type {\n",
       "        vertical-align: middle;\n",
       "    }\n",
       "\n",
       "    .dataframe tbody tr th {\n",
       "        vertical-align: top;\n",
       "    }\n",
       "\n",
       "    .dataframe thead th {\n",
       "        text-align: right;\n",
       "    }\n",
       "</style>\n",
       "<table border=\"1\" class=\"dataframe\">\n",
       "  <thead>\n",
       "    <tr style=\"text-align: right;\">\n",
       "      <th></th>\n",
       "      <th>imp</th>\n",
       "      <th>det</th>\n",
       "    </tr>\n",
       "  </thead>\n",
       "  <tbody>\n",
       "    <tr>\n",
       "      <th>2101</th>\n",
       "      <td>0.197531</td>\n",
       "      <td>0.277778</td>\n",
       "    </tr>\n",
       "    <tr>\n",
       "      <th>2110</th>\n",
       "      <td>0.196581</td>\n",
       "      <td>0.236641</td>\n",
       "    </tr>\n",
       "    <tr>\n",
       "      <th>1100</th>\n",
       "      <td>0.087607</td>\n",
       "      <td>0.058824</td>\n",
       "    </tr>\n",
       "    <tr>\n",
       "      <th>2000</th>\n",
       "      <td>0.023256</td>\n",
       "      <td>0.026204</td>\n",
       "    </tr>\n",
       "    <tr>\n",
       "      <th>2111</th>\n",
       "      <td>0.613208</td>\n",
       "      <td>0.441176</td>\n",
       "    </tr>\n",
       "    <tr>\n",
       "      <th>2010</th>\n",
       "      <td>0.227586</td>\n",
       "      <td>0.185185</td>\n",
       "    </tr>\n",
       "    <tr>\n",
       "      <th>1110</th>\n",
       "      <td>0.207373</td>\n",
       "      <td>0.230769</td>\n",
       "    </tr>\n",
       "    <tr>\n",
       "      <th>1011</th>\n",
       "      <td>0.590909</td>\n",
       "      <td>0.375000</td>\n",
       "    </tr>\n",
       "    <tr>\n",
       "      <th>2001</th>\n",
       "      <td>0.250000</td>\n",
       "      <td>0.148148</td>\n",
       "    </tr>\n",
       "    <tr>\n",
       "      <th>1010</th>\n",
       "      <td>0.131579</td>\n",
       "      <td>0.121951</td>\n",
       "    </tr>\n",
       "    <tr>\n",
       "      <th>2011</th>\n",
       "      <td>0.263158</td>\n",
       "      <td>0.431818</td>\n",
       "    </tr>\n",
       "    <tr>\n",
       "      <th>1001</th>\n",
       "      <td>0.256410</td>\n",
       "      <td>0.411765</td>\n",
       "    </tr>\n",
       "    <tr>\n",
       "      <th>2100</th>\n",
       "      <td>0.065789</td>\n",
       "      <td>0.073298</td>\n",
       "    </tr>\n",
       "    <tr>\n",
       "      <th>1101</th>\n",
       "      <td>0.493333</td>\n",
       "      <td>0.470588</td>\n",
       "    </tr>\n",
       "    <tr>\n",
       "      <th>1111</th>\n",
       "      <td>0.806818</td>\n",
       "      <td>0.928571</td>\n",
       "    </tr>\n",
       "    <tr>\n",
       "      <th>1000</th>\n",
       "      <td>0.028777</td>\n",
       "      <td>0.025825</td>\n",
       "    </tr>\n",
       "  </tbody>\n",
       "</table>\n",
       "</div>"
      ],
      "text/plain": [
       "           imp       det\n",
       "2101  0.197531  0.277778\n",
       "2110  0.196581  0.236641\n",
       "1100  0.087607  0.058824\n",
       "2000  0.023256  0.026204\n",
       "2111  0.613208  0.441176\n",
       "2010  0.227586  0.185185\n",
       "1110  0.207373  0.230769\n",
       "1011  0.590909  0.375000\n",
       "2001  0.250000  0.148148\n",
       "1010  0.131579  0.121951\n",
       "2011  0.263158  0.431818\n",
       "1001  0.256410  0.411765\n",
       "2100  0.065789  0.073298\n",
       "1101  0.493333  0.470588\n",
       "1111  0.806818  0.928571\n",
       "1000  0.028777  0.025825"
      ]
     },
     "execution_count": 29,
     "metadata": {},
     "output_type": "execute_result"
    }
   ],
   "source": [
    "pd.DataFrame(list(res_dict.values()), index=res_dict.keys(), columns=[\"imp\", \"det\"])#.describe()"
   ]
  },
  {
   "cell_type": "code",
   "execution_count": 37,
   "metadata": {},
   "outputs": [
    {
     "data": {
      "text/plain": [
       "0.1281842818428184"
      ]
     },
     "execution_count": 37,
     "metadata": {},
     "output_type": "execute_result"
    }
   ],
   "source": [
    "# positive = is_improved\n",
    "sum(imp_proba * pd.DataFrame(list(res_dict.values()), index=res_dict.keys(), columns=[\"imp\", \"det\"])[\"imp\"])"
   ]
  },
  {
   "cell_type": "code",
   "execution_count": 39,
   "metadata": {
    "scrolled": true
   },
   "outputs": [
    {
     "data": {
      "text/plain": [
       "0.0617911615174032"
      ]
     },
     "execution_count": 39,
     "metadata": {},
     "output_type": "execute_result"
    }
   ],
   "source": [
    "# negative = is_deteriorated\n",
    "sum(det_proba * pd.DataFrame(list(res_dict.values()), index=res_dict.keys(), columns=[\"imp\", \"det\"])[\"det\"])"
   ]
  },
  {
   "cell_type": "code",
   "execution_count": null,
   "metadata": {},
   "outputs": [],
   "source": []
  }
 ],
 "metadata": {
  "kernelspec": {
   "display_name": "Python 3",
   "language": "python",
   "name": "python3"
  },
  "language_info": {
   "codemirror_mode": {
    "name": "ipython",
    "version": 3
   },
   "file_extension": ".py",
   "mimetype": "text/x-python",
   "name": "python",
   "nbconvert_exporter": "python",
   "pygments_lexer": "ipython3",
   "version": "3.5.4"
  }
 },
 "nbformat": 4,
 "nbformat_minor": 2
}
