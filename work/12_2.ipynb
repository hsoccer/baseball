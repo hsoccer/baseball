{
 "cells": [
  {
   "cell_type": "markdown",
   "metadata": {},
   "source": [
    "# 状況別得点期待値"
   ]
  },
  {
   "cell_type": "code",
   "execution_count": 1,
   "metadata": {},
   "outputs": [],
   "source": [
    "import pandas as pd\n",
    "import numpy as np\n",
    "import re\n",
    "import os, sys\n",
    "import matplotlib.pyplot as plt\n",
    "import seaborn as sns\n",
    "from collections import Counter, defaultdict\n",
    "from itertools import product\n",
    "from scipy import stats\n",
    "\n",
    "%matplotlib inline\n",
    "plt.style.use('ggplot')\n",
    "#plt.style.use('seaborn-pastel')\n",
    "%config InlineBackend.figure_format = 'retina'\n",
    "import warnings\n",
    "warnings.filterwarnings('ignore')\n",
    "from tqdm import tqdm_notebook as tq\n",
    "\n",
    "sys.path.append(\"..\")\n",
    "from utils.util_functions import *"
   ]
  },
  {
   "cell_type": "code",
   "execution_count": 2,
   "metadata": {},
   "outputs": [],
   "source": [
    "event_df = make_df(data_dir=DETAIL_DATA_DIR_MLB)\n",
    "df_2017 = make_df(end=1944417, data_dir=DETAIL_DATA_DIR_MLB)\n",
    "df_2018 = make_df(start=1944417, data_dir=DETAIL_DATA_DIR_MLB)\n",
    "files = os.listdir(DETAIL_DATA_DIR_MLB)[1:]\n",
    "names = pd.Series(files).apply(lambda x: int(x.split(\".\")[0]))\n",
    "files_2017 = names[names<=1944417].apply(lambda x: str(x)+\".csv\")\n",
    "files_2018 = names[names>1944417].apply(lambda x: str(x)+\".csv\")\n",
    "column = \"得点\"\n",
    "teams_mlb = list(set(pd.read_csv(os.path.join(SCORE_DATA_DIR_MLB, \"score_mlb.csv\"), encoding=\"cp932\", index_col=0).表チーム))\n",
    "teams_mlb.remove(\"ア・リーグ\")"
   ]
  },
  {
   "cell_type": "code",
   "execution_count": null,
   "metadata": {},
   "outputs": [],
   "source": [
    "#pd.DataFrame(np.array([1, 2, np.nan])).fillna(-1).astype(int).replace(-1, np.nan).values.flatten()"
   ]
  },
  {
   "cell_type": "code",
   "execution_count": null,
   "metadata": {},
   "outputs": [],
   "source": [
    "event_df.head(100)"
   ]
  },
  {
   "cell_type": "code",
   "execution_count": 3,
   "metadata": {
    "scrolled": false
   },
   "outputs": [
    {
     "data": {
      "text/plain": [
       "25"
      ]
     },
     "execution_count": 3,
     "metadata": {},
     "output_type": "execute_result"
    }
   ],
   "source": [
    "event_set = set(event_df.状況)\n",
    "len(event_set)"
   ]
  },
  {
   "cell_type": "code",
   "execution_count": 4,
   "metadata": {
    "scrolled": true
   },
   "outputs": [
    {
     "data": {
      "text/html": [
       "<div>\n",
       "<style scoped>\n",
       "    .dataframe tbody tr th:only-of-type {\n",
       "        vertical-align: middle;\n",
       "    }\n",
       "\n",
       "    .dataframe tbody tr th {\n",
       "        vertical-align: top;\n",
       "    }\n",
       "\n",
       "    .dataframe thead th {\n",
       "        text-align: right;\n",
       "    }\n",
       "</style>\n",
       "<table border=\"1\" class=\"dataframe\">\n",
       "  <thead>\n",
       "    <tr style=\"text-align: right;\">\n",
       "      <th></th>\n",
       "      <th>状況</th>\n",
       "      <th>裏得点</th>\n",
       "      <th>表得点</th>\n",
       "    </tr>\n",
       "  </thead>\n",
       "  <tbody>\n",
       "    <tr>\n",
       "      <th>0</th>\n",
       "      <td>0000</td>\n",
       "      <td>0</td>\n",
       "      <td>0</td>\n",
       "    </tr>\n",
       "    <tr>\n",
       "      <th>1</th>\n",
       "      <td>1000</td>\n",
       "      <td>0</td>\n",
       "      <td>0</td>\n",
       "    </tr>\n",
       "    <tr>\n",
       "      <th>2</th>\n",
       "      <td>2000</td>\n",
       "      <td>0</td>\n",
       "      <td>0</td>\n",
       "    </tr>\n",
       "    <tr>\n",
       "      <th>3</th>\n",
       "      <td>2100</td>\n",
       "      <td>0</td>\n",
       "      <td>0</td>\n",
       "    </tr>\n",
       "    <tr>\n",
       "      <th>4</th>\n",
       "      <td>3000</td>\n",
       "      <td>0</td>\n",
       "      <td>0</td>\n",
       "    </tr>\n",
       "  </tbody>\n",
       "</table>\n",
       "</div>"
      ],
      "text/plain": [
       "     状況 裏得点 表得点\n",
       "0  0000   0   0\n",
       "1  1000   0   0\n",
       "2  2000   0   0\n",
       "3  2100   0   0\n",
       "4  3000   0   0"
      ]
     },
     "execution_count": 4,
     "metadata": {},
     "output_type": "execute_result"
    }
   ],
   "source": [
    "extracted_df = event_df[[\"状況\", \"裏得点\", \"表得点\"]]\n",
    "#extracted_df = extracted_df[extracted_df.状況!=\"3000\"]\n",
    "extracted_df.head()"
   ]
  },
  {
   "cell_type": "code",
   "execution_count": 5,
   "metadata": {},
   "outputs": [],
   "source": [
    "event_dict = defaultdict(list)\n",
    "extracted_array = extracted_df.values\n",
    "for idx in range(len(extracted_array)-1):\n",
    "    curr_case, curr_bot_score, curr_top_score = extracted_array[idx]\n",
    "    late_case, late_bot_score, late_top_score = extracted_array[idx+1]\n",
    "    try:\n",
    "        curr_bot_score = int(curr_bot_score)\n",
    "    except:\n",
    "        pass\n",
    "    try:\n",
    "        curr_top_score = int(curr_top_score)\n",
    "    except:\n",
    "        pass\n",
    "    try:\n",
    "        late_bot_score = int(late_bot_score)\n",
    "    except:\n",
    "        pass\n",
    "    try:\n",
    "        late_top_score = int(late_top_score)\n",
    "    except:\n",
    "        pass\n",
    "    event_dict[curr_case].append((late_bot_score+late_top_score)-(curr_bot_score+curr_top_score))\n",
    "    \"\"\"if curr_case == \"2111\":\n",
    "        if True or (late_bot_score+late_top_score)-(curr_bot_score+curr_top_score) == 2:\n",
    "            print(idx)\n",
    "            break\"\"\"\n",
    "event_dict = dict(event_dict)"
   ]
  },
  {
   "cell_type": "code",
   "execution_count": null,
   "metadata": {},
   "outputs": [],
   "source": [
    "pd.Series(event_dict[\"2111\"]).value_counts() #* pd.Series(event_dict[\"2111\"]).value_counts().index"
   ]
  },
  {
   "cell_type": "code",
   "execution_count": 6,
   "metadata": {},
   "outputs": [],
   "source": [
    "def expected_values(series):\n",
    "    total = sum(series)\n",
    "    if total == 0:\n",
    "        return np.nan\n",
    "    return sum(series.index * series) / total"
   ]
  },
  {
   "cell_type": "code",
   "execution_count": 7,
   "metadata": {},
   "outputs": [],
   "source": [
    "mean_dict = dict()\n",
    "for case in event_set:\n",
    "    mean_dict[case] = expected_values(pd.Series(event_dict[case]).value_counts())"
   ]
  },
  {
   "cell_type": "code",
   "execution_count": 36,
   "metadata": {
    "scrolled": true
   },
   "outputs": [
    {
     "data": {
      "text/html": [
       "<div>\n",
       "<style scoped>\n",
       "    .dataframe tbody tr th:only-of-type {\n",
       "        vertical-align: middle;\n",
       "    }\n",
       "\n",
       "    .dataframe tbody tr th {\n",
       "        vertical-align: top;\n",
       "    }\n",
       "\n",
       "    .dataframe thead th {\n",
       "        text-align: right;\n",
       "    }\n",
       "</style>\n",
       "<table border=\"1\" class=\"dataframe\">\n",
       "  <thead>\n",
       "    <tr style=\"text-align: right;\">\n",
       "      <th></th>\n",
       "      <th>0</th>\n",
       "    </tr>\n",
       "  </thead>\n",
       "  <tbody>\n",
       "    <tr>\n",
       "      <th>0000</th>\n",
       "      <td>0.00268148</td>\n",
       "    </tr>\n",
       "    <tr>\n",
       "      <th>1000</th>\n",
       "      <td>0.0333274</td>\n",
       "    </tr>\n",
       "    <tr>\n",
       "      <th>2000</th>\n",
       "      <td>0.0335624</td>\n",
       "    </tr>\n",
       "    <tr>\n",
       "      <th>0100</th>\n",
       "      <td>0.0854814</td>\n",
       "    </tr>\n",
       "    <tr>\n",
       "      <th>1100</th>\n",
       "      <td>0.0881936</td>\n",
       "    </tr>\n",
       "    <tr>\n",
       "      <th>2100</th>\n",
       "      <td>0.0884837</td>\n",
       "    </tr>\n",
       "    <tr>\n",
       "      <th>0010</th>\n",
       "      <td>0.159629</td>\n",
       "    </tr>\n",
       "    <tr>\n",
       "      <th>1010</th>\n",
       "      <td>0.182915</td>\n",
       "    </tr>\n",
       "    <tr>\n",
       "      <th>2010</th>\n",
       "      <td>0.205981</td>\n",
       "    </tr>\n",
       "    <tr>\n",
       "      <th>0110</th>\n",
       "      <td>0.224608</td>\n",
       "    </tr>\n",
       "    <tr>\n",
       "      <th>2001</th>\n",
       "      <td>0.252954</td>\n",
       "    </tr>\n",
       "    <tr>\n",
       "      <th>1110</th>\n",
       "      <td>0.254405</td>\n",
       "    </tr>\n",
       "    <tr>\n",
       "      <th>2110</th>\n",
       "      <td>0.27098</td>\n",
       "    </tr>\n",
       "    <tr>\n",
       "      <th>2101</th>\n",
       "      <td>0.31339</td>\n",
       "    </tr>\n",
       "    <tr>\n",
       "      <th>2011</th>\n",
       "      <td>0.386588</td>\n",
       "    </tr>\n",
       "    <tr>\n",
       "      <th>0001</th>\n",
       "      <td>0.495968</td>\n",
       "    </tr>\n",
       "    <tr>\n",
       "      <th>1001</th>\n",
       "      <td>0.511204</td>\n",
       "    </tr>\n",
       "    <tr>\n",
       "      <th>1101</th>\n",
       "      <td>0.588435</td>\n",
       "    </tr>\n",
       "    <tr>\n",
       "      <th>2111</th>\n",
       "      <td>0.593298</td>\n",
       "    </tr>\n",
       "    <tr>\n",
       "      <th>1011</th>\n",
       "      <td>0.61514</td>\n",
       "    </tr>\n",
       "    <tr>\n",
       "      <th>0011</th>\n",
       "      <td>0.648729</td>\n",
       "    </tr>\n",
       "    <tr>\n",
       "      <th>0101</th>\n",
       "      <td>0.652125</td>\n",
       "    </tr>\n",
       "    <tr>\n",
       "      <th>1111</th>\n",
       "      <td>0.788849</td>\n",
       "    </tr>\n",
       "    <tr>\n",
       "      <th>0111</th>\n",
       "      <td>0.850833</td>\n",
       "    </tr>\n",
       "  </tbody>\n",
       "</table>\n",
       "</div>"
      ],
      "text/plain": [
       "               0\n",
       "0000  0.00268148\n",
       "1000   0.0333274\n",
       "2000   0.0335624\n",
       "0100   0.0854814\n",
       "1100   0.0881936\n",
       "2100   0.0884837\n",
       "0010    0.159629\n",
       "1010    0.182915\n",
       "2010    0.205981\n",
       "0110    0.224608\n",
       "2001    0.252954\n",
       "1110    0.254405\n",
       "2110     0.27098\n",
       "2101     0.31339\n",
       "2011    0.386588\n",
       "0001    0.495968\n",
       "1001    0.511204\n",
       "1101    0.588435\n",
       "2111    0.593298\n",
       "1011     0.61514\n",
       "0011    0.648729\n",
       "0101    0.652125\n",
       "1111    0.788849\n",
       "0111    0.850833"
      ]
     },
     "execution_count": 36,
     "metadata": {},
     "output_type": "execute_result"
    }
   ],
   "source": [
    "pd.DataFrame(pd.Series(mean_dict).sort_values().iloc[1:].astype(object))#.to_csv(os.path.join(ROOT_DIR, \"case_expected_score.csv\"), header=[\"expected_score\"])"
   ]
  },
  {
   "cell_type": "code",
   "execution_count": null,
   "metadata": {
    "scrolled": true
   },
   "outputs": [],
   "source": [
    "pd.Series([i for i in range(len(event_set))], index=pd.Series(mean_dict).sort_values().index).to_dict()"
   ]
  },
  {
   "cell_type": "code",
   "execution_count": null,
   "metadata": {},
   "outputs": [],
   "source": [
    "d = dict({'0000': 1, '0001': 17, '0010': 8, '0011': 23, '0100': 5, '0101': 22, '0110': 11, '0111': 25, '1000': 2, '1001': 18, '1010': 9, '1011': 21, '1100': 6, \\\n",
    " '1101': 19, '1110': 13, '1111': 24, '2000': 3, '2001': 12, '2010': 10, '2011': 16, '2100': 7, '2101': 15, '2110': 14, '2111': 20, '3000': 4, 'GAMESET': 0})"
   ]
  },
  {
   "cell_type": "code",
   "execution_count": null,
   "metadata": {},
   "outputs": [],
   "source": [
    "d"
   ]
  },
  {
   "cell_type": "code",
   "execution_count": null,
   "metadata": {},
   "outputs": [],
   "source": [
    "event_df.iloc[23:27, :]"
   ]
  },
  {
   "cell_type": "code",
   "execution_count": null,
   "metadata": {},
   "outputs": [],
   "source": [
    "event_df.iloc[36236, :]"
   ]
  },
  {
   "cell_type": "code",
   "execution_count": null,
   "metadata": {},
   "outputs": [],
   "source": []
  }
 ],
 "metadata": {
  "kernelspec": {
   "display_name": "Python 3",
   "language": "python",
   "name": "python3"
  },
  "language_info": {
   "codemirror_mode": {
    "name": "ipython",
    "version": 3
   },
   "file_extension": ".py",
   "mimetype": "text/x-python",
   "name": "python",
   "nbconvert_exporter": "python",
   "pygments_lexer": "ipython3",
   "version": "3.5.4"
  }
 },
 "nbformat": 4,
 "nbformat_minor": 2
}
