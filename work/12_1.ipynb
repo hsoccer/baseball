{
 "cells": [
  {
   "cell_type": "markdown",
   "metadata": {},
   "source": [
    "・相関の分析は攻撃、守備のデータを分けて分析きているのか？（守備の方は冷静さ＝エントロピー差が影響してそうだが、攻撃もなのか？違いある？）"
   ]
  },
  {
   "cell_type": "markdown",
   "metadata": {},
   "source": [
    "意味がわからん     \n",
    "守備の方が冷静さが影響するってのはどういうこと?"
   ]
  },
  {
   "cell_type": "markdown",
   "metadata": {},
   "source": [
    "・エントロピー差って分散と同じでは？＝エントロピー差と得点の分散で相関があるのは当然では？…シーズンによってこれらの結果が変わったりするなら面白いかも"
   ]
  },
  {
   "cell_type": "markdown",
   "metadata": {},
   "source": [
    "同じじゃない"
   ]
  },
  {
   "cell_type": "markdown",
   "metadata": {},
   "source": [
    "・エントロピー差の意味…過去のデータが存在することによって、結果が変わるということ。つまり、過去の試合？の結果によって次の試合の結果が変わるという示唆（先生いわく、点数の分散と全く同じというわけではない）"
   ]
  },
  {
   "cell_type": "markdown",
   "metadata": {},
   "source": [
    "はい"
   ]
  },
  {
   "cell_type": "markdown",
   "metadata": {},
   "source": [
    "もう検討してたら申し訳ないんですが、冷静でいられるチームの方が勝ちやすい？（もしくは冷静でないチームの方が勝ちやすい）とかは言えなそうですか？\n",
    "過去の結果の実現に影響されないチームの方が得点が安定するってポイントは理解しました\n",
    "あと、冷静さの指標になるこのエントロピー差っていうのが、同じチームでどんなときに変動するのか？とかはゼミ生にコメントされました\n",
    "たとえば監督によって冷静さが変わるのか？とか熱血プレイヤーの加入で変わるのか？とかですね"
   ]
  },
  {
   "cell_type": "markdown",
   "metadata": {},
   "source": [
    "順位との間に目立った相関はなさそう     \n",
    "エントロピー差が大きく変わった年に監督が変わっているかは見てもいいかも"
   ]
  },
  {
   "cell_type": "code",
   "execution_count": 3,
   "metadata": {},
   "outputs": [],
   "source": [
    "import pandas as pd\n",
    "import numpy as np\n",
    "import re\n",
    "import os, sys\n",
    "import matplotlib.pyplot as plt\n",
    "import seaborn as sns\n",
    "from collections import Counter, defaultdict\n",
    "from itertools import product\n",
    "from scipy import stats\n",
    "\n",
    "%matplotlib inline\n",
    "plt.style.use('ggplot')\n",
    "#plt.style.use('seaborn-pastel')\n",
    "%config InlineBackend.figure_format = 'retina'\n",
    "import warnings\n",
    "warnings.filterwarnings('ignore')\n",
    "from tqdm import tqdm_notebook as tq\n",
    "\n",
    "sys.path.append(\"..\")\n",
    "from utils.util_functions import *"
   ]
  },
  {
   "cell_type": "code",
   "execution_count": 4,
   "metadata": {},
   "outputs": [],
   "source": [
    "event_df = make_df(data_dir=DETAIL_DATA_DIR_MLB)\n",
    "df_2017 = make_df(end=1944417, data_dir=DETAIL_DATA_DIR_MLB)\n",
    "df_2018 = make_df(start=1944417, data_dir=DETAIL_DATA_DIR_MLB)\n",
    "files = os.listdir(DETAIL_DATA_DIR_MLB)[1:]\n",
    "names = pd.Series(files).apply(lambda x: int(x.split(\".\")[0]))\n",
    "files_2017 = names[names<=1944417].apply(lambda x: str(x)+\".csv\")\n",
    "files_2018 = names[names>1944417].apply(lambda x: str(x)+\".csv\")\n",
    "column = \"得点\"\n",
    "teams_mlb = list(set(pd.read_csv(os.path.join(SCORE_DATA_DIR_MLB, \"score_mlb.csv\"), encoding=\"cp932\", index_col=0).表チーム))\n",
    "teams_mlb.remove(\"ア・リーグ\")"
   ]
  },
  {
   "cell_type": "code",
   "execution_count": 6,
   "metadata": {},
   "outputs": [],
   "source": [
    "team = \"Rソックス\""
   ]
  },
  {
   "cell_type": "code",
   "execution_count": 9,
   "metadata": {},
   "outputs": [
    {
     "data": {
      "text/plain": [
       "0.1648508918984266"
      ]
     },
     "execution_count": 9,
     "metadata": {},
     "output_type": "execute_result"
    }
   ],
   "source": [
    "df = df_2017[event_df.攻撃チーム==team]\n",
    "triple = make_inning_triple(make_inning_list(df, score_end=4))\n",
    "lst = make_flattened_list(triple[4:])\n",
    "df = pd.DataFrame(lst)\n",
    "score_diff = df[1].apply(lambda x: x[1])\n",
    "df = df.applymap(lambda x: x[0])\n",
    "df[\"点差\"] = score_diff\n",
    "df_with_score = df[(df[0]!=\"3000\") & (df[1]!=\"3000\")]\n",
    "improved_lst = [elem for elem in df_with_score[df_with_score.点差<=4][[0, 1, 2]].values.tolist() if is_improved(elem[0], elem[1])]\n",
    "# H(St+1 | St, St-1)\n",
    "second_cond_entropy = cond_entropy(pd.DataFrame(improved_lst)[2].values, pd.DataFrame(improved_lst)[[0, 1]].values)\n",
    "# H(St+1 | St)\n",
    "first_cond_entropy = cond_entropy(pd.DataFrame(improved_lst)[2].values, pd.DataFrame(improved_lst)[[1]].values)\n",
    "first_cond_entropy - second_cond_entropy"
   ]
  },
  {
   "cell_type": "code",
   "execution_count": 10,
   "metadata": {},
   "outputs": [
    {
     "data": {
      "text/plain": [
       "0.1811839198127161"
      ]
     },
     "execution_count": 10,
     "metadata": {},
     "output_type": "execute_result"
    }
   ],
   "source": [
    "df = df_2018[event_df.攻撃チーム==team]\n",
    "triple = make_inning_triple(make_inning_list(df, score_end=4))\n",
    "lst = make_flattened_list(triple[4:])\n",
    "df = pd.DataFrame(lst)\n",
    "score_diff = df[1].apply(lambda x: x[1])\n",
    "df = df.applymap(lambda x: x[0])\n",
    "df[\"点差\"] = score_diff\n",
    "df_with_score = df[(df[0]!=\"3000\") & (df[1]!=\"3000\")]\n",
    "improved_lst = [elem for elem in df_with_score[df_with_score.点差<=4][[0, 1, 2]].values.tolist() if is_improved(elem[0], elem[1])]\n",
    "# H(St+1 | St, St-1)\n",
    "second_cond_entropy = cond_entropy(pd.DataFrame(improved_lst)[2].values, pd.DataFrame(improved_lst)[[0, 1]].values)\n",
    "# H(St+1 | St)\n",
    "first_cond_entropy = cond_entropy(pd.DataFrame(improved_lst)[2].values, pd.DataFrame(improved_lst)[[1]].values)\n",
    "first_cond_entropy - second_cond_entropy"
   ]
  },
  {
   "cell_type": "code",
   "execution_count": 12,
   "metadata": {},
   "outputs": [
    {
     "data": {
      "application/vnd.jupyter.widget-view+json": {
       "model_id": "c5e88ce8a44e4f4a8c1d14193b3984a0",
       "version_major": 2,
       "version_minor": 0
      },
      "text/plain": [
       "HBox(children=(IntProgress(value=0, max=30), HTML(value='')))"
      ]
     },
     "metadata": {},
     "output_type": "display_data"
    },
    {
     "name": "stdout",
     "output_type": "stream",
     "text": [
      "\n"
     ]
    }
   ],
   "source": [
    "res = dict()\n",
    "for team in tq(teams_mlb):\n",
    "    curr = []\n",
    "    df = df_2017[event_df.攻撃チーム==team]\n",
    "    triple = make_inning_triple(make_inning_list(df, score_end=4))\n",
    "    lst = make_flattened_list(triple[4:])\n",
    "    df = pd.DataFrame(lst)\n",
    "    score_diff = df[1].apply(lambda x: x[1])\n",
    "    df = df.applymap(lambda x: x[0])\n",
    "    df[\"点差\"] = score_diff\n",
    "    df_with_score = df[(df[0]!=\"3000\") & (df[1]!=\"3000\")]\n",
    "    improved_lst = [elem for elem in df_with_score[df_with_score.点差<=4][[0, 1, 2]].values.tolist() if is_improved(elem[0], elem[1])]\n",
    "    # H(St+1 | St, St-1)\n",
    "    second_cond_entropy = cond_entropy(pd.DataFrame(improved_lst)[2].values, pd.DataFrame(improved_lst)[[0, 1]].values)\n",
    "    # H(St+1 | St)\n",
    "    first_cond_entropy = cond_entropy(pd.DataFrame(improved_lst)[2].values, pd.DataFrame(improved_lst)[[1]].values)\n",
    "    curr.append(first_cond_entropy - second_cond_entropy)\n",
    "    df = df_2018[event_df.攻撃チーム==team]\n",
    "    triple = make_inning_triple(make_inning_list(df, score_end=4))\n",
    "    lst = make_flattened_list(triple[4:])\n",
    "    df = pd.DataFrame(lst)\n",
    "    score_diff = df[1].apply(lambda x: x[1])\n",
    "    df = df.applymap(lambda x: x[0])\n",
    "    df[\"点差\"] = score_diff\n",
    "    df_with_score = df[(df[0]!=\"3000\") & (df[1]!=\"3000\")]\n",
    "    improved_lst = [elem for elem in df_with_score[df_with_score.点差<=4][[0, 1, 2]].values.tolist() if is_improved(elem[0], elem[1])]\n",
    "    # H(St+1 | St, St-1)\n",
    "    second_cond_entropy = cond_entropy(pd.DataFrame(improved_lst)[2].values, pd.DataFrame(improved_lst)[[0, 1]].values)\n",
    "    # H(St+1 | St)\n",
    "    first_cond_entropy = cond_entropy(pd.DataFrame(improved_lst)[2].values, pd.DataFrame(improved_lst)[[1]].values)\n",
    "    curr.append(first_cond_entropy - second_cond_entropy)\n",
    "    res[team] = curr"
   ]
  },
  {
   "cell_type": "code",
   "execution_count": 31,
   "metadata": {},
   "outputs": [],
   "source": [
    "entropies = pd.DataFrame(list(res.values()), index=res.keys(), columns=[2017, 2018])"
   ]
  },
  {
   "cell_type": "code",
   "execution_count": 32,
   "metadata": {},
   "outputs": [
    {
     "data": {
      "text/html": [
       "<div>\n",
       "<style scoped>\n",
       "    .dataframe tbody tr th:only-of-type {\n",
       "        vertical-align: middle;\n",
       "    }\n",
       "\n",
       "    .dataframe tbody tr th {\n",
       "        vertical-align: top;\n",
       "    }\n",
       "\n",
       "    .dataframe thead th {\n",
       "        text-align: right;\n",
       "    }\n",
       "</style>\n",
       "<table border=\"1\" class=\"dataframe\">\n",
       "  <thead>\n",
       "    <tr style=\"text-align: right;\">\n",
       "      <th></th>\n",
       "      <th>2017</th>\n",
       "      <th>2018</th>\n",
       "    </tr>\n",
       "  </thead>\n",
       "  <tbody>\n",
       "    <tr>\n",
       "      <th>2017</th>\n",
       "      <td>1.000000</td>\n",
       "      <td>0.057631</td>\n",
       "    </tr>\n",
       "    <tr>\n",
       "      <th>2018</th>\n",
       "      <td>0.057631</td>\n",
       "      <td>1.000000</td>\n",
       "    </tr>\n",
       "  </tbody>\n",
       "</table>\n",
       "</div>"
      ],
      "text/plain": [
       "          2017      2018\n",
       "2017  1.000000  0.057631\n",
       "2018  0.057631  1.000000"
      ]
     },
     "execution_count": 32,
     "metadata": {},
     "output_type": "execute_result"
    }
   ],
   "source": [
    "entropies.corr()"
   ]
  },
  {
   "cell_type": "code",
   "execution_count": 34,
   "metadata": {},
   "outputs": [
    {
     "data": {
      "text/plain": [
       "<matplotlib.collections.PathCollection at 0x2011b4e9b0>"
      ]
     },
     "execution_count": 34,
     "metadata": {},
     "output_type": "execute_result"
    },
    {
     "data": {
      "image/png": "[encoded data removed]",
      "text/plain": [
       "<matplotlib.figure.Figure at 0x2010935978>"
      ]
     },
     "metadata": {
      "image/png": {
       "height": 250,
       "width": 381
      }
     },
     "output_type": "display_data"
    }
   ],
   "source": [
    "plt.scatter(entropies[2017], entropies[2018])"
   ]
  },
  {
   "cell_type": "code",
   "execution_count": 39,
   "metadata": {},
   "outputs": [],
   "source": [
    "entropies[\"rate\"] = entropies[2018] / entropies[2017] - 1"
   ]
  },
  {
   "cell_type": "code",
   "execution_count": 42,
   "metadata": {},
   "outputs": [
    {
     "data": {
      "text/plain": [
       "<matplotlib.axes._subplots.AxesSubplot at 0x2011196278>"
      ]
     },
     "execution_count": 42,
     "metadata": {},
     "output_type": "execute_result"
    },
    {
     "data": {
      "image/png": "[encoded data removed]",
      "text/plain": [
       "<matplotlib.figure.Figure at 0x2011bce0f0>"
      ]
     },
     "metadata": {
      "image/png": {
       "height": 250,
       "width": 364
      }
     },
     "output_type": "display_data"
    }
   ],
   "source": [
    "entropies.sort_values(\"rate\")[\"rate\"].hist()"
   ]
  },
  {
   "cell_type": "code",
   "execution_count": null,
   "metadata": {},
   "outputs": [],
   "source": []
  }
 ],
 "metadata": {
  "kernelspec": {
   "display_name": "Python 3",
   "language": "python",
   "name": "python3"
  },
  "language_info": {
   "codemirror_mode": {
    "name": "ipython",
    "version": 3
   },
   "file_extension": ".py",
   "mimetype": "text/x-python",
   "name": "python",
   "nbconvert_exporter": "python",
   "pygments_lexer": "ipython3",
   "version": "3.5.4"
  }
 },
 "nbformat": 4,
 "nbformat_minor": 2
}
