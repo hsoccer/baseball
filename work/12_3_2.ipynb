{
 "cells": [
  {
   "cell_type": "code",
   "execution_count": 112,
   "metadata": {},
   "outputs": [],
   "source": [
    "import pandas as pd\n",
    "import numpy as np\n",
    "import re\n",
    "import os, sys\n",
    "import matplotlib.pyplot as plt\n",
    "import seaborn as sns\n",
    "from collections import Counter, defaultdict\n",
    "from itertools import product\n",
    "from scipy import stats\n",
    "\n",
    "%matplotlib inline\n",
    "plt.style.use('ggplot')\n",
    "#plt.style.use('seaborn-pastel')\n",
    "%config InlineBackend.figure_format = 'retina'\n",
    "import warnings\n",
    "warnings.filterwarnings('ignore')\n",
    "from tqdm import tqdm_notebook as tq\n",
    "\n",
    "import matplotlib as mpl\n",
    "font = {\"family\":\"osaka\"}\n",
    "mpl.rc('font', **font)\n",
    "\n",
    "sys.path.append(\"..\")\n",
    "from utils.util_functions import *\n",
    "\n",
    "pd.set_option('display.max_rows', 500)"
   ]
  },
  {
   "cell_type": "code",
   "execution_count": 2,
   "metadata": {},
   "outputs": [],
   "source": [
    "#event_df = make_df(data_dir=DETAIL_DATA_DIR_MLB)\n",
    "#event_df = pd.read_csv(os.path.join(ROOT_DIR, \"event_df.csv\"), index_col=0, encoding=\"cp932\", dtype=object)\n",
    "#df_2017 = make_df(end=1944417, data_dir=DETAIL_DATA_DIR_MLB)\n",
    "#df_2017 = pd.read_csv(os.path.join(ROOT_DIR, \"df_2017.csv\"), index_col=0, encoding=\"cp932\", dtype=object)\n",
    "#df_2018 = make_df(start=1944417, data_dir=DETAIL_DATA_DIR_MLB)\n",
    "#df_2018 = pd.read_csv(os.path.join(ROOT_DIR, \"df_2018.csv\"), index_col=0, encoding=\"cp932\", dtype=object)\n",
    "files = os.listdir(DETAIL_DATA_DIR_MLB)[1:]\n",
    "names = pd.Series(files).apply(lambda x: int(x.split(\".\")[0]))\n",
    "files_2017 = names[names<=1944417].apply(lambda x: str(x)+\".csv\")\n",
    "files_2018 = names[names>1944417].apply(lambda x: str(x)+\".csv\")\n",
    "column = \"得点\"\n",
    "teams_mlb = list(set(pd.read_csv(os.path.join(SCORE_DATA_DIR_MLB, \"score_mlb.csv\"), encoding=\"cp932\", index_col=0).表チーム))\n",
    "teams_mlb.remove(\"ア・リーグ\")\n",
    "first_teams = ['Rソックス', 'インディアンス', 'アストロズ', 'ブレーブス', 'ブリュワーズ', 'ドジャース']\n",
    "second_teams = ['ヤンキース', 'ツインズ', 'アスレチックス', 'ナショナルズ', 'カブス', 'ロッキーズ']\n",
    "third_teams = ['レイズ', 'タイガース', 'マリナーズ', 'フィリーズ', 'カージナルス', 'Dバックス']\n",
    "fourth_teams = ['ブルージェイズ', 'Wソックス',  'エンゼルス', 'メッツ', 'パイレーツ', 'ジャイアンツ']\n",
    "fifth_teams = ['オリオールズ', 'ロイヤルズ', 'レンジャーズ', 'マーリンズ', 'レッズ', 'パドレス']"
   ]
  },
  {
   "cell_type": "code",
   "execution_count": 3,
   "metadata": {},
   "outputs": [],
   "source": [
    "def ranking(team):\n",
    "    first_teams = ['Rソックス', 'インディアンス', 'アストロズ', 'ブレーブス', 'ブリュワーズ', 'ドジャース']\n",
    "    second_teams = ['ヤンキース', 'ツインズ', 'アスレチックス', 'ナショナルズ', 'カブス', 'ロッキーズ']\n",
    "    third_teams = ['レイズ', 'タイガース', 'マリナーズ', 'フィリーズ', 'カージナルス', 'Dバックス']\n",
    "    fourth_teams = ['ブルージェイズ', 'Wソックス',  'エンゼルス', 'メッツ', 'パイレーツ', 'ジャイアンツ']\n",
    "    fifth_teams = ['オリオールズ', 'ロイヤルズ', 'レンジャーズ', 'マーリンズ', 'レッズ', 'パドレス']\n",
    "    lst = [first_teams, second_teams, third_teams, fourth_teams, fifth_teams]\n",
    "    for i in range(len(lst)):\n",
    "        teams = lst[i]\n",
    "        if team in teams:\n",
    "            return i + 1"
   ]
  },
  {
   "cell_type": "code",
   "execution_count": 4,
   "metadata": {},
   "outputs": [],
   "source": [
    "case_expected_score_dict = dict(pd.read_csv(os.path.join(ROOT_DIR, \"case_expected_score.csv\"), dtype=object).values)\n",
    "case_expected_score_dict = dict([[key, float(value)] for key, value in case_expected_score_dict.items()])\n",
    "\n",
    "def weighted_score(case, score):\n",
    "    \"\"\"\n",
    "    lst : (Stの状況, 直後の得点)\n",
    "    \"\"\"\n",
    "    return score / case_expected_score_dict[case]"
   ]
  },
  {
   "cell_type": "code",
   "execution_count": null,
   "metadata": {},
   "outputs": [],
   "source": [
    "team = \"Rソックス\"\n",
    "\"\"\"df = event_df[event_df.攻撃チーム==team]\n",
    "triple = make_inning_triple(make_inning_list(df, score_end=1, how=\"both\"))\n",
    "lst = make_flattened_list(triple)\"\"\""
   ]
  },
  {
   "cell_type": "code",
   "execution_count": null,
   "metadata": {},
   "outputs": [],
   "source": [
    "def triple_on_score_diff(team, diff_lower, diff_upper):\n",
    "    df = event_df[event_df.攻撃チーム==team]\n",
    "    triple = make_inning_triple(make_inning_list(df, score_end=1, how=\"both\"))\n",
    "    lst = make_flattened_list(triple)\n",
    "    res = []\n",
    "    for elem in lst:\n",
    "        my_score = int(elem[1][1])\n",
    "        opp_score = int(elem[1][2])\n",
    "        if diff_lower < diff_upper:\n",
    "            if diff_lower <= my_score - opp_score <= diff_upper:\n",
    "                res.append(((elem[0][0], elem[0][1]), (elem[1][0], elem[1][1]), (elem[2][0], elem[2][1])))\n",
    "        elif diff_lower > diff_upper:\n",
    "            if diff_lower <= my_score - opp_score or my_score - opp_score <= diff_upper:\n",
    "                res.append(((elem[0][0], elem[0][1]), (elem[1][0], elem[1][1]), (elem[2][0], elem[2][1])))\n",
    "        else:\n",
    "            raise \"diff_lower == diff_upper\"\n",
    "    return res"
   ]
  },
  {
   "cell_type": "markdown",
   "metadata": {},
   "source": [
    "## positive inhibition = 勝ってるから気をぬく = 流れはいいのに点が取れない"
   ]
  },
  {
   "cell_type": "markdown",
   "metadata": {},
   "source": [
    "## positive inhibitionを起こしがちなチームは、大差がつくとimp時の期待得点が下がる"
   ]
  },
  {
   "cell_type": "markdown",
   "metadata": {},
   "source": [
    "# 点数気にしない"
   ]
  },
  {
   "cell_type": "code",
   "execution_count": 5,
   "metadata": {
    "scrolled": true
   },
   "outputs": [
    {
     "name": "stdout",
     "output_type": "stream",
     "text": [
      "ロイヤルズ 1.03987290469 0.787326989454\n",
      "ブリュワーズ 1.04429625014 0.941393604414\n",
      "パイレーツ 0.893305279729 0.6288820725\n",
      "ジャイアンツ 0.675578862939 0.652120478222\n",
      "カブス 0.878238708199 0.872866513439\n",
      "マーリンズ 0.936588342746 0.796156103172\n",
      "Wソックス 0.945604354354 0.878072903062\n",
      "ロッキーズ 0.978668138338 0.923310517824\n",
      "フィリーズ 0.87676551924 0.779891375977\n",
      "メッツ 0.873975654756 0.958449671134\n",
      "ヤンキース 1.093514823 0.998737690998\n",
      "レイズ 0.781894181733 0.912021654353\n",
      "インディアンス 0.955432361261 1.01760316618\n",
      "アスレチックス 1.07203822087 1.07874620108\n",
      "Rソックス 0.87492455598 0.815787214018\n",
      "ドジャース 0.930329051034 1.00855411789\n",
      "オリオールズ 0.997117001178 0.955702491199\n",
      "ツインズ 0.922416065842 0.838590258153\n",
      "タイガース 0.910618877114 0.712728549098\n",
      "カージナルス 0.929605089763 0.886356896446\n",
      "マリナーズ 0.939863564986 0.898330473234\n",
      "パドレス 0.81069432596 0.892233666003\n",
      "ブルージェイズ 0.941945206471 1.01492945163\n",
      "ナショナルズ 0.971800909134 0.810211018908\n",
      "Dバックス 1.08847179011 0.897224473664\n",
      "エンゼルス 0.908445848475 0.944996109893\n",
      "ブレーブス 0.907631212361 0.756692937823\n",
      "レンジャーズ 0.959357641029 0.96651778918\n",
      "アストロズ 0.943700625491 0.913777437932\n",
      "レッズ 0.87225166078 0.823905875935\n"
     ]
    }
   ],
   "source": [
    "#imp_list = []\n",
    "#det_list = []\n",
    "res_dict1 = dict()\n",
    "for team in teams_mlb:\n",
    "    df = event_df[event_df.攻撃チーム==team]\n",
    "    triple = make_inning_triple(make_inning_list(df, score_end=1, how=\"own\"))\n",
    "    lst = make_flattened_list(triple[:])\n",
    "    improved_score_list = []\n",
    "    deteriorated_score_list = []\n",
    "    for three_series in [elem for elem in lst if elem[0][0]!=\"3000\" and elem[1][0]!=\"3000\"]:\n",
    "        if is_improved(three_series[0][0], three_series[1][0]):\n",
    "            improved_score_list.append(weighted_score(three_series[1][0], three_series[2][1]-three_series[1][1]))\n",
    "        elif is_deteriorated(three_series[0][0], three_series[1][0]):\n",
    "            deteriorated_score_list.append(weighted_score(three_series[1][0], three_series[2][1]-three_series[1][1]))\n",
    "    #imp_list.append(np.mean(improved_score_list))\n",
    "    #det_list.append(np.mean(deteriorated_score_list))\n",
    "    res_dict1[team] = (np.mean(improved_score_list), np.mean(deteriorated_score_list))\n",
    "    print(team, np.mean(improved_score_list), np.mean(deteriorated_score_list))"
   ]
  },
  {
   "cell_type": "code",
   "execution_count": 6,
   "metadata": {},
   "outputs": [
    {
     "data": {
      "text/plain": [
       "<matplotlib.collections.PathCollection at 0x201865b780>"
      ]
     },
     "execution_count": 6,
     "metadata": {},
     "output_type": "execute_result"
    },
    {
     "data": {
      "image/png": "[encoded data removed]",
      "text/plain": [
       "<matplotlib.figure.Figure at 0x20149b6ba8>"
      ]
     },
     "metadata": {
      "image/png": {
       "height": 250,
       "width": 374
      }
     },
     "output_type": "display_data"
    }
   ],
   "source": [
    "plt.scatter([elem[0] for elem in list(res_dict1.values())], [elem[1] for elem in list(res_dict1.values())])"
   ]
  },
  {
   "cell_type": "markdown",
   "metadata": {},
   "source": [
    "# n点差以上"
   ]
  },
  {
   "cell_type": "code",
   "execution_count": 7,
   "metadata": {
    "scrolled": true
   },
   "outputs": [
    {
     "name": "stdout",
     "output_type": "stream",
     "text": [
      "ロイヤルズ 0.983021211653 0.615804464736\n",
      "ブリュワーズ 1.39168563365 0.495946197412\n",
      "パイレーツ 1.12088591317 0.958891366324\n",
      "ジャイアンツ 0.43924997866 0.616893851828\n",
      "カブス 1.17958326614 0.726199626644\n",
      "マーリンズ 0.795297163137 0.794355279834\n",
      "Wソックス 0.87661194852 0.995997954521\n",
      "ロッキーズ 1.21690171331 1.01965735045\n",
      "フィリーズ 1.08743679228 0.904200346908\n",
      "メッツ 0.86258310196 1.47858841173\n",
      "ヤンキース 1.24222528971 1.06629156825\n",
      "レイズ 0.86339786246 1.27659542025\n",
      "インディアンス 0.96285254836 0.936109436475\n",
      "アスレチックス 0.935035724883 1.26503500142\n",
      "Rソックス 0.920814673757 0.571502151552\n",
      "ドジャース 1.14007487571 0.826814759608\n",
      "オリオールズ 1.05321615017 0.72934286349\n",
      "ツインズ 0.845329327581 0.938004070987\n",
      "タイガース 0.79418685124 0.468906404799\n",
      "カージナルス 1.00072653552 0.748792089259\n",
      "マリナーズ 0.930857948265 1.42933588843\n",
      "パドレス 1.01582960308 0.0634663060627\n",
      "ブルージェイズ 0.842442353606 0.8423879888\n",
      "ナショナルズ 1.45815106828 0.569673657433\n",
      "Dバックス 1.37045785935 0.725705933393\n",
      "エンゼルス 1.17717432293 0.812090716621\n",
      "ブレーブス 1.00345716699 0.499212043981\n",
      "レンジャーズ 0.888430813922 1.04815543786\n",
      "アストロズ 1.17377430678 1.02466215127\n",
      "レッズ 0.535776975869 0.91502013637\n"
     ]
    }
   ],
   "source": [
    "#imp_list = []\n",
    "#det_list = []\n",
    "res_dict = dict()\n",
    "for team in teams_mlb:\n",
    "    lst = triple_on_score_diff(team, 5, 30)\n",
    "    improved_score_list = []\n",
    "    deteriorated_score_list = []\n",
    "    for three_series in [elem for elem in lst if elem[0][0]!=\"3000\" and elem[1][0]!=\"3000\"]:\n",
    "        if is_improved(three_series[0][0], three_series[1][0]):\n",
    "            improved_score_list.append(weighted_score(three_series[1][0], three_series[2][1]-three_series[1][1]))\n",
    "        elif is_deteriorated(three_series[0][0], three_series[1][0]):\n",
    "            deteriorated_score_list.append(weighted_score(three_series[1][0], three_series[2][1]-three_series[1][1]))\n",
    "    #imp_list.append(np.mean(improved_score_list))\n",
    "    #det_list.append(np.mean(deteriorated_score_list))\n",
    "    res_dict[team] = (np.mean(improved_score_list), np.mean(deteriorated_score_list))\n",
    "    print(team, np.mean(improved_score_list), np.mean(deteriorated_score_list))"
   ]
  },
  {
   "cell_type": "code",
   "execution_count": 33,
   "metadata": {
    "scrolled": true
   },
   "outputs": [
    {
     "data": {
      "text/html": [
       "<div>\n",
       "<style scoped>\n",
       "    .dataframe tbody tr th:only-of-type {\n",
       "        vertical-align: middle;\n",
       "    }\n",
       "\n",
       "    .dataframe tbody tr th {\n",
       "        vertical-align: top;\n",
       "    }\n",
       "\n",
       "    .dataframe thead th {\n",
       "        text-align: right;\n",
       "    }\n",
       "</style>\n",
       "<table border=\"1\" class=\"dataframe\">\n",
       "  <thead>\n",
       "    <tr style=\"text-align: right;\">\n",
       "      <th></th>\n",
       "      <th>1</th>\n",
       "      <th>2</th>\n",
       "    </tr>\n",
       "    <tr>\n",
       "      <th>0</th>\n",
       "      <th></th>\n",
       "      <th></th>\n",
       "    </tr>\n",
       "  </thead>\n",
       "  <tbody>\n",
       "    <tr>\n",
       "      <th>Rソックス</th>\n",
       "      <td>0.920815</td>\n",
       "      <td>0.571502</td>\n",
       "    </tr>\n",
       "    <tr>\n",
       "      <th>ブリュワーズ</th>\n",
       "      <td>1.391686</td>\n",
       "      <td>0.495946</td>\n",
       "    </tr>\n",
       "    <tr>\n",
       "      <th>ドジャース</th>\n",
       "      <td>1.140075</td>\n",
       "      <td>0.826815</td>\n",
       "    </tr>\n",
       "    <tr>\n",
       "      <th>パイレーツ</th>\n",
       "      <td>1.120886</td>\n",
       "      <td>0.958891</td>\n",
       "    </tr>\n",
       "    <tr>\n",
       "      <th>マーリンズ</th>\n",
       "      <td>0.795297</td>\n",
       "      <td>0.794355</td>\n",
       "    </tr>\n",
       "    <tr>\n",
       "      <th>カブス</th>\n",
       "      <td>1.179583</td>\n",
       "      <td>0.726200</td>\n",
       "    </tr>\n",
       "    <tr>\n",
       "      <th>Wソックス</th>\n",
       "      <td>0.876612</td>\n",
       "      <td>0.995998</td>\n",
       "    </tr>\n",
       "    <tr>\n",
       "      <th>オリオールズ</th>\n",
       "      <td>1.053216</td>\n",
       "      <td>0.729343</td>\n",
       "    </tr>\n",
       "    <tr>\n",
       "      <th>ロッキーズ</th>\n",
       "      <td>1.216902</td>\n",
       "      <td>1.019657</td>\n",
       "    </tr>\n",
       "    <tr>\n",
       "      <th>ツインズ</th>\n",
       "      <td>0.845329</td>\n",
       "      <td>0.938004</td>\n",
       "    </tr>\n",
       "    <tr>\n",
       "      <th>タイガース</th>\n",
       "      <td>0.794187</td>\n",
       "      <td>0.468906</td>\n",
       "    </tr>\n",
       "    <tr>\n",
       "      <th>フィリーズ</th>\n",
       "      <td>1.087437</td>\n",
       "      <td>0.904200</td>\n",
       "    </tr>\n",
       "    <tr>\n",
       "      <th>レンジャーズ</th>\n",
       "      <td>0.888431</td>\n",
       "      <td>1.048155</td>\n",
       "    </tr>\n",
       "    <tr>\n",
       "      <th>ロイヤルズ</th>\n",
       "      <td>0.983021</td>\n",
       "      <td>0.615804</td>\n",
       "    </tr>\n",
       "    <tr>\n",
       "      <th>アストロズ</th>\n",
       "      <td>1.173774</td>\n",
       "      <td>1.024662</td>\n",
       "    </tr>\n",
       "    <tr>\n",
       "      <th>カージナルス</th>\n",
       "      <td>1.000727</td>\n",
       "      <td>0.748792</td>\n",
       "    </tr>\n",
       "    <tr>\n",
       "      <th>マリナーズ</th>\n",
       "      <td>0.930858</td>\n",
       "      <td>1.429336</td>\n",
       "    </tr>\n",
       "    <tr>\n",
       "      <th>パドレス</th>\n",
       "      <td>1.015830</td>\n",
       "      <td>0.063466</td>\n",
       "    </tr>\n",
       "    <tr>\n",
       "      <th>メッツ</th>\n",
       "      <td>0.862583</td>\n",
       "      <td>1.478588</td>\n",
       "    </tr>\n",
       "    <tr>\n",
       "      <th>Dバックス</th>\n",
       "      <td>1.370458</td>\n",
       "      <td>0.725706</td>\n",
       "    </tr>\n",
       "    <tr>\n",
       "      <th>エンゼルス</th>\n",
       "      <td>1.177174</td>\n",
       "      <td>0.812091</td>\n",
       "    </tr>\n",
       "    <tr>\n",
       "      <th>ヤンキース</th>\n",
       "      <td>1.242225</td>\n",
       "      <td>1.066292</td>\n",
       "    </tr>\n",
       "    <tr>\n",
       "      <th>ブレーブス</th>\n",
       "      <td>1.003457</td>\n",
       "      <td>0.499212</td>\n",
       "    </tr>\n",
       "    <tr>\n",
       "      <th>レイズ</th>\n",
       "      <td>0.863398</td>\n",
       "      <td>1.276595</td>\n",
       "    </tr>\n",
       "    <tr>\n",
       "      <th>ジャイアンツ</th>\n",
       "      <td>0.439250</td>\n",
       "      <td>0.616894</td>\n",
       "    </tr>\n",
       "    <tr>\n",
       "      <th>インディアンス</th>\n",
       "      <td>0.962853</td>\n",
       "      <td>0.936109</td>\n",
       "    </tr>\n",
       "    <tr>\n",
       "      <th>ブルージェイズ</th>\n",
       "      <td>0.842442</td>\n",
       "      <td>0.842388</td>\n",
       "    </tr>\n",
       "    <tr>\n",
       "      <th>アスレチックス</th>\n",
       "      <td>0.935036</td>\n",
       "      <td>1.265035</td>\n",
       "    </tr>\n",
       "    <tr>\n",
       "      <th>ナショナルズ</th>\n",
       "      <td>1.458151</td>\n",
       "      <td>0.569674</td>\n",
       "    </tr>\n",
       "    <tr>\n",
       "      <th>レッズ</th>\n",
       "      <td>0.535777</td>\n",
       "      <td>0.915020</td>\n",
       "    </tr>\n",
       "  </tbody>\n",
       "</table>\n",
       "</div>"
      ],
      "text/plain": [
       "                1         2\n",
       "0                          \n",
       "Rソックス    0.920815  0.571502\n",
       "ブリュワーズ   1.391686  0.495946\n",
       "ドジャース    1.140075  0.826815\n",
       "パイレーツ    1.120886  0.958891\n",
       "マーリンズ    0.795297  0.794355\n",
       "カブス      1.179583  0.726200\n",
       "Wソックス    0.876612  0.995998\n",
       "オリオールズ   1.053216  0.729343\n",
       "ロッキーズ    1.216902  1.019657\n",
       "ツインズ     0.845329  0.938004\n",
       "タイガース    0.794187  0.468906\n",
       "フィリーズ    1.087437  0.904200\n",
       "レンジャーズ   0.888431  1.048155\n",
       "ロイヤルズ    0.983021  0.615804\n",
       "アストロズ    1.173774  1.024662\n",
       "カージナルス   1.000727  0.748792\n",
       "マリナーズ    0.930858  1.429336\n",
       "パドレス     1.015830  0.063466\n",
       "メッツ      0.862583  1.478588\n",
       "Dバックス    1.370458  0.725706\n",
       "エンゼルス    1.177174  0.812091\n",
       "ヤンキース    1.242225  1.066292\n",
       "ブレーブス    1.003457  0.499212\n",
       "レイズ      0.863398  1.276595\n",
       "ジャイアンツ   0.439250  0.616894\n",
       "インディアンス  0.962853  0.936109\n",
       "ブルージェイズ  0.842442  0.842388\n",
       "アスレチックス  0.935036  1.265035\n",
       "ナショナルズ   1.458151  0.569674\n",
       "レッズ      0.535777  0.915020"
      ]
     },
     "execution_count": 33,
     "metadata": {},
     "output_type": "execute_result"
    }
   ],
   "source": [
    "pd.DataFrame([[elem[0], elem[1][0], elem[1][1]] for elem in list(res_dict.items())]).set_index(0, drop=True)"
   ]
  },
  {
   "cell_type": "code",
   "execution_count": 8,
   "metadata": {},
   "outputs": [
    {
     "data": {
      "text/plain": [
       "<matplotlib.collections.PathCollection at 0x2013f813c8>"
      ]
     },
     "execution_count": 8,
     "metadata": {},
     "output_type": "execute_result"
    },
    {
     "data": {
      "image/png": "[encoded data removed]",
      "text/plain": [
       "<matplotlib.figure.Figure at 0x2013146ac8>"
      ]
     },
     "metadata": {
      "image/png": {
       "height": 250,
       "width": 374
      }
     },
     "output_type": "display_data"
    }
   ],
   "source": [
    "plt.scatter([elem[0] for elem in list(res_dict.values())], [elem[1] for elem in list(res_dict.values())])"
   ]
  },
  {
   "cell_type": "code",
   "execution_count": 9,
   "metadata": {},
   "outputs": [
    {
     "name": "stdout",
     "output_type": "stream",
     "text": [
      "1 ブリュワーズ 0.347389383509\n",
      "4 パイレーツ 0.227580633441\n",
      "2 カブス 0.301344557937\n",
      "2 ロッキーズ 0.238233574973\n",
      "3 フィリーズ 0.210671273043\n",
      "2 ヤンキース 0.148710466711\n",
      "3 レイズ 0.0815036807268\n",
      "1 インディアンス 0.0074201870987\n",
      "1 Rソックス 0.045890117777\n",
      "1 ドジャース 0.209745824676\n",
      "5 オリオールズ 0.056099148987\n",
      "3 カージナルス 0.0711214457542\n",
      "5 パドレス 0.205135277125\n",
      "2 ナショナルズ 0.486350159148\n",
      "3 Dバックス 0.28198606923\n",
      "4 エンゼルス 0.268728474457\n",
      "1 ブレーブス 0.0958259546316\n",
      "1 アストロズ 0.230073681292\n"
     ]
    }
   ],
   "source": [
    "# 大差で勝っていると流れがいいとボコボコにするチーム\n",
    "for team in teams_mlb:\n",
    "    if res_dict1[team][0] < res_dict[team][0]:\n",
    "        print(ranking(team), team, res_dict[team][0] - res_dict1[team][0])"
   ]
  },
  {
   "cell_type": "code",
   "execution_count": 10,
   "metadata": {},
   "outputs": [
    {
     "name": "stdout",
     "output_type": "stream",
     "text": [
      "5 ロイヤルズ -0.0568516930322\n",
      "4 ジャイアンツ -0.236328884279\n",
      "5 マーリンズ -0.141291179609\n",
      "4 Wソックス -0.0689924058337\n",
      "4 メッツ -0.0113925527959\n",
      "2 アスレチックス -0.13700249599\n",
      "2 ツインズ -0.0770867382612\n",
      "3 タイガース -0.116432025874\n",
      "3 マリナーズ -0.00900561672181\n",
      "4 ブルージェイズ -0.0995028528653\n",
      "5 レンジャーズ -0.0709268271073\n",
      "5 レッズ -0.336474684912\n"
     ]
    }
   ],
   "source": [
    "# 大差で勝っていると油断するチーム\n",
    "for team in teams_mlb:\n",
    "    if res_dict1[team][0] > res_dict[team][0]:\n",
    "        print(ranking(team), team, res_dict[team][0] - res_dict1[team][0])"
   ]
  },
  {
   "cell_type": "code",
   "execution_count": 34,
   "metadata": {},
   "outputs": [],
   "source": [
    "def pos_neg(team, nlead=5, nbehind=4, year=\"both\"):\n",
    "    if year == \"both\":\n",
    "        df = event_df[event_df.攻撃チーム==team]\n",
    "    elif year == 2018:\n",
    "        df = df_2018[df_2018.攻撃チーム==team]\n",
    "    elif year == 2017:\n",
    "        df = df_2017[df_2017.攻撃チーム==team]\n",
    "        \n",
    "    # 点差関係なし\n",
    "    triple = make_inning_triple(make_inning_list(df, score_end=1, how=\"own\"))\n",
    "    lst = make_flattened_list(triple[:])\n",
    "    improved_score_list = []\n",
    "    deteriorated_score_list = []\n",
    "    for three_series in [elem for elem in lst if elem[0][0]!=\"3000\" and elem[1][0]!=\"3000\"]:\n",
    "        if is_improved(three_series[0][0], three_series[1][0]):\n",
    "            improved_score_list.append(weighted_score(three_series[1][0], three_series[2][1]-three_series[1][1]))\n",
    "        elif is_deteriorated(three_series[0][0], three_series[1][0]):\n",
    "            deteriorated_score_list.append(weighted_score(three_series[1][0], three_series[2][1]-three_series[1][1]))\n",
    "    all_imp, all_det = np.mean(improved_score_list), np.mean(deteriorated_score_list)\n",
    "    \n",
    "    #  nlead点差以上リード\n",
    "    lst = triple_on_score_diff(team, nlead, 30)\n",
    "    improved_score_list = []\n",
    "    deteriorated_score_list = []\n",
    "    for three_series in [elem for elem in lst if elem[0][0]!=\"3000\" and elem[1][0]!=\"3000\"]:\n",
    "        if is_improved(three_series[0][0], three_series[1][0]):\n",
    "            improved_score_list.append(weighted_score(three_series[1][0], three_series[2][1]-three_series[1][1]))\n",
    "        elif is_deteriorated(three_series[0][0], three_series[1][0]):\n",
    "            deteriorated_score_list.append(weighted_score(three_series[1][0], three_series[2][1]-three_series[1][1]))\n",
    "    pos_imp, pos_det = np.mean(improved_score_list), np.mean(deteriorated_score_list)\n",
    "    \n",
    "    # nbehind点差以上ビハインド\n",
    "    lst = triple_on_score_diff(team, -nbehind, -1)\n",
    "    improved_score_list = []\n",
    "    deteriorated_score_list = []\n",
    "    for three_series in [elem for elem in lst if elem[0][0]!=\"3000\" and elem[1][0]!=\"3000\"]:\n",
    "        if is_improved(three_series[0][0], three_series[1][0]):\n",
    "            improved_score_list.append(weighted_score(three_series[1][0], three_series[2][1]-three_series[1][1]))\n",
    "        elif is_deteriorated(three_series[0][0], three_series[1][0]):\n",
    "            deteriorated_score_list.append(weighted_score(three_series[1][0], three_series[2][1]-three_series[1][1]))\n",
    "    neg_imp, neg_det = np.mean(improved_score_list), np.mean(deteriorated_score_list)\n",
    "    \n",
    "    return [team, all_imp, all_det, pos_imp, pos_det, neg_imp, neg_det]"
   ]
  },
  {
   "cell_type": "code",
   "execution_count": 36,
   "metadata": {
    "scrolled": true
   },
   "outputs": [
    {
     "name": "stdout",
     "output_type": "stream",
     "text": [
      "['ロイヤルズ', 1.0398729046852799, 0.78732698945353796, 0.98302121165305101, 0.61580446473592432, 1.0079249341427858, 0.98919268857184872]\n",
      "['ブリュワーズ', 1.0442962501441819, 0.9413936044140282, 1.391685633653124, 0.49594619741166279, 0.96107955282236979, 0.94372176144912712]\n",
      "['パイレーツ', 0.89330527972932694, 0.62888207250041794, 1.1208859131704265, 0.95889136632359351, 0.77585521932488188, 0.55033851898890807]\n",
      "['ジャイアンツ', 0.67557886293898328, 0.65212047822166219, 0.43924997866013105, 0.61689385182826295, 0.75905164814865955, 0.55885389956842613]\n",
      "['カブス', 0.87823870819907202, 0.87286651343917954, 1.1795832661357988, 0.72619962664443793, 0.80757014203378474, 0.71443266353964918]\n",
      "['マーリンズ', 0.9365883427463656, 0.79615610317193697, 0.79529716313726806, 0.79435527983431953, 0.81822135584663513, 0.8060304459241785]\n",
      "['Wソックス', 0.94560435435358892, 0.87807290306233376, 0.87661194851987534, 0.99599795452062845, 0.89280664708724411, 0.80975558243952817]\n",
      "['ロッキーズ', 0.97866813833820221, 0.92331051782413753, 1.2169017133116544, 1.019657350445051, 0.94098058888476932, 0.72666062815246513]\n",
      "['フィリーズ', 0.87676551924045154, 0.77989137597657598, 1.0874367922834098, 0.90420034690788964, 0.77081731056009062, 0.81419646897320019]\n",
      "['メッツ', 0.87397565475607775, 0.95844967113378121, 0.86258310196022325, 1.4785884117336081, 0.86903356120992992, 0.93320097952800518]\n",
      "['ヤンキース', 1.09351482299923, 0.99873769099775744, 1.2422252897106765, 1.0662915682516463, 0.85390033742356775, 0.79815221234334199]\n",
      "['レイズ', 0.78189418173314784, 0.91202165435318361, 0.86339786245991013, 1.2765954202534338, 0.62232252093764973, 0.95440215535518358]\n",
      "['インディアンス', 0.95543236126094733, 1.0176031661782745, 0.96285254835965084, 0.93610943647482125, 0.86979927603217222, 0.96294037142918099]\n",
      "['アスレチックス', 1.0720382208733406, 1.0787462010837414, 0.93503572488300724, 1.2650350014188103, 1.0278509688777147, 0.90258831635549985]\n",
      "['Rソックス', 0.8749245559801212, 0.81578721401806853, 0.92081467375712212, 0.57150215155204065, 0.8977386898862022, 0.9924233543020079]\n",
      "['ドジャース', 0.93032905103372676, 1.0085541178944051, 1.1400748757095465, 0.82681475960791428, 0.8797389090626645, 1.0321334421292871]\n",
      "['オリオールズ', 0.99711700117834134, 0.95570249119936979, 1.0532161501653594, 0.72934286349020672, 0.94036231175995066, 1.0166413638231555]\n",
      "['ツインズ', 0.92241606584208646, 0.83859025815251409, 0.84532932758090595, 0.93800407098721839, 0.90046345363138525, 0.80559175123766036]\n",
      "['タイガース', 0.91061887711417921, 0.71272854909837879, 0.79418685123996346, 0.46890640479929846, 0.72489946854330434, 0.62614498266463192]\n",
      "['カージナルス', 0.92960508976286227, 0.88635689644636106, 1.0007265355170931, 0.74879208925914387, 0.83740717763739725, 0.95140916065399295]\n",
      "['マリナーズ', 0.93986356498643853, 0.89833047323392223, 0.93085794826462387, 1.4293358884309655, 1.0065848756081781, 0.75508273209262489]\n",
      "['パドレス', 0.81069432595968483, 0.89223366600251386, 1.015829603084313, 0.063466306062654951, 0.83748518302970232, 0.96740254071841369]\n",
      "['ブルージェイズ', 0.94194520647143121, 1.0149294516331338, 0.8424423536060871, 0.84238798879998034, 0.94158650709849734, 0.90327567394587149]\n",
      "['ナショナルズ', 0.97180090913357431, 0.81021101890805225, 1.4581510682820051, 0.56967365743275511, 0.6183194185111256, 0.79587993336019369]\n",
      "['Dバックス', 1.0884717901149523, 0.89722447366364, 1.3704578593451333, 0.72570593339267242, 0.93665614712479905, 0.71838885062519853]\n",
      "['エンゼルス', 0.90844584847465781, 0.94499610989296434, 1.1771743229314282, 0.8120907166209399, 0.87814279550547103, 0.82107737005700909]\n",
      "['ブレーブス', 0.90763121236088673, 0.75669293782263292, 1.0034571669924575, 0.49921204398109043, 0.85619238417889476, 0.68070405840463566]\n",
      "['レンジャーズ', 0.95935764102904708, 0.96651778918007725, 0.88843081392174073, 1.0481554378555398, 0.7539944053571459, 0.90933509718925809]\n",
      "['アストロズ', 0.94370062549137435, 0.9137774379319179, 1.1737743067836401, 1.0246621512687786, 0.74961492271958019, 0.96040309522153111]\n",
      "['レッズ', 0.87225166078025484, 0.82390587593505848, 0.53577697586851425, 0.9150201363700422, 0.68788609996703176, 0.65983942487494318]\n"
     ]
    }
   ],
   "source": [
    "res = []\n",
    "for team in teams_mlb:\n",
    "    curr = pos_neg(team)\n",
    "    res.append(curr)\n",
    "    print(curr)"
   ]
  },
  {
   "cell_type": "code",
   "execution_count": 122,
   "metadata": {
    "scrolled": true
   },
   "outputs": [],
   "source": [
    "df = pd.DataFrame(res, columns=[\"チーム\", \"all_imp\", \"all_det\", \"pos_imp\", \"pos_det\", \"neg_imp\", \"neg_det\"]).set_index(\"チーム\", drop=True)"
   ]
  },
  {
   "cell_type": "code",
   "execution_count": 123,
   "metadata": {},
   "outputs": [],
   "source": [
    "df[\"positive_inhibition\"] = - df[\"pos_imp\"] + df[\"all_imp\"]\n",
    "df[\"negative_facilitation\"] = df[\"neg_det\"] - df[\"all_det\"]"
   ]
  },
  {
   "cell_type": "code",
   "execution_count": 124,
   "metadata": {
    "scrolled": true
   },
   "outputs": [
    {
     "data": {
      "text/plain": [
       "<matplotlib.collections.PathCollection at 0x2012ab7668>"
      ]
     },
     "execution_count": 124,
     "metadata": {},
     "output_type": "execute_result"
    },
    {
     "data": {
      "image/png": "[encoded data removed]",
      "text/plain": [
       "<matplotlib.figure.Figure at 0x20128b6710>"
      ]
     },
     "metadata": {
      "image/png": {
       "height": 250,
       "width": 384
      }
     },
     "output_type": "display_data"
    }
   ],
   "source": [
    "df[[\"positive_inhibition\", \"negative_facilitation\"]]\n",
    "plt.scatter(df[\"positive_inhibition\"], df[\"negative_facilitation\"])"
   ]
  },
  {
   "cell_type": "code",
   "execution_count": 125,
   "metadata": {},
   "outputs": [
    {
     "data": {
      "text/plain": [
       "'$5:レッズ$'"
      ]
     },
     "execution_count": 125,
     "metadata": {},
     "output_type": "execute_result"
    }
   ],
   "source": [
    "\"${}:{}$\".format(ranking(team), team)"
   ]
  },
  {
   "cell_type": "code",
   "execution_count": 126,
   "metadata": {
    "scrolled": false
   },
   "outputs": [
    {
     "data": {
      "text/plain": [
       "<matplotlib.text.Text at 0x2012803e10>"
      ]
     },
     "execution_count": 126,
     "metadata": {},
     "output_type": "execute_result"
    },
    {
     "data": {
      "image/png": "[encoded data removed]",
      "text/plain": [
       "<matplotlib.figure.Figure at 0x20128b46d8>"
      ]
     },
     "metadata": {
      "image/png": {
       "height": 375,
       "width": 735
      }
     },
     "output_type": "display_data"
    }
   ],
   "source": [
    "plt.figure(figsize=(12, 6))\n",
    "colors = [\"r\", \"b\", \"y\", \"g\", \"c\"]\n",
    "for team in df.index:\n",
    "    pos_inh = df.loc[team, \"positive_inhibition\"]\n",
    "    neg_fac = df.loc[team, \"negative_facilitation\"]\n",
    "    plt.scatter([pos_inh], [neg_fac], marker=\"${}$\".format(ranking(team)), color=colors[ranking(team)-1], s=200)\n",
    "plt.xlabel(\"positive_inhibition (5点差以上のリード)\")\n",
    "plt.ylabel(\"negative_facilitation (4点差以内のビハインド)\")"
   ]
  },
  {
   "cell_type": "code",
   "execution_count": 128,
   "metadata": {},
   "outputs": [
    {
     "data": {
      "text/plain": [
       "<matplotlib.axes._subplots.AxesSubplot at 0x2012b9e470>"
      ]
     },
     "execution_count": 128,
     "metadata": {},
     "output_type": "execute_result"
    },
    {
     "data": {
      "image/png": "[encoded data removed]",
      "text/plain": [
       "<matplotlib.figure.Figure at 0x2011f9de48>"
      ]
     },
     "metadata": {
      "image/png": {
       "height": 250,
       "width": 364
      }
     },
     "output_type": "display_data"
    }
   ],
   "source": [
    "df.loc[:, \"positive_inhibition\"].hist()"
   ]
  },
  {
   "cell_type": "code",
   "execution_count": 129,
   "metadata": {},
   "outputs": [
    {
     "data": {
      "text/plain": [
       "<matplotlib.axes._subplots.AxesSubplot at 0x201304cb00>"
      ]
     },
     "execution_count": 129,
     "metadata": {},
     "output_type": "execute_result"
    },
    {
     "data": {
      "image/png": "[encoded data removed]",
      "text/plain": [
       "<matplotlib.figure.Figure at 0x2012b92eb8>"
      ]
     },
     "metadata": {
      "image/png": {
       "height": 250,
       "width": 364
      }
     },
     "output_type": "display_data"
    }
   ],
   "source": [
    "df.loc[:, \"negative_facilitation\"].hist()"
   ]
  },
  {
   "cell_type": "code",
   "execution_count": null,
   "metadata": {},
   "outputs": [],
   "source": []
  },
  {
   "cell_type": "code",
   "execution_count": 42,
   "metadata": {},
   "outputs": [],
   "source": [
    "X = pd.DataFrame(res).set_index(0, drop=True).values\n",
    "teams = pd.DataFrame(res).set_index(0, drop=True).index"
   ]
  },
  {
   "cell_type": "code",
   "execution_count": 75,
   "metadata": {},
   "outputs": [],
   "source": [
    "from sklearn.cluster import KMeans\n",
    "model = KMeans(3)"
   ]
  },
  {
   "cell_type": "code",
   "execution_count": 76,
   "metadata": {
    "scrolled": true
   },
   "outputs": [
    {
     "data": {
      "text/plain": [
       "array([0, 0, 1, 2, 0, 2, 1, 1, 1, 1, 1, 1, 1, 1, 0, 0, 0, 1, 2, 0, 1, 0, 1,\n",
       "       0, 0, 0, 0, 1, 1, 2], dtype=int32)"
      ]
     },
     "execution_count": 76,
     "metadata": {},
     "output_type": "execute_result"
    }
   ],
   "source": [
    "model.fit(X)\n",
    "model.labels_"
   ]
  },
  {
   "cell_type": "code",
   "execution_count": 77,
   "metadata": {},
   "outputs": [],
   "source": [
    "#np.array(teams)[list(map(bool, model.labels_))]"
   ]
  },
  {
   "cell_type": "code",
   "execution_count": 78,
   "metadata": {
    "scrolled": true
   },
   "outputs": [
    {
     "name": "stdout",
     "output_type": "stream",
     "text": [
      "5 ロイヤルズ 0\n",
      "1 ブリュワーズ 0\n",
      "4 パイレーツ 1\n",
      "4 ジャイアンツ 2\n",
      "2 カブス 0\n",
      "5 マーリンズ 2\n",
      "4 Wソックス 1\n",
      "2 ロッキーズ 1\n",
      "3 フィリーズ 1\n",
      "4 メッツ 1\n",
      "2 ヤンキース 1\n",
      "3 レイズ 1\n",
      "1 インディアンス 1\n",
      "2 アスレチックス 1\n",
      "1 Rソックス 0\n",
      "1 ドジャース 0\n",
      "5 オリオールズ 0\n",
      "2 ツインズ 1\n",
      "3 タイガース 2\n",
      "3 カージナルス 0\n",
      "3 マリナーズ 1\n",
      "5 パドレス 0\n",
      "4 ブルージェイズ 1\n",
      "2 ナショナルズ 0\n",
      "3 Dバックス 0\n",
      "4 エンゼルス 0\n",
      "1 ブレーブス 0\n",
      "5 レンジャーズ 1\n",
      "1 アストロズ 1\n",
      "5 レッズ 2\n"
     ]
    }
   ],
   "source": [
    "for i in range(len(teams)):\n",
    "    print(ranking(teams[i]), teams[i], model.labels_[i])"
   ]
  },
  {
   "cell_type": "code",
   "execution_count": null,
   "metadata": {},
   "outputs": [],
   "source": []
  }
 ],
 "metadata": {
  "kernelspec": {
   "display_name": "Python 3",
   "language": "python",
   "name": "python3"
  },
  "language_info": {
   "codemirror_mode": {
    "name": "ipython",
    "version": 3
   },
   "file_extension": ".py",
   "mimetype": "text/x-python",
   "name": "python",
   "nbconvert_exporter": "python",
   "pygments_lexer": "ipython3",
   "version": "3.5.4"
  }
 },
 "nbformat": 4,
 "nbformat_minor": 2
}
