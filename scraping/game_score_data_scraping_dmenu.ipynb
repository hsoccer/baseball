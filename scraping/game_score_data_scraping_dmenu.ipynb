{
 "cells": [
  {
   "cell_type": "markdown",
   "metadata": {},
   "source": [
    "## https://baseball.sports.smt.docomo.ne.jp/result/games/ からデータをスクレイピング"
   ]
  },
  {
   "cell_type": "code",
   "execution_count": 4,
   "metadata": {},
   "outputs": [],
   "source": [
    "from selenium import webdriver\n",
    "import re\n",
    "import pandas as pd\n",
    "import time\n",
    "from tqdm import tqdm_notebook as tq\n",
    "\n",
    "import sys, os\n",
    "sys.path.append(\"..\")\n",
    "from utils.util_functions import *"
   ]
  },
  {
   "cell_type": "code",
   "execution_count": 5,
   "metadata": {},
   "outputs": [],
   "source": [
    "def find_info(driver, name):\n",
    "    try:\n",
    "            table_data = re.split(\"\\n|\\s\", driver.find_elements_by_xpath('//*[@id=\"game\"]/div/div[1]/table')[0].text)[1:]\n",
    "    except:\n",
    "        # ページが存在しない時\n",
    "        return\n",
    "    num = len(table_data) // 3\n",
    "    pd.DataFrame([table_data[:num], table_data[num:num*2], table_data[num*2:]]).to_csv(os.path.join(SCORE_DATA_DIR, name+\".csv\"), index=None, header=None, encoding=\"cp932\")"
   ]
  },
  {
   "cell_type": "code",
   "execution_count": null,
   "metadata": {
    "scrolled": true
   },
   "outputs": [
    {
     "data": {
      "application/vnd.jupyter.widget-view+json": {
       "model_id": "49afe0d951d74cec8becd85f6279794f",
       "version_major": 2,
       "version_minor": 0
      },
      "text/plain": [
       "HBox(children=(IntProgress(value=0, max=120), HTML(value='')))"
      ]
     },
     "metadata": {},
     "output_type": "display_data"
    }
   ],
   "source": [
    "#dmenu\n",
    "start_date = \"20180710\"\n",
    "days = 120\n",
    "\n",
    "options = webdriver.ChromeOptions()\n",
    "options.add_argument('--headless')\n",
    "\n",
    "for i in tq(range(days)):\n",
    "    date = pd.to_datetime(start_date) - pd.Timedelta(days=i)\n",
    "    date_string = str(date.year) + \"{0:02d}\".format(date.month) + \"{0:02d}\".format(date.day) + \"0\"\n",
    "    for j in range(1, 7):\n",
    "        new_date_string = date_string + str(j)\n",
    "        #print(new_date_string)\n",
    "        #if new_date_string in [\"2018080701\", \"2018080702\", \"2018080703\"]:\n",
    "        #    continue\n",
    "        url = \"https://baseball.sports.smt.docomo.ne.jp/result/games/live_{}_01101.html\".format(new_date_string)\n",
    "        driver = webdriver.Chrome(options=options)\n",
    "        #driver = webdriver.Chrome()\n",
    "        driver.get(url)\n",
    "        time.sleep(1)\n",
    "        #driver.save_screenshot(\"image.png\")\n",
    "        try:\n",
    "            find_info(driver, new_date_string)\n",
    "        except:\n",
    "            #raise\n",
    "            pass\n",
    "        driver.quit()"
   ]
  },
  {
   "cell_type": "code",
   "execution_count": null,
   "metadata": {},
   "outputs": [],
   "source": [
    "#pd.to_datetime(\"20181103\") - pd.to_datetime(\"20180330\")"
   ]
  },
  {
   "cell_type": "code",
   "execution_count": null,
   "metadata": {},
   "outputs": [],
   "source": []
  },
  {
   "cell_type": "code",
   "execution_count": null,
   "metadata": {},
   "outputs": [],
   "source": []
  }
 ],
 "metadata": {
  "kernelspec": {
   "display_name": "Python 3",
   "language": "python",
   "name": "python3"
  },
  "language_info": {
   "codemirror_mode": {
    "name": "ipython",
    "version": 3
   },
   "file_extension": ".py",
   "mimetype": "text/x-python",
   "name": "python",
   "nbconvert_exporter": "python",
   "pygments_lexer": "ipython3",
   "version": "3.5.4"
  }
 },
 "nbformat": 4,
 "nbformat_minor": 2
}
