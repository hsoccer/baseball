{
 "cells": [
  {
   "cell_type": "markdown",
   "metadata": {},
   "source": [
    "## https://baseball.sports.smt.docomo.ne.jp/result/games/ からデータをスクレイピング"
   ]
  },
  {
   "cell_type": "code",
   "execution_count": 1,
   "metadata": {},
   "outputs": [],
   "source": [
    "from selenium import webdriver\n",
    "import re\n",
    "import pandas as pd\n",
    "import time\n",
    "from tqdm import tqdm_notebook as tq\n",
    "import sys , os\n",
    "\n",
    "sys.path.append(\"..\")\n",
    "from utils.util_functions import *"
   ]
  },
  {
   "cell_type": "code",
   "execution_count": 2,
   "metadata": {},
   "outputs": [],
   "source": [
    "def get_img_list(driver):\n",
    "    img_list = driver.find_elements_by_tag_name(\"img\")\n",
    "    img_list = [img_list[i].get_attribute(\"src\") for i in range(len(img_list)) if \"result/img_runner\" in img_list[i].get_attribute(\"src\")]\n",
    "    return img_list"
   ]
  },
  {
   "cell_type": "code",
   "execution_count": 3,
   "metadata": {},
   "outputs": [],
   "source": [
    "def get_play_list(driver):    \n",
    "    tr_list = driver.find_elements_by_tag_name(\"tr\")\n",
    "    play_list = []\n",
    "    for instance in tr_list:\n",
    "        text = instance.text\n",
    "        if re.match(\"^\\d\\n.+\\n.+ \\d \\d+\\-\\d+$\", text):\n",
    "            play_list.append(text)\n",
    "    return play_list"
   ]
  },
  {
   "cell_type": "code",
   "execution_count": 4,
   "metadata": {},
   "outputs": [],
   "source": [
    "def get_top_team(driver):\n",
    "    return driver.find_element_by_xpath('//*[@id=\"game\"]/div/div[1]/table/tbody/tr[2]/td[1]').text\n",
    "\n",
    "def get_bot_team(driver):\n",
    "    return driver.find_element_by_xpath('//*[@id=\"game\"]/div/div[1]/table/tbody/tr[3]/td[1]').text"
   ]
  },
  {
   "cell_type": "code",
   "execution_count": 5,
   "metadata": {},
   "outputs": [],
   "source": [
    "def img_to_base(img_text):\n",
    "    base = [\"0\", \"0\", \"0\", \"0\"]\n",
    "    for i in re.findall(\"\\d\", img_text):\n",
    "        base[int(i)] = \"1\"\n",
    "    return \"\".join(base)"
   ]
  },
  {
   "cell_type": "code",
   "execution_count": 6,
   "metadata": {},
   "outputs": [],
   "source": [
    "def text_to_batter_data(text):\n",
    "    lst = re.split(\"\\n|\\s\", text)\n",
    "    if len(lst) > 1:\n",
    "        lst = lst[:-1] + lst[-1].split(\"-\")\n",
    "    return lst\n",
    "    #return re.split(\"\\n|\\s|\\-\", text)"
   ]
  },
  {
   "cell_type": "code",
   "execution_count": 7,
   "metadata": {},
   "outputs": [],
   "source": [
    "def get_url_list(date, year):\n",
    "    options = webdriver.ChromeOptions()\n",
    "    options.add_argument('--headless')\n",
    "    driver = webdriver.Chrome(options=options)\n",
    "    \n",
    "    url = \"https://baseball.sports.smt.docomo.ne.jp/mlb/result/{}/{}.html\".format(year, date)\n",
    "    driver.get(url)\n",
    "    link_list = driver.find_elements_by_tag_name(\"a\")\n",
    "    \n",
    "    res = []\n",
    "    for link in link_list:\n",
    "        link_url = link.get_attribute(\"href\")\n",
    "        #print(link_url)\n",
    "        if type(link_url)==str and re.match(\"^.+201(7|8)\\/\\d{7}\\/$\", link_url):\n",
    "            res.append(link_url)\n",
    "    \n",
    "    driver.quit()\n",
    "    \n",
    "    return res"
   ]
  },
  {
   "cell_type": "code",
   "execution_count": 8,
   "metadata": {},
   "outputs": [],
   "source": [
    "def make_csv_mlb(url, save_dir=DETAIL_DATA_DIR_MLB):\n",
    "    options = webdriver.ChromeOptions()\n",
    "    options.add_argument('--headless')\n",
    "    driver = webdriver.Chrome(options=options)\n",
    "    #driver = webdriver.Chrome()\n",
    "    driver.get(url)\n",
    "    \n",
    "    try:\n",
    "        top_team = get_top_team(driver)\n",
    "        #print(top_team)\n",
    "        bot_team = get_bot_team(driver)\n",
    "        #print(bot_team)\n",
    "    except:\n",
    "        # page does not exist\n",
    "        return\n",
    "    \n",
    "    img_list = get_img_list(driver)\n",
    "    play_list = get_play_list(driver)\n",
    "    \n",
    "    columns = [\"状況\", \"打順\", \"打者\", \"結果\", \"アウト\", \"裏得点\", \"表得点\"]\n",
    "    res = []\n",
    "    for img, play in zip(img_list, play_list):\n",
    "        #print(play)\n",
    "        res.append([img_to_base(img)]+text_to_batter_data(play))\n",
    "    #display(pd.DataFrame(res))\n",
    "    df = pd.DataFrame(res, columns=columns).iloc[::-1]\n",
    "    \n",
    "    innings = []\n",
    "    top_bots = []\n",
    "    attacks = []\n",
    "    curr_inning = 1\n",
    "    top_bot = 1\n",
    "    for out in df[\"アウト\"]:\n",
    "        innings.append(curr_inning)\n",
    "        top_bots.append(top_bot)\n",
    "        if top_bot == 1:\n",
    "            attacks.append(top_team)\n",
    "        elif top_bot == -1:\n",
    "            attacks.append(bot_team)\n",
    "        if out == \"3\":\n",
    "            top_bot *= -1\n",
    "            if top_bot == 1:\n",
    "                curr_inning += 1\n",
    "                \n",
    "    df[\"イニング\"] = innings\n",
    "    df[\"表裏\"] = [\"表\" if top_bot==1 else \"裏\" for top_bot in top_bots]\n",
    "    df[\"攻撃チーム\"] = attacks\n",
    "    \n",
    "    outs = df[\"アウト\"].shift(1).fillna(\"0\")\n",
    "    outs = outs.replace(\"3\", \"0\")\n",
    "    \n",
    "    cases = []\n",
    "    for out, case in zip(outs, df[\"状況\"]):\n",
    "        cases.append(out + case[1:])\n",
    "    df[\"状況\"] = cases\n",
    "    \n",
    "    df = df.reset_index(drop=True).astype(str)\n",
    "    \n",
    "    df.to_csv(os.path.join(save_dir, url.split(\"/\")[-2]+\".csv\"), encoding=\"cp932\")\n",
    "    #return df\n",
    "    driver.quit()\n",
    "    #print(url)"
   ]
  },
  {
   "cell_type": "code",
   "execution_count": 9,
   "metadata": {
    "scrolled": true
   },
   "outputs": [],
   "source": [
    "#make_csv_mlb(\"https://baseball.sports.smt.docomo.ne.jp/mlb/result/games/2018/2071783/\")#.to_csv(\"aaa.csv\")"
   ]
  },
  {
   "cell_type": "code",
   "execution_count": 10,
   "metadata": {
    "scrolled": true
   },
   "outputs": [],
   "source": [
    "#pd.read_csv(\"aaa.csv\", dtype=str)"
   ]
  },
  {
   "cell_type": "code",
   "execution_count": 11,
   "metadata": {
    "scrolled": true
   },
   "outputs": [],
   "source": [
    "#notyet_list = set(range(1703959, 2093884)) - set(pd.Series(os.listdir(DETAIL_DATA_DIR_MLB)[1:]).apply(lambda x: int(x.split(\".\")[0])).values)"
   ]
  },
  {
   "cell_type": "code",
   "execution_count": 12,
   "metadata": {},
   "outputs": [
    {
     "data": {
      "text/plain": [
       "'notyet_url_list = [\"https://baseball.sports.smt.docomo.ne.jp/mlb/result/games/2018/{}/\".format(num) for num in notyet_list]\\nfor url in notyet_url_list:\\n    try:\\n        make_csv_mlb(url)\\n        time.sleep(0.1)\\n    except:\\n        print(url)'"
      ]
     },
     "execution_count": 12,
     "metadata": {},
     "output_type": "execute_result"
    }
   ],
   "source": [
    "\"\"\"notyet_url_list = [\"https://baseball.sports.smt.docomo.ne.jp/mlb/result/games/2018/{}/\".format(num) for num in notyet_list]\n",
    "for url in notyet_url_list:\n",
    "    try:\n",
    "        make_csv_mlb(url)\n",
    "        time.sleep(0.1)\n",
    "    except:\n",
    "        print(url)\"\"\""
   ]
  },
  {
   "cell_type": "code",
   "execution_count": 13,
   "metadata": {},
   "outputs": [],
   "source": [
    "s = \"\"\"2018-08-10 00:00:00\n",
    "2018-08-09 00:00:00\n",
    "2018-08-05 00:00:00\n",
    "2018-07-25 00:00:00\n",
    "2018-07-23 00:00:00\n",
    "2018-07-22 00:00:00\n",
    "2018-07-21 00:00:00\n",
    "2018-07-16 00:00:00\n",
    "2018-07-15 00:00:00\n",
    "2018-07-14 00:00:00\n",
    "2018-07-12 00:00:00\n",
    "2018-07-10 00:00:00\n",
    "2018-07-09 00:00:00\n",
    "2018-07-08 00:00:00\n",
    "2018-07-06 00:00:00\n",
    "2018-06-28 00:00:00\n",
    "2018-06-26 00:00:00\n",
    "2018-06-21 00:00:00\n",
    "2018-06-18 00:00:00\n",
    "2018-06-17 00:00:00\n",
    "2018-06-16 00:00:00\n",
    "2018-06-15 00:00:00\n",
    "2018-06-11 00:00:00\n",
    "2018-06-10 00:00:00\n",
    "2018-06-09 00:00:00\n",
    "2018-06-08 00:00:00\n",
    "2018-06-07 00:00:00\n",
    "2018-06-06 00:00:00\n",
    "2018-06-04 00:00:00\n",
    "2018-06-02 00:00:00\n",
    "2018-06-01 00:00:00\n",
    "2018-05-31 00:00:00\n",
    "2018-05-30 00:00:00\n",
    "2018-05-29 00:00:00\n",
    "2018-05-28 00:00:00\n",
    "2018-05-27 00:00:00\n",
    "2018-05-26 00:00:00\n",
    "2018-05-25 00:00:00\n",
    "2018-05-23 00:00:00\n",
    "2018-05-20 00:00:00\n",
    "2018-05-18 00:00:00\n",
    "2018-05-17 00:00:00\n",
    "2018-05-16 00:00:00\n",
    "2018-05-14 00:00:00\n",
    "2018-05-10 00:00:00\n",
    "2018-05-09 00:00:00\n",
    "2018-05-08 00:00:00\n",
    "2018-05-07 00:00:00\n",
    "2018-05-06 00:00:00\n",
    "2018-05-05 00:00:00\n",
    "2018-05-04 00:00:00\n",
    "2018-05-03 00:00:00\n",
    "2018-04-30 00:00:00\n",
    "2018-04-29 00:00:00\n",
    "2018-04-26 00:00:00\n",
    "2018-04-25 00:00:00\n",
    "2018-04-24 00:00:00\n",
    "2018-04-22 00:00:00\n",
    "2018-04-21 00:00:00\n",
    "2018-04-19 00:00:00\n",
    "2018-04-18 00:00:00\n",
    "2018-04-11 00:00:00\n",
    "2018-04-08 00:00:00\n",
    "2017-10-02 00:00:00\n",
    "2017-09-23 00:00:00\n",
    "2017-09-20 00:00:00\n",
    "2017-09-10 00:00:00\n",
    "2017-09-06 00:00:00\n",
    "2017-08-23 00:00:00\n",
    "2017-08-10 00:00:00\n",
    "2017-07-30 00:00:00\n",
    "2017-07-24 00:00:00\n",
    "2017-07-17 00:00:00\n",
    "2017-07-06 00:00:00\n",
    "2017-07-02 00:00:00\n",
    "2017-06-27 00:00:00\n",
    "2017-06-20 00:00:00\n",
    "2017-06-15 00:00:00\n",
    "2017-06-07 00:00:00\n",
    "2017-06-04 00:00:00\n",
    "2017-05-27 00:00:00\n",
    "2017-05-22 00:00:00\n",
    "2017-05-11 00:00:00\n",
    "2017-04-27 00:00:00\n",
    "2017-04-20 00:00:00\"\"\""
   ]
  },
  {
   "cell_type": "code",
   "execution_count": 14,
   "metadata": {
    "scrolled": true
   },
   "outputs": [
    {
     "data": {
      "application/vnd.jupyter.widget-view+json": {
       "model_id": "200d8a5e62394d2397c1791a764cd09e",
       "version_major": 2,
       "version_minor": 0
      },
      "text/plain": [
       "HBox(children=(IntProgress(value=0, max=85), HTML(value='')))"
      ]
     },
     "metadata": {},
     "output_type": "display_data"
    },
    {
     "name": "stdout",
     "output_type": "stream",
     "text": [
      "https://baseball.sports.smt.docomo.ne.jp/mlb/result/games/2018/1996952/\n",
      "https://baseball.sports.smt.docomo.ne.jp/mlb/result/games/2018/1996135/\n",
      "https://baseball.sports.smt.docomo.ne.jp/mlb/result/games/2018/1996134/\n",
      "\n"
     ]
    }
   ],
   "source": [
    "# 2017/4/3スタート\n",
    "start_date = \"20180912\"\n",
    "days = 700\n",
    "\n",
    "#for i in tq(range(days)):\n",
    "    #date = pd.to_datetime(start_date) - pd.Timedelta(days=i)\n",
    "for (year, month, date) in tq(pd.Series(s.split(\"\\n\")).apply(lambda x: re.split(\"\\-|\\s\", x)[:3])):\n",
    "    #year_string = str(date.year)\n",
    "    #date_string = \"{0:02d}\".format(date.month) + \"{0:02d}\".format(date.day)\n",
    "    year_string = year\n",
    "    date_string = month + date\n",
    "    \n",
    "    for url in get_url_list(date_string, year_string):\n",
    "        try:\n",
    "            make_csv_mlb(url)\n",
    "            time.sleep(0.1)\n",
    "        except:\n",
    "            print(url)"
   ]
  },
  {
   "cell_type": "code",
   "execution_count": null,
   "metadata": {},
   "outputs": [],
   "source": [
    "#pd.Series(s.split(\"\\n\")).apply(lambda x: re.split(\"\\-|\\s\", x)[:3])"
   ]
  },
  {
   "cell_type": "code",
   "execution_count": null,
   "metadata": {},
   "outputs": [],
   "source": [
    "get_url_list(\"0810\", \"2018\")"
   ]
  },
  {
   "cell_type": "code",
   "execution_count": null,
   "metadata": {},
   "outputs": [],
   "source": [
    "make_csv_mlb( 'https://baseball.sports.smt.docomo.ne.jp/mlb/result/games/2018/1996687/')"
   ]
  },
  {
   "cell_type": "code",
   "execution_count": null,
   "metadata": {},
   "outputs": [],
   "source": []
  },
  {
   "cell_type": "code",
   "execution_count": null,
   "metadata": {},
   "outputs": [],
   "source": []
  },
  {
   "cell_type": "code",
   "execution_count": null,
   "metadata": {},
   "outputs": [],
   "source": []
  },
  {
   "cell_type": "code",
   "execution_count": null,
   "metadata": {},
   "outputs": [],
   "source": [
    "//*[@id=\"game\"]/div/div[1]/table/tbody/tr[2]/td[1]"
   ]
  },
  {
   "cell_type": "code",
   "execution_count": null,
   "metadata": {},
   "outputs": [],
   "source": []
  },
  {
   "cell_type": "code",
   "execution_count": null,
   "metadata": {},
   "outputs": [],
   "source": [
    "img_to_base(img_list[0])"
   ]
  },
  {
   "cell_type": "code",
   "execution_count": null,
   "metadata": {
    "scrolled": true
   },
   "outputs": [],
   "source": [
    "make_csv_mlb(img_list, play_list)"
   ]
  },
  {
   "cell_type": "code",
   "execution_count": null,
   "metadata": {
    "scrolled": true
   },
   "outputs": [],
   "source": [
    "pd.DataFrame([img_list, play_list]).T[0].apply(img_to_base)"
   ]
  },
  {
   "cell_type": "code",
   "execution_count": null,
   "metadata": {},
   "outputs": [],
   "source": [
    "re.match(\"^\\d\\n.+\\n.+ \\d \\d+\\-\\d+$\", driver.find_elements_by_tag_name(\"tr\")[10].text)"
   ]
  },
  {
   "cell_type": "code",
   "execution_count": null,
   "metadata": {},
   "outputs": [],
   "source": [
    "^\\d\\n.+\\n.+\\n\\s\\d\\s\\d+\\-\\d$"
   ]
  },
  {
   "cell_type": "code",
   "execution_count": null,
   "metadata": {},
   "outputs": [],
   "source": [
    "driver.find_elements_by_tag_name(\"tr\")[7].get_attribute(\"\")"
   ]
  },
  {
   "cell_type": "code",
   "execution_count": null,
   "metadata": {},
   "outputs": [],
   "source": [
    "res = []\n",
    "curr = []\n",
    "for elem in driver.find_elements_by_xpath('//*[@id=\"inningDetail\"]')[0].text.split(\"\\n\"):\n",
    "    if re.match(\"\\d+回$\", elem):\n",
    "        continue\n",
    "    if re.match(\"\\d+回(表|裏)\", elem):\n",
    "        res.append(curr)\n",
    "        curr = [elem]\n",
    "        continue\n",
    "    curr.append(elem)"
   ]
  },
  {
   "cell_type": "code",
   "execution_count": null,
   "metadata": {},
   "outputs": [],
   "source": [
    "res"
   ]
  },
  {
   "cell_type": "code",
   "execution_count": null,
   "metadata": {},
   "outputs": [],
   "source": []
  }
 ],
 "metadata": {
  "kernelspec": {
   "display_name": "Python 3",
   "language": "python",
   "name": "python3"
  },
  "language_info": {
   "codemirror_mode": {
    "name": "ipython",
    "version": 3
   },
   "file_extension": ".py",
   "mimetype": "text/x-python",
   "name": "python",
   "nbconvert_exporter": "python",
   "pygments_lexer": "ipython3",
   "version": "3.5.4"
  }
 },
 "nbformat": 4,
 "nbformat_minor": 2
}
