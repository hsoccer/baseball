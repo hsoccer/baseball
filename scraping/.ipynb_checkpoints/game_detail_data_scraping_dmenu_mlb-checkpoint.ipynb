{
 "cells": [
  {
   "cell_type": "markdown",
   "metadata": {},
   "source": [
    "## https://baseball.sports.smt.docomo.ne.jp/result/games/ からデータをスクレイピング"
   ]
  },
  {
   "cell_type": "code",
   "execution_count": 1,
   "metadata": {},
   "outputs": [],
   "source": [
    "from selenium import webdriver\n",
    "import re\n",
    "import pandas as pd\n",
    "import time\n",
    "from tqdm import tqdm_notebook as tq\n",
    "import sys , os\n",
    "\n",
    "sys.path.append(\"..\")\n",
    "from utils.util_functions import *"
   ]
  },
  {
   "cell_type": "code",
   "execution_count": 2,
   "metadata": {},
   "outputs": [],
   "source": [
    "def encode_count(out, base):\n",
    "    return str(out) + str(int(base[\"1\"])) + str(int(base[\"2\"])) + str(int(base[\"3\"]))"
   ]
  },
  {
   "cell_type": "code",
   "execution_count": 3,
   "metadata": {},
   "outputs": [],
   "source": [
    "def trial_and_error(func, arg):\n",
    "    try:\n",
    "        return func(arg)\n",
    "    except:\n",
    "        return None"
   ]
  },
  {
   "cell_type": "code",
   "execution_count": 4,
   "metadata": {},
   "outputs": [],
   "source": [
    "# dmenu\n",
    "# ランナーは前、アウトカウントは後\n",
    "def find_info(driver, name):\n",
    "    res_list = []\n",
    "    out = 0\n",
    "    base = dict({\"1\": False, \"2\": False, \"3\": False})\n",
    "    \n",
    "    while True:\n",
    "        try:\n",
    "            runners = driver.find_element_by_xpath('//*[@id=\"liveArea\"]/div/div[2]/div[3]/div[1]')\n",
    "        except:\n",
    "            # ページが存在しない時\n",
    "            return\n",
    "        base = dict({\"1\": False, \"2\": False, \"3\": False})\n",
    "        for elem in runners.find_elements_by_class_name(\"on\"):\n",
    "            if \"first\" in elem.get_attribute(\"class\"):\n",
    "                base[\"1\"] = True\n",
    "            if \"second\" in elem.get_attribute(\"class\"):\n",
    "                base[\"2\"] = True\n",
    "            if \"third\" in elem.get_attribute(\"class\"):\n",
    "                base[\"3\"] = True\n",
    "                \n",
    "        inning = trial_and_error(lambda arg: driver.find_element_by_xpath(arg).text, '//*[@id=\"liveArea\"]/div/div[2]/div[1]')\n",
    "                \n",
    "        fielding_team = trial_and_error(lambda arg: driver.find_element_by_xpath(arg).text, '//*[@id=\"liveArea\"]/ul[1]/li[1]')\n",
    "        pitcher = trial_and_error(lambda arg: driver.find_element_by_xpath(arg).text, '//*[@id=\"liveArea\"]/ul[1]/li[4]/a')\n",
    "        pitcher_dominant_hand = trial_and_error(lambda arg: driver.find_element_by_xpath(arg).text, '//*[@id=\"liveArea\"]/ul[1]/li[5]')\n",
    "        era = trial_and_error(lambda arg: driver.find_element_by_xpath(arg).text[3:], '//*[@id=\"liveArea\"]/ul[1]/li[6]/ul/li[1]')\n",
    "        num_pitching = trial_and_error(lambda arg: driver.find_element_by_xpath(arg).text[3:], '//*[@id=\"liveArea\"]/ul[1]/li[6]/ul/li[2]')\n",
    "        num_strikeout = trial_and_error(lambda arg: driver.find_element_by_xpath(arg).text[3:], '//*[@id=\"liveArea\"]/ul[1]/li[6]/ul/li[3]')\n",
    "        lost_points = trial_and_error(lambda arg: driver.find_element_by_xpath(arg).text[2:], '//*[@id=\"liveArea\"]/ul[1]/li[6]/ul/li[4]')\n",
    "        \n",
    "        batting_team = trial_and_error(lambda arg: driver.find_element_by_xpath(arg).text, '//*[@id=\"liveArea\"]/ul[2]/li[1]')\n",
    "        batter = trial_and_error(lambda arg: driver.find_element_by_xpath(arg).text, '//*[@id=\"liveArea\"]/ul[2]/li[4]/a')\n",
    "        batter_dominant_bat = trial_and_error(lambda arg: driver.find_element_by_xpath(arg).text, '//*[@id=\"liveArea\"]/ul[2]/li[5]')\n",
    "        batting_average = trial_and_error(lambda arg: driver.find_element_by_xpath(arg).text[2:], '//*[@id=\"liveArea\"]/ul[2]/li[6]/ul/li[1]')\n",
    "        num_homerun = trial_and_error(lambda arg: driver.find_element_by_xpath(arg).text[3:], '//*[@id=\"liveArea\"]/ul[2]/li[6]/ul/li[2]')\n",
    "        points = trial_and_error(lambda arg: driver.find_element_by_xpath(arg).text[2:], '//*[@id=\"liveArea\"]/ul[2]/li[6]/ul/li[3]')\n",
    "        num_fourball = trial_and_error(lambda arg: driver.find_element_by_xpath(arg).text[2:], '//*[@id=\"liveArea\"]/ul[2]/li[6]/ul/li[4]')\n",
    "        num_steal = trial_and_error(lambda arg: driver.find_element_by_xpath(arg).text[2:], '//*[@id=\"liveArea\"]/ul[2]/li[6]/ul/li[5]')\n",
    "        \n",
    "        result = trial_and_error(lambda arg: driver.find_element_by_xpath(arg).text, '//*[@id=\"liveArea\"]/div/div[1]/table/tbody/tr/td[2]')\n",
    "        \n",
    "        total_current_list = [encode_count(out, base), \\\n",
    "                              inning, \\\n",
    "                              fielding_team, pitcher, pitcher_dominant_hand, era, \\\n",
    "                              batting_team, batter, batter_dominant_bat, batting_average, num_homerun, points, num_fourball, num_steal, result]\n",
    "        \n",
    "        res_list.append(total_current_list)\n",
    "        #print(encode_count(out, base))\n",
    "        # アウトは更新後に更新\n",
    "        out = len(driver.find_element_by_xpath('//*[@id=\"liveArea\"]/div/div[2]/div[2]/table/tbody/tr[3]').find_elements_by_class_name(\"on\"))\n",
    "        if out == 3:\n",
    "            res_list.append([encode_count(3, dict({\"1\": False, \"2\": False, \"3\": False}))])\n",
    "            #print(encode_count(out, base))\n",
    "            out = 0\n",
    "                \n",
    "        try:\n",
    "            if driver.find_element_by_xpath('//*[@id=\"liveArea\"]/table/tbody/tr/td[3]/p').text == \"次打者\":\n",
    "                driver.find_element_by_xpath('//*[@id=\"liveArea\"]/table/tbody/tr/td[3]/p').click() \n",
    "                #time.sleep(0.1)\n",
    "            else:\n",
    "                # 次がない\n",
    "                break\n",
    "        except:\n",
    "            #　ゲームセット\n",
    "            break\n",
    "        \n",
    "    #return res_list\n",
    "    columns = [\"状況\", \"回\", \"守備チーム\", \"投手\", \"利き手\", \"防御率\", \"攻撃チーム\", \"打者\", \"打席\", \"打率\", \"本塁打数\", \"打点\", \"四球数\", \"盗塁数\", \"結果\"]\n",
    "    #print(\"./game_num_data/\"+name+\".csv\")\n",
    "    pd.DataFrame(res_list, dtype=\"object\", columns=columns).to_csv(os.path.join(DETAIL_DATA_DIR, name+\".csv\"), encoding=\"cp932\")"
   ]
  },
  {
   "cell_type": "code",
   "execution_count": 5,
   "metadata": {
    "collapsed": true
   },
   "outputs": [
    {
     "data": {
      "application/vnd.jupyter.widget-view+json": {
       "model_id": "e3ff1635431a4fbb927b8f8c870751d1",
       "version_major": 2,
       "version_minor": 0
      },
      "text/plain": [
       "HBox(children=(IntProgress(value=0, max=1), HTML(value='')))"
      ]
     },
     "metadata": {},
     "output_type": "display_data"
    },
    {
     "name": "stderr",
     "output_type": "stream",
     "text": [
      "ERROR:root:Internal Python error in the inspect module.\n",
      "Below is the traceback from this internal error.\n",
      "\n"
     ]
    },
    {
     "name": "stdout",
     "output_type": "stream",
     "text": [
      "Traceback (most recent call last):\n",
      "  File \"/Users/konoharuki/anaconda/lib/python3.5/site-packages/IPython/core/interactiveshell.py\", line 2963, in run_code\n",
      "    exec(code_obj, self.user_global_ns, self.user_ns)\n",
      "  File \"<ipython-input-5-7a4266272a68>\", line 19, in <module>\n",
      "    driver.get(url)\n",
      "  File \"/Users/konoharuki/anaconda/lib/python3.5/site-packages/selenium/webdriver/remote/webdriver.py\", line 332, in get\n",
      "    self.execute(Command.GET, {'url': url})\n",
      "  File \"/Users/konoharuki/anaconda/lib/python3.5/site-packages/selenium/webdriver/remote/webdriver.py\", line 318, in execute\n",
      "    response = self.command_executor.execute(driver_command, params)\n",
      "  File \"/Users/konoharuki/anaconda/lib/python3.5/site-packages/selenium/webdriver/remote/remote_connection.py\", line 472, in execute\n",
      "    return self._request(command_info[0], url, body=data)\n",
      "  File \"/Users/konoharuki/anaconda/lib/python3.5/site-packages/selenium/webdriver/remote/remote_connection.py\", line 496, in _request\n",
      "    resp = self._conn.getresponse()\n",
      "  File \"/Users/konoharuki/anaconda/lib/python3.5/http/client.py\", line 1198, in getresponse\n",
      "    response.begin()\n",
      "  File \"/Users/konoharuki/anaconda/lib/python3.5/http/client.py\", line 297, in begin\n",
      "    version, status, reason = self._read_status()\n",
      "  File \"/Users/konoharuki/anaconda/lib/python3.5/http/client.py\", line 258, in _read_status\n",
      "    line = str(self.fp.readline(_MAXLINE + 1), \"iso-8859-1\")\n",
      "  File \"/Users/konoharuki/anaconda/lib/python3.5/socket.py\", line 576, in readinto\n",
      "    return self._sock.recv_into(b)\n",
      "KeyboardInterrupt\n",
      "\n",
      "During handling of the above exception, another exception occurred:\n",
      "\n",
      "Traceback (most recent call last):\n",
      "  File \"/Users/konoharuki/anaconda/lib/python3.5/site-packages/IPython/core/interactiveshell.py\", line 1863, in showtraceback\n",
      "    stb = value._render_traceback_()\n",
      "AttributeError: 'KeyboardInterrupt' object has no attribute '_render_traceback_'\n",
      "\n",
      "During handling of the above exception, another exception occurred:\n",
      "\n",
      "Traceback (most recent call last):\n",
      "  File \"/Users/konoharuki/anaconda/lib/python3.5/site-packages/IPython/core/ultratb.py\", line 1095, in get_records\n",
      "    return _fixed_getinnerframes(etb, number_of_lines_of_context, tb_offset)\n",
      "  File \"/Users/konoharuki/anaconda/lib/python3.5/site-packages/IPython/core/ultratb.py\", line 311, in wrapped\n",
      "    return f(*args, **kwargs)\n",
      "  File \"/Users/konoharuki/anaconda/lib/python3.5/site-packages/IPython/core/ultratb.py\", line 345, in _fixed_getinnerframes\n",
      "    records = fix_frame_records_filenames(inspect.getinnerframes(etb, context))\n",
      "  File \"/Users/konoharuki/anaconda/lib/python3.5/inspect.py\", line 1459, in getinnerframes\n",
      "    frameinfo = (tb.tb_frame,) + getframeinfo(tb, context)\n",
      "  File \"/Users/konoharuki/anaconda/lib/python3.5/inspect.py\", line 1417, in getframeinfo\n",
      "    filename = getsourcefile(frame) or getfile(frame)\n",
      "  File \"/Users/konoharuki/anaconda/lib/python3.5/inspect.py\", line 677, in getsourcefile\n",
      "    if getattr(getmodule(object, filename), '__loader__', None) is not None:\n",
      "  File \"/Users/konoharuki/anaconda/lib/python3.5/inspect.py\", line 723, in getmodule\n",
      "    os.path.realpath(f)] = module.__name__\n",
      "  File \"/Users/konoharuki/anaconda/lib/python3.5/posixpath.py\", line 373, in realpath\n",
      "    path, ok = _joinrealpath(filename[:0], filename, {})\n",
      "  File \"/Users/konoharuki/anaconda/lib/python3.5/posixpath.py\", line 406, in _joinrealpath\n",
      "    newpath = join(path, name)\n",
      "  File \"/Users/konoharuki/anaconda/lib/python3.5/posixpath.py\", line 81, in join\n",
      "    for b in p:\n",
      "KeyboardInterrupt\n"
     ]
    },
    {
     "ename": "KeyboardInterrupt",
     "evalue": "",
     "output_type": "error",
     "traceback": [
      "\u001b[0;31m---------------------------------------------------------------------------\u001b[0m"
     ]
    }
   ],
   "source": [
    "#dmenu\n",
    "start_date = \"20181103\"\n",
    "days = 1\n",
    "\n",
    "options = webdriver.ChromeOptions()\n",
    "options.add_argument('--headless')\n",
    "\n",
    "for i in tq(range(days)):\n",
    "    date = pd.to_datetime(start_date) - pd.Timedelta(days=i)\n",
    "    date_string = str(date.year) + \"{0:02d}\".format(date.month) + \"{0:02d}\".format(date.day) + \"0\"\n",
    "    for j in range(1, 7):\n",
    "        new_date_string = date_string + str(j)\n",
    "        #print(new_date_string)\n",
    "        #if new_date_string in [\"2018080701\", \"2018080702\", \"2018080703\"]:\n",
    "        #    continue\n",
    "        url = \"https://baseball.sports.smt.docomo.ne.jp/result/games/live_{}_01101.html\".format(new_date_string)\n",
    "        driver = webdriver.Chrome(options=options)\n",
    "        #driver = webdriver.PhantomJS()\n",
    "        driver.get(url)\n",
    "        time.sleep(1)\n",
    "        #driver.save_screenshot(\"image.png\")\n",
    "        try:\n",
    "            find_info(driver, new_date_string)\n",
    "        except:\n",
    "            #raise\n",
    "            pass\n",
    "        driver.quit()"
   ]
  },
  {
   "cell_type": "code",
   "execution_count": null,
   "metadata": {},
   "outputs": [],
   "source": []
  },
  {
   "cell_type": "code",
   "execution_count": null,
   "metadata": {},
   "outputs": [],
   "source": []
  },
  {
   "cell_type": "code",
   "execution_count": null,
   "metadata": {},
   "outputs": [],
   "source": []
  }
 ],
 "metadata": {
  "kernelspec": {
   "display_name": "Python 3",
   "language": "python",
   "name": "python3"
  },
  "language_info": {
   "codemirror_mode": {
    "name": "ipython",
    "version": 3
   },
   "file_extension": ".py",
   "mimetype": "text/x-python",
   "name": "python",
   "nbconvert_exporter": "python",
   "pygments_lexer": "ipython3",
   "version": "3.5.4"
  }
 },
 "nbformat": 4,
 "nbformat_minor": 2
}
