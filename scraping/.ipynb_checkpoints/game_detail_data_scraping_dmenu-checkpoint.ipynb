{
 "cells": [
  {
   "cell_type": "markdown",
   "metadata": {},
   "source": [
    "## https://baseball.sports.smt.docomo.ne.jp/result/games/ からデータをスクレイピング"
   ]
  },
  {
   "cell_type": "code",
   "execution_count": 1,
   "metadata": {},
   "outputs": [],
   "source": [
    "from selenium import webdriver\n",
    "import re\n",
    "import pandas as pd\n",
    "import time\n",
    "from tqdm import tqdm_notebook as tq\n",
    "import sys , os\n",
    "\n",
    "sys.path.append(\"..\")\n",
    "from utils.util_functions import *"
   ]
  },
  {
   "cell_type": "code",
   "execution_count": 11,
   "metadata": {},
   "outputs": [],
   "source": [
    "def encode_count(out, base):\n",
    "    return str(out) + str(int(base[\"1\"])) + str(int(base[\"2\"])) + str(int(base[\"3\"]))"
   ]
  },
  {
   "cell_type": "code",
   "execution_count": 12,
   "metadata": {},
   "outputs": [],
   "source": [
    "def trial_and_error(func, arg):\n",
    "    try:\n",
    "        return func(arg)\n",
    "    except:\n",
    "        return None"
   ]
  },
  {
   "cell_type": "code",
   "execution_count": 13,
   "metadata": {},
   "outputs": [],
   "source": [
    "# dmenu\n",
    "# ランナーは前、アウトカウントは後\n",
    "def find_info(driver, name):\n",
    "    res_list = []\n",
    "    out = 0\n",
    "    base = dict({\"1\": False, \"2\": False, \"3\": False})\n",
    "    \n",
    "    while True:\n",
    "        try:\n",
    "            runners = driver.find_element_by_xpath('//*[@id=\"liveArea\"]/div/div[2]/div[3]/div[1]')\n",
    "        except:\n",
    "            # ページが存在しない時\n",
    "            return\n",
    "        base = dict({\"1\": False, \"2\": False, \"3\": False})\n",
    "        for elem in runners.find_elements_by_class_name(\"on\"):\n",
    "            if \"first\" in elem.get_attribute(\"class\"):\n",
    "                base[\"1\"] = True\n",
    "            if \"second\" in elem.get_attribute(\"class\"):\n",
    "                base[\"2\"] = True\n",
    "            if \"third\" in elem.get_attribute(\"class\"):\n",
    "                base[\"3\"] = True\n",
    "                \n",
    "        inning = trial_and_error(lambda arg: driver.find_element_by_xpath(arg).text, '//*[@id=\"liveArea\"]/div/div[2]/div[1]')\n",
    "                \n",
    "        fielding_team = trial_and_error(lambda arg: driver.find_element_by_xpath(arg).text, '//*[@id=\"liveArea\"]/ul[1]/li[1]')\n",
    "        pitcher = trial_and_error(lambda arg: driver.find_element_by_xpath(arg).text, '//*[@id=\"liveArea\"]/ul[1]/li[4]/a')\n",
    "        pitcher_dominant_hand = trial_and_error(lambda arg: driver.find_element_by_xpath(arg).text, '//*[@id=\"liveArea\"]/ul[1]/li[5]')\n",
    "        era = trial_and_error(lambda arg: driver.find_element_by_xpath(arg).text[3:], '//*[@id=\"liveArea\"]/ul[1]/li[6]/ul/li[1]')\n",
    "        num_pitching = trial_and_error(lambda arg: driver.find_element_by_xpath(arg).text[3:], '//*[@id=\"liveArea\"]/ul[1]/li[6]/ul/li[2]')\n",
    "        num_strikeout = trial_and_error(lambda arg: driver.find_element_by_xpath(arg).text[3:], '//*[@id=\"liveArea\"]/ul[1]/li[6]/ul/li[3]')\n",
    "        lost_points = trial_and_error(lambda arg: driver.find_element_by_xpath(arg).text[2:], '//*[@id=\"liveArea\"]/ul[1]/li[6]/ul/li[4]')\n",
    "        \n",
    "        batting_team = trial_and_error(lambda arg: driver.find_element_by_xpath(arg).text, '//*[@id=\"liveArea\"]/ul[2]/li[1]')\n",
    "        batter = trial_and_error(lambda arg: driver.find_element_by_xpath(arg).text, '//*[@id=\"liveArea\"]/ul[2]/li[4]/a')\n",
    "        batter_dominant_bat = trial_and_error(lambda arg: driver.find_element_by_xpath(arg).text, '//*[@id=\"liveArea\"]/ul[2]/li[5]')\n",
    "        batting_average = trial_and_error(lambda arg: driver.find_element_by_xpath(arg).text[2:], '//*[@id=\"liveArea\"]/ul[2]/li[6]/ul/li[1]')\n",
    "        num_homerun = trial_and_error(lambda arg: driver.find_element_by_xpath(arg).text[3:], '//*[@id=\"liveArea\"]/ul[2]/li[6]/ul/li[2]')\n",
    "        points = trial_and_error(lambda arg: driver.find_element_by_xpath(arg).text[2:], '//*[@id=\"liveArea\"]/ul[2]/li[6]/ul/li[3]')\n",
    "        num_fourball = trial_and_error(lambda arg: driver.find_element_by_xpath(arg).text[2:], '//*[@id=\"liveArea\"]/ul[2]/li[6]/ul/li[4]')\n",
    "        num_steal = trial_and_error(lambda arg: driver.find_element_by_xpath(arg).text[2:], '//*[@id=\"liveArea\"]/ul[2]/li[6]/ul/li[5]')\n",
    "        \n",
    "        result = trial_and_error(lambda arg: driver.find_element_by_xpath(arg).text, '//*[@id=\"liveArea\"]/div/div[1]/table/tbody/tr/td[2]')\n",
    "        \n",
    "        total_current_list = [encode_count(out, base), \\\n",
    "                              inning, \\\n",
    "                              fielding_team, pitcher, pitcher_dominant_hand, era, \\\n",
    "                              batting_team, batter, batter_dominant_bat, batting_average, num_homerun, points, num_fourball, num_steal, result]\n",
    "        \n",
    "        res_list.append(total_current_list)\n",
    "        #print(encode_count(out, base))\n",
    "        # アウトは更新後に更新\n",
    "        out = len(driver.find_element_by_xpath('//*[@id=\"liveArea\"]/div/div[2]/div[2]/table/tbody/tr[3]').find_elements_by_class_name(\"on\"))\n",
    "        if out == 3:\n",
    "            res_list.append([encode_count(3, dict({\"1\": False, \"2\": False, \"3\": False}))])\n",
    "            #print(encode_count(out, base))\n",
    "            out = 0\n",
    "                \n",
    "        try:\n",
    "            if driver.find_element_by_xpath('//*[@id=\"liveArea\"]/table/tbody/tr/td[3]/p').text == \"次打者\":\n",
    "                driver.find_element_by_xpath('//*[@id=\"liveArea\"]/table/tbody/tr/td[3]/p').click() \n",
    "                #time.sleep(0.1)\n",
    "            else:\n",
    "                # 次がない\n",
    "                break\n",
    "        except:\n",
    "            #　ゲームセット\n",
    "            break\n",
    "        \n",
    "    #return res_list\n",
    "    columns = [\"状況\", \"回\", \"守備チーム\", \"投手\", \"利き手\", \"防御率\", \"攻撃チーム\", \"打者\", \"打席\", \"打率\", \"本塁打数\", \"打点\", \"四球数\", \"盗塁数\", \"結果\"]\n",
    "    #print(\"./game_num_data/\"+name+\".csv\")\n",
    "    pd.DataFrame(res_list, dtype=\"object\", columns=columns).to_csv(os.path.join(DETAIL_DATA_DIR, name+\".csv\"), encoding=\"cp932\")"
   ]
  },
  {
   "cell_type": "code",
   "execution_count": null,
   "metadata": {
    "scrolled": true
   },
   "outputs": [
    {
     "data": {
      "application/vnd.jupyter.widget-view+json": {
       "model_id": "0ce1c45952634f5b974baffe4e81412d",
       "version_major": 2,
       "version_minor": 0
      },
      "text/plain": [
       "HBox(children=(IntProgress(value=0, max=1), HTML(value='')))"
      ]
     },
     "metadata": {},
     "output_type": "display_data"
    },
    {
     "ename": "KeyboardInterrupt",
     "evalue": "",
     "output_type": "error",
     "traceback": [
      "\u001b[0;31m---------------------------------------------------------------------------\u001b[0m",
      "\u001b[0;31mKeyboardInterrupt\u001b[0m                         Traceback (most recent call last)",
      "\u001b[0;32m<ipython-input-14-7a4266272a68>\u001b[0m in \u001b[0;36m<module>\u001b[0;34m()\u001b[0m\n\u001b[1;32m     15\u001b[0m         \u001b[0;31m#    continue\u001b[0m\u001b[0;34m\u001b[0m\u001b[0;34m\u001b[0m\u001b[0m\n\u001b[1;32m     16\u001b[0m         \u001b[0murl\u001b[0m \u001b[0;34m=\u001b[0m \u001b[0;34m\"https://baseball.sports.smt.docomo.ne.jp/result/games/live_{}_01101.html\"\u001b[0m\u001b[0;34m.\u001b[0m\u001b[0mformat\u001b[0m\u001b[0;34m(\u001b[0m\u001b[0mnew_date_string\u001b[0m\u001b[0;34m)\u001b[0m\u001b[0;34m\u001b[0m\u001b[0m\n\u001b[0;32m---> 17\u001b[0;31m         \u001b[0mdriver\u001b[0m \u001b[0;34m=\u001b[0m \u001b[0mwebdriver\u001b[0m\u001b[0;34m.\u001b[0m\u001b[0mChrome\u001b[0m\u001b[0;34m(\u001b[0m\u001b[0moptions\u001b[0m\u001b[0;34m=\u001b[0m\u001b[0moptions\u001b[0m\u001b[0;34m)\u001b[0m\u001b[0;34m\u001b[0m\u001b[0m\n\u001b[0m\u001b[1;32m     18\u001b[0m         \u001b[0;31m#driver = webdriver.PhantomJS()\u001b[0m\u001b[0;34m\u001b[0m\u001b[0;34m\u001b[0m\u001b[0m\n\u001b[1;32m     19\u001b[0m         \u001b[0mdriver\u001b[0m\u001b[0;34m.\u001b[0m\u001b[0mget\u001b[0m\u001b[0;34m(\u001b[0m\u001b[0murl\u001b[0m\u001b[0;34m)\u001b[0m\u001b[0;34m\u001b[0m\u001b[0m\n",
      "\u001b[0;32m~/anaconda/lib/python3.5/site-packages/selenium/webdriver/chrome/webdriver.py\u001b[0m in \u001b[0;36m__init__\u001b[0;34m(self, executable_path, port, options, service_args, desired_capabilities, service_log_path, chrome_options)\u001b[0m\n\u001b[1;32m     66\u001b[0m             \u001b[0mservice_args\u001b[0m\u001b[0;34m=\u001b[0m\u001b[0mservice_args\u001b[0m\u001b[0;34m,\u001b[0m\u001b[0;34m\u001b[0m\u001b[0m\n\u001b[1;32m     67\u001b[0m             log_path=service_log_path)\n\u001b[0;32m---> 68\u001b[0;31m         \u001b[0mself\u001b[0m\u001b[0;34m.\u001b[0m\u001b[0mservice\u001b[0m\u001b[0;34m.\u001b[0m\u001b[0mstart\u001b[0m\u001b[0;34m(\u001b[0m\u001b[0;34m)\u001b[0m\u001b[0;34m\u001b[0m\u001b[0m\n\u001b[0m\u001b[1;32m     69\u001b[0m \u001b[0;34m\u001b[0m\u001b[0m\n\u001b[1;32m     70\u001b[0m         \u001b[0;32mtry\u001b[0m\u001b[0;34m:\u001b[0m\u001b[0;34m\u001b[0m\u001b[0m\n",
      "\u001b[0;32m~/anaconda/lib/python3.5/site-packages/selenium/webdriver/common/service.py\u001b[0m in \u001b[0;36mstart\u001b[0;34m(self)\u001b[0m\n\u001b[1;32m    100\u001b[0m                 \u001b[0;32mbreak\u001b[0m\u001b[0;34m\u001b[0m\u001b[0m\n\u001b[1;32m    101\u001b[0m             \u001b[0mcount\u001b[0m \u001b[0;34m+=\u001b[0m \u001b[0;36m1\u001b[0m\u001b[0;34m\u001b[0m\u001b[0m\n\u001b[0;32m--> 102\u001b[0;31m             \u001b[0mtime\u001b[0m\u001b[0;34m.\u001b[0m\u001b[0msleep\u001b[0m\u001b[0;34m(\u001b[0m\u001b[0;36m1\u001b[0m\u001b[0;34m)\u001b[0m\u001b[0;34m\u001b[0m\u001b[0m\n\u001b[0m\u001b[1;32m    103\u001b[0m             \u001b[0;32mif\u001b[0m \u001b[0mcount\u001b[0m \u001b[0;34m==\u001b[0m \u001b[0;36m30\u001b[0m\u001b[0;34m:\u001b[0m\u001b[0;34m\u001b[0m\u001b[0m\n\u001b[1;32m    104\u001b[0m                 \u001b[0;32mraise\u001b[0m \u001b[0mWebDriverException\u001b[0m\u001b[0;34m(\u001b[0m\u001b[0;34m\"Can not connect to the Service %s\"\u001b[0m \u001b[0;34m%\u001b[0m \u001b[0mself\u001b[0m\u001b[0;34m.\u001b[0m\u001b[0mpath\u001b[0m\u001b[0;34m)\u001b[0m\u001b[0;34m\u001b[0m\u001b[0m\n",
      "\u001b[0;31mKeyboardInterrupt\u001b[0m: "
     ]
    },
    {
     "name": "stderr",
     "output_type": "stream",
     "text": [
      "Exception ignored in: <bound method tqdm.__del__ of 0/|/  0%|| 0/1 [00:25<?, ?it/s]>\n",
      "Traceback (most recent call last):\n",
      "  File \"/Users/konoharuki/anaconda/lib/python3.5/site-packages/tqdm/_tqdm.py\", line 885, in __del__\n",
      "    self.close()\n",
      "  File \"/Users/konoharuki/anaconda/lib/python3.5/site-packages/tqdm/_tqdm_notebook.py\", line 227, in close\n",
      "    super(tqdm_notebook, self).close(*args, **kwargs)\n",
      "  File \"/Users/konoharuki/anaconda/lib/python3.5/site-packages/tqdm/_tqdm.py\", line 1090, in close\n",
      "    self._decr_instances(self)\n",
      "  File \"/Users/konoharuki/anaconda/lib/python3.5/site-packages/tqdm/_tqdm.py\", line 454, in _decr_instances\n",
      "    cls.monitor.exit()\n",
      "  File \"/Users/konoharuki/anaconda/lib/python3.5/site-packages/tqdm/_monitor.py\", line 52, in exit\n",
      "    self.join()\n",
      "  File \"/Users/konoharuki/anaconda/lib/python3.5/threading.py\", line 1051, in join\n",
      "    raise RuntimeError(\"cannot join current thread\")\n",
      "RuntimeError: cannot join current thread\n"
     ]
    }
   ],
   "source": [
    "#dmenu\n",
    "start_date = \"20181103\"\n",
    "days = 1\n",
    "\n",
    "options = webdriver.ChromeOptions()\n",
    "options.add_argument('--headless')\n",
    "\n",
    "for i in tq(range(days)):\n",
    "    date = pd.to_datetime(start_date) - pd.Timedelta(days=i)\n",
    "    date_string = str(date.year) + \"{0:02d}\".format(date.month) + \"{0:02d}\".format(date.day) + \"0\"\n",
    "    for j in range(1, 7):\n",
    "        new_date_string = date_string + str(j)\n",
    "        #print(new_date_string)\n",
    "        #if new_date_string in [\"2018080701\", \"2018080702\", \"2018080703\"]:\n",
    "        #    continue\n",
    "        url = \"https://baseball.sports.smt.docomo.ne.jp/result/games/live_{}_01101.html\".format(new_date_string)\n",
    "        driver = webdriver.Chrome(options=options)\n",
    "        #driver = webdriver.PhantomJS()\n",
    "        driver.get(url)\n",
    "        time.sleep(1)\n",
    "        #driver.save_screenshot(\"image.png\")\n",
    "        try:\n",
    "            find_info(driver, new_date_string)\n",
    "        except:\n",
    "            #raise\n",
    "            pass\n",
    "        driver.quit()"
   ]
  },
  {
   "cell_type": "code",
   "execution_count": null,
   "metadata": {},
   "outputs": [],
   "source": []
  },
  {
   "cell_type": "code",
   "execution_count": null,
   "metadata": {},
   "outputs": [],
   "source": []
  },
  {
   "cell_type": "code",
   "execution_count": null,
   "metadata": {},
   "outputs": [],
   "source": []
  }
 ],
 "metadata": {
  "kernelspec": {
   "display_name": "Python 3",
   "language": "python",
   "name": "python3"
  },
  "language_info": {
   "codemirror_mode": {
    "name": "ipython",
    "version": 3
   },
   "file_extension": ".py",
   "mimetype": "text/x-python",
   "name": "python",
   "nbconvert_exporter": "python",
   "pygments_lexer": "ipython3",
   "version": "3.5.4"
  }
 },
 "nbformat": 4,
 "nbformat_minor": 2
}
